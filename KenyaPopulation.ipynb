{
    "cells": [
        {
            "metadata": {},
            "cell_type": "code",
            "source": "!pip install pyspark==2.4.5",
            "execution_count": null,
            "outputs": []
        },
        {
            "metadata": {},
            "cell_type": "code",
            "source": "!pip install tensorflow==2.2.0rc0",
            "execution_count": null,
            "outputs": []
        },
        {
            "metadata": {},
            "cell_type": "code",
            "source": "try:\n    from pyspark import SparkContext, SparkConf\n    from pyspark.sql import SparkSession\nexcept ImportError as e:\n    printmd('<<<<<!!!!! Please restart your kernel after installing Apache Spark !!!!!>>>>>')",
            "execution_count": 1,
            "outputs": []
        },
        {
            "metadata": {},
            "cell_type": "code",
            "source": "import numpy as np\nfrom numpy import concatenate\nfrom matplotlib import pyplot\nfrom pandas import read_csv\nfrom pandas import DataFrame\nfrom pandas import concat\nimport sklearn\nfrom sklearn.preprocessing import MinMaxScaler\n#from sklearn.preprocessing import StandardScaler\nfrom pyspark.ml.feature import StandardScaler\nfrom sklearn.model_selection import train_test_split\n#from sklearn.metrics import mean_squared_error\n#from tf.keras.losses.BinaryCrossentropy\nfrom tensorflow.keras.losses import mean_squared_error\nfrom tensorflow.keras.layers import Dense, Dropout\nfrom tensorflow.keras.layers import LSTM\nfrom tensorflow.keras.callbacks import Callback\nfrom tensorflow.keras.models import Sequential\nfrom tensorflow.keras.layers import Activation\nimport pickle\nimport matplotlib.pyplot as plt\nfrom mpl_toolkits.mplot3d import Axes3D\nimport sys\nfrom queue import Queue\nimport pandas as pd\nimport json\n%matplotlib inline\nimport tensorflow as tf\nfrom pyspark.ml import Pipeline\nfrom pyspark.ml.regression import GBTRegressor\nfrom pyspark.ml.feature import VectorIndexer\nfrom pyspark.ml.evaluation import RegressionEvaluator\nfrom pyspark.ml.feature import VectorAssembler\n",
            "execution_count": 2,
            "outputs": []
        },
        {
            "metadata": {},
            "cell_type": "code",
            "source": "!pip install geopandas",
            "execution_count": null,
            "outputs": []
        },
        {
            "metadata": {},
            "cell_type": "code",
            "source": "import geopandas",
            "execution_count": 3,
            "outputs": []
        },
        {
            "metadata": {},
            "cell_type": "markdown",
            "source": "### Dataset: Kenya polulation census 2009  in geojson format"
        },
        {
            "metadata": {},
            "cell_type": "code",
            "source": "url = \"https://opendata.arcgis.com/datasets/4b8b2da624ba4cdf9cd38b5f359eecf3_0.geojson \"\ndf = geopandas.read_file(url)",
            "execution_count": 4,
            "outputs": []
        },
        {
            "metadata": {},
            "cell_type": "markdown",
            "source": "### Explore dataset"
        },
        {
            "metadata": {},
            "cell_type": "code",
            "source": "df.head()",
            "execution_count": 5,
            "outputs": [
                {
                    "output_type": "execute_result",
                    "execution_count": 5,
                    "data": {
                        "text/plain": "            County    Male  Female    Total  No_of_HouseHolds  \\\n0          BARINGO  279081  276480   555561            110649   \n1            BOMET  359727  364459   724186            142361   \n2          BUNGOMA  671548  703515  1375063            270824   \n3            BUSIA  356122  387824   743946            154225   \n4  ELGEYO MARAKWET  183738  186260   369998             77555   \n\n   Area_in_Square_Km  Gender_Index  Household_Density  Population_Density  \\\n0           11015.34           1.0              50.44               50.44   \n1            2471.30           1.0             293.04              293.04   \n2            3032.15           1.0             453.49              453.49   \n3            1695.03           1.1             438.90              438.90   \n4            3029.78           1.0             122.12              122.12   \n\n                         Location_1  OBJECTID geometry  \n0    (0.66898646421, 35.9461427526)         0     None  \n1  (-0.828313516948, 35.2718580721)         1     None  \n2   (0.751266866555, 34.6400640229)         2     None  \n3   (0.414922272151, 34.2119561811)         3     None  \n4  (-0.599583761487, 37.6238616686)         4     None  ",
                        "text/html": "<div>\n<style scoped>\n    .dataframe tbody tr th:only-of-type {\n        vertical-align: middle;\n    }\n\n    .dataframe tbody tr th {\n        vertical-align: top;\n    }\n\n    .dataframe thead th {\n        text-align: right;\n    }\n</style>\n<table border=\"1\" class=\"dataframe\">\n  <thead>\n    <tr style=\"text-align: right;\">\n      <th></th>\n      <th>County</th>\n      <th>Male</th>\n      <th>Female</th>\n      <th>Total</th>\n      <th>No_of_HouseHolds</th>\n      <th>Area_in_Square_Km</th>\n      <th>Gender_Index</th>\n      <th>Household_Density</th>\n      <th>Population_Density</th>\n      <th>Location_1</th>\n      <th>OBJECTID</th>\n      <th>geometry</th>\n    </tr>\n  </thead>\n  <tbody>\n    <tr>\n      <th>0</th>\n      <td>BARINGO</td>\n      <td>279081</td>\n      <td>276480</td>\n      <td>555561</td>\n      <td>110649</td>\n      <td>11015.34</td>\n      <td>1.0</td>\n      <td>50.44</td>\n      <td>50.44</td>\n      <td>(0.66898646421, 35.9461427526)</td>\n      <td>0</td>\n      <td>None</td>\n    </tr>\n    <tr>\n      <th>1</th>\n      <td>BOMET</td>\n      <td>359727</td>\n      <td>364459</td>\n      <td>724186</td>\n      <td>142361</td>\n      <td>2471.30</td>\n      <td>1.0</td>\n      <td>293.04</td>\n      <td>293.04</td>\n      <td>(-0.828313516948, 35.2718580721)</td>\n      <td>1</td>\n      <td>None</td>\n    </tr>\n    <tr>\n      <th>2</th>\n      <td>BUNGOMA</td>\n      <td>671548</td>\n      <td>703515</td>\n      <td>1375063</td>\n      <td>270824</td>\n      <td>3032.15</td>\n      <td>1.0</td>\n      <td>453.49</td>\n      <td>453.49</td>\n      <td>(0.751266866555, 34.6400640229)</td>\n      <td>2</td>\n      <td>None</td>\n    </tr>\n    <tr>\n      <th>3</th>\n      <td>BUSIA</td>\n      <td>356122</td>\n      <td>387824</td>\n      <td>743946</td>\n      <td>154225</td>\n      <td>1695.03</td>\n      <td>1.1</td>\n      <td>438.90</td>\n      <td>438.90</td>\n      <td>(0.414922272151, 34.2119561811)</td>\n      <td>3</td>\n      <td>None</td>\n    </tr>\n    <tr>\n      <th>4</th>\n      <td>ELGEYO MARAKWET</td>\n      <td>183738</td>\n      <td>186260</td>\n      <td>369998</td>\n      <td>77555</td>\n      <td>3029.78</td>\n      <td>1.0</td>\n      <td>122.12</td>\n      <td>122.12</td>\n      <td>(-0.599583761487, 37.6238616686)</td>\n      <td>4</td>\n      <td>None</td>\n    </tr>\n  </tbody>\n</table>\n</div>"
                    },
                    "metadata": {}
                }
            ]
        },
        {
            "metadata": {},
            "cell_type": "code",
            "source": "df.shape",
            "execution_count": 6,
            "outputs": [
                {
                    "output_type": "execute_result",
                    "execution_count": 6,
                    "data": {
                        "text/plain": "(47, 12)"
                    },
                    "metadata": {}
                }
            ]
        },
        {
            "metadata": {},
            "cell_type": "markdown",
            "source": "### Determine correlation "
        },
        {
            "metadata": {},
            "cell_type": "code",
            "source": "df.corr(method ='pearson')",
            "execution_count": 7,
            "outputs": [
                {
                    "output_type": "execute_result",
                    "execution_count": 7,
                    "data": {
                        "text/plain": "                        Male    Female     Total  No_of_HouseHolds  \\\nMale                1.000000  0.992750  0.998200          0.957182   \nFemale              0.992750  1.000000  0.998171          0.954424   \nTotal               0.998200  0.998171  1.000000          0.957546   \nNo_of_HouseHolds    0.957182  0.954424  0.957546          1.000000   \nArea_in_Square_Km  -0.222593 -0.279230 -0.251254         -0.316664   \nGender_Index        0.130123  0.232896  0.181632          0.183406   \nHousehold_Density   0.597814  0.570666  0.585356          0.686733   \nPopulation_Density  0.597813  0.570665  0.585355          0.686732   \nOBJECTID           -0.069373 -0.096232 -0.082899         -0.047370   \n\n                    Area_in_Square_Km  Gender_Index  Household_Density  \\\nMale                        -0.222593      0.130123           0.597814   \nFemale                      -0.279230      0.232896           0.570666   \nTotal                       -0.251254      0.181632           0.585356   \nNo_of_HouseHolds            -0.316664      0.183406           0.686733   \nArea_in_Square_Km            1.000000     -0.557413          -0.281390   \nGender_Index                -0.557413      1.000000          -0.014089   \nHousehold_Density           -0.281390     -0.014089           1.000000   \nPopulation_Density          -0.281391     -0.014089           1.000000   \nOBJECTID                     0.180302     -0.122534           0.062260   \n\n                    Population_Density  OBJECTID  \nMale                          0.597813 -0.069373  \nFemale                        0.570665 -0.096232  \nTotal                         0.585355 -0.082899  \nNo_of_HouseHolds              0.686732 -0.047370  \nArea_in_Square_Km            -0.281391  0.180302  \nGender_Index                 -0.014089 -0.122534  \nHousehold_Density             1.000000  0.062260  \nPopulation_Density            1.000000  0.062260  \nOBJECTID                      0.062260  1.000000  ",
                        "text/html": "<div>\n<style scoped>\n    .dataframe tbody tr th:only-of-type {\n        vertical-align: middle;\n    }\n\n    .dataframe tbody tr th {\n        vertical-align: top;\n    }\n\n    .dataframe thead th {\n        text-align: right;\n    }\n</style>\n<table border=\"1\" class=\"dataframe\">\n  <thead>\n    <tr style=\"text-align: right;\">\n      <th></th>\n      <th>Male</th>\n      <th>Female</th>\n      <th>Total</th>\n      <th>No_of_HouseHolds</th>\n      <th>Area_in_Square_Km</th>\n      <th>Gender_Index</th>\n      <th>Household_Density</th>\n      <th>Population_Density</th>\n      <th>OBJECTID</th>\n    </tr>\n  </thead>\n  <tbody>\n    <tr>\n      <th>Male</th>\n      <td>1.000000</td>\n      <td>0.992750</td>\n      <td>0.998200</td>\n      <td>0.957182</td>\n      <td>-0.222593</td>\n      <td>0.130123</td>\n      <td>0.597814</td>\n      <td>0.597813</td>\n      <td>-0.069373</td>\n    </tr>\n    <tr>\n      <th>Female</th>\n      <td>0.992750</td>\n      <td>1.000000</td>\n      <td>0.998171</td>\n      <td>0.954424</td>\n      <td>-0.279230</td>\n      <td>0.232896</td>\n      <td>0.570666</td>\n      <td>0.570665</td>\n      <td>-0.096232</td>\n    </tr>\n    <tr>\n      <th>Total</th>\n      <td>0.998200</td>\n      <td>0.998171</td>\n      <td>1.000000</td>\n      <td>0.957546</td>\n      <td>-0.251254</td>\n      <td>0.181632</td>\n      <td>0.585356</td>\n      <td>0.585355</td>\n      <td>-0.082899</td>\n    </tr>\n    <tr>\n      <th>No_of_HouseHolds</th>\n      <td>0.957182</td>\n      <td>0.954424</td>\n      <td>0.957546</td>\n      <td>1.000000</td>\n      <td>-0.316664</td>\n      <td>0.183406</td>\n      <td>0.686733</td>\n      <td>0.686732</td>\n      <td>-0.047370</td>\n    </tr>\n    <tr>\n      <th>Area_in_Square_Km</th>\n      <td>-0.222593</td>\n      <td>-0.279230</td>\n      <td>-0.251254</td>\n      <td>-0.316664</td>\n      <td>1.000000</td>\n      <td>-0.557413</td>\n      <td>-0.281390</td>\n      <td>-0.281391</td>\n      <td>0.180302</td>\n    </tr>\n    <tr>\n      <th>Gender_Index</th>\n      <td>0.130123</td>\n      <td>0.232896</td>\n      <td>0.181632</td>\n      <td>0.183406</td>\n      <td>-0.557413</td>\n      <td>1.000000</td>\n      <td>-0.014089</td>\n      <td>-0.014089</td>\n      <td>-0.122534</td>\n    </tr>\n    <tr>\n      <th>Household_Density</th>\n      <td>0.597814</td>\n      <td>0.570666</td>\n      <td>0.585356</td>\n      <td>0.686733</td>\n      <td>-0.281390</td>\n      <td>-0.014089</td>\n      <td>1.000000</td>\n      <td>1.000000</td>\n      <td>0.062260</td>\n    </tr>\n    <tr>\n      <th>Population_Density</th>\n      <td>0.597813</td>\n      <td>0.570665</td>\n      <td>0.585355</td>\n      <td>0.686732</td>\n      <td>-0.281391</td>\n      <td>-0.014089</td>\n      <td>1.000000</td>\n      <td>1.000000</td>\n      <td>0.062260</td>\n    </tr>\n    <tr>\n      <th>OBJECTID</th>\n      <td>-0.069373</td>\n      <td>-0.096232</td>\n      <td>-0.082899</td>\n      <td>-0.047370</td>\n      <td>0.180302</td>\n      <td>-0.122534</td>\n      <td>0.062260</td>\n      <td>0.062260</td>\n      <td>1.000000</td>\n    </tr>\n  </tbody>\n</table>\n</div>"
                    },
                    "metadata": {}
                }
            ]
        },
        {
            "metadata": {},
            "cell_type": "markdown",
            "source": "### Check Distrubution of the population"
        },
        {
            "metadata": {},
            "cell_type": "code",
            "source": "x= df['Total']\nfig, ax = plt.subplots(num=None, figsize=(10, 6), dpi=80, facecolor='w', edgecolor='k')\nax.hist(x, bins=10)\nplt.xlabel('population Totals')\nplt.show()",
            "execution_count": 8,
            "outputs": [
                {
                    "output_type": "display_data",
                    "data": {
                        "text/plain": "<Figure size 800x480 with 1 Axes>",
                        "image/png": "[encoded data removed]"
                    },
                    "metadata": {}
                }
            ]
        },
        {
            "metadata": {},
            "cell_type": "markdown",
            "source": "### Data cleaning: null columns, duplcate columns"
        },
        {
            "metadata": {},
            "cell_type": "code",
            "source": "df1=df.drop(['geometry'], axis=1)",
            "execution_count": 9,
            "outputs": []
        },
        {
            "metadata": {},
            "cell_type": "markdown",
            "source": "### create spark session and convert pandas data frame into spark dataframe"
        },
        {
            "metadata": {},
            "cell_type": "code",
            "source": "spark = SparkSession.builder.appName(\"kenyaPop\").master(\"local[*]\").getOrCreate()\n\nkenya_df = spark.createDataFrame(df1)\nkenya_df.createOrReplaceTempView('kenya_df')\n",
            "execution_count": 10,
            "outputs": []
        },
        {
            "metadata": {},
            "cell_type": "markdown",
            "source": "### display first five rows"
        },
        {
            "metadata": {},
            "cell_type": "code",
            "source": "kenya_df.show(5)",
            "execution_count": 11,
            "outputs": [
                {
                    "output_type": "stream",
                    "text": "+---------------+------+------+-------+----------------+-----------------+------------+-----------------+------------------+--------------------+--------+\n|         County|  Male|Female|  Total|No_of_HouseHolds|Area_in_Square_Km|Gender_Index|Household_Density|Population_Density|          Location_1|OBJECTID|\n+---------------+------+------+-------+----------------+-----------------+------------+-----------------+------------------+--------------------+--------+\n|        BARINGO|279081|276480| 555561|          110649|         11015.34|         1.0|            50.44|             50.44|(0.66898646421, 3...|       0|\n|          BOMET|359727|364459| 724186|          142361|           2471.3|         1.0|           293.04|            293.04|(-0.828313516948,...|       1|\n|        BUNGOMA|671548|703515|1375063|          270824|          3032.15|         1.0|           453.49|            453.49|(0.751266866555, ...|       2|\n|          BUSIA|356122|387824| 743946|          154225|          1695.03|         1.1|            438.9|             438.9|(0.414922272151, ...|       3|\n|ELGEYO MARAKWET|183738|186260| 369998|           77555|          3029.78|         1.0|           122.12|            122.12|(-0.599583761487,...|       4|\n+---------------+------+------+-------+----------------+-----------------+------------+-----------------+------------------+--------------------+--------+\nonly showing top 5 rows\n\n",
                    "name": "stdout"
                }
            ]
        },
        {
            "metadata": {},
            "cell_type": "markdown",
            "source": "### feature extraction"
        },
        {
            "metadata": {},
            "cell_type": "code",
            "source": "dfPop = spark.sql(\"select Total, No_of_HouseHolds, Area_in_Square_Km, Population_Density from kenya_df\")\n",
            "execution_count": 12,
            "outputs": []
        },
        {
            "metadata": {
                "scrolled": true
            },
            "cell_type": "code",
            "source": "dfPop.show(5)",
            "execution_count": 13,
            "outputs": [
                {
                    "output_type": "stream",
                    "text": "+-------+----------------+-----------------+------------------+\n|  Total|No_of_HouseHolds|Area_in_Square_Km|Population_Density|\n+-------+----------------+-----------------+------------------+\n| 555561|          110649|         11015.34|             50.44|\n| 724186|          142361|           2471.3|            293.04|\n|1375063|          270824|          3032.15|            453.49|\n| 743946|          154225|          1695.03|             438.9|\n| 369998|           77555|          3029.78|            122.12|\n+-------+----------------+-----------------+------------------+\nonly showing top 5 rows\n\n",
                    "name": "stdout"
                }
            ]
        },
        {
            "metadata": {},
            "cell_type": "markdown",
            "source": "### Total population 2009"
        },
        {
            "metadata": {},
            "cell_type": "code",
            "source": "totalPop_2009 = spark.sql(\"select round(sum(Total)/1000000, 2) as Kenya_census_2009_in_millions from kenya_df\")\ntotalPop_2009.show()",
            "execution_count": 14,
            "outputs": [
                {
                    "output_type": "stream",
                    "text": "+-----------------------------+\n|Kenya_census_2009_in_millions|\n+-----------------------------+\n|                        38.61|\n+-----------------------------+\n\n",
                    "name": "stdout"
                }
            ]
        },
        {
            "metadata": {},
            "cell_type": "markdown",
            "source": "### The most densely populated County"
        },
        {
            "metadata": {},
            "cell_type": "code",
            "source": "populousCounty = spark.sql(\"select County, round(Total/1000000, 2) as Figure_in_million from kenya_df where Total = (select max(Total) from kenya_df)\")\npopulousCounty.show()",
            "execution_count": 15,
            "outputs": [
                {
                    "output_type": "stream",
                    "text": "+-------+-----------------+\n| County|Figure_in_million|\n+-------+-----------------+\n|NAIROBI|             3.14|\n+-------+-----------------+\n\n",
                    "name": "stdout"
                }
            ]
        },
        {
            "metadata": {},
            "cell_type": "markdown",
            "source": "### The least populated County"
        },
        {
            "metadata": {},
            "cell_type": "code",
            "source": "SparceCounty = spark.sql(\"select County, round(Total/1000000, 2) as Figure_in_million from kenya_df where Total = (select min(Total) from kenya_df)\")\nSparceCounty.show()",
            "execution_count": 16,
            "outputs": [
                {
                    "output_type": "stream",
                    "text": "+------+-----------------+\n|County|Figure_in_million|\n+------+-----------------+\n|  LAMU|              0.1|\n+------+-----------------+\n\n",
                    "name": "stdout"
                }
            ]
        },
        {
            "metadata": {},
            "cell_type": "markdown",
            "source": "### Transform data for machine learning models"
        },
        {
            "metadata": {},
            "cell_type": "code",
            "source": "featureCols = [\"Total\", \"No_of_HouseHolds\", \"Area_in_Square_Km\", \"Population_Density\"]\n\nassembler = VectorAssembler(inputCols=featureCols, outputCol=\"features\") \n\nassembled_df = assembler.transform(dfPop)",
            "execution_count": 17,
            "outputs": []
        },
        {
            "metadata": {},
            "cell_type": "markdown",
            "source": "### inspect assembled data"
        },
        {
            "metadata": {},
            "cell_type": "code",
            "source": "assembled_df.show(10, truncate=False)",
            "execution_count": 18,
            "outputs": [
                {
                    "output_type": "stream",
                    "text": "+-------+----------------+-----------------+------------------+-----------------------------------+\n|Total  |No_of_HouseHolds|Area_in_Square_Km|Population_Density|features                           |\n+-------+----------------+-----------------+------------------+-----------------------------------+\n|555561 |110649          |11015.34         |50.44             |[555561.0,110649.0,11015.34,50.44] |\n|724186 |142361          |2471.3           |293.04            |[724186.0,142361.0,2471.3,293.04]  |\n|1375063|270824          |3032.15          |453.49            |[1375063.0,270824.0,3032.15,453.49]|\n|743946 |154225          |1695.03          |438.9             |[743946.0,154225.0,1695.03,438.9]  |\n|369998 |77555           |3029.78          |122.12            |[369998.0,77555.0,3029.78,122.12]  |\n|516212 |131683          |2818.04          |183.18            |[516212.0,131683.0,2818.04,183.18] |\n|623060 |98590           |44175.02         |14.1              |[623060.0,98590.0,44175.02,14.1]   |\n|963794 |206255          |3183.29          |302.77            |[963794.0,206255.0,3183.29,302.77] |\n|143294 |31326           |25336.07         |5.66              |[143294.0,31326.0,25336.07,5.66]   |\n|687312 |173464          |21900.97         |31.38             |[687312.0,173464.0,21900.97,31.38] |\n+-------+----------------+-----------------+------------------+-----------------------------------+\nonly showing top 10 rows\n\n",
                    "name": "stdout"
                }
            ]
        },
        {
            "metadata": {},
            "cell_type": "code",
            "source": "standardScaler = StandardScaler(inputCol=\"features\", outputCol=\"features_scaled\")\nscaled_df = standardScaler.fit(assembled_df).transform(assembled_df)",
            "execution_count": 19,
            "outputs": []
        },
        {
            "metadata": {},
            "cell_type": "markdown",
            "source": "### Inspect standardazed data"
        },
        {
            "metadata": {},
            "cell_type": "code",
            "source": "scaled_df.select(\"features\", \"features_scaled\").show(10, truncate=False)",
            "execution_count": 20,
            "outputs": [
                {
                    "output_type": "stream",
                    "text": "+-----------------------------------+-------------------------------------------------------------------------------+\n|features                           |features_scaled                                                                |\n+-----------------------------------+-------------------------------------------------------------------------------+\n|[555561.0,110649.0,11015.34,50.44] |[1.094095772593888,0.7304996810361877,0.6335146854211534,0.057096225136090376] |\n|[724186.0,142361.0,2471.3,293.04]  |[1.4261779375652313,0.9398608671745132,0.14212950685873488,0.33171050384377326]|\n|[1375063.0,270824.0,3032.15,453.49]|[2.707984569381705,1.787967768501699,0.1743851350389321,0.5133340035084383]    |\n|[743946.0,154225.0,1695.03,438.9]  |[1.4650923546435632,1.0181864572459403,0.09748463481194568,0.496818660036282]  |\n|[369998.0,77555.0,3029.78,122.12]  |[0.7286567049670394,0.5120145935594677,0.17424883150182405,0.13823534919943214]|\n|[516212.0,131683.0,2818.04,183.18] |[1.0166036978157864,0.8693651953283653,0.16207123194601594,0.2073530237991482] |\n|[623060.0,98590.0,44175.02,14.1]   |[1.2270251368838847,0.650886709806304,2.5405955602617043,0.015960681491254448] |\n|[963794.0,206255.0,3183.29,302.77] |[1.8980506929956453,1.3616861581407775,0.18307750491172342,0.34272450603596516]|\n|[143294.0,31326.0,25336.07,5.66]   |[0.2821964818230016,0.2068128316400475,1.4571290959569403,0.006406911861028381]|\n|[687312.0,173464.0,21900.97,31.38] |[1.353560011687376,1.145201462925659,1.2595694840075857,0.035521006042238616]  |\n+-----------------------------------+-------------------------------------------------------------------------------+\nonly showing top 10 rows\n\n",
                    "name": "stdout"
                }
            ]
        },
        {
            "metadata": {},
            "cell_type": "markdown",
            "source": "### train-test split data"
        },
        {
            "metadata": {},
            "cell_type": "code",
            "source": "train_data, test_data = scaled_df.randomSplit([.67,.33], seed=42)",
            "execution_count": 21,
            "outputs": []
        },
        {
            "metadata": {},
            "cell_type": "markdown",
            "source": "### define GBT"
        },
        {
            "metadata": {},
            "cell_type": "code",
            "source": "gbt = GBTRegressor(featuresCol=\"features_scaled\", labelCol=\"Total\", predictionCol='predTotal', maxIter=10)",
            "execution_count": 22,
            "outputs": []
        },
        {
            "metadata": {},
            "cell_type": "code",
            "source": "pipeline = Pipeline(stages=[gbt])",
            "execution_count": 23,
            "outputs": []
        },
        {
            "metadata": {},
            "cell_type": "code",
            "source": "model = pipeline.fit(train_data)",
            "execution_count": 24,
            "outputs": []
        },
        {
            "metadata": {},
            "cell_type": "code",
            "source": "predictions = model.transform(test_data)",
            "execution_count": 25,
            "outputs": []
        },
        {
            "metadata": {},
            "cell_type": "code",
            "source": "predictions.select(\"Total\", \"predTotal\").show()",
            "execution_count": 26,
            "outputs": [
                {
                    "output_type": "stream",
                    "text": "+------+------------------+\n| Total|         predTotal|\n+------+------------------+\n|143294|101517.76962450401|\n|223947|  287890.269624504|\n|240075|  287890.269624504|\n|512690|396402.79056742403|\n|555561|379258.80174323195|\n|623060|  380363.441523968|\n|649931|  686584.930651392|\n|842304| 855711.9679852331|\n|855399|  853098.441523968|\n|884527| 913008.5992428656|\n|963794|  933916.202313728|\n|968909|  941421.579010795|\n+------+------------------+\n\n",
                    "name": "stdout"
                }
            ]
        },
        {
            "metadata": {},
            "cell_type": "markdown",
            "source": "### evaluate model performance"
        },
        {
            "metadata": {},
            "cell_type": "code",
            "source": "evaluator = RegressionEvaluator(\n    labelCol=\"Total\", predictionCol=\"predTotal\", metricName=\"rmse\")\nrmse = evaluator.evaluate(predictions)\nprint(\"Root Mean Squared Error (RMSE) on test data = %g\" % rmse)",
            "execution_count": 27,
            "outputs": [
                {
                    "output_type": "stream",
                    "text": "Root Mean Squared Error (RMSE) on test data = 98156\n",
                    "name": "stdout"
                }
            ]
        },
        {
            "metadata": {},
            "cell_type": "code",
            "source": "evaluator = RegressionEvaluator(\n    labelCol=\"Total\", predictionCol=\"predTotal\", metricName=\"mae\")\nrmse = evaluator.evaluate(predictions)\nprint(\"Root Mean Squared Error (RMSE) on test data = %g\" % rmse)",
            "execution_count": 28,
            "outputs": [
                {
                    "output_type": "stream",
                    "text": "Root Mean Squared Error (RMSE) on test data = 68919.2\n",
                    "name": "stdout"
                }
            ]
        },
        {
            "metadata": {},
            "cell_type": "code",
            "source": "evaluator = RegressionEvaluator(\n    labelCol=\"Total\", predictionCol=\"predTotal\", metricName=\"r2\")\nrmse = evaluator.evaluate(predictions)\nprint(\"Root Mean Squared Error (RMSE) on test data = %g\" % rmse)",
            "execution_count": 29,
            "outputs": [
                {
                    "output_type": "stream",
                    "text": "Root Mean Squared Error (RMSE) on test data = 0.879532\n",
                    "name": "stdout"
                }
            ]
        },
        {
            "metadata": {},
            "cell_type": "code",
            "source": "gbtModel = model.stages[0]\nprint(gbtModel) ",
            "execution_count": 30,
            "outputs": [
                {
                    "output_type": "stream",
                    "text": "GBTRegressionModel (uid=GBTRegressor_7e83882e3ef9) with 10 trees\n",
                    "name": "stdout"
                }
            ]
        },
        {
            "metadata": {},
            "cell_type": "markdown",
            "source": "### define deep learning  models"
        },
        {
            "metadata": {},
            "cell_type": "code",
            "source": "features = df[['Total', 'No_of_HouseHolds', 'Area_in_Square_Km', 'Population_Density']]\nlabel = df['Total']",
            "execution_count": 31,
            "outputs": []
        },
        {
            "metadata": {},
            "cell_type": "code",
            "source": "x=features\n\ny=np.ravel(label)\n\nX_train, X_test, y_train, y_test = train_test_split(x, y, test_size=0.33, random_state=42)",
            "execution_count": 32,
            "outputs": []
        },
        {
            "metadata": {},
            "cell_type": "code",
            "source": "\nfrom sklearn.preprocessing import StandardScaler\n\ns = StandardScaler()\n\n\nX_train = s.fit(X_train).transform(X_train)\n\nX_test = s.transform(X_test)\n",
            "execution_count": 33,
            "outputs": [
                {
                    "output_type": "stream",
                    "text": "/opt/conda/envs/Python36/lib/python3.6/site-packages/sklearn/preprocessing/data.py:645: DataConversionWarning: Data with input dtype int64, float64 were all converted to float64 by StandardScaler.\n  return self.partial_fit(X, y)\n/opt/conda/envs/Python36/lib/python3.6/site-packages/ipykernel/__main__.py:7: DataConversionWarning: Data with input dtype int64, float64 were all converted to float64 by StandardScaler.\n/opt/conda/envs/Python36/lib/python3.6/site-packages/ipykernel/__main__.py:9: DataConversionWarning: Data with input dtype int64, float64 were all converted to float64 by StandardScaler.\n",
                    "name": "stderr"
                }
            ]
        },
        {
            "metadata": {},
            "cell_type": "code",
            "source": "# design network\nfrom tensorflow.keras import optimizers\nsgd = optimizers.SGD(lr=0.01, clipnorm=1.)\n\ndim = 4\nnumber_of_neurons_layer1 = 30\nnumber_of_neurons_layer2 = 20\nnumber_of_neurons_layer3 = 1\nnumber_of_epochs = 8\n\nmodel = Sequential()\nmodel.add(Dense(number_of_neurons_layer1,input_shape=(dim, ), activation='relu'))\nmodel.add(Dense(number_of_neurons_layer2, activation='relu'))\nmodel.add(Dense(number_of_neurons_layer3, activation='sigmoid'))\nmodel.compile(loss='binary_crossentropy', optimizer=sgd, metrics=['accuracy'])\n\nmodel.fit(X_train, y_train, epochs=number_of_epochs, batch_size=32, verbose=1, shuffle = True)",
            "execution_count": 34,
            "outputs": [
                {
                    "output_type": "stream",
                    "text": "Epoch 1/8\n1/1 [==============================] - 0s 2ms/step - loss: 79290.4922 - accuracy: 0.0000e+00\nEpoch 2/8\n1/1 [==============================] - 0s 1ms/step - loss: 28336.4883 - accuracy: 0.0000e+00\nEpoch 3/8\n1/1 [==============================] - 0s 1ms/step - loss: -22261.8398 - accuracy: 0.0000e+00\nEpoch 4/8\n1/1 [==============================] - 0s 2ms/step - loss: -72721.4922 - accuracy: 0.0000e+00\nEpoch 5/8\n1/1 [==============================] - 0s 2ms/step - loss: -123007.1641 - accuracy: 0.0000e+00\nEpoch 6/8\n1/1 [==============================] - 0s 2ms/step - loss: -173272.9062 - accuracy: 0.0000e+00\nEpoch 7/8\n1/1 [==============================] - 0s 1ms/step - loss: -223569.5156 - accuracy: 0.0000e+00\nEpoch 8/8\n1/1 [==============================] - 0s 1ms/step - loss: -273939.8438 - accuracy: 0.0000e+00\n",
                    "name": "stdout"
                },
                {
                    "output_type": "execute_result",
                    "execution_count": 34,
                    "data": {
                        "text/plain": "<tensorflow.python.keras.callbacks.History at 0x7f43516406d8>"
                    },
                    "metadata": {}
                }
            ]
        },
        {
            "metadata": {},
            "cell_type": "markdown",
            "source": "### predict values"
        },
        {
            "metadata": {},
            "cell_type": "code",
            "source": "y_pred = model.predict(X_test)\n\nscore = model.evaluate(X_test, y_test,verbose=1)\n\nprint(score)",
            "execution_count": 35,
            "outputs": [
                {
                    "output_type": "stream",
                    "text": "1/1 [==============================] - 0s 3ms/step - loss: -188977.3750 - accuracy: 0.0000e+00\n[-188977.375, 0.0]\n",
                    "name": "stdout"
                }
            ]
        },
        {
            "metadata": {},
            "cell_type": "markdown",
            "source": "### constructing LSTM model"
        },
        {
            "metadata": {},
            "cell_type": "code",
            "source": "X_train = np.array(X_train)\nX_train = np.reshape(X_train, (31,1, 4)) \nX_train.shape",
            "execution_count": 40,
            "outputs": [
                {
                    "output_type": "execute_result",
                    "execution_count": 40,
                    "data": {
                        "text/plain": "(31, 1, 4)"
                    },
                    "metadata": {}
                }
            ]
        },
        {
            "metadata": {},
            "cell_type": "code",
            "source": "X_test = np.array(X_test)\nX_test = np.reshape(X_test, (16,1, 4)) \n\nX_test.shape",
            "execution_count": 41,
            "outputs": [
                {
                    "output_type": "execute_result",
                    "execution_count": 41,
                    "data": {
                        "text/plain": "(16, 1, 4)"
                    },
                    "metadata": {}
                }
            ]
        },
        {
            "metadata": {},
            "cell_type": "code",
            "source": "regressor = Sequential()\n\nregressor.add(LSTM(units = 40, return_sequences = True, input_shape = (31, 4)))\nregressor.add(Dropout(0.2))\n\nregressor.add(LSTM(units = 40, return_sequences = True))\nregressor.add(Dropout(0.2))\n\nregressor.add(LSTM(units = 40, return_sequences = True))\nregressor.add(Dropout(0.2))\n\nregressor.add(LSTM(units = 40))\nregressor.add(Dropout(0.2))\n\nregressor.add(Dense(units = 1))\n\nregressor.compile(optimizer = 'adam', loss = 'mean_squared_error', metrics=['accuracy'])\nregressor.fit(X_train, y_train, epochs = 100, batch_size = 32)",
            "execution_count": 42,
            "outputs": [
                {
                    "output_type": "stream",
                    "text": "W0829 09:23:04.196671 139930174670656 network.py:952] Model was constructed with shape (None, 31, 4) for input Tensor(\"lstm_4_input:0\", shape=(None, 31, 4), dtype=float32), but it was called on an input with incompatible shape (None, 1, 4).\n",
                    "name": "stderr"
                },
                {
                    "output_type": "stream",
                    "text": "Epoch 1/100\n",
                    "name": "stdout"
                },
                {
                    "output_type": "stream",
                    "text": "W0829 09:23:07.097594 139930174670656 network.py:952] Model was constructed with shape (None, 31, 4) for input Tensor(\"lstm_4_input:0\", shape=(None, 31, 4), dtype=float32), but it was called on an input with incompatible shape (None, 1, 4).\n",
                    "name": "stderr"
                },
                {
                    "output_type": "stream",
                    "text": "1/1 [==============================] - 0s 2ms/step - loss: 1077641281536.0000 - accuracy: 0.0000e+00\nEpoch 2/100\n1/1 [==============================] - 0s 1ms/step - loss: 1077641281536.0000 - accuracy: 0.0000e+00\nEpoch 3/100\n1/1 [==============================] - 0s 1ms/step - loss: 1077641347072.0000 - accuracy: 0.0000e+00\nEpoch 4/100\n1/1 [==============================] - 0s 2ms/step - loss: 1077641281536.0000 - accuracy: 0.0000e+00\nEpoch 5/100\n1/1 [==============================] - 0s 22ms/step - loss: 1077641281536.0000 - accuracy: 0.0000e+00\nEpoch 6/100\n1/1 [==============================] - 0s 2ms/step - loss: 1077641347072.0000 - accuracy: 0.0000e+00\nEpoch 7/100\n1/1 [==============================] - 0s 1ms/step - loss: 1077641216000.0000 - accuracy: 0.0000e+00\nEpoch 8/100\n1/1 [==============================] - 0s 1ms/step - loss: 1077641281536.0000 - accuracy: 0.0000e+00\nEpoch 9/100\n1/1 [==============================] - 0s 1ms/step - loss: 1077641281536.0000 - accuracy: 0.0000e+00\nEpoch 10/100\n1/1 [==============================] - 0s 2ms/step - loss: 1077641281536.0000 - accuracy: 0.0000e+00\nEpoch 11/100\n1/1 [==============================] - 0s 2ms/step - loss: 1077641281536.0000 - accuracy: 0.0000e+00\nEpoch 12/100\n1/1 [==============================] - 0s 2ms/step - loss: 1077641281536.0000 - accuracy: 0.0000e+00\nEpoch 13/100\n1/1 [==============================] - 0s 16ms/step - loss: 1077641281536.0000 - accuracy: 0.0000e+00\nEpoch 14/100\n1/1 [==============================] - 0s 1ms/step - loss: 1077641216000.0000 - accuracy: 0.0000e+00\nEpoch 15/100\n1/1 [==============================] - 0s 2ms/step - loss: 1077641150464.0000 - accuracy: 0.0000e+00\nEpoch 16/100\n1/1 [==============================] - 0s 2ms/step - loss: 1077641281536.0000 - accuracy: 0.0000e+00\nEpoch 17/100\n1/1 [==============================] - 0s 2ms/step - loss: 1077641216000.0000 - accuracy: 0.0000e+00\nEpoch 18/100\n1/1 [==============================] - 0s 2ms/step - loss: 1077641216000.0000 - accuracy: 0.0000e+00\nEpoch 19/100\n1/1 [==============================] - 0s 1ms/step - loss: 1077641216000.0000 - accuracy: 0.0000e+00\nEpoch 20/100\n1/1 [==============================] - 0s 2ms/step - loss: 1077641150464.0000 - accuracy: 0.0000e+00\nEpoch 21/100\n1/1 [==============================] - 0s 1ms/step - loss: 1077641150464.0000 - accuracy: 0.0000e+00\nEpoch 22/100\n1/1 [==============================] - 0s 1ms/step - loss: 1077641150464.0000 - accuracy: 0.0000e+00\nEpoch 23/100\n1/1 [==============================] - 0s 15ms/step - loss: 1077641019392.0000 - accuracy: 0.0000e+00\nEpoch 24/100\n1/1 [==============================] - 0s 1ms/step - loss: 1077641084928.0000 - accuracy: 0.0000e+00\nEpoch 25/100\n1/1 [==============================] - 0s 1ms/step - loss: 1077641084928.0000 - accuracy: 0.0000e+00\nEpoch 26/100\n1/1 [==============================] - 0s 1ms/step - loss: 1077641019392.0000 - accuracy: 0.0000e+00\nEpoch 27/100\n1/1 [==============================] - 0s 1ms/step - loss: 1077641084928.0000 - accuracy: 0.0000e+00\nEpoch 28/100\n1/1 [==============================] - 0s 1ms/step - loss: 1077641084928.0000 - accuracy: 0.0000e+00\nEpoch 29/100\n1/1 [==============================] - 0s 1ms/step - loss: 1077641019392.0000 - accuracy: 0.0000e+00\nEpoch 30/100\n1/1 [==============================] - 0s 1ms/step - loss: 1077640953856.0000 - accuracy: 0.0000e+00\nEpoch 31/100\n1/1 [==============================] - 0s 14ms/step - loss: 1077641019392.0000 - accuracy: 0.0000e+00\nEpoch 32/100\n1/1 [==============================] - 0s 1ms/step - loss: 1077641084928.0000 - accuracy: 0.0000e+00\nEpoch 33/100\n1/1 [==============================] - 0s 1ms/step - loss: 1077641019392.0000 - accuracy: 0.0000e+00\nEpoch 34/100\n1/1 [==============================] - 0s 1ms/step - loss: 1077641019392.0000 - accuracy: 0.0000e+00\nEpoch 35/100\n1/1 [==============================] - 0s 1ms/step - loss: 1077641019392.0000 - accuracy: 0.0000e+00\nEpoch 36/100\n1/1 [==============================] - 0s 1ms/step - loss: 1077640953856.0000 - accuracy: 0.0000e+00\nEpoch 37/100\n1/1 [==============================] - 0s 1ms/step - loss: 1077640888320.0000 - accuracy: 0.0000e+00\nEpoch 38/100\n1/1 [==============================] - 0s 1ms/step - loss: 1077640888320.0000 - accuracy: 0.0000e+00\nEpoch 39/100\n1/1 [==============================] - 0s 1ms/step - loss: 1077640888320.0000 - accuracy: 0.0000e+00\nEpoch 40/100\n1/1 [==============================] - 0s 1ms/step - loss: 1077640822784.0000 - accuracy: 0.0000e+00\nEpoch 41/100\n1/1 [==============================] - 0s 2ms/step - loss: 1077640757248.0000 - accuracy: 0.0000e+00\nEpoch 42/100\n1/1 [==============================] - 0s 1ms/step - loss: 1077640757248.0000 - accuracy: 0.0000e+00\nEpoch 43/100\n1/1 [==============================] - 0s 1ms/step - loss: 1077640757248.0000 - accuracy: 0.0000e+00\nEpoch 44/100\n1/1 [==============================] - 0s 1ms/step - loss: 1077640691712.0000 - accuracy: 0.0000e+00\nEpoch 45/100\n1/1 [==============================] - 0s 2ms/step - loss: 1077640691712.0000 - accuracy: 0.0000e+00\nEpoch 46/100\n1/1 [==============================] - 0s 2ms/step - loss: 1077640560640.0000 - accuracy: 0.0000e+00\nEpoch 47/100\n1/1 [==============================] - 0s 1ms/step - loss: 1077640560640.0000 - accuracy: 0.0000e+00\nEpoch 48/100\n1/1 [==============================] - 0s 1ms/step - loss: 1077640429568.0000 - accuracy: 0.0000e+00\nEpoch 49/100\n1/1 [==============================] - 0s 1ms/step - loss: 1077640429568.0000 - accuracy: 0.0000e+00\nEpoch 50/100\n1/1 [==============================] - 0s 2ms/step - loss: 1077640364032.0000 - accuracy: 0.0000e+00\nEpoch 51/100\n1/1 [==============================] - 0s 1ms/step - loss: 1077640429568.0000 - accuracy: 0.0000e+00\nEpoch 52/100\n1/1 [==============================] - 0s 1ms/step - loss: 1077640298496.0000 - accuracy: 0.0000e+00\nEpoch 53/100\n1/1 [==============================] - 0s 1ms/step - loss: 1077640101888.0000 - accuracy: 0.0000e+00\nEpoch 54/100\n1/1 [==============================] - 0s 1ms/step - loss: 1077640101888.0000 - accuracy: 0.0000e+00\nEpoch 55/100\n1/1 [==============================] - 0s 1ms/step - loss: 1077639839744.0000 - accuracy: 0.0000e+00\nEpoch 56/100\n1/1 [==============================] - 0s 1ms/step - loss: 1077639839744.0000 - accuracy: 0.0000e+00\nEpoch 57/100\n1/1 [==============================] - 0s 1ms/step - loss: 1077639839744.0000 - accuracy: 0.0000e+00\nEpoch 58/100\n1/1 [==============================] - 0s 2ms/step - loss: 1077639577600.0000 - accuracy: 0.0000e+00\nEpoch 59/100\n1/1 [==============================] - 0s 2ms/step - loss: 1077639446528.0000 - accuracy: 0.0000e+00\nEpoch 60/100\n1/1 [==============================] - 0s 17ms/step - loss: 1077639315456.0000 - accuracy: 0.0000e+00\nEpoch 61/100\n1/1 [==============================] - 0s 1ms/step - loss: 1077639184384.0000 - accuracy: 0.0000e+00\nEpoch 62/100\n1/1 [==============================] - 0s 1ms/step - loss: 1077639118848.0000 - accuracy: 0.0000e+00\nEpoch 63/100\n1/1 [==============================] - 0s 1ms/step - loss: 1077638987776.0000 - accuracy: 0.0000e+00\nEpoch 64/100\n1/1 [==============================] - 0s 2ms/step - loss: 1077638856704.0000 - accuracy: 0.0000e+00\nEpoch 65/100\n1/1 [==============================] - 0s 1ms/step - loss: 1077638725632.0000 - accuracy: 0.0000e+00\nEpoch 66/100\n1/1 [==============================] - 0s 17ms/step - loss: 1077638266880.0000 - accuracy: 0.0000e+00\nEpoch 67/100\n1/1 [==============================] - 0s 1ms/step - loss: 1077638332416.0000 - accuracy: 0.0000e+00\nEpoch 68/100\n1/1 [==============================] - 0s 1ms/step - loss: 1077638201344.0000 - accuracy: 0.0000e+00\nEpoch 69/100\n1/1 [==============================] - 0s 1ms/step - loss: 1077637939200.0000 - accuracy: 0.0000e+00\nEpoch 70/100\n1/1 [==============================] - 0s 2ms/step - loss: 1077637480448.0000 - accuracy: 0.0000e+00\nEpoch 71/100\n1/1 [==============================] - 0s 2ms/step - loss: 1077637677056.0000 - accuracy: 0.0000e+00\nEpoch 72/100\n1/1 [==============================] - 0s 1ms/step - loss: 1077637218304.0000 - accuracy: 0.0000e+00\n",
                    "name": "stdout"
                },
                {
                    "output_type": "stream",
                    "text": "Epoch 73/100\n1/1 [==============================] - 0s 2ms/step - loss: 1077637480448.0000 - accuracy: 0.0000e+00\nEpoch 74/100\n1/1 [==============================] - 0s 1ms/step - loss: 1077636890624.0000 - accuracy: 0.0000e+00\nEpoch 75/100\n1/1 [==============================] - 0s 1ms/step - loss: 1077636366336.0000 - accuracy: 0.0000e+00\nEpoch 76/100\n1/1 [==============================] - 0s 1ms/step - loss: 1077636300800.0000 - accuracy: 0.0000e+00\nEpoch 77/100\n1/1 [==============================] - 0s 1ms/step - loss: 1077636169728.0000 - accuracy: 0.0000e+00\nEpoch 78/100\n1/1 [==============================] - 0s 1ms/step - loss: 1077635645440.0000 - accuracy: 0.0000e+00\nEpoch 79/100\n1/1 [==============================] - 0s 1ms/step - loss: 1077634924544.0000 - accuracy: 0.0000e+00\nEpoch 80/100\n1/1 [==============================] - 0s 1ms/step - loss: 1077634793472.0000 - accuracy: 0.0000e+00\nEpoch 81/100\n1/1 [==============================] - 0s 1ms/step - loss: 1077634662400.0000 - accuracy: 0.0000e+00\nEpoch 82/100\n1/1 [==============================] - 0s 1ms/step - loss: 1077634727936.0000 - accuracy: 0.0000e+00\nEpoch 83/100\n1/1 [==============================] - 0s 1ms/step - loss: 1077634400256.0000 - accuracy: 0.0000e+00\nEpoch 84/100\n1/1 [==============================] - 0s 1ms/step - loss: 1077633941504.0000 - accuracy: 0.0000e+00\nEpoch 85/100\n1/1 [==============================] - 0s 1ms/step - loss: 1077633941504.0000 - accuracy: 0.0000e+00\nEpoch 86/100\n1/1 [==============================] - 0s 1ms/step - loss: 1077633613824.0000 - accuracy: 0.0000e+00\nEpoch 87/100\n1/1 [==============================] - 0s 1ms/step - loss: 1077633155072.0000 - accuracy: 0.0000e+00\nEpoch 88/100\n1/1 [==============================] - 0s 16ms/step - loss: 1077632368640.0000 - accuracy: 0.0000e+00\nEpoch 89/100\n1/1 [==============================] - 0s 1ms/step - loss: 1077632172032.0000 - accuracy: 0.0000e+00\nEpoch 90/100\n1/1 [==============================] - 0s 2ms/step - loss: 1077632630784.0000 - accuracy: 0.0000e+00\nEpoch 91/100\n1/1 [==============================] - 0s 2ms/step - loss: 1077631909888.0000 - accuracy: 0.0000e+00\nEpoch 92/100\n1/1 [==============================] - 0s 1ms/step - loss: 1077631320064.0000 - accuracy: 0.0000e+00\nEpoch 93/100\n1/1 [==============================] - 0s 2ms/step - loss: 1077631516672.0000 - accuracy: 0.0000e+00\nEpoch 94/100\n1/1 [==============================] - 0s 1ms/step - loss: 1077630730240.0000 - accuracy: 0.0000e+00\nEpoch 95/100\n1/1 [==============================] - 0s 2ms/step - loss: 1077630599168.0000 - accuracy: 0.0000e+00\nEpoch 96/100\n1/1 [==============================] - 0s 2ms/step - loss: 1077629681664.0000 - accuracy: 0.0000e+00\nEpoch 97/100\n1/1 [==============================] - 0s 2ms/step - loss: 1077629812736.0000 - accuracy: 0.0000e+00\nEpoch 98/100\n1/1 [==============================] - 0s 16ms/step - loss: 1077629288448.0000 - accuracy: 0.0000e+00\nEpoch 99/100\n1/1 [==============================] - 0s 17ms/step - loss: 1077628829696.0000 - accuracy: 0.0000e+00\nEpoch 100/100\n1/1 [==============================] - 0s 2ms/step - loss: 1077628829696.0000 - accuracy: 0.0000e+00\n",
                    "name": "stdout"
                },
                {
                    "output_type": "execute_result",
                    "execution_count": 42,
                    "data": {
                        "text/plain": "<tensorflow.python.keras.callbacks.History at 0x7f424c63dba8>"
                    },
                    "metadata": {}
                }
            ]
        },
        {
            "metadata": {},
            "cell_type": "markdown",
            "source": "#### predict values"
        },
        {
            "metadata": {},
            "cell_type": "code",
            "source": " regressor.predict(X_test)\n\nscore = regressor.evaluate(X_test, y_test,verbose=1)\n\nprint(score)",
            "execution_count": 43,
            "outputs": [
                {
                    "output_type": "stream",
                    "text": "W0829 09:23:36.525230 139930174670656 network.py:952] Model was constructed with shape (None, 31, 4) for input Tensor(\"lstm_4_input:0\", shape=(None, 31, 4), dtype=float32), but it was called on an input with incompatible shape (None, 1, 4).\nW0829 09:23:38.168066 139930174670656 network.py:952] Model was constructed with shape (None, 31, 4) for input Tensor(\"lstm_4_input:0\", shape=(None, 31, 4), dtype=float32), but it was called on an input with incompatible shape (None, 1, 4).\n",
                    "name": "stderr"
                },
                {
                    "output_type": "stream",
                    "text": "1/1 [==============================] - 0s 2ms/step - loss: 635721220096.0000 - accuracy: 0.0000e+00\n[635721220096.0, 0.0]\n",
                    "name": "stdout"
                }
            ]
        },
        {
            "metadata": {},
            "cell_type": "code",
            "source": "",
            "execution_count": null,
            "outputs": []
        }
    ],
    "metadata": {
        "kernelspec": {
            "name": "python3",
            "display_name": "Python 3.6",
            "language": "python"
        },
        "language_info": {
            "name": "python",
            "version": "3.6.9",
            "mimetype": "text/x-python",
            "codemirror_mode": {
                "name": "ipython",
                "version": 3
            },
            "pygments_lexer": "ipython3",
            "nbconvert_exporter": "python",
            "file_extension": ".py"
        }
    },
    "nbformat": 4,
    "nbformat_minor": 1
}