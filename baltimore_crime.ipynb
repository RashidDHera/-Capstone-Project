{
 "cells": [
  {
   "cell_type": "markdown",
   "metadata": {},
   "source": [
    "### Capstone Final Project \n",
    "### Author: Rashid Ali \n",
    "### Date: 19/7/2020"
   ]
  },
  {
   "cell_type": "code",
   "execution_count": 39,
   "metadata": {},
   "outputs": [],
   "source": [
    "import numpy as np  \n",
    "import pandas as pd\n",
    "import folium\n",
    "import datetime\n",
    "import wget\n",
    "%matplotlib inline\n",
    "import matplotlib.pyplot as plt\n",
    "import matplotlib.axes as ax\n",
    "import seaborn as sns\n",
    "pd.set_option('display.max_columns', None)\n",
    "pd.set_option('display.max_rows', None)\n",
    "import json \n",
    "import pygeoj\n",
    "from geopy.geocoders import Nominatim \n",
    "import requests \n",
    "from pandas.io.json import json_normalize \n",
    "import matplotlib.cm as cm\n",
    "import matplotlib.colors as colors\n",
    "from sklearn.cluster import KMeans"
   ]
  },
  {
   "cell_type": "markdown",
   "metadata": {},
   "source": [
    "#### Acquire and Explore the data"
   ]
  },
  {
   "cell_type": "code",
   "execution_count": 2,
   "metadata": {},
   "outputs": [
    {
     "name": "stderr",
     "output_type": "stream",
     "text": [
      "C:\\Users\\ali\\anaconda3\\lib\\site-packages\\IPython\\core\\interactiveshell.py:3063: DtypeWarning: Columns (7) have mixed types.Specify dtype option on import or set low_memory=False.\n",
      "  interactivity=interactivity, compiler=compiler, result=result)\n"
     ]
    }
   ],
   "source": [
    "baltimore = pd.read_csv(\"C:/Users/ali/Baltimore/BPD_Part_1_Victim_Based_Crime_Data.csv\")"
   ]
  },
  {
   "cell_type": "code",
   "execution_count": 3,
   "metadata": {},
   "outputs": [
    {
     "data": {
      "text/html": [
       "<div>\n",
       "<style scoped>\n",
       "    .dataframe tbody tr th:only-of-type {\n",
       "        vertical-align: middle;\n",
       "    }\n",
       "\n",
       "    .dataframe tbody tr th {\n",
       "        vertical-align: top;\n",
       "    }\n",
       "\n",
       "    .dataframe thead th {\n",
       "        text-align: right;\n",
       "    }\n",
       "</style>\n",
       "<table border=\"1\" class=\"dataframe\">\n",
       "  <thead>\n",
       "    <tr style=\"text-align: right;\">\n",
       "      <th></th>\n",
       "      <th>CrimeDate</th>\n",
       "      <th>CrimeTime</th>\n",
       "      <th>CrimeCode</th>\n",
       "      <th>Location</th>\n",
       "      <th>Description</th>\n",
       "      <th>Inside/Outside</th>\n",
       "      <th>Weapon</th>\n",
       "      <th>Post</th>\n",
       "      <th>District</th>\n",
       "      <th>Neighborhood</th>\n",
       "      <th>Longitude</th>\n",
       "      <th>Latitude</th>\n",
       "      <th>Location 1</th>\n",
       "      <th>Premise</th>\n",
       "      <th>vri_name1</th>\n",
       "      <th>Total Incidents</th>\n",
       "    </tr>\n",
       "  </thead>\n",
       "  <tbody>\n",
       "    <tr>\n",
       "      <th>0</th>\n",
       "      <td>07/04/2020</td>\n",
       "      <td>10:26:00</td>\n",
       "      <td>4E</td>\n",
       "      <td>1100 N MOUNT ST</td>\n",
       "      <td>COMMON ASSAULT</td>\n",
       "      <td>I</td>\n",
       "      <td>NaN</td>\n",
       "      <td>724</td>\n",
       "      <td>WESTERN</td>\n",
       "      <td>SANDTOWN-WINCHESTER</td>\n",
       "      <td>-76.644567</td>\n",
       "      <td>39.301295</td>\n",
       "      <td>NaN</td>\n",
       "      <td>OTHER - INSIDE</td>\n",
       "      <td>NaN</td>\n",
       "      <td>1</td>\n",
       "    </tr>\n",
       "    <tr>\n",
       "      <th>1</th>\n",
       "      <td>07/04/2020</td>\n",
       "      <td>06:00:00</td>\n",
       "      <td>6E</td>\n",
       "      <td>2500 KEYWORTH AVE</td>\n",
       "      <td>LARCENY</td>\n",
       "      <td>O</td>\n",
       "      <td>NaN</td>\n",
       "      <td>533</td>\n",
       "      <td>NORTHERN</td>\n",
       "      <td>GREENSPRING</td>\n",
       "      <td>-76.659229</td>\n",
       "      <td>39.334650</td>\n",
       "      <td>NaN</td>\n",
       "      <td>STREET</td>\n",
       "      <td>NaN</td>\n",
       "      <td>1</td>\n",
       "    </tr>\n",
       "    <tr>\n",
       "      <th>2</th>\n",
       "      <td>07/04/2020</td>\n",
       "      <td>02:30:00</td>\n",
       "      <td>6D</td>\n",
       "      <td>3300 BRENDAN AVE</td>\n",
       "      <td>LARCENY FROM AUTO</td>\n",
       "      <td>O</td>\n",
       "      <td>NaN</td>\n",
       "      <td>432</td>\n",
       "      <td>NORTHEAST</td>\n",
       "      <td>BELAIR-EDISON</td>\n",
       "      <td>-76.567938</td>\n",
       "      <td>39.320964</td>\n",
       "      <td>NaN</td>\n",
       "      <td>STREET</td>\n",
       "      <td>Northeastern</td>\n",
       "      <td>1</td>\n",
       "    </tr>\n",
       "    <tr>\n",
       "      <th>3</th>\n",
       "      <td>07/04/2020</td>\n",
       "      <td>00:00:00</td>\n",
       "      <td>6D</td>\n",
       "      <td>RD &amp; FRANKFORD AV</td>\n",
       "      <td>LARCENY FROM AUTO</td>\n",
       "      <td>O</td>\n",
       "      <td>NaN</td>\n",
       "      <td>443</td>\n",
       "      <td>NORTHEAST</td>\n",
       "      <td>NaN</td>\n",
       "      <td>-76.540424</td>\n",
       "      <td>39.320919</td>\n",
       "      <td>NaN</td>\n",
       "      <td>STREET</td>\n",
       "      <td>NaN</td>\n",
       "      <td>1</td>\n",
       "    </tr>\n",
       "    <tr>\n",
       "      <th>4</th>\n",
       "      <td>07/04/2020</td>\n",
       "      <td>05:40:00</td>\n",
       "      <td>7A</td>\n",
       "      <td>3600 CLIPPER MILL RD</td>\n",
       "      <td>AUTO THEFT</td>\n",
       "      <td>O</td>\n",
       "      <td>NaN</td>\n",
       "      <td>531</td>\n",
       "      <td>NORTHERN</td>\n",
       "      <td>HAMPDEN</td>\n",
       "      <td>-76.641382</td>\n",
       "      <td>39.331230</td>\n",
       "      <td>NaN</td>\n",
       "      <td>DRIVEWAY</td>\n",
       "      <td>NaN</td>\n",
       "      <td>1</td>\n",
       "    </tr>\n",
       "  </tbody>\n",
       "</table>\n",
       "</div>"
      ],
      "text/plain": [
       "    CrimeDate CrimeTime CrimeCode              Location        Description  \\\n",
       "0  07/04/2020  10:26:00        4E       1100 N MOUNT ST     COMMON ASSAULT   \n",
       "1  07/04/2020  06:00:00        6E     2500 KEYWORTH AVE            LARCENY   \n",
       "2  07/04/2020  02:30:00        6D      3300 BRENDAN AVE  LARCENY FROM AUTO   \n",
       "3  07/04/2020  00:00:00        6D     RD & FRANKFORD AV  LARCENY FROM AUTO   \n",
       "4  07/04/2020  05:40:00        7A  3600 CLIPPER MILL RD         AUTO THEFT   \n",
       "\n",
       "  Inside/Outside Weapon Post   District         Neighborhood  Longitude  \\\n",
       "0              I    NaN  724    WESTERN  SANDTOWN-WINCHESTER -76.644567   \n",
       "1              O    NaN  533   NORTHERN          GREENSPRING -76.659229   \n",
       "2              O    NaN  432  NORTHEAST        BELAIR-EDISON -76.567938   \n",
       "3              O    NaN  443  NORTHEAST                  NaN -76.540424   \n",
       "4              O    NaN  531   NORTHERN              HAMPDEN -76.641382   \n",
       "\n",
       "    Latitude  Location 1         Premise     vri_name1  Total Incidents  \n",
       "0  39.301295         NaN  OTHER - INSIDE           NaN                1  \n",
       "1  39.334650         NaN          STREET           NaN                1  \n",
       "2  39.320964         NaN          STREET  Northeastern                1  \n",
       "3  39.320919         NaN          STREET           NaN                1  \n",
       "4  39.331230         NaN        DRIVEWAY           NaN                1  "
      ]
     },
     "execution_count": 3,
     "metadata": {},
     "output_type": "execute_result"
    }
   ],
   "source": [
    "baltimore.head()"
   ]
  },
  {
   "cell_type": "code",
   "execution_count": 6,
   "metadata": {},
   "outputs": [
    {
     "data": {
      "text/html": [
       "<div>\n",
       "<style scoped>\n",
       "    .dataframe tbody tr th:only-of-type {\n",
       "        vertical-align: middle;\n",
       "    }\n",
       "\n",
       "    .dataframe tbody tr th {\n",
       "        vertical-align: top;\n",
       "    }\n",
       "\n",
       "    .dataframe thead th {\n",
       "        text-align: right;\n",
       "    }\n",
       "</style>\n",
       "<table border=\"1\" class=\"dataframe\">\n",
       "  <thead>\n",
       "    <tr style=\"text-align: right;\">\n",
       "      <th></th>\n",
       "      <th>Longitude</th>\n",
       "      <th>Latitude</th>\n",
       "      <th>Location 1</th>\n",
       "      <th>Total Incidents</th>\n",
       "    </tr>\n",
       "  </thead>\n",
       "  <tbody>\n",
       "    <tr>\n",
       "      <th>count</th>\n",
       "      <td>303902.000000</td>\n",
       "      <td>303902.000000</td>\n",
       "      <td>0.0</td>\n",
       "      <td>307395.0</td>\n",
       "    </tr>\n",
       "    <tr>\n",
       "      <th>mean</th>\n",
       "      <td>-76.617477</td>\n",
       "      <td>39.306742</td>\n",
       "      <td>NaN</td>\n",
       "      <td>1.0</td>\n",
       "    </tr>\n",
       "    <tr>\n",
       "      <th>std</th>\n",
       "      <td>0.043738</td>\n",
       "      <td>0.029643</td>\n",
       "      <td>NaN</td>\n",
       "      <td>0.0</td>\n",
       "    </tr>\n",
       "    <tr>\n",
       "      <th>min</th>\n",
       "      <td>-81.529189</td>\n",
       "      <td>37.577262</td>\n",
       "      <td>NaN</td>\n",
       "      <td>1.0</td>\n",
       "    </tr>\n",
       "    <tr>\n",
       "      <th>25%</th>\n",
       "      <td>-76.649136</td>\n",
       "      <td>39.288176</td>\n",
       "      <td>NaN</td>\n",
       "      <td>1.0</td>\n",
       "    </tr>\n",
       "    <tr>\n",
       "      <th>50%</th>\n",
       "      <td>-76.614040</td>\n",
       "      <td>39.302721</td>\n",
       "      <td>NaN</td>\n",
       "      <td>1.0</td>\n",
       "    </tr>\n",
       "    <tr>\n",
       "      <th>75%</th>\n",
       "      <td>-76.586992</td>\n",
       "      <td>39.326927</td>\n",
       "      <td>NaN</td>\n",
       "      <td>1.0</td>\n",
       "    </tr>\n",
       "    <tr>\n",
       "      <th>max</th>\n",
       "      <td>-76.383228</td>\n",
       "      <td>39.661332</td>\n",
       "      <td>NaN</td>\n",
       "      <td>1.0</td>\n",
       "    </tr>\n",
       "  </tbody>\n",
       "</table>\n",
       "</div>"
      ],
      "text/plain": [
       "           Longitude       Latitude  Location 1  Total Incidents\n",
       "count  303902.000000  303902.000000         0.0         307395.0\n",
       "mean      -76.617477      39.306742         NaN              1.0\n",
       "std         0.043738       0.029643         NaN              0.0\n",
       "min       -81.529189      37.577262         NaN              1.0\n",
       "25%       -76.649136      39.288176         NaN              1.0\n",
       "50%       -76.614040      39.302721         NaN              1.0\n",
       "75%       -76.586992      39.326927         NaN              1.0\n",
       "max       -76.383228      39.661332         NaN              1.0"
      ]
     },
     "execution_count": 6,
     "metadata": {},
     "output_type": "execute_result"
    }
   ],
   "source": [
    "baltimore.describe()"
   ]
  },
  {
   "cell_type": "code",
   "execution_count": 7,
   "metadata": {},
   "outputs": [
    {
     "data": {
      "text/plain": [
       "(307395, 16)"
      ]
     },
     "execution_count": 7,
     "metadata": {},
     "output_type": "execute_result"
    }
   ],
   "source": [
    "baltimore.shape"
   ]
  },
  {
   "cell_type": "markdown",
   "metadata": {},
   "source": [
    "### Data wrangling"
   ]
  },
  {
   "cell_type": "code",
   "execution_count": 8,
   "metadata": {},
   "outputs": [],
   "source": [
    "baltimore['Weapon'].fillna('NO WEAPON', inplace = True)"
   ]
  },
  {
   "cell_type": "code",
   "execution_count": 9,
   "metadata": {},
   "outputs": [],
   "source": [
    "baltimore['CrimeDate']= pd.to_datetime(baltimore['CrimeDate'])"
   ]
  },
  {
   "cell_type": "code",
   "execution_count": 10,
   "metadata": {},
   "outputs": [],
   "source": [
    "baltimore['Day'] = baltimore['CrimeDate'].dt.day\n",
    "baltimore['Month'] = baltimore['CrimeDate'].dt.month\n",
    "baltimore['Year'] = baltimore['CrimeDate'].dt.year\n",
    "baltimore['Weekday'] = baltimore['CrimeDate'].dt.weekday + 1\n",
    "#baltimore['Hour'] = baltimore['CrimeDate'].dt.hour"
   ]
  },
  {
   "cell_type": "code",
   "execution_count": 11,
   "metadata": {},
   "outputs": [
    {
     "data": {
      "text/html": [
       "<div>\n",
       "<style scoped>\n",
       "    .dataframe tbody tr th:only-of-type {\n",
       "        vertical-align: middle;\n",
       "    }\n",
       "\n",
       "    .dataframe tbody tr th {\n",
       "        vertical-align: top;\n",
       "    }\n",
       "\n",
       "    .dataframe thead th {\n",
       "        text-align: right;\n",
       "    }\n",
       "</style>\n",
       "<table border=\"1\" class=\"dataframe\">\n",
       "  <thead>\n",
       "    <tr style=\"text-align: right;\">\n",
       "      <th></th>\n",
       "      <th>CrimeDate</th>\n",
       "      <th>CrimeTime</th>\n",
       "      <th>CrimeCode</th>\n",
       "      <th>Location</th>\n",
       "      <th>Description</th>\n",
       "      <th>Inside/Outside</th>\n",
       "      <th>Weapon</th>\n",
       "      <th>Post</th>\n",
       "      <th>District</th>\n",
       "      <th>Neighborhood</th>\n",
       "      <th>Longitude</th>\n",
       "      <th>Latitude</th>\n",
       "      <th>Location 1</th>\n",
       "      <th>Premise</th>\n",
       "      <th>vri_name1</th>\n",
       "      <th>Total Incidents</th>\n",
       "      <th>Day</th>\n",
       "      <th>Month</th>\n",
       "      <th>Year</th>\n",
       "      <th>Weekday</th>\n",
       "    </tr>\n",
       "  </thead>\n",
       "  <tbody>\n",
       "    <tr>\n",
       "      <th>0</th>\n",
       "      <td>2020-07-04</td>\n",
       "      <td>10:26:00</td>\n",
       "      <td>4E</td>\n",
       "      <td>1100 N MOUNT ST</td>\n",
       "      <td>COMMON ASSAULT</td>\n",
       "      <td>I</td>\n",
       "      <td>NO WEAPON</td>\n",
       "      <td>724</td>\n",
       "      <td>WESTERN</td>\n",
       "      <td>SANDTOWN-WINCHESTER</td>\n",
       "      <td>-76.644567</td>\n",
       "      <td>39.301295</td>\n",
       "      <td>NaN</td>\n",
       "      <td>OTHER - INSIDE</td>\n",
       "      <td>NaN</td>\n",
       "      <td>1</td>\n",
       "      <td>4</td>\n",
       "      <td>7</td>\n",
       "      <td>2020</td>\n",
       "      <td>6</td>\n",
       "    </tr>\n",
       "    <tr>\n",
       "      <th>1</th>\n",
       "      <td>2020-07-04</td>\n",
       "      <td>06:00:00</td>\n",
       "      <td>6E</td>\n",
       "      <td>2500 KEYWORTH AVE</td>\n",
       "      <td>LARCENY</td>\n",
       "      <td>O</td>\n",
       "      <td>NO WEAPON</td>\n",
       "      <td>533</td>\n",
       "      <td>NORTHERN</td>\n",
       "      <td>GREENSPRING</td>\n",
       "      <td>-76.659229</td>\n",
       "      <td>39.334650</td>\n",
       "      <td>NaN</td>\n",
       "      <td>STREET</td>\n",
       "      <td>NaN</td>\n",
       "      <td>1</td>\n",
       "      <td>4</td>\n",
       "      <td>7</td>\n",
       "      <td>2020</td>\n",
       "      <td>6</td>\n",
       "    </tr>\n",
       "    <tr>\n",
       "      <th>2</th>\n",
       "      <td>2020-07-04</td>\n",
       "      <td>02:30:00</td>\n",
       "      <td>6D</td>\n",
       "      <td>3300 BRENDAN AVE</td>\n",
       "      <td>LARCENY FROM AUTO</td>\n",
       "      <td>O</td>\n",
       "      <td>NO WEAPON</td>\n",
       "      <td>432</td>\n",
       "      <td>NORTHEAST</td>\n",
       "      <td>BELAIR-EDISON</td>\n",
       "      <td>-76.567938</td>\n",
       "      <td>39.320964</td>\n",
       "      <td>NaN</td>\n",
       "      <td>STREET</td>\n",
       "      <td>Northeastern</td>\n",
       "      <td>1</td>\n",
       "      <td>4</td>\n",
       "      <td>7</td>\n",
       "      <td>2020</td>\n",
       "      <td>6</td>\n",
       "    </tr>\n",
       "    <tr>\n",
       "      <th>3</th>\n",
       "      <td>2020-07-04</td>\n",
       "      <td>00:00:00</td>\n",
       "      <td>6D</td>\n",
       "      <td>RD &amp; FRANKFORD AV</td>\n",
       "      <td>LARCENY FROM AUTO</td>\n",
       "      <td>O</td>\n",
       "      <td>NO WEAPON</td>\n",
       "      <td>443</td>\n",
       "      <td>NORTHEAST</td>\n",
       "      <td>NaN</td>\n",
       "      <td>-76.540424</td>\n",
       "      <td>39.320919</td>\n",
       "      <td>NaN</td>\n",
       "      <td>STREET</td>\n",
       "      <td>NaN</td>\n",
       "      <td>1</td>\n",
       "      <td>4</td>\n",
       "      <td>7</td>\n",
       "      <td>2020</td>\n",
       "      <td>6</td>\n",
       "    </tr>\n",
       "    <tr>\n",
       "      <th>4</th>\n",
       "      <td>2020-07-04</td>\n",
       "      <td>05:40:00</td>\n",
       "      <td>7A</td>\n",
       "      <td>3600 CLIPPER MILL RD</td>\n",
       "      <td>AUTO THEFT</td>\n",
       "      <td>O</td>\n",
       "      <td>NO WEAPON</td>\n",
       "      <td>531</td>\n",
       "      <td>NORTHERN</td>\n",
       "      <td>HAMPDEN</td>\n",
       "      <td>-76.641382</td>\n",
       "      <td>39.331230</td>\n",
       "      <td>NaN</td>\n",
       "      <td>DRIVEWAY</td>\n",
       "      <td>NaN</td>\n",
       "      <td>1</td>\n",
       "      <td>4</td>\n",
       "      <td>7</td>\n",
       "      <td>2020</td>\n",
       "      <td>6</td>\n",
       "    </tr>\n",
       "  </tbody>\n",
       "</table>\n",
       "</div>"
      ],
      "text/plain": [
       "   CrimeDate CrimeTime CrimeCode              Location        Description  \\\n",
       "0 2020-07-04  10:26:00        4E       1100 N MOUNT ST     COMMON ASSAULT   \n",
       "1 2020-07-04  06:00:00        6E     2500 KEYWORTH AVE            LARCENY   \n",
       "2 2020-07-04  02:30:00        6D      3300 BRENDAN AVE  LARCENY FROM AUTO   \n",
       "3 2020-07-04  00:00:00        6D     RD & FRANKFORD AV  LARCENY FROM AUTO   \n",
       "4 2020-07-04  05:40:00        7A  3600 CLIPPER MILL RD         AUTO THEFT   \n",
       "\n",
       "  Inside/Outside     Weapon Post   District         Neighborhood  Longitude  \\\n",
       "0              I  NO WEAPON  724    WESTERN  SANDTOWN-WINCHESTER -76.644567   \n",
       "1              O  NO WEAPON  533   NORTHERN          GREENSPRING -76.659229   \n",
       "2              O  NO WEAPON  432  NORTHEAST        BELAIR-EDISON -76.567938   \n",
       "3              O  NO WEAPON  443  NORTHEAST                  NaN -76.540424   \n",
       "4              O  NO WEAPON  531   NORTHERN              HAMPDEN -76.641382   \n",
       "\n",
       "    Latitude  Location 1         Premise     vri_name1  Total Incidents  Day  \\\n",
       "0  39.301295         NaN  OTHER - INSIDE           NaN                1    4   \n",
       "1  39.334650         NaN          STREET           NaN                1    4   \n",
       "2  39.320964         NaN          STREET  Northeastern                1    4   \n",
       "3  39.320919         NaN          STREET           NaN                1    4   \n",
       "4  39.331230         NaN        DRIVEWAY           NaN                1    4   \n",
       "\n",
       "   Month  Year  Weekday  \n",
       "0      7  2020        6  \n",
       "1      7  2020        6  \n",
       "2      7  2020        6  \n",
       "3      7  2020        6  \n",
       "4      7  2020        6  "
      ]
     },
     "execution_count": 11,
     "metadata": {},
     "output_type": "execute_result"
    }
   ],
   "source": [
    "baltimore.head()"
   ]
  },
  {
   "cell_type": "code",
   "execution_count": 12,
   "metadata": {},
   "outputs": [],
   "source": [
    "baltimore = baltimore.set_index('CrimeDate')"
   ]
  },
  {
   "cell_type": "markdown",
   "metadata": {},
   "source": [
    "#### Get Yearly Trend and Visualize it"
   ]
  },
  {
   "cell_type": "code",
   "execution_count": 13,
   "metadata": {},
   "outputs": [
    {
     "data": {
      "text/html": [
       "<div>\n",
       "<style scoped>\n",
       "    .dataframe tbody tr th:only-of-type {\n",
       "        vertical-align: middle;\n",
       "    }\n",
       "\n",
       "    .dataframe tbody tr th {\n",
       "        vertical-align: top;\n",
       "    }\n",
       "\n",
       "    .dataframe thead th {\n",
       "        text-align: right;\n",
       "    }\n",
       "</style>\n",
       "<table border=\"1\" class=\"dataframe\">\n",
       "  <thead>\n",
       "    <tr style=\"text-align: right;\">\n",
       "      <th></th>\n",
       "      <th>year</th>\n",
       "      <th>crimes</th>\n",
       "    </tr>\n",
       "  </thead>\n",
       "  <tbody>\n",
       "    <tr>\n",
       "      <th>0</th>\n",
       "      <td>2017</td>\n",
       "      <td>52174</td>\n",
       "    </tr>\n",
       "    <tr>\n",
       "      <th>1</th>\n",
       "      <td>2016</td>\n",
       "      <td>48782</td>\n",
       "    </tr>\n",
       "    <tr>\n",
       "      <th>2</th>\n",
       "      <td>2018</td>\n",
       "      <td>48468</td>\n",
       "    </tr>\n",
       "    <tr>\n",
       "      <th>3</th>\n",
       "      <td>2015</td>\n",
       "      <td>48192</td>\n",
       "    </tr>\n",
       "    <tr>\n",
       "      <th>4</th>\n",
       "      <td>2019</td>\n",
       "      <td>46312</td>\n",
       "    </tr>\n",
       "    <tr>\n",
       "      <th>5</th>\n",
       "      <td>2014</td>\n",
       "      <td>45309</td>\n",
       "    </tr>\n",
       "    <tr>\n",
       "      <th>6</th>\n",
       "      <td>2020</td>\n",
       "      <td>18071</td>\n",
       "    </tr>\n",
       "  </tbody>\n",
       "</table>\n",
       "</div>"
      ],
      "text/plain": [
       "   year  crimes\n",
       "0  2017   52174\n",
       "1  2016   48782\n",
       "2  2018   48468\n",
       "3  2015   48192\n",
       "4  2019   46312\n",
       "5  2014   45309\n",
       "6  2020   18071"
      ]
     },
     "execution_count": 13,
     "metadata": {},
     "output_type": "execute_result"
    }
   ],
   "source": [
    "crime_per_year= baltimore['Year'].value_counts().to_frame('crimes').reset_index()\n",
    "yearly_crime= crime_per_year.rename(columns ={'index': 'year'})\n",
    "yearly_crime = yearly_crime[yearly_crime['year'] > 2013].reset_index(drop=True)\n",
    "yearly_crime.head(10)"
   ]
  },
  {
   "cell_type": "code",
   "execution_count": 15,
   "metadata": {},
   "outputs": [
    {
     "data": {
      "text/plain": [
       "[]"
      ]
     },
     "execution_count": 15,
     "metadata": {},
     "output_type": "execute_result"
    },
    {
     "data": {
      "image/png": "[encoded data removed]",
      "text/plain": [
       "<Figure size 432x504 with 1 Axes>"
      ]
     },
     "metadata": {
      "needs_background": "light"
     },
     "output_type": "display_data"
    }
   ],
   "source": [
    "plt.figure(figsize=(6,7))\n",
    "\n",
    "plt.title(' Crime By Year', fontsize=13)\n",
    "ax = sns.barplot(x='year', y= 'crimes', data = yearly_crime)\n",
    "plt.ylabel(\"Crime Rate\", fontsize=13)\n",
    "plt.xlabel('Year', fontsize=13)\n",
    "plt.plot()"
   ]
  },
  {
   "cell_type": "markdown",
   "metadata": {},
   "source": [
    "#### Common crimes in Baltimore"
   ]
  },
  {
   "cell_type": "code",
   "execution_count": 18,
   "metadata": {},
   "outputs": [
    {
     "data": {
      "text/html": [
       "<div>\n",
       "<style scoped>\n",
       "    .dataframe tbody tr th:only-of-type {\n",
       "        vertical-align: middle;\n",
       "    }\n",
       "\n",
       "    .dataframe tbody tr th {\n",
       "        vertical-align: top;\n",
       "    }\n",
       "\n",
       "    .dataframe thead th {\n",
       "        text-align: right;\n",
       "    }\n",
       "</style>\n",
       "<table border=\"1\" class=\"dataframe\">\n",
       "  <thead>\n",
       "    <tr style=\"text-align: right;\">\n",
       "      <th></th>\n",
       "      <th>crime</th>\n",
       "      <th>rate</th>\n",
       "    </tr>\n",
       "  </thead>\n",
       "  <tbody>\n",
       "    <tr>\n",
       "      <th>0</th>\n",
       "      <td>LARCENY</td>\n",
       "      <td>68577</td>\n",
       "    </tr>\n",
       "    <tr>\n",
       "      <th>1</th>\n",
       "      <td>COMMON ASSAULT</td>\n",
       "      <td>51096</td>\n",
       "    </tr>\n",
       "    <tr>\n",
       "      <th>2</th>\n",
       "      <td>BURGLARY</td>\n",
       "      <td>43921</td>\n",
       "    </tr>\n",
       "    <tr>\n",
       "      <th>3</th>\n",
       "      <td>LARCENY FROM AUTO</td>\n",
       "      <td>40468</td>\n",
       "    </tr>\n",
       "    <tr>\n",
       "      <th>4</th>\n",
       "      <td>AGG. ASSAULT</td>\n",
       "      <td>33830</td>\n",
       "    </tr>\n",
       "    <tr>\n",
       "      <th>5</th>\n",
       "      <td>AUTO THEFT</td>\n",
       "      <td>26994</td>\n",
       "    </tr>\n",
       "    <tr>\n",
       "      <th>6</th>\n",
       "      <td>ROBBERY - STREET</td>\n",
       "      <td>21650</td>\n",
       "    </tr>\n",
       "    <tr>\n",
       "      <th>7</th>\n",
       "      <td>ROBBERY - COMMERCIAL</td>\n",
       "      <td>5427</td>\n",
       "    </tr>\n",
       "    <tr>\n",
       "      <th>8</th>\n",
       "      <td>SHOOTING</td>\n",
       "      <td>4133</td>\n",
       "    </tr>\n",
       "    <tr>\n",
       "      <th>9</th>\n",
       "      <td>ROBBERY - RESIDENCE</td>\n",
       "      <td>3212</td>\n",
       "    </tr>\n",
       "  </tbody>\n",
       "</table>\n",
       "</div>"
      ],
      "text/plain": [
       "                  crime   rate\n",
       "0               LARCENY  68577\n",
       "1        COMMON ASSAULT  51096\n",
       "2              BURGLARY  43921\n",
       "3     LARCENY FROM AUTO  40468\n",
       "4          AGG. ASSAULT  33830\n",
       "5            AUTO THEFT  26994\n",
       "6      ROBBERY - STREET  21650\n",
       "7  ROBBERY - COMMERCIAL   5427\n",
       "8              SHOOTING   4133\n",
       "9   ROBBERY - RESIDENCE   3212"
      ]
     },
     "execution_count": 18,
     "metadata": {},
     "output_type": "execute_result"
    }
   ],
   "source": [
    "common_crimes= baltimore['Description'].value_counts().to_frame('rate').reset_index()\n",
    "common_crimes= common_crimes.rename(columns ={'index': 'crime'})\n",
    "common_crimes=common_crimes.iloc[0:10]\n",
    "common_crimes"
   ]
  },
  {
   "cell_type": "code",
   "execution_count": 21,
   "metadata": {},
   "outputs": [
    {
     "data": {
      "text/plain": [
       "[]"
      ]
     },
     "execution_count": 21,
     "metadata": {},
     "output_type": "execute_result"
    },
    {
     "data": {
      "image/png": "[encoded data removed]",
      "text/plain": [
       "<Figure size 1008x432 with 1 Axes>"
      ]
     },
     "metadata": {
      "needs_background": "light"
     },
     "output_type": "display_data"
    }
   ],
   "source": [
    "plt.figure(figsize=(14,6))\n",
    "plt.title(' Most Common Crimes in Baltimore', fontsize=13)\n",
    "\n",
    "ax = sns.barplot(x='crime', y= 'rate', data = common_crimes)\n",
    "plt.ylabel(\"Crime Rate\", fontsize=13)\n",
    "plt.xlabel('Crime Type', fontsize=13)\n",
    "plt.xticks(rotation=45)\n",
    "plt.plot()"
   ]
  },
  {
   "cell_type": "markdown",
   "metadata": {},
   "source": [
    "#### Crimes per region"
   ]
  },
  {
   "cell_type": "code",
   "execution_count": 22,
   "metadata": {},
   "outputs": [
    {
     "data": {
      "text/html": [
       "<div>\n",
       "<style scoped>\n",
       "    .dataframe tbody tr th:only-of-type {\n",
       "        vertical-align: middle;\n",
       "    }\n",
       "\n",
       "    .dataframe tbody tr th {\n",
       "        vertical-align: top;\n",
       "    }\n",
       "\n",
       "    .dataframe thead th {\n",
       "        text-align: right;\n",
       "    }\n",
       "</style>\n",
       "<table border=\"1\" class=\"dataframe\">\n",
       "  <thead>\n",
       "    <tr style=\"text-align: right;\">\n",
       "      <th></th>\n",
       "      <th>region</th>\n",
       "      <th>rate</th>\n",
       "    </tr>\n",
       "  </thead>\n",
       "  <tbody>\n",
       "    <tr>\n",
       "      <th>0</th>\n",
       "      <td>NORTHEAST</td>\n",
       "      <td>45940</td>\n",
       "    </tr>\n",
       "    <tr>\n",
       "      <th>1</th>\n",
       "      <td>SOUTHEAST</td>\n",
       "      <td>43380</td>\n",
       "    </tr>\n",
       "    <tr>\n",
       "      <th>2</th>\n",
       "      <td>CENTRAL</td>\n",
       "      <td>35462</td>\n",
       "    </tr>\n",
       "    <tr>\n",
       "      <th>3</th>\n",
       "      <td>SOUTHERN</td>\n",
       "      <td>34526</td>\n",
       "    </tr>\n",
       "    <tr>\n",
       "      <th>4</th>\n",
       "      <td>NORTHERN</td>\n",
       "      <td>33949</td>\n",
       "    </tr>\n",
       "    <tr>\n",
       "      <th>5</th>\n",
       "      <td>SOUTHWEST</td>\n",
       "      <td>31843</td>\n",
       "    </tr>\n",
       "    <tr>\n",
       "      <th>6</th>\n",
       "      <td>NORTHWEST</td>\n",
       "      <td>30348</td>\n",
       "    </tr>\n",
       "    <tr>\n",
       "      <th>7</th>\n",
       "      <td>EASTERN</td>\n",
       "      <td>26783</td>\n",
       "    </tr>\n",
       "    <tr>\n",
       "      <th>8</th>\n",
       "      <td>WESTERN</td>\n",
       "      <td>24545</td>\n",
       "    </tr>\n",
       "  </tbody>\n",
       "</table>\n",
       "</div>"
      ],
      "text/plain": [
       "      region   rate\n",
       "0  NORTHEAST  45940\n",
       "1  SOUTHEAST  43380\n",
       "2    CENTRAL  35462\n",
       "3   SOUTHERN  34526\n",
       "4   NORTHERN  33949\n",
       "5  SOUTHWEST  31843\n",
       "6  NORTHWEST  30348\n",
       "7    EASTERN  26783\n",
       "8    WESTERN  24545"
      ]
     },
     "execution_count": 22,
     "metadata": {},
     "output_type": "execute_result"
    }
   ],
   "source": [
    "region_crimes= baltimore['District'].value_counts().to_frame('rate').reset_index()\n",
    "region_crimes= region_crimes.rename(columns ={'index': 'region'})\n",
    "region_crimes = region_crimes[region_crimes['region']!= 'UNKNOWN'].reset_index(drop=True)\n",
    "region_crimes"
   ]
  },
  {
   "cell_type": "code",
   "execution_count": 26,
   "metadata": {
    "scrolled": true
   },
   "outputs": [
    {
     "data": {
      "text/plain": [
       "[]"
      ]
     },
     "execution_count": 26,
     "metadata": {},
     "output_type": "execute_result"
    },
    {
     "data": {
      "image/png": "[encoded data removed]",
      "text/plain": [
       "<Figure size 1008x432 with 1 Axes>"
      ]
     },
     "metadata": {
      "needs_background": "light"
     },
     "output_type": "display_data"
    }
   ],
   "source": [
    "plt.figure(figsize=(14,6))\n",
    "plt.title(' Crime Infestation Per District in Baltimore', fontsize=13)\n",
    "ax = sns.barplot(x='region', y= 'rate', data = region_crimes)\n",
    "plt.ylabel(\"Infestation\", fontsize=13)\n",
    "plt.xlabel('Districts', fontsize=13)\n",
    "plt.xticks(rotation=45)\n",
    "plt.plot()"
   ]
  },
  {
   "cell_type": "markdown",
   "metadata": {},
   "source": [
    "#### cluster the regions"
   ]
  },
  {
   "cell_type": "code",
   "execution_count": 27,
   "metadata": {},
   "outputs": [
    {
     "data": {
      "text/html": [
       "<div>\n",
       "<style scoped>\n",
       "    .dataframe tbody tr th:only-of-type {\n",
       "        vertical-align: middle;\n",
       "    }\n",
       "\n",
       "    .dataframe tbody tr th {\n",
       "        vertical-align: top;\n",
       "    }\n",
       "\n",
       "    .dataframe thead th {\n",
       "        text-align: right;\n",
       "    }\n",
       "</style>\n",
       "<table border=\"1\" class=\"dataframe\">\n",
       "  <thead>\n",
       "    <tr style=\"text-align: right;\">\n",
       "      <th></th>\n",
       "      <th>rate</th>\n",
       "    </tr>\n",
       "  </thead>\n",
       "  <tbody>\n",
       "    <tr>\n",
       "      <th>0</th>\n",
       "      <td>45940</td>\n",
       "    </tr>\n",
       "    <tr>\n",
       "      <th>1</th>\n",
       "      <td>43380</td>\n",
       "    </tr>\n",
       "    <tr>\n",
       "      <th>2</th>\n",
       "      <td>35462</td>\n",
       "    </tr>\n",
       "    <tr>\n",
       "      <th>3</th>\n",
       "      <td>34526</td>\n",
       "    </tr>\n",
       "    <tr>\n",
       "      <th>4</th>\n",
       "      <td>33949</td>\n",
       "    </tr>\n",
       "    <tr>\n",
       "      <th>5</th>\n",
       "      <td>31843</td>\n",
       "    </tr>\n",
       "    <tr>\n",
       "      <th>6</th>\n",
       "      <td>30348</td>\n",
       "    </tr>\n",
       "    <tr>\n",
       "      <th>7</th>\n",
       "      <td>26783</td>\n",
       "    </tr>\n",
       "    <tr>\n",
       "      <th>8</th>\n",
       "      <td>24545</td>\n",
       "    </tr>\n",
       "  </tbody>\n",
       "</table>\n",
       "</div>"
      ],
      "text/plain": [
       "    rate\n",
       "0  45940\n",
       "1  43380\n",
       "2  35462\n",
       "3  34526\n",
       "4  33949\n",
       "5  31843\n",
       "6  30348\n",
       "7  26783\n",
       "8  24545"
      ]
     },
     "execution_count": 27,
     "metadata": {},
     "output_type": "execute_result"
    }
   ],
   "source": [
    "region_crimes_clustering = region_crimes.drop('region', 1)\n",
    "region_crimes_clustering"
   ]
  },
  {
   "cell_type": "code",
   "execution_count": 28,
   "metadata": {},
   "outputs": [
    {
     "data": {
      "text/plain": [
       "array([1, 1, 0, 0, 0, 0, 0, 2, 2])"
      ]
     },
     "execution_count": 28,
     "metadata": {},
     "output_type": "execute_result"
    }
   ],
   "source": [
    "# set number of clusters\n",
    "kclusters = 3\n",
    "\n",
    "region_crimes_clustering = region_crimes.drop('region', 1)\n",
    "\n",
    "# run k-means clustering\n",
    "kmeans = KMeans(n_clusters=kclusters, random_state=0)\n",
    "kmeans.fit(region_crimes_clustering)\n",
    "\n",
    "# check cluster labels generated for each row in the dataframe\n",
    "kmeans.labels_[0:10] "
   ]
  },
  {
   "cell_type": "code",
   "execution_count": 29,
   "metadata": {},
   "outputs": [
    {
     "data": {
      "text/html": [
       "<div>\n",
       "<style scoped>\n",
       "    .dataframe tbody tr th:only-of-type {\n",
       "        vertical-align: middle;\n",
       "    }\n",
       "\n",
       "    .dataframe tbody tr th {\n",
       "        vertical-align: top;\n",
       "    }\n",
       "\n",
       "    .dataframe thead th {\n",
       "        text-align: right;\n",
       "    }\n",
       "</style>\n",
       "<table border=\"1\" class=\"dataframe\">\n",
       "  <thead>\n",
       "    <tr style=\"text-align: right;\">\n",
       "      <th></th>\n",
       "      <th>region</th>\n",
       "      <th>rate</th>\n",
       "      <th>cluster</th>\n",
       "    </tr>\n",
       "  </thead>\n",
       "  <tbody>\n",
       "    <tr>\n",
       "      <th>0</th>\n",
       "      <td>NORTHEAST</td>\n",
       "      <td>45940</td>\n",
       "      <td>1</td>\n",
       "    </tr>\n",
       "    <tr>\n",
       "      <th>1</th>\n",
       "      <td>SOUTHEAST</td>\n",
       "      <td>43380</td>\n",
       "      <td>1</td>\n",
       "    </tr>\n",
       "    <tr>\n",
       "      <th>2</th>\n",
       "      <td>CENTRAL</td>\n",
       "      <td>35462</td>\n",
       "      <td>0</td>\n",
       "    </tr>\n",
       "    <tr>\n",
       "      <th>3</th>\n",
       "      <td>SOUTHERN</td>\n",
       "      <td>34526</td>\n",
       "      <td>0</td>\n",
       "    </tr>\n",
       "    <tr>\n",
       "      <th>4</th>\n",
       "      <td>NORTHERN</td>\n",
       "      <td>33949</td>\n",
       "      <td>0</td>\n",
       "    </tr>\n",
       "    <tr>\n",
       "      <th>5</th>\n",
       "      <td>SOUTHWEST</td>\n",
       "      <td>31843</td>\n",
       "      <td>0</td>\n",
       "    </tr>\n",
       "    <tr>\n",
       "      <th>6</th>\n",
       "      <td>NORTHWEST</td>\n",
       "      <td>30348</td>\n",
       "      <td>0</td>\n",
       "    </tr>\n",
       "    <tr>\n",
       "      <th>7</th>\n",
       "      <td>EASTERN</td>\n",
       "      <td>26783</td>\n",
       "      <td>2</td>\n",
       "    </tr>\n",
       "    <tr>\n",
       "      <th>8</th>\n",
       "      <td>WESTERN</td>\n",
       "      <td>24545</td>\n",
       "      <td>2</td>\n",
       "    </tr>\n",
       "  </tbody>\n",
       "</table>\n",
       "</div>"
      ],
      "text/plain": [
       "      region   rate  cluster\n",
       "0  NORTHEAST  45940        1\n",
       "1  SOUTHEAST  43380        1\n",
       "2    CENTRAL  35462        0\n",
       "3   SOUTHERN  34526        0\n",
       "4   NORTHERN  33949        0\n",
       "5  SOUTHWEST  31843        0\n",
       "6  NORTHWEST  30348        0\n",
       "7    EASTERN  26783        2\n",
       "8    WESTERN  24545        2"
      ]
     },
     "execution_count": 29,
     "metadata": {},
     "output_type": "execute_result"
    }
   ],
   "source": [
    "region_crimes_clustered= region_crimes.assign(cluster=kmeans.labels_)\n",
    "region_crimes_clustered"
   ]
  },
  {
   "cell_type": "code",
   "execution_count": 30,
   "metadata": {},
   "outputs": [
    {
     "data": {
      "text/html": [
       "<div>\n",
       "<style scoped>\n",
       "    .dataframe tbody tr th:only-of-type {\n",
       "        vertical-align: middle;\n",
       "    }\n",
       "\n",
       "    .dataframe tbody tr th {\n",
       "        vertical-align: top;\n",
       "    }\n",
       "\n",
       "    .dataframe thead th {\n",
       "        text-align: right;\n",
       "    }\n",
       "</style>\n",
       "<table border=\"1\" class=\"dataframe\">\n",
       "  <thead>\n",
       "    <tr style=\"text-align: right;\">\n",
       "      <th></th>\n",
       "      <th>region</th>\n",
       "      <th>Longitude</th>\n",
       "      <th>Latitude</th>\n",
       "    </tr>\n",
       "  </thead>\n",
       "  <tbody>\n",
       "    <tr>\n",
       "      <th>0</th>\n",
       "      <td>WESTERN</td>\n",
       "      <td>-76.644567</td>\n",
       "      <td>39.301295</td>\n",
       "    </tr>\n",
       "    <tr>\n",
       "      <th>1</th>\n",
       "      <td>NORTHERN</td>\n",
       "      <td>-76.659229</td>\n",
       "      <td>39.334650</td>\n",
       "    </tr>\n",
       "    <tr>\n",
       "      <th>2</th>\n",
       "      <td>NORTHEAST</td>\n",
       "      <td>-76.567938</td>\n",
       "      <td>39.320964</td>\n",
       "    </tr>\n",
       "    <tr>\n",
       "      <th>3</th>\n",
       "      <td>NORTHEAST</td>\n",
       "      <td>-76.540424</td>\n",
       "      <td>39.320919</td>\n",
       "    </tr>\n",
       "    <tr>\n",
       "      <th>4</th>\n",
       "      <td>NORTHERN</td>\n",
       "      <td>-76.641382</td>\n",
       "      <td>39.331230</td>\n",
       "    </tr>\n",
       "  </tbody>\n",
       "</table>\n",
       "</div>"
      ],
      "text/plain": [
       "      region  Longitude   Latitude\n",
       "0    WESTERN -76.644567  39.301295\n",
       "1   NORTHERN -76.659229  39.334650\n",
       "2  NORTHEAST -76.567938  39.320964\n",
       "3  NORTHEAST -76.540424  39.320919\n",
       "4   NORTHERN -76.641382  39.331230"
      ]
     },
     "execution_count": 30,
     "metadata": {},
     "output_type": "execute_result"
    }
   ],
   "source": [
    "baltimore_mapped= baltimore[['District', 'Longitude', 'Latitude']]\n",
    "b_mapped=baltimore_mapped.rename(columns={'District': 'region'})\n",
    "b_mapped=b_mapped.reset_index()\n",
    "b_mapped= b_mapped.drop('CrimeDate', 1)\n",
    "#b_mapped= b_mapped.set_index('region')\n",
    "b_mapped.head()"
   ]
  },
  {
   "cell_type": "code",
   "execution_count": 58,
   "metadata": {},
   "outputs": [
    {
     "data": {
      "text/html": [
       "<div>\n",
       "<style scoped>\n",
       "    .dataframe tbody tr th:only-of-type {\n",
       "        vertical-align: middle;\n",
       "    }\n",
       "\n",
       "    .dataframe tbody tr th {\n",
       "        vertical-align: top;\n",
       "    }\n",
       "\n",
       "    .dataframe thead th {\n",
       "        text-align: right;\n",
       "    }\n",
       "</style>\n",
       "<table border=\"1\" class=\"dataframe\">\n",
       "  <thead>\n",
       "    <tr style=\"text-align: right;\">\n",
       "      <th></th>\n",
       "      <th>region</th>\n",
       "      <th>rate</th>\n",
       "      <th>cluster</th>\n",
       "      <th>Longitude</th>\n",
       "      <th>Latitude</th>\n",
       "    </tr>\n",
       "  </thead>\n",
       "  <tbody>\n",
       "    <tr>\n",
       "      <th>0</th>\n",
       "      <td>NORTHEAST</td>\n",
       "      <td>45940</td>\n",
       "      <td>1</td>\n",
       "      <td>-76.567938</td>\n",
       "      <td>39.320964</td>\n",
       "    </tr>\n",
       "    <tr>\n",
       "      <th>1</th>\n",
       "      <td>SOUTHEAST</td>\n",
       "      <td>43380</td>\n",
       "      <td>1</td>\n",
       "      <td>-76.544564</td>\n",
       "      <td>39.287601</td>\n",
       "    </tr>\n",
       "    <tr>\n",
       "      <th>2</th>\n",
       "      <td>CENTRAL</td>\n",
       "      <td>35462</td>\n",
       "      <td>0</td>\n",
       "      <td>-76.613466</td>\n",
       "      <td>39.285077</td>\n",
       "    </tr>\n",
       "    <tr>\n",
       "      <th>3</th>\n",
       "      <td>SOUTHERN</td>\n",
       "      <td>34526</td>\n",
       "      <td>0</td>\n",
       "      <td>-76.614368</td>\n",
       "      <td>39.276819</td>\n",
       "    </tr>\n",
       "    <tr>\n",
       "      <th>4</th>\n",
       "      <td>NORTHERN</td>\n",
       "      <td>33949</td>\n",
       "      <td>0</td>\n",
       "      <td>-76.659229</td>\n",
       "      <td>39.334650</td>\n",
       "    </tr>\n",
       "    <tr>\n",
       "      <th>5</th>\n",
       "      <td>SOUTHWEST</td>\n",
       "      <td>31843</td>\n",
       "      <td>0</td>\n",
       "      <td>-76.677057</td>\n",
       "      <td>39.266628</td>\n",
       "    </tr>\n",
       "    <tr>\n",
       "      <th>6</th>\n",
       "      <td>NORTHWEST</td>\n",
       "      <td>30348</td>\n",
       "      <td>0</td>\n",
       "      <td>-76.658445</td>\n",
       "      <td>39.331355</td>\n",
       "    </tr>\n",
       "    <tr>\n",
       "      <th>7</th>\n",
       "      <td>EASTERN</td>\n",
       "      <td>26783</td>\n",
       "      <td>2</td>\n",
       "      <td>-76.578083</td>\n",
       "      <td>39.300148</td>\n",
       "    </tr>\n",
       "    <tr>\n",
       "      <th>8</th>\n",
       "      <td>WESTERN</td>\n",
       "      <td>24545</td>\n",
       "      <td>2</td>\n",
       "      <td>-76.644567</td>\n",
       "      <td>39.301295</td>\n",
       "    </tr>\n",
       "  </tbody>\n",
       "</table>\n",
       "</div>"
      ],
      "text/plain": [
       "      region   rate  cluster  Longitude   Latitude\n",
       "0  NORTHEAST  45940        1 -76.567938  39.320964\n",
       "1  SOUTHEAST  43380        1 -76.544564  39.287601\n",
       "2    CENTRAL  35462        0 -76.613466  39.285077\n",
       "3   SOUTHERN  34526        0 -76.614368  39.276819\n",
       "4   NORTHERN  33949        0 -76.659229  39.334650\n",
       "5  SOUTHWEST  31843        0 -76.677057  39.266628\n",
       "6  NORTHWEST  30348        0 -76.658445  39.331355\n",
       "7    EASTERN  26783        2 -76.578083  39.300148\n",
       "8    WESTERN  24545        2 -76.644567  39.301295"
      ]
     },
     "execution_count": 58,
     "metadata": {},
     "output_type": "execute_result"
    }
   ],
   "source": [
    "baltimore_folium= pd.merge(region_crimes_clustered, b_mapped.drop_duplicates('region'), on='region', how='inner' )\n",
    "baltimore_folium.head(10)"
   ]
  },
  {
   "cell_type": "markdown",
   "metadata": {},
   "source": [
    "#### Get districts Json data"
   ]
  },
  {
   "cell_type": "code",
   "execution_count": 55,
   "metadata": {},
   "outputs": [],
   "source": [
    "ur = 'C:/Users/ali/Baltimore/BPD_Districts.geojson'\n",
    "bj= pygeoj.load(filepath=ur)"
   ]
  },
  {
   "cell_type": "code",
   "execution_count": 56,
   "metadata": {},
   "outputs": [
    {
     "data": {
      "text/plain": [
       "<pygeoj.GeojsonFile at 0xd4daa83d08>"
      ]
     },
     "execution_count": 56,
     "metadata": {},
     "output_type": "execute_result"
    }
   ],
   "source": [
    "baltimore_geo = bj # geojson file\n",
    "baltimore_geo"
   ]
  },
  {
   "cell_type": "markdown",
   "metadata": {},
   "source": [
    "#### Map the Districts"
   ]
  },
  {
   "cell_type": "code",
   "execution_count": 57,
   "metadata": {},
   "outputs": [
    {
     "data": {
      "text/html": [
       "<div style=\"width:100%;\"><div style=\"position:relative;width:100%;height:0;padding-bottom:60%;\"><span style=\"color:#565656\">Make this Notebook Trusted to load map: File -> Trust Notebook</span><iframe src=\"about:blank\" style=\"position:absolute;width:100%;height:100%;left:0;top:0;border:none !important;\" data-html=PCFET0NUWVBFIGh0bWw+CjxoZWFkPiAgICAKICAgIDxtZXRhIGh0dHAtZXF1aXY9ImNvbnRlbnQtdHlwZSIgY29udGVudD0idGV4dC9odG1sOyBjaGFyc2V0PVVURi04IiAvPgogICAgCiAgICAgICAgPHNjcmlwdD4KICAgICAgICAgICAgTF9OT19UT1VDSCA9IGZhbHNlOwogICAgICAgICAgICBMX0RJU0FCTEVfM0QgPSBmYWxzZTsKICAgICAgICA8L3NjcmlwdD4KICAgIAogICAgPHNjcmlwdCBzcmM9Imh0dHBzOi8vY2RuLmpzZGVsaXZyLm5ldC9ucG0vbGVhZmxldEAxLjYuMC9kaXN0L2xlYWZsZXQuanMiPjwvc2NyaXB0PgogICAgPHNjcmlwdCBzcmM9Imh0dHBzOi8vY29kZS5qcXVlcnkuY29tL2pxdWVyeS0xLjEyLjQubWluLmpzIj48L3NjcmlwdD4KICAgIDxzY3JpcHQgc3JjPSJodHRwczovL21heGNkbi5ib290c3RyYXBjZG4uY29tL2Jvb3RzdHJhcC8zLjIuMC9qcy9ib290c3RyYXAubWluLmpzIj48L3NjcmlwdD4KICAgIDxzY3JpcHQgc3JjPSJodHRwczovL2NkbmpzLmNsb3VkZmxhcmUuY29tL2FqYXgvbGlicy9MZWFmbGV0LmF3ZXNvbWUtbWFya2Vycy8yLjAuMi9sZWFmbGV0LmF3ZXNvbWUtbWFya2Vycy5qcyI+PC9zY3JpcHQ+CiAgICA8bGluayByZWw9InN0eWxlc2hlZXQiIGhyZWY9Imh0dHBzOi8vY2RuLmpzZGVsaXZyLm5ldC9ucG0vbGVhZmxldEAxLjYuMC9kaXN0L2xlYWZsZXQuY3NzIi8+CiAgICA8bGluayByZWw9InN0eWxlc2hlZXQiIGhyZWY9Imh0dHBzOi8vbWF4Y2RuLmJvb3RzdHJhcGNkbi5jb20vYm9vdHN0cmFwLzMuMi4wL2Nzcy9ib290c3RyYXAubWluLmNzcyIvPgogICAgPGxpbmsgcmVsPSJzdHlsZXNoZWV0IiBocmVmPSJodHRwczovL21heGNkbi5ib290c3RyYXBjZG4uY29tL2Jvb3RzdHJhcC8zLjIuMC9jc3MvYm9vdHN0cmFwLXRoZW1lLm1pbi5jc3MiLz4KICAgIDxsaW5rIHJlbD0ic3R5bGVzaGVldCIgaHJlZj0iaHR0cHM6Ly9tYXhjZG4uYm9vdHN0cmFwY2RuLmNvbS9mb250LWF3ZXNvbWUvNC42LjMvY3NzL2ZvbnQtYXdlc29tZS5taW4uY3NzIi8+CiAgICA8bGluayByZWw9InN0eWxlc2hlZXQiIGhyZWY9Imh0dHBzOi8vY2RuanMuY2xvdWRmbGFyZS5jb20vYWpheC9saWJzL0xlYWZsZXQuYXdlc29tZS1tYXJrZXJzLzIuMC4yL2xlYWZsZXQuYXdlc29tZS1tYXJrZXJzLmNzcyIvPgogICAgPGxpbmsgcmVsPSJzdHlsZXNoZWV0IiBocmVmPSJodHRwczovL3Jhd2Nkbi5naXRoYWNrLmNvbS9weXRob24tdmlzdWFsaXphdGlvbi9mb2xpdW0vbWFzdGVyL2ZvbGl1bS90ZW1wbGF0ZXMvbGVhZmxldC5hd2Vzb21lLnJvdGF0ZS5jc3MiLz4KICAgIDxzdHlsZT5odG1sLCBib2R5IHt3aWR0aDogMTAwJTtoZWlnaHQ6IDEwMCU7bWFyZ2luOiAwO3BhZGRpbmc6IDA7fTwvc3R5bGU+CiAgICA8c3R5bGU+I21hcCB7cG9zaXRpb246YWJzb2x1dGU7dG9wOjA7Ym90dG9tOjA7cmlnaHQ6MDtsZWZ0OjA7fTwvc3R5bGU+CiAgICAKICAgICAgICAgICAgPG1ldGEgbmFtZT0idmlld3BvcnQiIGNvbnRlbnQ9IndpZHRoPWRldmljZS13aWR0aCwKICAgICAgICAgICAgICAgIGluaXRpYWwtc2NhbGU9MS4wLCBtYXhpbXVtLXNjYWxlPTEuMCwgdXNlci1zY2FsYWJsZT1ubyIgLz4KICAgICAgICAgICAgPHN0eWxlPgogICAgICAgICAgICAgICAgI21hcF9lMTQ1Y2ViNzI2Zjk0NjE4OWFhOTI4ZDFkZDZlYmYxZCB7CiAgICAgICAgICAgICAgICAgICAgcG9zaXRpb246IHJlbGF0aXZlOwogICAgICAgICAgICAgICAgICAgIHdpZHRoOiAxMDAuMCU7CiAgICAgICAgICAgICAgICAgICAgaGVpZ2h0OiAxMDAuMCU7CiAgICAgICAgICAgICAgICAgICAgbGVmdDogMC4wJTsKICAgICAgICAgICAgICAgICAgICB0b3A6IDAuMCU7CiAgICAgICAgICAgICAgICB9CiAgICAgICAgICAgIDwvc3R5bGU+CiAgICAgICAgCjwvaGVhZD4KPGJvZHk+ICAgIAogICAgCiAgICAgICAgICAgIDxkaXYgY2xhc3M9ImZvbGl1bS1tYXAiIGlkPSJtYXBfZTE0NWNlYjcyNmY5NDYxODlhYTkyOGQxZGQ2ZWJmMWQiID48L2Rpdj4KICAgICAgICAKPC9ib2R5Pgo8c2NyaXB0PiAgICAKICAgIAogICAgICAgICAgICB2YXIgbWFwX2UxNDVjZWI3MjZmOTQ2MTg5YWE5MjhkMWRkNmViZjFkID0gTC5tYXAoCiAgICAgICAgICAgICAgICAibWFwX2UxNDVjZWI3MjZmOTQ2MTg5YWE5MjhkMWRkNmViZjFkIiwKICAgICAgICAgICAgICAgIHsKICAgICAgICAgICAgICAgICAgICBjZW50ZXI6IFszOS4yOTkyMzYsIC03Ni42MDkzODNdLAogICAgICAgICAgICAgICAgICAgIGNyczogTC5DUlMuRVBTRzM4NTcsCiAgICAgICAgICAgICAgICAgICAgem9vbTogMTEsCiAgICAgICAgICAgICAgICAgICAgem9vbUNvbnRyb2w6IHRydWUsCiAgICAgICAgICAgICAgICAgICAgcHJlZmVyQ2FudmFzOiBmYWxzZSwKICAgICAgICAgICAgICAgIH0KICAgICAgICAgICAgKTsKCiAgICAgICAgICAgIAoKICAgICAgICAKICAgIAogICAgICAgICAgICB2YXIgdGlsZV9sYXllcl8wMjMwYWYxNDY5MzE0ODNhYmNmNjVkYTc4OWM4MjZkNiA9IEwudGlsZUxheWVyKAogICAgICAgICAgICAgICAgImh0dHBzOi8ve3N9LnRpbGUub3BlbnN0cmVldG1hcC5vcmcve3p9L3t4fS97eX0ucG5nIiwKICAgICAgICAgICAgICAgIHsiYXR0cmlidXRpb24iOiAiRGF0YSBieSBcdTAwMjZjb3B5OyBcdTAwM2NhIGhyZWY9XCJodHRwOi8vb3BlbnN0cmVldG1hcC5vcmdcIlx1MDAzZU9wZW5TdHJlZXRNYXBcdTAwM2MvYVx1MDAzZSwgdW5kZXIgXHUwMDNjYSBocmVmPVwiaHR0cDovL3d3dy5vcGVuc3RyZWV0bWFwLm9yZy9jb3B5cmlnaHRcIlx1MDAzZU9EYkxcdTAwM2MvYVx1MDAzZS4iLCAiZGV0ZWN0UmV0aW5hIjogZmFsc2UsICJtYXhOYXRpdmVab29tIjogMTgsICJtYXhab29tIjogMTgsICJtaW5ab29tIjogMCwgIm5vV3JhcCI6IGZhbHNlLCAib3BhY2l0eSI6IDEsICJzdWJkb21haW5zIjogImFiYyIsICJ0bXMiOiBmYWxzZX0KICAgICAgICAgICAgKS5hZGRUbyhtYXBfZTE0NWNlYjcyNmY5NDYxODlhYTkyOGQxZGQ2ZWJmMWQpOwogICAgICAgIAogICAgCiAgICAgICAgZnVuY3Rpb24gZ2VvX2pzb25fOTllZWMxN2ZiMWI5NDE5ZDljYTljYzExNGIxZjA3MDdfc3R5bGVyKGZlYXR1cmUpIHsKICAgICAgICAgICAgc3dpdGNoKGZlYXR1cmUucHJvcGVydGllcy5uYW1lKSB7CiAgICAgICAgICAgICAgICBjYXNlICJTT1VUSEVBU1QiOiBjYXNlICJOT1JUSEVBU1QiOiAKICAgICAgICAgICAgICAgICAgICByZXR1cm4geyJmaWxsQ29sb3IiOiAicmVkIn07CiAgICAgICAgICAgICAgICBjYXNlICJFQVNURVJOIjogY2FzZSAiV0VTVEVSTiI6IAogICAgICAgICAgICAgICAgICAgIHJldHVybiB7ImZpbGxDb2xvciI6ICJkYXJrZ3JlZW4ifTsKICAgICAgICAgICAgICAgIGRlZmF1bHQ6CiAgICAgICAgICAgICAgICAgICAgcmV0dXJuIHsiZmlsbENvbG9yIjogInllbGxvdyJ9OwogICAgICAgICAgICB9CiAgICAgICAgfQogICAgICAgIGZ1bmN0aW9uIGdlb19qc29uXzk5ZWVjMTdmYjFiOTQxOWQ5Y2E5Y2MxMTRiMWYwNzA3X29uRWFjaEZlYXR1cmUoZmVhdHVyZSwgbGF5ZXIpIHsKICAgICAgICAgICAgbGF5ZXIub24oewogICAgICAgICAgICAgICAgY2xpY2s6IGZ1bmN0aW9uKGUpIHsKICAgICAgICAgICAgICAgICAgICBtYXBfZTE0NWNlYjcyNmY5NDYxODlhYTkyOGQxZGQ2ZWJmMWQuZml0Qm91bmRzKGUudGFyZ2V0LmdldEJvdW5kcygpKTsKICAgICAgICAgICAgICAgIH0KICAgICAgICAgICAgfSk7CiAgICAgICAgfTsKICAgICAgICB2YXIgZ2VvX2pzb25fOTllZWMxN2ZiMWI5NDE5ZDljYTljYzExNGIxZjA3MDcgPSBMLmdlb0pzb24obnVsbCwgewogICAgICAgICAgICAgICAgb25FYWNoRmVhdHVyZTogZ2VvX2pzb25fOTllZWMxN2ZiMWI5NDE5ZDljYTljYzExNGIxZjA3MDdfb25FYWNoRmVhdHVyZSwKICAgICAgICAgICAgCiAgICAgICAgICAgICAgICBzdHlsZTogZ2VvX2pzb25fOTllZWMxN2ZiMWI5NDE5ZDljYTljYzExNGIxZjA3MDdfc3R5bGVyLAogICAgICAgIH0pLmFkZFRvKG1hcF9lMTQ1Y2ViNzI2Zjk0NjE4OWFhOTI4ZDFkZDZlYmYxZCk7CgogICAgICAgIGZ1bmN0aW9uIGdlb19qc29uXzk5ZWVjMTdmYjFiOTQxOWQ5Y2E5Y2MxMTRiMWYwNzA3X2FkZCAoZGF0YSkgewogICAgICAgICAgICBnZW9fanNvbl85OWVlYzE3ZmIxYjk0MTlkOWNhOWNjMTE0YjFmMDcwNy5hZGREYXRhKGRhdGEpOwogICAgICAgIH0KICAgICAgICAgICAgZ2VvX2pzb25fOTllZWMxN2ZiMWI5NDE5ZDljYTljYzExNGIxZjA3MDdfYWRkKHsiYmJveCI6IFstNzYuNzExMjk0LCAzOS4xOTcyMzMsIC03Ni41Mjk2NTMsIDM5LjM3Ml0sICJjcnMiOiB7InByb3BlcnRpZXMiOiB7Im5hbWUiOiAidXJuOm9nYzpkZWY6Y3JzOk9HQzoyOjg0In0sICJ0eXBlIjogIm5hbWUifSwgImZlYXR1cmVzIjogW3siZ2VvbWV0cnkiOiB7ImNvb3JkaW5hdGVzIjogW1tbWy03Ni42MTE4MDcsIDM5LjMwNDYyOF0sIFstNzYuNjExODA3LCAzOS4zMDQ2MjldLCBbLTc2LjYxMTgwNywgMzkuMzA0NjI1XSwgWy03Ni42MTE4MDcsIDM5LjMwNDYyOF0sIFstNzYuNjExODA3LCAzOS4zMDQ2MjVdLCBbLTc2LjYxMTcyNywgMzkuMzAzNzA4XSwgWy03Ni42MTE3MzgsIDM5LjMwMzYxM10sIFstNzYuNjExNzA2LCAzOS4zMDM1MzZdLCBbLTc2LjYxMTUxNSwgMzkuMzAzMjZdLCBbLTc2LjYxMTA4OSwgMzkuMzAyOTcyXSwgWy03Ni42MTA5MDcsIDM5LjMwMjY5NV0sIFstNzYuNjEwODk0LCAzOS4zMDI1MzldLCBbLTc2LjYxMDg5NCwgMzkuMzAyNTM1XSwgWy03Ni42MTE4MjcsIDM5LjMwMjUwNV0sIFstNzYuNjExNzM1LCAzOS4zMDExODVdLCBbLTc2LjYxMTU5NiwgMzkuMjk5NzgxXSwgWy03Ni42MTE1MTEsIDM5LjI5ODc0OF0sIFstNzYuNjExMzksIDM5LjI5NzY5Ml0sIFstNzYuNjExMzM0LCAzOS4yOTY0OF0sIFstNzYuNjExMjcxLCAzOS4yOTQ1MzhdLCBbLTc2LjYxMDI3NSwgMzkuMjk0NTU2XSwgWy03Ni42MTAxMjYsIDM5LjI5NDEyXSwgWy03Ni42MDk5MzksIDM5LjI5Mzg5XSwgWy03Ni42MDk2OTYsIDM5LjI5MzU3OF0sIFstNzYuNjA5NDEzLCAzOS4yOTMzMDJdLCBbLTc2LjYwODU4NywgMzkuMjkyNzkyXSwgWy03Ni42MDg0NzksIDM5LjI5MjczMV0sIFstNzYuNjA3NzA3LCAzOS4yOTIyMTddLCBbLTc2LjYwNzExNiwgMzkuMjkxNzQ3XSwgWy03Ni42MDY3MzMsIDM5LjI5MTE0OF0sIFstNzYuNjA2NTExLCAzOS4yOTA2NTFdLCBbLTc2LjYwNjQ2LCAzOS4yOTA2MDFdLCBbLTc2LjYwNjI1MywgMzkuMjkwNjU3XSwgWy03Ni42MDU3NzMsIDM5LjI4OTk2OF0sIFstNzYuNjA1NDgsIDM5LjI4OTY0OV0sIFstNzYuNjA0NzU5LCAzOS4yODgzOTFdLCBbLTc2LjYwNDcsIDM5LjI4ODIzNV0sIFstNzYuNjA0Nzk0LCAzOS4yODgxOTRdLCBbLTc2LjYwNDk0OCwgMzkuMjg4MTQzXSwgWy03Ni42MDUwNDgsIDM5LjI4ODAwM10sIFstNzYuNjA0Njg4LCAzOS4yODY5NjddLCBbLTc2LjYwNDY0NSwgMzkuMjg2ODM2XSwgWy03Ni42MDQzNzYsIDM5LjI4NjA3OV0sIFstNzYuNjA0MDcyLCAzOS4yODUxOTldLCBbLTc2LjYwNDE2OCwgMzkuMjg1MDgzXSwgWy03Ni42MDQzODMsIDM5LjI4NTA2NF0sIFstNzYuNjAzNjIsIDM5LjI4MjgwMV0sIFstNzYuNjA0NDkyLCAzOS4yODI5NzddLCBbLTc2LjYwNDc3NSwgMzkuMjg0MzkxXSwgWy03Ni42MDUyNTMsIDM5LjI4NDM0NV0sIFstNzYuNjA1MDQ5LCAzOS4yODMyNDRdLCBbLTc2LjYwNjAxNiwgMzkuMjgzNjk5XSwgWy03Ni42MDYyOTksIDM5LjI4NjYxOF0sIFstNzYuNjA2NzU5LCAzOS4yODY2MDVdLCBbLTc2LjYwNjUyOSwgMzkuMjgzOTNdLCBbLTc2LjYwNzM0MSwgMzkuMjg0MTYyXSwgWy03Ni42MDc1NzMsIDM5LjI4NjU2OV0sIFstNzYuNjA4MDYzLCAzOS4yODY1NDhdLCBbLTc2LjYwNzg4OSwgMzkuMjg0MzM5XSwgWy03Ni42MDg2MDQsIDM5LjI4NDUxNl0sIFstNzYuNjA4NzQzLCAzOS4yODU5ODddLCBbLTc2LjYwOTM5LCAzOS4yODU5NThdLCBbLTc2LjYwOTY3NSwgMzkuMjg1ODIyXSwgWy03Ni42MDk5MDksIDM5LjI4NTk0NV0sIFstNzYuNjEwNzgxLCAzOS4yODU5MDZdLCBbLTc2LjYxMDc0LCAzOS4yODUyMjVdLCBbLTc2LjYxMTA3OCwgMzkuMjg1MjE3XSwgWy03Ni42MTExMzUsIDM5LjI4NTg4OV0sIFstNzYuNjExNDEzLCAzOS4yODU4OV0sIFstNzYuNjExODg2LCAzOS4yODU0OTVdLCBbLTc2LjYxMTgwOCwgMzkuMjg0MTgyXSwgWy03Ni42MTE2ODksIDM5LjI4MjE3NV0sIFstNzYuNjExMjI3LCAzOS4yODE3OTNdLCBbLTc2LjYwNzU5NCwgMzkuMjgxOTY2XSwgWy03Ni42MDc1OTcsIDM5LjI4MjI4OV0sIFstNzYuNjA3NDkyLCAzOS4yODIzNzVdLCBbLTc2LjYwNzI4MiwgMzkuMjgyMzgyXSwgWy03Ni42MDcxMzYsIDM5LjI4MjI3NF0sIFstNzYuNjA3MDk1LCAzOS4yODE1MzFdLCBbLTc2LjYwNjU3NywgMzkuMjgxNTQ1XSwgWy03Ni42MDU2NjgsIDM5LjI4MDk5XSwgWy03Ni42MDUyMDMsIDM5LjI4MDU0NV0sIFstNzYuNjA1MTUyLCAzOS4yODAyNTldLCBbLTc2LjYwNTEzLCAzOS4yODAyNDJdLCBbLTc2LjYwNjM0MSwgMzkuMjc5ODIyXSwgWy03Ni42MDY1MzcsIDM5LjI3OTgxM10sIFstNzYuNjA2NTU0LCAzOS4yNzk4OTRdLCBbLTc2LjYwNjY1OSwgMzkuMjc5ODc3XSwgWy03Ni42MDY5MDgsIDM5LjI4MDQ5Nl0sIFstNzYuNjA3MDQ0LCAzOS4yODA2NDVdLCBbLTc2LjYwNzUyOSwgMzkuMjgwNjY3XSwgWy03Ni42MDk4MTQsIDM5LjI4MDYyOV0sIFstNzYuNjEwNTE3LCAzOS4yODA1Nl0sIFstNzYuNjExMjExLCAzOS4yODA1NDZdLCBbLTc2LjYxMjU1NSwgMzkuMjgwNDQ3XSwgWy03Ni42MTI2NjEsIDM5LjI4MDUyN10sIFstNzYuNjEyNzA1LCAzOS4yODIxMjldLCBbLTc2LjYxMjgzLCAzOS4yODQxNDhdLCBbLTc2LjYxMzE1NCwgMzkuMjg0MTM3XSwgWy03Ni42MTQ2NTcsIDM5LjI4NDA0OF0sIFstNzYuNjE1NzYxLCAzOS4yODM5MTVdLCBbLTc2LjYxNjQ0NywgMzkuMjg0MDA3XSwgWy03Ni42MTczNzEsIDM5LjI4Mzg3Nl0sIFstNzYuNjE3NjE4LCAzOS4yODM5NzZdLCBbLTc2LjYxNzU3MywgMzkuMjg0NjY3XSwgWy03Ni42MTczODYsIDM5LjI4NTAxN10sIFstNzYuNjE3MzIyLCAzOS4yODUzMzhdLCBbLTc2LjYxODg2NSwgMzkuMjg1MjE1XSwgWy03Ni42MjA0ODEsIDM5LjI4NTE1OV0sIFstNzYuNjIyMTE3LCAzOS4yODUxMjddLCBbLTc2LjYyMjI0MSwgMzkuMjg1MjA2XSwgWy03Ni42MjIzNSwgMzkuMjg1Mjk3XSwgWy03Ni42MjIwNTIsIDM5LjI4NTU4MV0sIFstNzYuNjIxOTg2LCAzOS4yODU4NDhdLCBbLTc2LjYyMjAwMiwgMzkuMjg2MjcyXSwgWy03Ni42MjIxMDgsIDM5LjI4NzQzMV0sIFstNzYuNjIzNTA0LCAzOS4yODczNjJdLCBbLTc2LjYyMzQ0NiwgMzkuMjg2MTc2XSwgWy03Ni42MjU2NjcsIDM5LjI4NjA4MV0sIFstNzYuNjI3MTUxLCAzOS4yODYwMTJdLCBbLTc2LjYyNzY5OCwgMzkuMjg2OTg4XSwgWy03Ni42Mjc2NjksIDM5LjI4NzJdLCBbLTc2LjYyNzk0MiwgMzkuMjg3MTM2XSwgWy03Ni42Mjc5NzMsIDM5LjI4NzQ4Nl0sIFstNzYuNjI3OTc3LCAzOS4yODc5MzFdLCBbLTc2LjYyNzkwOCwgMzkuMjg4MjUxXSwgWy03Ni42Mjc4MTcsIDM5LjI4ODU4OF0sIFstNzYuNjI3ODkyLCAzOS4yODg5OF0sIFstNzYuNjI3ODAyLCAzOS4yODg5NzZdLCBbLTc2LjYyNjczNywgMzkuMjg5MDE4XSwgWy03Ni42MjY4MTMsIDM5LjI5MDEyMV0sIFstNzYuNjI3NTA0LCAzOS4yOTAwOTZdLCBbLTc2LjYyNzg3OSwgMzkuMjkwMDkyXSwgWy03Ni42MjgwMDgsIDM5LjI5MDA2NV0sIFstNzYuNjI5NDMyLCAzOS4yOTAwMTFdLCBbLTc2LjYyOTc0MSwgMzkuMjkwNTkxXSwgWy03Ni42MzAwMTUsIDM5LjI5MTA5Ml0sIFstNzYuNjMwMDM3LCAzOS4yOTExM10sIFstNzYuNjMwNDM3LCAzOS4yOTE4NzJdLCBbLTc2LjYzMDgzLCAzOS4yOTI1NzddLCBbLTc2LjYzMTA5OSwgMzkuMjkzMDc1XSwgWy03Ni42MzEzMjcsIDM5LjI5MzQ3NV0sIFstNzYuNjMxNzUyLCAzOS4yOTQyNjFdLCBbLTc2LjYzMjI1MSwgMzkuMjk1MjEzXSwgWy03Ni42MzIzMzgsIDM5LjI5NTM3Ml0sIFstNzYuNjMyNDg3LCAzOS4yOTU2MzddLCBbLTc2LjYzMjc1OSwgMzkuMjk2MDc3XSwgWy03Ni42MzMwNDIsIDM5LjI5NjYwM10sIFstNzYuNjMzMTg4LCAzOS4yOTY4NjhdLCBbLTc2LjYzMzIwOSwgMzkuMjk2OTA5XSwgWy03Ni42MzM2MjUsIDM5LjI5NzY0OV0sIFstNzYuNjMzNzMzLCAzOS4yOTc4NDhdLCBbLTc2LjYzMzg0NSwgMzkuMjk3OTk3XSwgWy03Ni42MzM4NjUsIDM5LjI5ODA2M10sIFstNzYuNjM0MDQzLCAzOS4yOTg0MjFdLCBbLTc2LjYzNDQyNiwgMzkuMjk5MTQ0XSwgWy03Ni42MzQ2OTQsIDM5LjI5OTYzNF0sIFstNzYuNjM0NzM4LCAzOS4yOTk2NzVdLCBbLTc2LjYzNDc1OCwgMzkuMjk5NzQ1XSwgWy03Ni42MzQ5ODQsIDM5LjMwMDE0NV0sIFstNzYuNjM1MDQ4LCAzOS4zMDAyMjJdLCBbLTc2LjYzNTA2OSwgMzkuMzAwMzAxXSwgWy03Ni42MzU0OTgsIDM5LjMwMTA3OF0sIFstNzYuNjM1NjEzLCAzOS4zMDEyNV0sIFstNzYuNjM1NzM5LCAzOS4zMDE1MTldLCBbLTc2LjYzNTc5OSwgMzkuMzAxNjEzXSwgWy03Ni42MzU4NjQsIDM5LjMwMTY3NV0sIFstNzYuNjM1ODU3LCAzOS4zMDE3MTRdLCBbLTc2LjYzNTg4MSwgMzkuMzAxNzZdLCBbLTc2LjYzNTkzNCwgMzkuMzAxODQ4XSwgWy03Ni42MzU5NTEsIDM5LjMwMTg5XSwgWy03Ni42MzYyNDYsIDM5LjMwMjQ2XSwgWy03Ni42MzY3OTgsIDM5LjMwMzQyNF0sIFstNzYuNjM3MTAxLCAzOS4zMDM5ODhdLCBbLTc2LjYzNzMxMywgMzkuMzA0Mzg1XSwgWy03Ni42Mzc4NTUsIDM5LjMwNTM1N10sIFstNzYuNjM3OTc4LCAzOS4zMDU1NzhdLCBbLTc2LjYzODAwMSwgMzkuMzA1NjUxXSwgWy03Ni42MzgzNjYsIDM5LjMwNjNdLCBbLTc2LjYzODQzMSwgMzkuMzA2NjddLCBbLTc2LjYzODQ4OCwgMzkuMzA2NzUyXSwgWy03Ni42MzkzNjgsIDM5LjMwNzQ4XSwgWy03Ni42NDAzMDIsIDM5LjMwODI4Nl0sIFstNzYuNjQwNTQxLCAzOS4zMDg0ODldLCBbLTc2LjY0MDgxMiwgMzkuMzA4Njk2XSwgWy03Ni42NDE1MDIsIDM5LjMwOTI5MV0sIFstNzYuNjQxNTkxLCAzOS4zMDkzNDJdLCBbLTc2LjY0MTY1MiwgMzkuMzA5NDE4XSwgWy03Ni42NDIzODQsIDM5LjMxMDAyNl0sIFstNzYuNjQwOTQ2LCAzOS4zMTAwNzJdLCBbLTc2LjY0MDM3MSwgMzkuMzEwMTI4XSwgWy03Ni42NDAyMDYsIDM5LjMxMDEyMV0sIFstNzYuNjM5NjY4LCAzOS4zMTAxNTJdLCBbLTc2LjYzODQzNiwgMzkuMzEwMjAyXSwgWy03Ni42MzgzMDIsIDM5LjMxMDIyMV0sIFstNzYuNjM4MDk1LCAzOS4zMTAyMV0sIFstNzYuNjM2OTA1LCAzOS4zMTAyNjJdLCBbLTc2LjYzNjk3OCwgMzkuMzEwNDI2XSwgWy03Ni42Mzc0OTgsIDM5LjMxMDk1Ml0sIFstNzYuNjM4NDE2LCAzOS4zMTE5MTJdLCBbLTc2LjYzODU4MywgMzkuMzEyMDY2XSwgWy03Ni42Mzk1ODQsIDM5LjMxMzEwNl0sIFstNzYuNjQwNjA3LCAzOS4zMTQxNDFdLCBbLTc2LjY0MDY3MiwgMzkuMzE0MTc5XSwgWy03Ni42NDA3NTQsIDM5LjMxNDMxOF0sIFstNzYuNjQxMDMsIDM5LjMxNDU0Ml0sIFstNzYuNjQxMTU5LCAzOS4zMTQ3MThdLCBbLTc2LjY0MjExMiwgMzkuMzE1MTUxXSwgWy03Ni42NDI0MTgsIDM5LjMxNTEyNl0sIFstNzYuNjQyNTM5LCAzOS4zMTUwMDRdLCBbLTc2LjY0MjY2NywgMzkuMzE0OTQ2XSwgWy03Ni42NDM1MjIsIDM5LjMxNTczNl0sIFstNzYuNjQzNDgzLCAzOS4zMTU3NTRdLCBbLTc2LjY0MzQ4OSwgMzkuMzE1OTA1XSwgWy03Ni42NDM0NSwgMzkuMzE1OTg5XSwgWy03Ni42NDMxOTIsIDM5LjMxNTkwNF0sIFstNzYuNjQyODYyLCAzOS4zMTU3OTNdLCBbLTc2LjY0MjUwOCwgMzkuMzE1NzI4XSwgWy03Ni42NDE0NDUsIDM5LjMxNTczNF0sIFstNzYuNjQwODUsIDM5LjMxNTY4OF0sIFstNzYuNjQwMjA1LCAzOS4zMTU4MDNdLCBbLTc2LjYzOTYzNiwgMzkuMzE1OTM3XSwgWy03Ni42Mzg4MjgsIDM5LjMxNjI1Ml0sIFstNzYuNjM4Mzk3LCAzOS4zMTY1MDZdLCBbLTc2LjYzNzU4MiwgMzkuMzE2ODJdLCBbLTc2LjYzNzMxMSwgMzkuMzE2OTQ1XSwgWy03Ni42MzcwMTIsIDM5LjMxNzA1XSwgWy03Ni42MzY1MzMsIDM5LjMxNzEwNV0sIFstNzYuNjM2MTA1LCAzOS4zMTcwNjddLCBbLTc2LjYzNTU3MiwgMzkuMzE3MDcxXSwgWy03Ni42MzM4OTksIDM5LjMxNzA0M10sIFstNzYuNjMzMzU0LCAzOS4zMTcwMTddLCBbLTc2LjYzMjQ4OCwgMzkuMzE2OTI2XSwgWy03Ni42MzI0ODksIDM5LjMxNjcyM10sIFstNzYuNjMxNDkyLCAzOS4zMTY3NDNdLCBbLTc2LjYzMDUwNywgMzkuMzE2NzQyXSwgWy03Ni42MzAxOTYsIDM5LjMxNjczM10sIFstNzYuNjMwMTM0LCAzOS4zMTY1ODFdLCBbLTc2LjYyOTc1MiwgMzkuMzE2NTc1XSwgWy03Ni42Mjg2NDcsIDM5LjMxNTQwNV0sIFstNzYuNjI3OTIyLCAzOS4zMTQ2NzRdLCBbLTc2LjYyNzQ4OCwgMzkuMzE0OTc1XSwgWy03Ni42MjYyOTcsIDM5LjMxMzc0M10sIFstNzYuNjI1NTExLCAzOS4zMTI4NjhdLCBbLTc2LjYyNDYzOCwgMzkuMzEyMTMxXSwgWy03Ni42MjM2NDIsIDM5LjMxMTM0Nl0sIFstNzYuNjIyNjcxLCAzOS4zMTA3ODddLCBbLTc2LjYyMDEyOCwgMzkuMzEwODk5XSwgWy03Ni42MTkyNjgsIDM5LjMxMDkyM10sIFstNzYuNjE5MjQxLCAzOS4zMTEwODJdLCBbLTc2LjYxOTIyLCAzOS4zMTEyNDVdLCBbLTc2LjYxOTMwNywgMzkuMzEyMDcyXSwgWy03Ni42MTc4MiwgMzkuMzEyMTM1XSwgWy03Ni42MTY0NzEsIDM5LjMxMjE5MV0sIFstNzYuNjE0Nzg5LCAzOS4zMTIyNTFdLCBbLTc2LjYxMzc5OSwgMzkuMzEyMjc1XSwgWy03Ni42MTM3NSwgMzkuMzExMzM0XSwgWy03Ni42MTM3MjksIDM5LjMxMDk3OV0sIFstNzYuNjEzNjQ0LCAzOS4zMDk3NTZdLCBbLTc2LjYxMzYzMiwgMzkuMzA5MzUxXSwgWy03Ni42MTM1OTUsIDM5LjMwODkzN10sIFstNzYuNjEzNTg3LCAzOS4zMDg4MDddLCBbLTc2LjYxMzUxMiwgMzkuMzA3NzU3XSwgWy03Ni42MTIxNjksIDM5LjMwNzgwM10sIFstNzYuNjEyMDY3LCAzOS4zMDY3MDldLCBbLTc2LjYxMjAwMywgMzkuMzA2MDE4XSwgWy03Ni42MTE5NiwgMzkuMzA1NDcyXSwgWy03Ni42MTE4NTcsIDM5LjMwNTI4NV0sIFstNzYuNjExNzkxLCAzOS4zMDQ5NjldLCBbLTc2LjYxMTgwNywgMzkuMzA0NjI4XV1dXSwgInR5cGUiOiAiTXVsdGlQb2x5Z29uIn0sICJwcm9wZXJ0aWVzIjogeyJkZXNjcmlwdGlvIjogIiIsICJuYW1lIjogIkNFTlRSQUwifSwgInR5cGUiOiAiRmVhdHVyZSJ9LCB7Imdlb21ldHJ5IjogeyJjb29yZGluYXRlcyI6IFtbW1stNzYuNTI5NzYsIDM5LjI5NjgyOF0sIFstNzYuNTI5NzcsIDM5LjI4Nzg4OF0sIFstNzYuNTI5Nzc3LCAzOS4yODEzMjVdLCBbLTc2LjUyOTc3OCwgMzkuMjgwMzE1XSwgWy03Ni41Mjk3ODIsIDM5LjI3NjYxOV0sIFstNzYuNTI5Nzg4LCAzOS4yNzIxMDFdLCBbLTc2LjUyOTc5LCAzOS4yNjk2OTldLCBbLTc2LjUyOTc5NSwgMzkuMjY1NDE5XSwgWy03Ni41Mjk2NTMsIDM5LjI2MTQyN10sIFstNzYuNTI5NjkzLCAzOS4yNTcxMjNdLCBbLTc2LjUyOTY3NywgMzkuMjU1NTMxXSwgWy03Ni41Mjk2NzcsIDM5LjI1NTMzNV0sIFstNzYuNTI5Njc3LCAzOS4yNTUxMTFdLCBbLTc2LjUyOTgyNCwgMzkuMjQwMjMxXSwgWy03Ni41MzI5NjQsIDM5LjIzOTIwN10sIFstNzYuNTMzOTU3LCAzOS4yNDAzODNdLCBbLTc2LjUzNTQ5MiwgMzkuMjQxODg1XSwgWy03Ni41MzU3MDMsIDM5LjI0MTgwNF0sIFstNzYuNTM1OTQxLCAzOS4yNDIwNjFdLCBbLTc2LjUzNTc2LCAzOS4yNDIxNjVdLCBbLTc2LjUzODczNSwgMzkuMjQ1NDE1XSwgWy03Ni41MzY2NzEsIDM5LjI1MTc5XSwgWy03Ni41MzU1NTMsIDM5LjI1NTUyNV0sIFstNzYuNTM0ODYzLCAzOS4yNTU2NjJdLCBbLTc2LjUzNDY2NiwgMzkuMjU1OTc2XSwgWy03Ni41MzQ0OTksIDM5LjI1NjM2XSwgWy03Ni41MzQ2MDIsIDM5LjI1NjYxNl0sIFstNzYuNTM0NjMzLCAzOS4yNTc0NDZdLCBbLTc2LjUzNDc0NSwgMzkuMjU3NjU0XSwgWy03Ni41MzQ3ODgsIDM5LjI1Nzg4N10sIFstNzYuNTM0Njk4LCAzOS4yNTgwMTRdLCBbLTc2LjUzNDgxNSwgMzkuMjU4NDU4XSwgWy03Ni41MzQ5ODgsIDM5LjI1OTM3OF0sIFstNzYuNTM1NjczLCAzOS4yNjAxMDNdLCBbLTc2LjUzNjE5NCwgMzkuMjYwNjE4XSwgWy03Ni41MzY0NzYsIDM5LjI2MDk1N10sIFstNzYuNTM2ODA2LCAzOS4yNjA5ODFdLCBbLTc2LjUzNzI3NywgMzkuMjYxMzI3XSwgWy03Ni41Mzc1MjEsIDM5LjI2MTU1NV0sIFstNzYuNTM4MTQxLCAzOS4yNjE5NTldLCBbLTc2LjUzODY1NSwgMzkuMjYyNDFdLCBbLTc2LjUzOTIyOSwgMzkuMjYyODYzXSwgWy03Ni41Mzk5NSwgMzkuMjYzNzE5XSwgWy03Ni41NDAwMDcsIDM5LjI2NDEwNF0sIFstNzYuNTM5OTMsIDM5LjI2NDQ2NV0sIFstNzYuNTM5NzYzLCAzOS4yNjQ4MzddLCBbLTc2LjUzOTczLCAzOS4yNjUyMzNdLCBbLTc2LjU0MDQxOCwgMzkuMjY1NDIyXSwgWy03Ni41NDA4MzgsIDM5LjI2NDM1MV0sIFstNzYuNTQwODc4LCAzOS4yNjM3NThdLCBbLTc2LjU0MDgyMiwgMzkuMjYzMTRdLCBbLTc2LjU0MDUyNywgMzkuMjYyNDY0XSwgWy03Ni41NDAxMjYsIDM5LjI2MTkwM10sIFstNzYuNTM5NjA1LCAzOS4yNjE0MjNdLCBbLTc2LjUzNzU5MiwgMzkuMjU5OTEzXSwgWy03Ni41MzY0ODksIDM5LjI1OTAzNV0sIFstNzYuNTM2Mjk2LCAzOS4yNTg3Ml0sIFstNzYuNTM2MjI0LCAzOS4yNTgzN10sIFstNzYuNTM2NDA4LCAzOS4yNTc2Nl0sIFstNzYuNTM2NjU0LCAzOS4yNTY2OTRdLCBbLTc2LjU0MDM5OSwgMzkuMjUwNTI1XSwgWy03Ni41NDM4NSwgMzkuMjUyNTMzXSwgWy03Ni41NDM5NTgsIDM5LjI1MjQ1XSwgWy03Ni41NDcxNjksIDM5LjI1NDM2NV0sIFstNzYuNTUyNzIzLCAzOS4yNTc2NjhdLCBbLTc2LjU1MjkyLCAzOS4yNjA2MTFdLCBbLTc2LjU1NDA1OSwgMzkuMjYwNjYzXSwgWy03Ni41NTQwODUsIDM5LjI2MDg0OV0sIFstNzYuNTU0NDY1LCAzOS4yNjA4NTddLCBbLTc2LjU1NDUxOCwgMzkuMjYwNzg5XSwgWy03Ni41NTQ0NDYsIDM5LjI1OTYyMV0sIFstNzYuNTU0NTk2LCAzOS4yNTk2MTVdLCBbLTc2LjU1NDYwNSwgMzkuMjU5NTE5XSwgWy03Ni41NTUxLCAzOS4yNTk0N10sIFstNzYuNTU1NjU3LCAzOS4yNTk0MjddLCBbLTc2LjU1NTU0NSwgMzkuMjU3NTY1XSwgWy03Ni41NTU4MjIsIDM5LjI1NzU3NV0sIFstNzYuNTU2MTU3LCAzOS4yNjEzODVdLCBbLTc2LjU1NjQ4NCwgMzkuMjYxMzk0XSwgWy03Ni41NTY2MDgsIDM5LjI2MTMxMl0sIFstNzYuNTU2NjU1LCAzOS4yNjA5MjddLCBbLTc2LjU1NjYzOSwgMzkuMjYwNTkxXSwgWy03Ni41NTY2OTMsIDM5LjI2MDM5OV0sIFstNzYuNTU2OCwgMzkuMjYwMjg5XSwgWy03Ni41NTcyMTUsIDM5LjI2MDI1XSwgWy03Ni41NTc2ODQsIDM5LjI2MDI0NF0sIFstNzYuNTU3NzQxLCAzOS4yNjA5NTJdLCBbLTc2LjU1Nzc4NCwgMzkuMjYxMTc5XSwgWy03Ni41NTc4ODksIDM5LjI2MTMzXSwgWy03Ni41NTg0MSwgMzkuMjYxMzEyXSwgWy03Ni41NTg3MzcsIDM5LjI2MTM1NF0sIFstNzYuNTU4NzcyLCAzOS4yNjEyOTldLCBbLTc2LjU1OTEzNCwgMzkuMjYxMjk0XSwgWy03Ni41NTg4NTMsIDM5LjI1NjgyOV0sIFstNzYuNTYwMTg1LCAzOS4yNTcxNjRdLCBbLTc2LjU2MDQ2LCAzOS4yNjEyMzddLCBbLTc2LjU2MTE0LCAzOS4yNjExOThdLCBbLTc2LjU2MDk1NSwgMzkuMjU4MzQxXSwgWy03Ni41NjE2NjEsIDM5LjI1ODMyM10sIFstNzYuNTYxOTM4LCAzOS4yNTg0MDZdLCBbLTc2LjU2MjIxNywgMzkuMjU4NDQ5XSwgWy03Ni41NjIzODcsIDM5LjI2MDk5XSwgWy03Ni41NjI4MywgMzkuMjYwODI3XSwgWy03Ni41NjI3MDMsIDM5LjI1ODUxMl0sIFstNzYuNTYzMDgyLCAzOS4yNTg1NjldLCBbLTc2LjU2Mjk0NSwgMzkuMjU2MzY0XSwgWy03Ni41NjMyMTEsIDM5LjI1NjI5Nl0sIFstNzYuNTYzNDk0LCAzOS4yNTYzMTVdLCBbLTc2LjU2MzY1NiwgMzkuMjU4NjUzXSwgWy03Ni41NjQ1OTEsIDM5LjI1ODc2Nl0sIFstNzYuNTY0NDcyLCAzOS4yNTY1NjldLCBbLTc2LjU2NDc1NSwgMzkuMjU2NTYzXSwgWy03Ni41NjQ5ODEsIDM5LjI2MDA0NV0sIFstNzYuNTY1ODQ3LCAzOS4yNjAwMjFdLCBbLTc2LjU2NjEwNiwgMzkuMjU5NDA0XSwgWy03Ni41NjcyODIsIDM5LjI1OTM1M10sIFstNzYuNTY3MzA3LCAzOS4yNTk0NzddLCBbLTc2LjU2ODA5MSwgMzkuMjU5ODA5XSwgWy03Ni41NjgxODgsIDM5LjI1OTg2NV0sIFstNzYuNTY4MzY1LCAzOS4yNTk4NzJdLCBbLTc2LjU2ODMzMiwgMzkuMjU5NDgxXSwgWy03Ni41Njg2OTQsIDM5LjI1OTQ2MV0sIFstNzYuNTY4NzEzLCAzOS4yNTkyMDFdLCBbLTc2LjU2ODg0NiwgMzkuMjU5MTg3XSwgWy03Ni41Njg4NjYsIDM5LjI2MDE2OV0sIFstNzYuNTY4OTYzLCAzOS4yNjAyMDRdLCBbLTc2LjU2OTM5MSwgMzkuMjU5NjQyXSwgWy03Ni41Njk3MjcsIDM5LjI1OTgzNV0sIFstNzYuNTcxMzYyLCAzOS4yNjA4MzhdLCBbLTc2LjU3MTgyMiwgMzkuMjYyMjQ3XSwgWy03Ni41NzE0ODYsIDM5LjI2MjIyNV0sIFstNzYuNTcxNDc2LCAzOS4yNjI1Ml0sIFstNzYuNTcxNTcyLCAzOS4yNjI1ODNdLCBbLTc2LjU3MTY1LCAzOS4yNjI4OTldLCBbLTc2LjU3MTYyMywgMzkuMjYzMDE1XSwgWy03Ni41NzE3MTgsIDM5LjI2MzI4NF0sIFstNzYuNTcxNjgyLCAzOS4yNjM0MTRdLCBbLTc2LjU3MTMxLCAzOS4yNjM2NDZdLCBbLTc2LjU3MTMyNiwgMzkuMjYzOTE0XSwgWy03Ni41NzEyNTQsIDM5LjI2NDE2OF0sIFstNzYuNTcxMjYyLCAzOS4yNjQyOTFdLCBbLTc2LjU3MDk3LCAzOS4yNjQzMzFdLCBbLTc2LjU3MDk4NywgMzkuMjY0NDA3XSwgWy03Ni41Njk4ODMsIDM5LjI2NDQzN10sIFstNzYuNTY5ODczLCAzOS4yNjQ1NzVdLCBbLTc2LjU2ODkwMSwgMzkuMjY0NjI2XSwgWy03Ni41Njg4NTYsIDM5LjI2NDgyNV0sIFstNzYuNTcyMDI4LCAzOS4yNjQ3MTNdLCBbLTc2LjU3MjAyNywgMzkuMjY0ODkxXSwgWy03Ni41Njg4NTUsIDM5LjI2NTAxXSwgWy03Ni41Njg4OTYsIDM5LjI2NTQ5OF0sIFstNzYuNTY4ODI1LCAzOS4yNjU1MDVdLCBbLTc2LjU2ODgzMSwgMzkuMjY1OTY1XSwgWy03Ni41NzEzODUsIDM5LjI2NTg3MV0sIFstNzYuNTcxNjIzLCAzOS4yNjU4OTNdLCBbLTc2LjU3MTc5LCAzOS4yNjYwMTddLCBbLTc2LjU3MTg0MiwgMzkuMjY2Mjg1XSwgWy03Ni41NzE3OTYsIDM5LjI2NjZdLCBbLTc2LjU3MTQ0MSwgMzkuMjY2NzNdLCBbLTc2LjU3MTIwMywgMzkuMjY2NjgxXSwgWy03Ni41NzA4NjcsIDM5LjI2NjcyOF0sIFstNzYuNTcwODY3LCAzOS4yNjY4MzFdLCBbLTc2LjU3MjQzOSwgMzkuMjY2NzY4XSwgWy03Ni41NzI0NCwgMzkuMjY2Njg1XSwgWy03Ni41NzI3MTQsIDM5LjI2NjY4Nl0sIFstNzYuNTcyNzM5LCAzOS4yNjY4OTJdLCBbLTc2LjU2OTY3MywgMzkuMjY3MDEyXSwgWy03Ni41Njk1OTMsIDM5LjI2NzA1Ml0sIFstNzYuNTY5NjAxLCAzOS4yNjcyMV0sIFstNzYuNTY4ODU5LCAzOS4yNjcyNTZdLCBbLTc2LjU2ODkxNiwgMzkuMjY3OTkxXSwgWy03Ni41NzI3NzcsIDM5LjI2Nzg2MV0sIFstNzYuNTcyODE4LCAzOS4yNjg0NDRdLCBbLTc2LjU2ODk1NywgMzkuMjY4NjAyXSwgWy03Ni41Njg5ODgsIDM5LjI2OTI2MV0sIFstNzYuNTY5NTYsIDM5LjI2OTM0Ml0sIFstNzYuNTY5NjY3LCAzOS4yNjkzODFdLCBbLTc2LjU2OTg3MSwgMzkuMjY5Mzg4XSwgWy03Ni41Njk4NiwgMzkuMjY5NjddLCBbLTc2LjU2OTU0MiwgMzkuMjY5Njc1XSwgWy03Ni41Njk1NTEsIDM5LjI2OTU5M10sIFstNzYuNTY5MDAzLCAzOS4yNjk2MThdLCBbLTc2LjU2OTA4NSwgMzkuMjcwNjY5XSwgWy03Ni41NzA1NjEsIDM5LjI3MDYyN10sIFstNzYuNTcwNTk2LCAzOS4yNzA3NDRdLCBbLTc2LjU2OTYxNSwgMzkuMjcwODAyXSwgWy03Ni41Njk2NDksIDM5LjI3MDk4XSwgWy03Ni41NzA1NSwgMzkuMjcwOTg0XSwgWy03Ni41NzA1NTgsIDM5LjI3MTE3Nl0sIFstNzYuNTcwNDc4LCAzOS4yNzExODldLCBbLTc2LjU3MDQ2NywgMzkuMjcxNTMzXSwgWy03Ni41NzI1MzUsIDM5LjI3MTQ1OF0sIFstNzYuNTcyNTY5LCAzOS4yNzE1OTVdLCBbLTc2LjU3MDUxLCAzOS4yNzE2ODRdLCBbLTc2LjU3MDUzNiwgMzkuMjcxNzk0XSwgWy03Ni41NzAxMywgMzkuMjcxODQxXSwgWy03Ni41NzAzMzMsIDM5LjI3MTg2OV0sIFstNzYuNTcwNTE4LCAzOS4yNzE4NjNdLCBbLTc2LjU3MDUyNiwgMzkuMjcxOTUyXSwgWy03Ni41NzA0MiwgMzkuMjcxOTg2XSwgWy03Ni41NzA0MzcsIDM5LjI3MjEwM10sIFstNzYuNTcwNzkxLCAzOS4yNzIxMDRdLCBbLTc2LjU3MDgxNiwgMzkuMjcyMTkzXSwgWy03Ni41NzA0MjgsIDM5LjI3MjIxOV0sIFstNzYuNTcwNDc4LCAzOS4yNzI1OV0sIFstNzYuNTcwNTkyLCAzOS4yNzI3NzZdLCBbLTc2LjU3MTM3OCwgMzkuMjcyNzY1XSwgWy03Ni41NzE2NDIsIDM5LjI3MjkzMV0sIFstNzYuNTcxNjM5LCAzOS4yNzM0NTNdLCBbLTc2LjU3MTUxMywgMzkuMjczODU4XSwgWy03Ni41NzEwNTQsIDM5LjI3Mzg3XSwgWy03Ni41NzEwNzEsIDM5LjI3NDAyN10sIFstNzYuNTcwOTAyLCAzOS4yNzQxODVdLCBbLTc2LjU3MDc1OSwgMzkuMjc0MzQyXSwgWy03Ni41NzA5NTksIDM5LjI3NjMyMV0sIFstNzYuNTcxMDgyLCAzOS4yNzY0OTNdLCBbLTc2LjU3MTMwMiwgMzkuMjc2NTYyXSwgWy03Ni41NzI1NzQsIDM5LjI3NjY3N10sIFstNzYuNTcyNTkxLCAzOS4yNzY3NTldLCBbLTc2LjU3MjcxNSwgMzkuMjc2NzhdLCBbLTc2LjU3MjgyMSwgMzkuMjc2NjY0XSwgWy03Ni41NzU2MSwgMzkuMjc3MjAzXSwgWy03Ni41NzU2OTEsIDM5LjI3NzAxOF0sIFstNzYuNTc1Nzc5LCAzOS4yNzcwMzJdLCBbLTc2LjU3NTkyMywgMzkuMjc2NjY4XSwgWy03Ni41NzY5MDIsIDM5LjI3Njg2NF0sIFstNzYuNTc2ODIxLCAzOS4yNzcwOTddLCBbLTc2LjU3ODAwNCwgMzkuMjc3MzQyXSwgWy03Ni41NzgzNzQsIDM5LjI3NzUyOV0sIFstNzYuNTc4ODk4LCAzOS4yNzcwN10sIFstNzYuNTc5MTcsIDM5LjI3NzI0M10sIFstNzYuNTc4ODg2LCAzOS4yNzc1M10sIFstNzYuNTc5MTMyLCAzOS4yNzc2ODJdLCBbLTc2LjU3OTI0OCwgMzkuMjc3NjIxXSwgWy03Ni41Nzk1NTcsIDM5LjI3NzYzNl0sIFstNzYuNTc5Nzk2LCAzOS4yNzc1MzRdLCBbLTc2LjU3OTk4OSwgMzkuMjc3ODA5XSwgWy03Ni41ODAxNzQsIDM5LjI3NzgyM10sIFstNzYuNTgwMTkyLCAzOS4yNzc3ODJdLCBbLTc2LjU4MDM2LCAzOS4yNzc4MDRdLCBbLTc2LjU4MDEsIDM5LjI3ODQxNF0sIFstNzYuNTgwNDE5LCAzOS4yNzg1NjldLCBbLTc2LjU4MDM0MSwgMzkuMjc5MDY1XSwgWy03Ni41Nzk4NTEsIDM5LjI3ODk5M10sIFstNzYuNTc5NjgyLCAzOS4yNzkwNTddLCBbLTc2LjU3OTU4MiwgMzkuMjc5NjNdLCBbLTc2LjU3OTgxNCwgMzkuMjc5NjYxXSwgWy03Ni41Nzk5ODIsIDM5LjI3OTcxMl0sIFstNzYuNTgwMDk4LCAzOS4yNzk3ODJdLCBbLTc2LjU4MDEyMywgMzkuMjc5ODYzXSwgWy03Ni41Nzk5MDYsIDM5LjI4MDE1MV0sIFstNzYuNTgwMTQsIDM5LjI4MDMwNV0sIFstNzYuNTgwNTk1LCAzOS4yNzk4NTRdLCBbLTc2LjU4MTI0LCAzOS4yODAyMjRdLCBbLTc2LjU4MTMzLCAzOS4yODAyMjldLCBbLTc2LjU4MTU3NSwgMzkuMjgwMzg1XSwgWy03Ni41ODE1OTQsIDM5LjI4MDQ0MV0sIFstNzYuNTgxOTgsIDM5LjI4MDY4OF0sIFstNzYuNTgyMzAzLCAzOS4yODA2OTRdLCBbLTc2LjU4MjUxLCAzOS4yODA4MDFdLCBbLTc2LjU4Mjc5OCwgMzkuMjgxMjY5XSwgWy03Ni41ODMzODQsIDM5LjI4MTYyM10sIFstNzYuNTgzNDM2LCAzOS4yODE1ODNdLCBbLTc2LjU4MzUzOSwgMzkuMjgxNjQzXSwgWy03Ni41ODQwNTEsIDM5LjI4MTEyOV0sIFstNzYuNTg0MTkyLCAzOS4yODEyMTRdLCBbLTc2LjU4Mzk2MywgMzkuMjgxNDU3XSwgWy03Ni41ODM5NzcsIDM5LjI4MTQ4Ml0sIFstNzYuNTgzODAzLCAzOS4yODE2NThdLCBbLTc2LjU4Mzg4LCAzOS4yODE3MDFdLCBbLTc2LjU4MzczOCwgMzkuMjgxODM4XSwgWy03Ni41ODQxMTksIDM5LjI4MjA2NV0sIFstNzYuNTg0MjMyLCAzOS4yODIxMTJdLCBbLTc2LjU4NDMsIDM5LjI4MjE1MV0sIFstNzYuNTg0MzU1LCAzOS4yODIxNDhdLCBbLTc2LjU4NDUxOCwgMzkuMjgyMjRdLCBbLTc2LjU4NDcwNywgMzkuMjgyNDI4XSwgWy03Ni41ODUyODMsIDM5LjI4Mjc2Ml0sIFstNzYuNTg1NzIxLCAzOS4yODIzNF0sIFstNzYuNTg1ODg1LCAzOS4yODI0MzldLCBbLTc2LjU4NTQ2NCwgMzkuMjgyODc2XSwgWy03Ni41ODU3OSwgMzkuMjgzMDg5XSwgWy03Ni41ODU2NzgsIDM5LjI4MzIxNl0sIFstNzYuNTg1NzcxLCAzOS4yODMyNzldLCBbLTc2LjU4NTg0OCwgMzkuMjgzMjgzXSwgWy03Ni41ODU5MzksIDM5LjI4MzIyXSwgWy03Ni41ODYwNjYsIDM5LjI4MzIyXSwgWy03Ni41ODYxNTcsIDM5LjI4MzIzOF0sIFstNzYuNTg2MTg1LCAzOS4yODMxNV0sIFstNzYuNTg2NTIxLCAzOS4yODMxNTFdLCBbLTc2LjU4Njc4LCAzOS4yODMyMjNdLCBbLTc2LjU4NzczOSwgMzkuMjgzMjQ3XSwgWy03Ni41ODc3NjYsIDM5LjI4MzI3Ml0sIFstNzYuNTg4MDI1LCAzOS4yODMyOTFdLCBbLTc2LjU4Nzk4MywgMzkuMjgyNzU0XSwgWy03Ni41ODgyODMsIDM5LjI4Mjc0OF0sIFstNzYuNTg4MjYyLCAzOS4yODI0MDJdLCBbLTc2LjU4NzcyNSwgMzkuMjgyNDE3XSwgWy03Ni41ODc3MDQsIDM5LjI4MjEyOF0sIFstNzYuNTg4NjE4LCAzOS4yODIxMDZdLCBbLTc2LjU4ODcwNSwgMzkuMjgyMDY4XSwgWy03Ni41ODg2OTYsIDM5LjI4MTkzM10sIFstNzYuNTg4Mzc0LCAzOS4yODE5MzZdLCBbLTc2LjU4ODM1NiwgMzkuMjgxODQ3XSwgWy03Ni41ODgxMDEsIDM5LjI4MTg1N10sIFstNzYuNTg4MDkzLCAzOS4yODE4MTFdLCBbLTc2LjU4ODYxMSwgMzkuMjgxNzc4XSwgWy03Ni41ODg1OTIsIDM5LjI4MTQxOV0sIFstNzYuNTg4NTA5LCAzOS4yODEzNzFdLCBbLTc2LjU4ODExMywgMzkuMjgxMzczXSwgWy03Ni41ODc5MTMsIDM5LjI4MTQyNV0sIFstNzYuNTg3Njk1LCAzOS4yODE0MzJdLCBbLTc2LjU4NzY2NywgMzkuMjgxNDQ5XSwgWy03Ni41ODc0MTcsIDM5LjI4MTQ1OV0sIFstNzYuNTg3MzI4LCAzOS4yODEyNzVdLCBbLTc2LjU4NzMwNiwgMzkuMjgwOTk2XSwgWy03Ni41ODczMzQsIDM5LjI4MDk1XSwgWy03Ni41ODczNCwgMzkuMjgwNjQzXSwgWy03Ni41ODcyNzQsIDM5LjI4MDMzMl0sIFstNzYuNTg3MzA2LCAzOS4yODAyMjJdLCBbLTc2LjU4NzQ0MywgMzkuMjgwMTddLCBbLTc2LjU4NzY4NCwgMzkuMjgwMTQ5XSwgWy03Ni41ODc3NywgMzkuMjgwMTY0XSwgWy03Ni41ODc4MiwgMzkuMjgwMTM5XSwgWy03Ni41ODcxMzgsIDM5LjI3OTUwOF0sIFstNzYuNTg3MTM2LCAzOS4yNzk0MzFdLCBbLTc2LjU4NzU4NCwgMzkuMjc5MTk4XSwgWy03Ni41ODc2OCwgMzkuMjc5MjU5XSwgWy03Ni41ODc3MywgMzkuMjc5MjU2XSwgWy03Ni41ODg2NDgsIDM5LjI4MDA0M10sIFstNzYuNTg4ODk5LCAzOS4yNzk4NzhdLCBbLTc2LjU4ODgzNiwgMzkuMjc5ODExXSwgWy03Ni41ODkzODgsIDM5LjI3OTQ0OV0sIFstNzYuNTkwNDUxLCAzOS4yODAzNl0sIFstNzYuNTkwODE2LCAzOS4yODAxMTFdLCBbLTc2LjU5MTAwNiwgMzkuMjgwMjgxXSwgWy03Ni41OTA2MDksIDM5LjI4MDU3Nl0sIFstNzYuNTkwOTAzLCAzOS4yODA4MjFdLCBbLTc2LjU5MDk5NywgMzkuMjgwOTgxXSwgWy03Ni41OTEwMjMsIDM5LjI4MTEyOV0sIFstNzYuNTkxMTE5LCAzOS4yODExMzZdLCBbLTc2LjU5MTE1NiwgMzkuMjgxNzQ0XSwgWy03Ni41OTE4MTMsIDM5LjI4MTcyNl0sIFstNzYuNTkxNzU5LCAzOS4yODAzNDhdLCBbLTc2LjU5MjI5MywgMzkuMjgwMzQzXSwgWy03Ni41OTIzNTIsIDM5LjI4MTcwNl0sIFstNzYuNTkzMDM0LCAzOS4yODE2ODJdLCBbLTc2LjU5Mjk1MywgMzkuMjgwMzE4XSwgWy03Ni41OTMwODIsIDM5LjI4MDMyNF0sIFstNzYuNTkzMTYxLCAzOS4yODA5OTJdLCBbLTc2LjU5MzI4OCwgMzkuMjgwOTQ5XSwgWy03Ni41OTQwMjEsIDM5LjI4MDU3MV0sIFstNzYuNTkzODE3LCAzOS4yODAyNThdLCBbLTc2LjU5NDIyLCAzOS4yODAwNzNdLCBbLTc2LjU5NDUyMSwgMzkuMjgwMzg1XSwgWy03Ni41OTQ2MzcsIDM5LjI4MDI4OV0sIFstNzYuNTk0MzQ1LCAzOS4yNzk5NjJdLCBbLTc2LjU5NDMyOCwgMzkuMjc5Nzg5XSwgWy03Ni41OTQ4MzQsIDM5LjI4MDEyM10sIFstNzYuNTk1MDMxLCAzOS4yNzk5OTldLCBbLTc2LjU5NTExMiwgMzkuMjc5OTAzXSwgWy03Ni41OTUyOTksIDM5LjI3OTg3Nl0sIFstNzYuNTk1MjczLCAzOS4yNzk3MzddLCBbLTc2LjU5NTU2LCAzOS4yNzk1NTVdLCBbLTc2LjU5NTc4MywgMzkuMjc5NDI3XSwgWy03Ni41OTU2NSwgMzkuMjc5MzA5XSwgWy03Ni41OTYwODgsIDM5LjI3OTAxOV0sIFstNzYuNTk2MjU3LCAzOS4yNzkwMjddLCBbLTc2LjU5NjQ4OCwgMzkuMjc5MDk3XSwgWy03Ni41OTY0NjEsIDM5LjI3OTIwMV0sIFstNzYuNTk2NjM5LCAzOS4yNzkyMTVdLCBbLTc2LjU5NjY3NiwgMzkuMjc5MDA4XSwgWy03Ni41OTY3NTcsIDM5LjI3ODk1OV0sIFstNzYuNTk3OTY4LCAzOS4yNzkwMzNdLCBbLTc2LjU5ODAzMSwgMzkuMjc4OTVdLCBbLTc2LjU5ODE0NywgMzkuMjc4OTQzXSwgWy03Ni41OTkwNjQsIDM5LjI3OTA4NV0sIFstNzYuNTk5NjUzLCAzOS4yNzg4NTldLCBbLTc2LjYwMDEzMywgMzkuMjc5MTNdLCBbLTc2LjYwMDY1NywgMzkuMjc5NDU4XSwgWy03Ni42MDA3MzQsIDM5LjI3OTk4NF0sIFstNzYuNjAwMjYzLCAzOS4yODE1MTZdLCBbLTc2LjU5Njc2LCAzOS4yODE2MDNdLCBbLTc2LjU5Njc2LCAzOS4yODE3NDddLCBbLTc2LjU5ODc4OSwgMzkuMjgxNjkzXSwgWy03Ni41OTg3OTEsIDM5LjI4MjAyN10sIFstNzYuNTk2Njg3LCAzOS4yODIxMTddLCBbLTc2LjU5NjcwMiwgMzkuMjgyMzIyXSwgWy03Ni41OTg4LCAzOS4yODIyNDddLCBbLTc2LjYwMjM2MiwgMzkuMjgyMTM0XSwgWy03Ni42MDI4OCwgMzkuMjgyMDkxXSwgWy03Ni42MDI5NjIsIDM5LjI4MjE3OF0sIFstNzYuNjAyOTczLCAzOS4yODIyNjJdLCBbLTc2LjYwMjk0MiwgMzkuMjgyMzY5XSwgWy03Ni42MDI4ODEsIDM5LjI4MjQzMV0sIFstNzYuNjAzMjg2LCAzOS4yODI5Nl0sIFstNzYuNjAzNjQsIDM5LjI4NDAzNV0sIFstNzYuNjA0LCAzOS4yODQ5ODNdLCBbLTc2LjYwNDE2OCwgMzkuMjg1MDgzXSwgWy03Ni42MDQwNzIsIDM5LjI4NTE5OV0sIFstNzYuNjA0Mzc2LCAzOS4yODYwNzldLCBbLTc2LjYwNDY0NSwgMzkuMjg2ODM2XSwgWy03Ni42MDQ2ODgsIDM5LjI4Njk2N10sIFstNzYuNjA1MDQ4LCAzOS4yODgwMDNdLCBbLTc2LjYwNDk0OCwgMzkuMjg4MTQzXSwgWy03Ni42MDQ3OTQsIDM5LjI4ODE5NF0sIFstNzYuNjA0NywgMzkuMjg4MjM1XSwgWy03Ni42MDQ3NTksIDM5LjI4ODM5MV0sIFstNzYuNjA1NDgsIDM5LjI4OTY0OV0sIFstNzYuNjA1NzczLCAzOS4yODk5NjhdLCBbLTc2LjYwNjI1MywgMzkuMjkwNjU3XSwgWy03Ni42MDY0NiwgMzkuMjkwNjAxXSwgWy03Ni42MDY1MTEsIDM5LjI5MDY1MV0sIFstNzYuNjA2NzMzLCAzOS4yOTExNDhdLCBbLTc2LjYwNzExNiwgMzkuMjkxNzQ3XSwgWy03Ni42MDc3MDcsIDM5LjI5MjIxN10sIFstNzYuNjA4NDc5LCAzOS4yOTI3MzFdLCBbLTc2LjYwODI4NiwgMzkuMjkyOTg0XSwgWy03Ni42MDgwMjksIDM5LjI5MzE4M10sIFstNzYuNjA3OTY1LCAzOS4yOTMyNzFdLCBbLTc2LjYwNzg2MiwgMzkuMjkzMzFdLCBbLTc2LjYwNzA0OSwgMzkuMjkzOTM3XSwgWy03Ni42MDYwODEsIDM5LjI5NDY3OF0sIFstNzYuNjA1NDgyLCAzOS4yOTQ2OTRdLCBbLTc2LjYwNDk0LCAzOS4yOTQ2NzJdLCBbLTc2LjYwNDQwNCwgMzkuMjk0Njk5XSwgWy03Ni42MDM0MjMsIDM5LjI5NDczNl0sIFstNzYuNjAyOTg5LCAzOS4yOTQ3MzldLCBbLTc2LjYwMTY5NywgMzkuMjk0OF0sIFstNzYuNjAxNTY4LCAzOS4yOTQ3OTZdLCBbLTc2LjU5OTY5MiwgMzkuMjk0ODg0XSwgWy03Ni41OTczOTIsIDM5LjI5NDk3Ml0sIFstNzYuNTk2NDYzLCAzOS4yOTUwMDJdLCBbLTc2LjU5NjE4MywgMzkuMjk1MDA4XSwgWy03Ni41OTU5OTQsIDM5LjI5NTAxMl0sIFstNzYuNTk1NjUyLCAzOS4yOTUwMzldLCBbLTc2LjU5Mzg1MSwgMzkuMjk1MTEyXSwgWy03Ni41OTE2NzksIDM5LjI5NTE2MV0sIFstNzYuNTkxMTg2LCAzOS4yOTUyMTFdLCBbLTc2LjU5MDY5NiwgMzkuMjk1MjQ0XSwgWy03Ni41ODg0NDEsIDM5LjI5NTMzM10sIFstNzYuNTg4NDEzLCAzOS4yOTUxNV0sIFstNzYuNTg4NDQ4LCAzOS4yOTUwNjFdLCBbLTc2LjU4ODQwMywgMzkuMjk0OTQ5XSwgWy03Ni41ODgzODEsIDM5LjI5NDc0Ml0sIFstNzYuNTg4MzY4LCAzOS4yOTQyODFdLCBbLTc2LjU4ODM2OSwgMzkuMjk0MDk4XSwgWy03Ni41ODc1NTYsIDM5LjI5NDEzXSwgWy03Ni41ODYzNDUsIDM5LjI5NDE5Nl0sIFstNzYuNTg0NzksIDM5LjI5NDI1OV0sIFstNzYuNTg0ODQ3LCAzOS4yOTUzOThdLCBbLTc2LjU4NDg4NiwgMzkuMjk1NTM0XSwgWy03Ni41ODQ4NjMsIDM5LjI5NTY2NF0sIFstNzYuNTg0OTI1LCAzOS4yOTY2MDldLCBbLTc2LjU4NDk5MiwgMzkuMjk3NDkxXSwgWy03Ni41ODUwNTUsIDM5LjI5ODY2NF0sIFstNzYuNTgzNzE2LCAzOS4yOTg3NDVdLCBbLTc2LjU4MjMwNywgMzkuMjk4OF0sIFstNzYuNTgwODMyLCAzOS4yOTg4NTldLCBbLTc2LjU3ODc2MywgMzkuMjk4OTM4XSwgWy03Ni41NzY1ODUsIDM5LjI5OTAzM10sIFstNzYuNTc1MjI2LCAzOS4yOTkwOF0sIFstNzYuNTc0Njk0LCAzOS4yOTkwOTRdLCBbLTc2LjU3NDUyOCwgMzkuMjk5MTI2XSwgWy03Ni41NzQ0NDUsIDM5LjI5OTExM10sIFstNzYuNTczODE5LCAzOS4yOTkxMzVdLCBbLTc2LjU3MzA5NSwgMzkuMjk5MTU3XSwgWy03Ni41NzI3NDMsIDM5LjI5OTE3NV0sIFstNzYuNTcyNjQ1LCAzOS4yOTkxOTVdLCBbLTc2LjU3MjU0MSwgMzkuMjk5MTcxXSwgWy03Ni41NzIyNjcsIDM5LjI5OTIxXSwgWy03Ni41NzIwODYsIDM5LjI5OTE5OV0sIFstNzYuNTY5ODU2LCAzOS4yOTkyODldLCBbLTc2LjU2NzE1NSwgMzkuMjk5Mzk2XSwgWy03Ni41NjY5ODYsIDM5LjI5NzQwNl0sIFstNzYuNTY3MTIyLCAzOS4yOTcyNjJdLCBbLTc2LjU2Nzg1MSwgMzkuMjk3MjEyXSwgWy03Ni41Njc3MTYsIDM5LjI5NjI0NV0sIFstNzYuNTY2NDU0LCAzOS4yOTY0NDNdLCBbLTc2LjU2MzUwNCwgMzkuMjk2ODYzXSwgWy03Ni41NjMwMDEsIDM5LjI5NzAyMl0sIFstNzYuNTYxMjI5LCAzOS4yOTc0NDVdLCBbLTc2LjU2MTA5LCAzOS4yOTc1MzddLCBbLTc2LjU2MDI4LCAzOS4yOTc3N10sIFstNzYuNTU4OTk5LCAzOS4yOTgxNThdLCBbLTc2LjU1ODA0MSwgMzkuMjk4NDc2XSwgWy03Ni41NTU4MDEsIDM5LjI5OTIyNV0sIFstNzYuNTU0NTc2LCAzOS4yOTk2MzVdLCBbLTc2LjU1NDEzNCwgMzkuMjk5NzRdLCBbLTc2LjU1MzAxLCAzOS4zMDAwNThdLCBbLTc2LjU1MDU5NiwgMzkuMzAwODVdLCBbLTc2LjU1MDQwMywgMzkuMzAwOTM3XSwgWy03Ni41NDk3ODIsIDM5LjMwMTE1M10sIFstNzYuNTQ3NjM5LCAzOS4zMDE4MzVdLCBbLTc2LjU0NjA0MiwgMzkuMzAyMzA5XSwgWy03Ni41NDEyODcsIDM5LjMwMzY3XSwgWy03Ni41Mzk1MzQsIDM5LjMwNDI1XSwgWy03Ni41Mzc4NTYsIDM5LjMwNDk4Ml0sIFstNzYuNTM2MzIxLCAzOS4zMDU2NzNdLCBbLTc2LjUzNDExNCwgMzkuMzA3MDkxXSwgWy03Ni41MzM0NCwgMzkuMzA3NTM0XSwgWy03Ni41MzMxMjYsIDM5LjMwNzcxNV0sIFstNzYuNTMyMTQ4LCAzOS4zMDgzODNdLCBbLTc2LjUzMDgxOSwgMzkuMzA5MzAzXSwgWy03Ni41Mjk5NzQsIDM5LjMwOTg5NF0sIFstNzYuNTI5NzQ1LCAzOS4zMTAwMDhdLCBbLTc2LjUyOTc0OSwgMzkuMzA1ODg0XSwgWy03Ni41Mjk3NTcsIDM5LjI5ODk1MV0sIFstNzYuNTI5NzYsIDM5LjI5NjgyOF1dXV0sICJ0eXBlIjogIk11bHRpUG9seWdvbiJ9LCAicHJvcGVydGllcyI6IHsiZGVzY3JpcHRpbyI6ICIiLCAibmFtZSI6ICJTT1VUSEVBU1QifSwgInR5cGUiOiAiRmVhdHVyZSJ9LCB7Imdlb21ldHJ5IjogeyJjb29yZGluYXRlcyI6IFtbW1stNzYuNTk2NTE1LCAzOS4zMTY4NTldLCBbLTc2LjU5NTQzNywgMzkuMzE2NjEyXSwgWy03Ni41OTUzMjMsIDM5LjMxNjY5NV0sIFstNzYuNTk1MTE3LCAzOS4zMTY4NzVdLCBbLTc2LjU5NDc3NywgMzkuMzE3MjE1XSwgWy03Ni41OTExLCAzOS4zMTYzNjZdLCBbLTc2LjU5MTY5NywgMzkuMzE1NzY1XSwgWy03Ni41OTE4NDUsIDM5LjMxNTQ0N10sIFstNzYuNTkxODA2LCAzOS4zMTQ3MDFdLCBbLTc2LjU5MTc4MSwgMzkuMzE0MjRdLCBbLTc2LjU5MDU1NiwgMzkuMzE0MjVdLCBbLTc2LjU4ODc5NiwgMzkuMzE0MjU3XSwgWy03Ni41ODc2MywgMzkuMzE0MjY5XSwgWy03Ni41ODYwNTQsIDM5LjMxNDI2OF0sIFstNzYuNTg1ODkxLCAzOS4zMTQyNDldLCBbLTc2LjU4Mjc2NywgMzkuMzE0MjUxXSwgWy03Ni41ODIxMzQsIDM5LjMxNDIwNF0sIFstNzYuNTgxOTY4LCAzOS4zMTQxNDRdLCBbLTc2LjU3NDAwMiwgMzkuMzE0MjE5XSwgWy03Ni41NzMzMzgsIDM5LjMxNDIzNl0sIFstNzYuNTcyODY5LCAzOS4zMTQzMjJdLCBbLTc2LjU3MjY3NywgMzkuMzE0NDU1XSwgWy03Ni41NzIzMzQsIDM5LjMxNDQwNl0sIFstNzYuNTcxODYzLCAzOS4zMTQxMjRdLCBbLTc2LjU3MDkwMywgMzkuMzEzNDg3XSwgWy03Ni41NzA1NTksIDM5LjMxMzMyM10sIFstNzYuNTcwMTkxLCAzOS4zMTMyMzldLCBbLTc2LjU2ODM1LCAzOS4zMTMzMl0sIFstNzYuNTY3NzI5LCAzOS4zMTMzNTddLCBbLTc2LjU2NzE2MiwgMzkuMzEyNjRdLCBbLTc2LjU2NjU3MywgMzkuMzEyMDY3XSwgWy03Ni41NjY0MSwgMzkuMzExOTc5XSwgWy03Ni41NjYzMDQsIDM5LjMxMTgzNF0sIFstNzYuNTY0NjM0LCAzOS4zMTA1MjldLCBbLTc2LjU2MjU2NiwgMzkuMzA5MDc0XSwgWy03Ni41NjIzODcsIDM5LjMwODk3M10sIFstNzYuNTYyMjk3LCAzOS4zMDg4NTldLCBbLTc2LjU2MDAyOCwgMzkuMzA3MjAyXSwgWy03Ni41NTkzMjMsIDM5LjMwNjcyNF0sIFstNzYuNTU5MTI0LCAzOS4zMDY1NTZdLCBbLTc2LjU1NTQ1OSwgMzkuMzA0MTM1XSwgWy03Ni41NTA3OTcsIDM5LjMwMTA1XSwgWy03Ni41NTA1OTYsIDM5LjMwMDg1XSwgWy03Ni41NTMwMSwgMzkuMzAwMDU4XSwgWy03Ni41NTQxMzQsIDM5LjI5OTc0XSwgWy03Ni41NTQ1NzYsIDM5LjI5OTYzNV0sIFstNzYuNTU1ODAxLCAzOS4yOTkyMjVdLCBbLTc2LjU1ODA0MSwgMzkuMjk4NDc2XSwgWy03Ni41NTg5OTksIDM5LjI5ODE1OF0sIFstNzYuNTYwMjgsIDM5LjI5Nzc3XSwgWy03Ni41NjEwOSwgMzkuMjk3NTM3XSwgWy03Ni41NjEyMjksIDM5LjI5NzQ0NV0sIFstNzYuNTYzMDAxLCAzOS4yOTcwMjJdLCBbLTc2LjU2MzUwNCwgMzkuMjk2ODYzXSwgWy03Ni41NjY0NTQsIDM5LjI5NjQ0M10sIFstNzYuNTY3NzE2LCAzOS4yOTYyNDVdLCBbLTc2LjU2Nzg1MSwgMzkuMjk3MjEyXSwgWy03Ni41NjcxMjIsIDM5LjI5NzI2Ml0sIFstNzYuNTY2OTg2LCAzOS4yOTc0MDZdLCBbLTc2LjU2NzE1NSwgMzkuMjk5Mzk2XSwgWy03Ni41Njk4NTYsIDM5LjI5OTI4OV0sIFstNzYuNTcyMDg2LCAzOS4yOTkxOTldLCBbLTc2LjU3MjI2NywgMzkuMjk5MjFdLCBbLTc2LjU3MjU0MSwgMzkuMjk5MTcxXSwgWy03Ni41NzI2NDUsIDM5LjI5OTE5NV0sIFstNzYuNTcyNzQzLCAzOS4yOTkxNzVdLCBbLTc2LjU3MzA5NSwgMzkuMjk5MTU3XSwgWy03Ni41NzM4MTksIDM5LjI5OTEzNV0sIFstNzYuNTc0NDQ1LCAzOS4yOTkxMTNdLCBbLTc2LjU3NDUyOCwgMzkuMjk5MTI2XSwgWy03Ni41NzQ2OTQsIDM5LjI5OTA5NF0sIFstNzYuNTc1MjI2LCAzOS4yOTkwOF0sIFstNzYuNTc2NTg1LCAzOS4yOTkwMzNdLCBbLTc2LjU3ODc2MywgMzkuMjk4OTM4XSwgWy03Ni41ODA4MzIsIDM5LjI5ODg1OV0sIFstNzYuNTgyMzA3LCAzOS4yOTg4XSwgWy03Ni41ODM3MTYsIDM5LjI5ODc0NV0sIFstNzYuNTg1MDU1LCAzOS4yOTg2NjRdLCBbLTc2LjU4NDk5MiwgMzkuMjk3NDkxXSwgWy03Ni41ODQ5MjUsIDM5LjI5NjYwOV0sIFstNzYuNTg0ODYzLCAzOS4yOTU2NjRdLCBbLTc2LjU4NDg4NiwgMzkuMjk1NTM0XSwgWy03Ni41ODQ4NDcsIDM5LjI5NTM5OF0sIFstNzYuNTg0NzksIDM5LjI5NDI1OV0sIFstNzYuNTg2MzQ1LCAzOS4yOTQxOTZdLCBbLTc2LjU4NzU1NiwgMzkuMjk0MTNdLCBbLTc2LjU4ODM2OSwgMzkuMjk0MDk4XSwgWy03Ni41ODgzNjgsIDM5LjI5NDI4MV0sIFstNzYuNTg4MzgxLCAzOS4yOTQ3NDJdLCBbLTc2LjU4ODQwMywgMzkuMjk0OTQ5XSwgWy03Ni41ODg0NDgsIDM5LjI5NTA2MV0sIFstNzYuNTg4NDEzLCAzOS4yOTUxNV0sIFstNzYuNTg4NDQxLCAzOS4yOTUzMzNdLCBbLTc2LjU5MDY5NiwgMzkuMjk1MjQ0XSwgWy03Ni41OTExODYsIDM5LjI5NTIxMV0sIFstNzYuNTkxNjc5LCAzOS4yOTUxNjFdLCBbLTc2LjU5Mzg1MSwgMzkuMjk1MTEyXSwgWy03Ni41OTU2NTIsIDM5LjI5NTAzOV0sIFstNzYuNTk1OTk0LCAzOS4yOTUwMTJdLCBbLTc2LjU5NjE4MywgMzkuMjk1MDA4XSwgWy03Ni41OTY0NjMsIDM5LjI5NTAwMl0sIFstNzYuNTk3MzkyLCAzOS4yOTQ5NzJdLCBbLTc2LjU5OTY5MiwgMzkuMjk0ODg0XSwgWy03Ni42MDE1NjgsIDM5LjI5NDc5Nl0sIFstNzYuNjAxNjk3LCAzOS4yOTQ4XSwgWy03Ni42MDI5ODksIDM5LjI5NDczOV0sIFstNzYuNjAzNDIzLCAzOS4yOTQ3MzZdLCBbLTc2LjYwNDQwNCwgMzkuMjk0Njk5XSwgWy03Ni42MDQ5NCwgMzkuMjk0NjcyXSwgWy03Ni42MDU0ODIsIDM5LjI5NDY5NF0sIFstNzYuNjA2MDgxLCAzOS4yOTQ2NzhdLCBbLTc2LjYwNzA0OSwgMzkuMjkzOTM3XSwgWy03Ni42MDc4NjIsIDM5LjI5MzMxXSwgWy03Ni42MDc5NjUsIDM5LjI5MzI3MV0sIFstNzYuNjA4MDI5LCAzOS4yOTMxODNdLCBbLTc2LjYwODI4NiwgMzkuMjkyOTg0XSwgWy03Ni42MDg0NzksIDM5LjI5MjczMV0sIFstNzYuNjA4NTg3LCAzOS4yOTI3OTJdLCBbLTc2LjYwOTQxMywgMzkuMjkzMzAyXSwgWy03Ni42MDk2OTYsIDM5LjI5MzU3OF0sIFstNzYuNjA5OTM5LCAzOS4yOTM4OV0sIFstNzYuNjEwMTI2LCAzOS4yOTQxMl0sIFstNzYuNjEwMjc1LCAzOS4yOTQ1NTZdLCBbLTc2LjYxMTI3MSwgMzkuMjk0NTM4XSwgWy03Ni42MTEzMzQsIDM5LjI5NjQ4XSwgWy03Ni42MTEzOSwgMzkuMjk3NjkyXSwgWy03Ni42MTE1MTEsIDM5LjI5ODc0OF0sIFstNzYuNjExNTk2LCAzOS4yOTk3ODFdLCBbLTc2LjYxMTczNSwgMzkuMzAxMTg1XSwgWy03Ni42MTE4MjcsIDM5LjMwMjUwNV0sIFstNzYuNjEwODk0LCAzOS4zMDI1MzVdLCBbLTc2LjYxMDg5NCwgMzkuMzAyNTM5XSwgWy03Ni42MTA5MDcsIDM5LjMwMjY5NV0sIFstNzYuNjExMDg5LCAzOS4zMDI5NzJdLCBbLTc2LjYxMTUxNSwgMzkuMzAzMjZdLCBbLTc2LjYxMTcwNiwgMzkuMzAzNTM2XSwgWy03Ni42MTE3MzgsIDM5LjMwMzYxM10sIFstNzYuNjExNzI3LCAzOS4zMDM3MDhdLCBbLTc2LjYxMTgwNywgMzkuMzA0NjI1XSwgWy03Ni42MTE4MDcsIDM5LjMwNDYyNV0sIFstNzYuNjExODA3LCAzOS4zMDQ2MjldLCBbLTc2LjYxMTgwNywgMzkuMzA0NjI4XSwgWy03Ni42MTE3OTEsIDM5LjMwNDk2OV0sIFstNzYuNjExODU3LCAzOS4zMDUyODVdLCBbLTc2LjYxMTk2LCAzOS4zMDU0NzJdLCBbLTc2LjYxMjAwMywgMzkuMzA2MDE4XSwgWy03Ni42MTIwNjcsIDM5LjMwNjcwOV0sIFstNzYuNjEyMTY5LCAzOS4zMDc4MDNdLCBbLTc2LjYxMzUxMiwgMzkuMzA3NzU3XSwgWy03Ni42MTM1ODcsIDM5LjMwODgwN10sIFstNzYuNjEzNTk1LCAzOS4zMDg5MzddLCBbLTc2LjYxMzYzMiwgMzkuMzA5MzUxXSwgWy03Ni42MTM2NDQsIDM5LjMwOTc1Nl0sIFstNzYuNjEzNzI5LCAzOS4zMTA5NzldLCBbLTc2LjYxMzc1LCAzOS4zMTEzMzRdLCBbLTc2LjYxMzc5OSwgMzkuMzEyMjc1XSwgWy03Ni42MTI1MzMsIDM5LjMxMjMyN10sIFstNzYuNjEyNDQ2LCAzOS4zMTI0N10sIFstNzYuNjEyNDk3LCAzOS4zMTMyNzRdLCBbLTc2LjYxMjUzMiwgMzkuMzEzMzk2XSwgWy03Ni42MTI1MjYsIDM5LjMxMzU3Nl0sIFstNzYuNjEyNTY4LCAzOS4zMTQzNV0sIFstNzYuNjEyNTg5LCAzOS4zMTQ4NTldLCBbLTc2LjYxMjYyNiwgMzkuMzE0OTE4XSwgWy03Ni42MTI2MDUsIDM5LjMxNTAxXSwgWy03Ni42MTI2MjQsIDM5LjMxNTM1XSwgWy03Ni42MTI2NjcsIDM5LjMxNTQ0Ml0sIFstNzYuNjEyNjM0LCAzOS4zMTU1NTVdLCBbLTc2LjYxMjY5NCwgMzkuMzE2MzUyXSwgWy03Ni42MTI3MiwgMzkuMzE2NTAzXSwgWy03Ni42MTI3MDMsIDM5LjMxNjYzMl0sIFstNzYuNjEyNzYzLCAzOS4zMTc1MjFdLCBbLTc2LjYxMjc4MSwgMzkuMzE3NTk3XSwgWy03Ni42MTI4LCAzOS4zMTc5NDFdLCBbLTc2LjYxMTM3NCwgMzkuMzE4MDA3XSwgWy03Ni42MDk0NjMsIDM5LjMxODA3Nl0sIFstNzYuNjA3MDIyLCAzOS4zMTgxNjVdLCBbLTc2LjYwNjY4OSwgMzkuMzE4MTcyXSwgWy03Ni42MDQ1MjUsIDM5LjMxODI1N10sIFstNzYuNjAyNzI4LCAzOS4zMTgyOTJdLCBbLTc2LjYwMjA0LCAzOS4zMTgxNjNdLCBbLTc2LjU5OTk5LCAzOS4zMTc2OTJdLCBbLTc2LjU5OTA5LCAzOS4zMTc0NzFdLCBbLTc2LjU5ODIyMywgMzkuMzE3MjcxXSwgWy03Ni41OTczMjgsIDM5LjMxNzA3MV0sIFstNzYuNTk2NTE1LCAzOS4zMTY4NTldXV1dLCAidHlwZSI6ICJNdWx0aVBvbHlnb24ifSwgInByb3BlcnRpZXMiOiB7ImRlc2NyaXB0aW8iOiAiIiwgIm5hbWUiOiAiRUFTVEVSTiJ9LCAidHlwZSI6ICJGZWF0dXJlIn0sIHsiZ2VvbWV0cnkiOiB7ImNvb3JkaW5hdGVzIjogW1tbWy03Ni41Mjk2OTMsIDM5LjM1NTVdLCBbLTc2LjUyOTcwMSwgMzkuMzQ4NTg4XSwgWy03Ni41Mjk3MDgsIDM5LjM0MTg1M10sIFstNzYuNTI5NzE1LCAzOS4zMzU3OF0sIFstNzYuNTI5NzIxLCAzOS4zMzEwNTVdLCBbLTc2LjUyOTcyNiwgMzkuMzI2NTE4XSwgWy03Ni41Mjk3MzEsIDM5LjMyMjM2Ml0sIFstNzYuNTI5NzM0LCAzOS4zMTk3MjFdLCBbLTc2LjUyOTczNCwgMzkuMzE5MTgxXSwgWy03Ni41Mjk3MzUsIDM5LjMxODM4MV0sIFstNzYuNTI5NzM2LCAzOS4zMTc3OF0sIFstNzYuNTI5NzM2LCAzOS4zMTczODddLCBbLTc2LjUyOTczNiwgMzkuMzE3MTRdLCBbLTc2LjUyOTczNywgMzkuMzE2ODkzXSwgWy03Ni41Mjk3MzcsIDM5LjMxNjQ1M10sIFstNzYuNTI5NzQ1LCAzOS4zMTAwMDhdLCBbLTc2LjUyOTk3NCwgMzkuMzA5ODk0XSwgWy03Ni41MzA4MTksIDM5LjMwOTMwM10sIFstNzYuNTMyMTQ4LCAzOS4zMDgzODNdLCBbLTc2LjUzMzEyNiwgMzkuMzA3NzE1XSwgWy03Ni41MzM0NCwgMzkuMzA3NTM0XSwgWy03Ni41MzQxMTQsIDM5LjMwNzA5MV0sIFstNzYuNTM2MzIxLCAzOS4zMDU2NzNdLCBbLTc2LjUzNzg1NiwgMzkuMzA0OTgyXSwgWy03Ni41Mzk1MzQsIDM5LjMwNDI1XSwgWy03Ni41NDEyODcsIDM5LjMwMzY3XSwgWy03Ni41NDYwNDIsIDM5LjMwMjMwOV0sIFstNzYuNTQ3NjM5LCAzOS4zMDE4MzVdLCBbLTc2LjU0OTc4MiwgMzkuMzAxMTUzXSwgWy03Ni41NTA0MDMsIDM5LjMwMDkzN10sIFstNzYuNTUwNTk2LCAzOS4zMDA4NV0sIFstNzYuNTUwNzk3LCAzOS4zMDEwNV0sIFstNzYuNTU1NDU5LCAzOS4zMDQxMzVdLCBbLTc2LjU1OTEyNCwgMzkuMzA2NTU2XSwgWy03Ni41NTkzMjMsIDM5LjMwNjcyNF0sIFstNzYuNTYwMDI4LCAzOS4zMDcyMDJdLCBbLTc2LjU2MjI5NywgMzkuMzA4ODU5XSwgWy03Ni41NjIzODcsIDM5LjMwODk3M10sIFstNzYuNTYyNTY2LCAzOS4zMDkwNzRdLCBbLTc2LjU2NDYzNCwgMzkuMzEwNTI5XSwgWy03Ni41NjYzMDQsIDM5LjMxMTgzNF0sIFstNzYuNTY2NDEsIDM5LjMxMTk3OV0sIFstNzYuNTY2NTczLCAzOS4zMTIwNjddLCBbLTc2LjU2NzE2MiwgMzkuMzEyNjRdLCBbLTc2LjU2NzcyOSwgMzkuMzEzMzU3XSwgWy03Ni41NjgzNSwgMzkuMzEzMzJdLCBbLTc2LjU3MDE5MSwgMzkuMzEzMjM5XSwgWy03Ni41NzA1NTksIDM5LjMxMzMyM10sIFstNzYuNTcwOTAzLCAzOS4zMTM0ODddLCBbLTc2LjU3MTg2MywgMzkuMzE0MTI0XSwgWy03Ni41NzIzMzQsIDM5LjMxNDQwNl0sIFstNzYuNTcyNjc3LCAzOS4zMTQ0NTVdLCBbLTc2LjU3Mjg2OSwgMzkuMzE0MzIyXSwgWy03Ni41NzMzMzgsIDM5LjMxNDIzNl0sIFstNzYuNTc0MDAyLCAzOS4zMTQyMTldLCBbLTc2LjU4MTk2OCwgMzkuMzE0MTQ0XSwgWy03Ni41ODIxMzQsIDM5LjMxNDIwNF0sIFstNzYuNTgyNzY3LCAzOS4zMTQyNTFdLCBbLTc2LjU4NTg5MSwgMzkuMzE0MjQ5XSwgWy03Ni41ODYwNTQsIDM5LjMxNDI2OF0sIFstNzYuNTg3NjMsIDM5LjMxNDI2OV0sIFstNzYuNTg4Nzk2LCAzOS4zMTQyNTddLCBbLTc2LjU5MDU1NiwgMzkuMzE0MjVdLCBbLTc2LjU5MTc4MSwgMzkuMzE0MjRdLCBbLTc2LjU5MTgwNiwgMzkuMzE0NzAxXSwgWy03Ni41OTE4NDUsIDM5LjMxNTQ0N10sIFstNzYuNTkxNjk3LCAzOS4zMTU3NjVdLCBbLTc2LjU5MTEsIDM5LjMxNjM2Nl0sIFstNzYuNTk0Nzc3LCAzOS4zMTcyMTVdLCBbLTc2LjU5NTExNywgMzkuMzE2ODc1XSwgWy03Ni41OTUzMjMsIDM5LjMxNjY5NV0sIFstNzYuNTk1NDM3LCAzOS4zMTY2MTJdLCBbLTc2LjU5NjUxNSwgMzkuMzE2ODU5XSwgWy03Ni41OTczMjgsIDM5LjMxNzA3MV0sIFstNzYuNTk4MjIzLCAzOS4zMTcyNzFdLCBbLTc2LjU5OTA5LCAzOS4zMTc0NzFdLCBbLTc2LjU5OTk5LCAzOS4zMTc2OTJdLCBbLTc2LjYwMjA0LCAzOS4zMTgxNjNdLCBbLTc2LjYwMjcyOCwgMzkuMzE4MjkyXSwgWy03Ni42MDQ1MjUsIDM5LjMxODI1N10sIFstNzYuNjA2Njg5LCAzOS4zMTgxNzJdLCBbLTc2LjYwNzAyMiwgMzkuMzE4MTY1XSwgWy03Ni42MDU2MDksIDM5LjMxOTQyOF0sIFstNzYuNjA1MjY3LCAzOS4zMTk3NDhdLCBbLTc2LjYwMzUyNCwgMzkuMzIxNTI2XSwgWy03Ni42MDI2NzEsIDM5LjMyMjM0Ml0sIFstNzYuNjAxOTMsIDM5LjMyMzEwOF0sIFstNzYuNjAwOTc1LCAzOS4zMjQxMTJdLCBbLTc2LjYwMDg5OSwgMzkuMzI0MjM5XSwgWy03Ni42MDA3NzEsIDM5LjMyNDMwOF0sIFstNzYuNjAwMzY4LCAzOS4zMjQ3MDFdLCBbLTc2LjYwMDMyNSwgMzkuMzI0Nzc3XSwgWy03Ni42MDAzMTUsIDM5LjMyNDg3MV0sIFstNzYuNjAyNDg3LCAzOS4zMjU3MDddLCBbLTc2LjYwNDEzLCAzOS4zMjYzNzddLCBbLTc2LjYwMzUyNCwgMzkuMzI3NDE4XSwgWy03Ni42MDM1MTksIDM5LjMyODI3OV0sIFstNzYuNjAzNTU0LCAzOS4zMjg0MDFdLCBbLTc2LjYwMzUxNywgMzkuMzI4NThdLCBbLTc2LjYwMzUwNiwgMzkuMzI5ODY2XSwgWy03Ni42MDM0OTcsIDM5LjMzMTU2M10sIFstNzYuNjAzNTc5LCAzOS4zMzE2NDJdLCBbLTc2LjYwMzU0OSwgMzkuMzMxNzI4XSwgWy03Ni42MDM1NTMsIDM5LjMzMjEyNl0sIFstNzYuNjA0MjYzLCAzOS4zMzM2NzFdLCBbLTc2LjYwNDQ5NiwgMzkuMzM0MTYxXSwgWy03Ni42MDQ4NjgsIDM5LjMzNTAyMl0sIFstNzYuNjA1MDI1LCAzOS4zMzUyNDJdLCBbLTc2LjYwNTEzNSwgMzkuMzM1MzRdLCBbLTc2LjYwNTE5NiwgMzkuMzM1NDE3XSwgWy03Ni42MDU0NjUsIDM5LjMzNTYzNF0sIFstNzYuNjA1NzEyLCAzOS4zMzU3NzVdLCBbLTc2LjYwNjM1OSwgMzkuMzM2MDM4XSwgWy03Ni42MDQzMjksIDM5LjMzNzAxOF0sIFstNzYuNjAyNzE0LCAzOS4zMzc4Ml0sIFstNzYuNjAyNTYsIDM5LjMzNzkyNF0sIFstNzYuNjAyNDMsIDM5LjMzNzk1MV0sIFstNzYuNjAyMTU4LCAzOS4zMzgyNDhdLCBbLTc2LjYwMTk2NywgMzkuMzM4NTM1XSwgWy03Ni42MDE3NywgMzkuMzM5MDM4XSwgWy03Ni42MDE2MjEsIDM5LjMzOTI4XSwgWy03Ni42MDEwNTksIDM5LjMzOTY5OV0sIFstNzYuNjAwNDEsIDM5LjM0MDAwOF0sIFstNzYuNjAwMTIzLCAzOS4zNDAwMDJdLCBbLTc2LjYwMDEwMiwgMzkuMzQwMTY3XSwgWy03Ni41OTk5NTUsIDM5LjM0MTQ2NV0sIFstNzYuNTk5ODcyLCAzOS4zNDI3NV0sIFstNzYuNTk5NzYsIDM5LjM0MzcxMV0sIFstNzYuNTk5Nzg3LCAzOS4zNDM3ODVdLCBbLTc2LjU5OTYxOCwgMzkuMzQ1MTUxXSwgWy03Ni41OTkyODMsIDM5LjM0NzI2MV0sIFstNzYuNTk5MDI2LCAzOS4zNDg5N10sIFstNzYuNTk4NzI0LCAzOS4zNTA4NzNdLCBbLTc2LjU5ODIzNCwgMzkuMzUzOTgyXSwgWy03Ni41OTgxNzcsIDM5LjM1NDA4M10sIFstNzYuNTk3NTY5LCAzOS4zNTM5ODldLCBbLTc2LjU5NzAxMiwgMzkuMzUzOTMxXSwgWy03Ni41OTU2MjMsIDM5LjM1MzkzOF0sIFstNzYuNTk1NzAyLCAzOS4zNTQ3MzRdLCBbLTc2LjU5NTg2MywgMzkuMzU1NzhdLCBbLTc2LjU5NjA5OSwgMzkuMzU2MTc5XSwgWy03Ni41OTU1ODUsIDM5LjM1NjgyNl0sIFstNzYuNTk1MjQ5LCAzOS4zNTc0MzFdLCBbLTc2LjU5NDgwMSwgMzkuMzU4MzY2XSwgWy03Ni41OTQ0MDEsIDM5LjM1OTI1NV0sIFstNzYuNTk0MzY4LCAzOS4zNTk1NjZdLCBbLTc2LjU5NDI1NCwgMzkuMzU5OTAyXSwgWy03Ni41OTQxNzYsIDM5LjM2MDY3OV0sIFstNzYuNTk0MTM3LCAzOS4zNjA4MV0sIFstNzYuNTkzOTE3LCAzOS4zNjI2OThdLCBbLTc2LjU5MzgwOCwgMzkuMzYzNDM2XSwgWy03Ni41OTM3MjksIDM5LjM2NDE0Ml0sIFstNzYuNTkzNjIxLCAzOS4zNjUxNDNdLCBbLTc2LjU5MzUxLCAzOS4zNjU4MzddLCBbLTc2LjU5MzQ5NCwgMzkuMzY2MDU1XSwgWy03Ni41OTM0MTMsIDM5LjM2NjE5OV0sIFstNzYuNTkzMjY0LCAzOS4zNjY4NjFdLCBbLTc2LjU5MzIyMywgMzkuMzY2OTkyXSwgWy03Ni41OTI5ODUsIDM5LjM2Nzk4Ml0sIFstNzYuNTkyOTI2LCAzOS4zNjgyNDhdLCBbLTc2LjU5Mjk1NywgMzkuMzY4NDk5XSwgWy03Ni41OTMxOTYsIDM5LjM2ODkwNl0sIFstNzYuNTkzODQyLCAzOS4zNzAxMjFdLCBbLTc2LjU5Mzk3LCAzOS4zNzAyMzRdLCBbLTc2LjU5NDAwMSwgMzkuMzcwMzcyXSwgWy03Ni41OTQzODIsIDM5LjM3MTAxMl0sIFstNzYuNTk0NiwgMzkuMzcxNDI1XSwgWy03Ni41OTQ4MTQsIDM5LjM3MTg2M10sIFstNzYuNTk0ODU3LCAzOS4zNzE5OTldLCBbLTc2LjU4ODg3NiwgMzkuMzcxOTk4XSwgWy03Ni41ODE5MjIsIDM5LjM3MTk5Nl0sIFstNzYuNTY5NzQ1LCAzOS4zNzE5OTNdLCBbLTc2LjU2MTUyOSwgMzkuMzcxOTldLCBbLTc2LjU0OTE0NSwgMzkuMzcxOTg0XSwgWy03Ni41NDQyOTQsIDM5LjM3MTk4MV0sIFstNzYuNTQwNSwgMzkuMzcxOTc5XSwgWy03Ni41MzQ5MTYsIDM5LjM3MTk3NV0sIFstNzYuNTI5Njc0LCAzOS4zNzE5NzJdLCBbLTc2LjUyOTY2MiwgMzkuMzY2MDk5XSwgWy03Ni41Mjk2NzgsIDM5LjM1OTE2M10sIFstNzYuNTI5Njc4LCAzOS4zNTYyNDddLCBbLTc2LjUyOTY5MywgMzkuMzU1NV1dXV0sICJ0eXBlIjogIk11bHRpUG9seWdvbiJ9LCAicHJvcGVydGllcyI6IHsiZGVzY3JpcHRpbyI6ICIiLCAibmFtZSI6ICJOT1JUSEVBU1QifSwgInR5cGUiOiAiRmVhdHVyZSJ9LCB7Imdlb21ldHJ5IjogeyJjb29yZGluYXRlcyI6IFtbW1stNzYuNTkyOTg1LCAzOS4zNjc5ODJdLCBbLTc2LjU5MzIyMywgMzkuMzY2OTkyXSwgWy03Ni41OTMyNjQsIDM5LjM2Njg2MV0sIFstNzYuNTkzNDEzLCAzOS4zNjYxOTldLCBbLTc2LjU5MzQ5NCwgMzkuMzY2MDU1XSwgWy03Ni41OTM1MSwgMzkuMzY1ODM3XSwgWy03Ni41OTM2MjEsIDM5LjM2NTE0M10sIFstNzYuNTkzNzI5LCAzOS4zNjQxNDJdLCBbLTc2LjU5MzgwOCwgMzkuMzYzNDM2XSwgWy03Ni41OTM5MTcsIDM5LjM2MjY5OF0sIFstNzYuNTk0MTM3LCAzOS4zNjA4MV0sIFstNzYuNTk0MTc2LCAzOS4zNjA2NzldLCBbLTc2LjU5NDI1NCwgMzkuMzU5OTAyXSwgWy03Ni41OTQzNjgsIDM5LjM1OTU2Nl0sIFstNzYuNTk0NDAxLCAzOS4zNTkyNTVdLCBbLTc2LjU5NDgwMSwgMzkuMzU4MzY2XSwgWy03Ni41OTUyNDksIDM5LjM1NzQzMV0sIFstNzYuNTk1NTg1LCAzOS4zNTY4MjZdLCBbLTc2LjU5NjA5OSwgMzkuMzU2MTc5XSwgWy03Ni41OTU4NjMsIDM5LjM1NTc4XSwgWy03Ni41OTU3MDIsIDM5LjM1NDczNF0sIFstNzYuNTk1NjIzLCAzOS4zNTM5MzhdLCBbLTc2LjU5NzAxMiwgMzkuMzUzOTMxXSwgWy03Ni41OTc1NjksIDM5LjM1Mzk4OV0sIFstNzYuNTk4MTc3LCAzOS4zNTQwODNdLCBbLTc2LjU5ODIzNCwgMzkuMzUzOTgyXSwgWy03Ni41OTg3MjQsIDM5LjM1MDg3M10sIFstNzYuNTk5MDI2LCAzOS4zNDg5N10sIFstNzYuNTk5MjgzLCAzOS4zNDcyNjFdLCBbLTc2LjU5OTYxOCwgMzkuMzQ1MTUxXSwgWy03Ni41OTk3ODcsIDM5LjM0Mzc4NV0sIFstNzYuNTk5NzYsIDM5LjM0MzcxMV0sIFstNzYuNTk5ODcyLCAzOS4zNDI3NV0sIFstNzYuNTk5OTU1LCAzOS4zNDE0NjVdLCBbLTc2LjYwMDEwMiwgMzkuMzQwMTY3XSwgWy03Ni42MDAxMjMsIDM5LjM0MDAwMl0sIFstNzYuNjAwNDEsIDM5LjM0MDAwOF0sIFstNzYuNjAxMDU5LCAzOS4zMzk2OTldLCBbLTc2LjYwMTYyMSwgMzkuMzM5MjhdLCBbLTc2LjYwMTc3LCAzOS4zMzkwMzhdLCBbLTc2LjYwMTk2NywgMzkuMzM4NTM1XSwgWy03Ni42MDIxNTgsIDM5LjMzODI0OF0sIFstNzYuNjAyNDMsIDM5LjMzNzk1MV0sIFstNzYuNjAyNTYsIDM5LjMzNzkyNF0sIFstNzYuNjAyNzE0LCAzOS4zMzc4Ml0sIFstNzYuNjA0MzI5LCAzOS4zMzcwMThdLCBbLTc2LjYwNjM1OSwgMzkuMzM2MDM4XSwgWy03Ni42MDU3MTIsIDM5LjMzNTc3NV0sIFstNzYuNjA1NDY1LCAzOS4zMzU2MzRdLCBbLTc2LjYwNTE5NiwgMzkuMzM1NDE3XSwgWy03Ni42MDUxMzUsIDM5LjMzNTM0XSwgWy03Ni42MDUwMjUsIDM5LjMzNTI0Ml0sIFstNzYuNjA0ODY4LCAzOS4zMzUwMjJdLCBbLTc2LjYwNDQ5NiwgMzkuMzM0MTYxXSwgWy03Ni42MDQyNjMsIDM5LjMzMzY3MV0sIFstNzYuNjAzNTUzLCAzOS4zMzIxMjZdLCBbLTc2LjYwMzU0OSwgMzkuMzMxNzI4XSwgWy03Ni42MDM1NzksIDM5LjMzMTY0Ml0sIFstNzYuNjAzNDk3LCAzOS4zMzE1NjNdLCBbLTc2LjYwMzUwNiwgMzkuMzI5ODY2XSwgWy03Ni42MDM1MTcsIDM5LjMyODU4XSwgWy03Ni42MDM1NTQsIDM5LjMyODQwMV0sIFstNzYuNjAzNTE5LCAzOS4zMjgyNzldLCBbLTc2LjYwMzUyNCwgMzkuMzI3NDE4XSwgWy03Ni42MDQxMywgMzkuMzI2Mzc3XSwgWy03Ni42MDI0ODcsIDM5LjMyNTcwN10sIFstNzYuNjAwMzE1LCAzOS4zMjQ4NzFdLCBbLTc2LjYwMDMyNSwgMzkuMzI0Nzc3XSwgWy03Ni42MDAzNjgsIDM5LjMyNDcwMV0sIFstNzYuNjAwNzcxLCAzOS4zMjQzMDhdLCBbLTc2LjYwMDg5OSwgMzkuMzI0MjM5XSwgWy03Ni42MDA5NzUsIDM5LjMyNDExMl0sIFstNzYuNjAxOTMsIDM5LjMyMzEwOF0sIFstNzYuNjAyNjcxLCAzOS4zMjIzNDJdLCBbLTc2LjYwMzUyNCwgMzkuMzIxNTI2XSwgWy03Ni42MDUyNjcsIDM5LjMxOTc0OF0sIFstNzYuNjA1NjA5LCAzOS4zMTk0MjhdLCBbLTc2LjYwNzAyMiwgMzkuMzE4MTY1XSwgWy03Ni42MDk0NjMsIDM5LjMxODA3Nl0sIFstNzYuNjExMzc0LCAzOS4zMTgwMDddLCBbLTc2LjYxMjgsIDM5LjMxNzk0MV0sIFstNzYuNjEyNzgxLCAzOS4zMTc1OTddLCBbLTc2LjYxMjc2MywgMzkuMzE3NTIxXSwgWy03Ni42MTI3MDMsIDM5LjMxNjYzMl0sIFstNzYuNjEyNzIsIDM5LjMxNjUwM10sIFstNzYuNjEyNjk0LCAzOS4zMTYzNTJdLCBbLTc2LjYxMjYzNCwgMzkuMzE1NTU1XSwgWy03Ni42MTI2NjcsIDM5LjMxNTQ0Ml0sIFstNzYuNjEyNjI0LCAzOS4zMTUzNV0sIFstNzYuNjEyNjA1LCAzOS4zMTUwMV0sIFstNzYuNjEyNjI2LCAzOS4zMTQ5MThdLCBbLTc2LjYxMjU4OSwgMzkuMzE0ODU5XSwgWy03Ni42MTI1NjgsIDM5LjMxNDM1XSwgWy03Ni42MTI1MjYsIDM5LjMxMzU3Nl0sIFstNzYuNjEyNTMyLCAzOS4zMTMzOTZdLCBbLTc2LjYxMjQ5NywgMzkuMzEzMjc0XSwgWy03Ni42MTI0NDYsIDM5LjMxMjQ3XSwgWy03Ni42MTI1MzMsIDM5LjMxMjMyN10sIFstNzYuNjEzNzk5LCAzOS4zMTIyNzVdLCBbLTc2LjYxNDc4OSwgMzkuMzEyMjUxXSwgWy03Ni42MTY0NzEsIDM5LjMxMjE5MV0sIFstNzYuNjE3ODIsIDM5LjMxMjEzNV0sIFstNzYuNjE5MzA3LCAzOS4zMTIwNzJdLCBbLTc2LjYxOTIyLCAzOS4zMTEyNDVdLCBbLTc2LjYxOTI0MSwgMzkuMzExMDgyXSwgWy03Ni42MTkyNjgsIDM5LjMxMDkyM10sIFstNzYuNjIwMTI4LCAzOS4zMTA4OTldLCBbLTc2LjYyMjY3MSwgMzkuMzEwNzg3XSwgWy03Ni42MjM2NDIsIDM5LjMxMTM0Nl0sIFstNzYuNjI0NjM4LCAzOS4zMTIxMzFdLCBbLTc2LjYyNTUxMSwgMzkuMzEyODY4XSwgWy03Ni42MjYyOTcsIDM5LjMxMzc0M10sIFstNzYuNjI3NDg4LCAzOS4zMTQ5NzVdLCBbLTc2LjYyNzkyMiwgMzkuMzE0Njc0XSwgWy03Ni42Mjg2NDcsIDM5LjMxNTQwNV0sIFstNzYuNjI5NzUyLCAzOS4zMTY1NzVdLCBbLTc2LjYzMDEzNCwgMzkuMzE2NTgxXSwgWy03Ni42MzAxOTYsIDM5LjMxNjczM10sIFstNzYuNjMwNTA3LCAzOS4zMTY3NDJdLCBbLTc2LjYzMTQ5MiwgMzkuMzE2NzQzXSwgWy03Ni42MzI0ODksIDM5LjMxNjcyM10sIFstNzYuNjMyNDg4LCAzOS4zMTY5MjZdLCBbLTc2LjYzMzM1NCwgMzkuMzE3MDE3XSwgWy03Ni42MzM4OTksIDM5LjMxNzA0M10sIFstNzYuNjM1NTcyLCAzOS4zMTcwNzFdLCBbLTc2LjYzNjEwNSwgMzkuMzE3MDY3XSwgWy03Ni42MzY1MzMsIDM5LjMxNzEwNV0sIFstNzYuNjM3MDEyLCAzOS4zMTcwNV0sIFstNzYuNjM3MzExLCAzOS4zMTY5NDVdLCBbLTc2LjYzNzU4MiwgMzkuMzE2ODJdLCBbLTc2LjYzODM5NywgMzkuMzE2NTA2XSwgWy03Ni42Mzg4MjgsIDM5LjMxNjI1Ml0sIFstNzYuNjM5NjM2LCAzOS4zMTU5MzddLCBbLTc2LjY0MDIwNSwgMzkuMzE1ODAzXSwgWy03Ni42NDA4NSwgMzkuMzE1Njg4XSwgWy03Ni42NDE0NDUsIDM5LjMxNTczNF0sIFstNzYuNjQyNTA4LCAzOS4zMTU3MjhdLCBbLTc2LjY0Mjg2MiwgMzkuMzE1NzkzXSwgWy03Ni42NDMxOTIsIDM5LjMxNTkwNF0sIFstNzYuNjQzNDUsIDM5LjMxNTk4OV0sIFstNzYuNjQzNzQxLCAzOS4zMTYyMTJdLCBbLTc2LjY0NDQ4MiwgMzkuMzE2NTE5XSwgWy03Ni42NDUxNzgsIDM5LjMxNjc2Nl0sIFstNzYuNjQ1Njg0LCAzOS4zMTY5ODhdLCBbLTc2LjY0NjIxMSwgMzkuMzE3NDJdLCBbLTc2LjY0NzM2OSwgMzkuMzE4NTA5XSwgWy03Ni42NDc2MjYsIDM5LjMxODcwNl0sIFstNzYuNjQ3NzUxLCAzOS4zMTg4MTddLCBbLTc2LjY0ODE4NiwgMzkuMzE5MTUzXSwgWy03Ni42NDkwMjIsIDM5LjMxOTU0Nl0sIFstNzYuNjQ5NjkxLCAzOS4zMTk4MzhdLCBbLTc2LjY1MDQwNSwgMzkuMzIwMjU3XSwgWy03Ni42NTA2MjIsIDM5LjMyMDMyMl0sIFstNzYuNjU0ODUxLCAzOS4zMjIxNTRdLCBbLTc2LjY1NTM4NiwgMzkuMzIyNjhdLCBbLTc2LjY1NTk4LCAzOS4zMjM1MTJdLCBbLTc2LjY1NzI5LCAzOS4zMjUyNjldLCBbLTc2LjY1Njg2NywgMzkuMzI1ODQ5XSwgWy03Ni42NTYyOTQsIDM5LjMyNjUwMl0sIFstNzYuNjU1NTE1LCAzOS4zMjgzNTRdLCBbLTc2LjY1NTI1NSwgMzkuMzI4OTU2XSwgWy03Ni42NTUwMjEsIDM5LjMyOTM1OV0sIFstNzYuNjU0NTYzLCAzOS4zMjk3MjJdLCBbLTc2LjY1NDAzMSwgMzkuMzMwMTY4XSwgWy03Ni42NTM5NzMsIDM5LjMzMDM1Nl0sIFstNzYuNjU0MTgyLCAzOS4zMzA3MzVdLCBbLTc2LjY1NDU1MSwgMzkuMzMxMzAzXSwgWy03Ni42NTUzMDcsIDM5LjMzMjYzNF0sIFstNzYuNjU1NDQ1LCAzOS4zMzI4MjZdLCBbLTc2LjY1NTcxNSwgMzkuMzMzMTMzXSwgWy03Ni42NTU4NTUsIDM5LjMzMzQyN10sIFstNzYuNjU1ODUzLCAzOS4zMzM4XSwgWy03Ni42NTU4MywgMzkuMzM0NTUxXSwgWy03Ni42NTU4OTksIDM5LjMzNDg1NV0sIFstNzYuNjU1OTYyLCAzOS4zMzQ5OV0sIFstNzYuNjU2MTcxLCAzOS4zMzU0ODNdLCBbLTc2LjY1Nzg0OCwgMzkuMzM1MDc5XSwgWy03Ni42NTc3NjMsIDM5LjMzNDc3M10sIFstNzYuNjU3NDI1LCAzOS4zMzQyMjddLCBbLTc2LjY1NzIxLCAzOS4zMzM4OV0sIFstNzYuNjU3MjAzLCAzOS4zMzM3MjZdLCBbLTc2LjY1NzIyMSwgMzkuMzMzNjI1XSwgWy03Ni42NTcyNjUsIDM5LjMzMzUxN10sIFstNzYuNjU5NDIyLCAzOS4zMzI1ODNdLCBbLTc2LjY2MDEzLCAzOS4zMzIyNTddLCBbLTc2LjY2MDY1LCAzOS4zMzIwMzZdLCBbLTc2LjY2MTUwNywgMzkuMzMzMjE0XSwgWy03Ni42NjIzMDcsIDM5LjMzNDI3OF0sIFstNzYuNjYyNjg0LCAzOS4zMzQ4MjRdLCBbLTc2LjY2MjU1NiwgMzkuMzM1MDk0XSwgWy03Ni42NjI0OCwgMzkuMzM1Mzc3XSwgWy03Ni42NjI0OTcsIDM5LjMzNTUzNF0sIFstNzYuNjYyNTM0LCAzOS4zMzU2Nl0sIFstNzYuNjYyNTk2LCAzOS4zMzYwMjNdLCBbLTc2LjY2Mjc0MywgMzkuMzM2NzQ5XSwgWy03Ni42NjI4NjYsIDM5LjMzNzQyM10sIFstNzYuNjYyOTUxLCAzOS4zMzc4NjldLCBbLTc2LjY2MzAwMSwgMzkuMzM3OTldLCBbLTc2LjY2MzA2NSwgMzkuMzM4MDc5XSwgWy03Ni42NjM0OTQsIDM5LjMzODU1NF0sIFstNzYuNjYzODgsIDM5LjMzODk4NV0sIFstNzYuNjY0NTE5LCAzOS4zMzk2ODVdLCBbLTc2LjY2NDcwNSwgMzkuMzM5NTcyXSwgWy03Ni42NjU4MDUsIDM5LjMzOTAzN10sIFstNzYuNjY2Mjg1LCAzOS4zMzk2NTZdLCBbLTc2LjY2NTcyNiwgMzkuMzM5ODkyXSwgWy03Ni42NjU1MTUsIDM5LjMzOTk4M10sIFstNzYuNjY1MzAxLCAzOS4zNDAxXSwgWy03Ni42NjUwNywgMzkuMzQwMzJdLCBbLTc2LjY2NTE2MSwgMzkuMzQwNDMzXSwgWy03Ni42NjU2MjUsIDM5LjM0MDk3MV0sIFstNzYuNjY2MTEsIDM5LjM0MTU5XSwgWy03Ni42NjY2NDQsIDM5LjM0MjM3XSwgWy03Ni42Njc3MDMsIDM5LjM0MzkwMV0sIFstNzYuNjY4MDA2LCAzOS4zNDQzNDVdLCBbLTc2LjY2ODI1MiwgMzkuMzQ0OTc5XSwgWy03Ni42Njg3NjEsIDM5LjM0NjM4OV0sIFstNzYuNjY4ODU5LCAzOS4zNDY1NzRdLCBbLTc2LjY2ODg4OSwgMzkuMzQ2ODg1XSwgWy03Ni42Njg4MjMsIDM5LjM0NzM0Nl0sIFstNzYuNjY4NzEzLCAzOS4zNDc5OTRdLCBbLTc2LjY2ODcwMSwgMzkuMzQ4MDg5XSwgWy03Ni42Njg3MTIsIDM5LjM0ODI2Ml0sIFstNzYuNjY4ODgsIDM5LjM0ODc2XSwgWy03Ni42NjkwMDEsIDM5LjM0OTI1XSwgWy03Ni42NjkxOTEsIDM5LjM1MDA4NF0sIFstNzYuNjY5MzE5LCAzOS4zNTA1NTFdLCBbLTc2LjY2OTQyOCwgMzkuMzUxMDA3XSwgWy03Ni42Njk3NTksIDM5LjM1MjI4OV0sIFstNzYuNjY3MTEyLCAzOS4zNTI3OTldLCBbLTc2LjY2NzQwNiwgMzkuMzUzMDZdLCBbLTc2LjY2NzYxNCwgMzkuMzUzNzUyXSwgWy03Ni42Njc4NTksIDM5LjM1NDQzXSwgWy03Ni42NjgwNjYsIDM5LjM1NTI1XSwgWy03Ni42NjgxMywgMzkuMzU1OTk5XSwgWy03Ni42NzA3NTksIDM5LjM1NjM5NF0sIFstNzYuNjcyNjc5LCAzOS4zNTY2ODJdLCBbLTc2LjY3MzI1NywgMzkuMzU2NzY5XSwgWy03Ni42NzQxOTMsIDM5LjM1NjgzNl0sIFstNzYuNjc0NjE4LCAzOS4zNTY4MzFdLCBbLTc2LjY3NTcyNywgMzkuMzU2NDUzXSwgWy03Ni42NzY2OTcsIDM5LjM1NTk2M10sIFstNzYuNjc3MjcsIDM5LjM1Njc4XSwgWy03Ni42Nzc1ODksIDM5LjM1NzI0NV0sIFstNzYuNjc3OTE5LCAzOS4zNTczNjddLCBbLTc2LjY3ODIyMSwgMzkuMzU3NjQ2XSwgWy03Ni42Nzg3NzksIDM5LjM1ODIzMl0sIFstNzYuNjc5NjAxLCAzOS4zNTkwODNdLCBbLTc2LjY4MDI2OSwgMzkuMzU5ODE5XSwgWy03Ni42Nzc5MzksIDM5LjM2MTA4MV0sIFstNzYuNjc3MTU3LCAzOS4zNjE0NzhdLCBbLTc2LjY3NywgMzkuMzYxNjE0XSwgWy03Ni42NzY4ODEsIDM5LjM2MTYzNV0sIFstNzYuNjc2NDMsIDM5LjM2MTg0XSwgWy03Ni42NzUzNDMsIDM5LjM2MjQ2NF0sIFstNzYuNjc0MzU2LCAzOS4zNjMyOTZdLCBbLTc2LjY3MzY5MywgMzkuMzYzOF0sIFstNzYuNjcyOSwgMzkuMzY0MDU0XSwgWy03Ni42NzMxNzIsIDM5LjM2NDQ2Ml0sIFstNzYuNjczNTU2LCAzOS4zNjQ5OTJdLCBbLTc2LjY3MzI2NCwgMzkuMzY1MjYxXSwgWy03Ni42Njg5OTYsIDM5LjM2NzgwMl0sIFstNzYuNjY4ODM2LCAzOS4zNjc5MjZdLCBbLTc2LjY2ODIzNiwgMzkuMzY3OTU0XSwgWy03Ni42Njc3ODgsIDM5LjM2NzczNF0sIFstNzYuNjY2ODcsIDM5LjM2NzM4Ml0sIFstNzYuNjY2MTQ0LCAzOS4zNjc0MjldLCBbLTc2LjY2NTQyNywgMzkuMzY3NjddLCBbLTc2LjY2NTMwNSwgMzkuMzY3OTc1XSwgWy03Ni42NjU3ODksIDM5LjM2OTAwNF0sIFstNzYuNjY1OTY0LCAzOS4zNjk1MDJdLCBbLTc2LjY2NTk4NywgMzkuMzY5NzQ0XSwgWy03Ni42NjU5MzYsIDM5LjM3MDA5NF0sIFstNzYuNjY1NzQ2LCAzOS4zNzAzMTJdLCBbLTc2LjY2NTczMywgMzkuMzcwNDg3XSwgWy03Ni42NjYxODMsIDM5LjM3MDkwNV0sIFstNzYuNjY2MzE2LCAzOS4zNzExMDRdLCBbLTc2LjY2NjMzMiwgMzkuMzcxNjExXSwgWy03Ni42NjYzNjgsIDM5LjM3MTc5NF0sIFstNzYuNjY2NDY5LCAzOS4zNzE5ODddLCBbLTc2LjY1OTk3MiwgMzkuMzcxOTldLCBbLTc2LjY1MjQzOSwgMzkuMzcxOTkzXSwgWy03Ni42NDk2NzIsIDM5LjM3MTk5NF0sIFstNzYuNjQ0NDcyLCAzOS4zNzE5OTVdLCBbLTc2LjYzODEzMiwgMzkuMzcxOTk3XSwgWy03Ni42MzIyMjksIDM5LjM3MTk5OF0sIFstNzYuNjI2MDYxLCAzOS4zNzE5OTldLCBbLTc2LjYyMTc0NywgMzkuMzcxOTk5XSwgWy03Ni42MTg0NjUsIDM5LjM3Ml0sIFstNzYuNjEzODU3LCAzOS4zNzJdLCBbLTc2LjYwOTg3OSwgMzkuMzcyXSwgWy03Ni42MDU5MzEsIDM5LjM3Ml0sIFstNzYuNjA0MzkzLCAzOS4zNzJdLCBbLTc2LjU5NzYwNiwgMzkuMzcxOTk5XSwgWy03Ni41OTQ4NTcsIDM5LjM3MTk5OV0sIFstNzYuNTk0ODE0LCAzOS4zNzE4NjNdLCBbLTc2LjU5NDYsIDM5LjM3MTQyNV0sIFstNzYuNTk0MzgyLCAzOS4zNzEwMTJdLCBbLTc2LjU5NDAwMSwgMzkuMzcwMzcyXSwgWy03Ni41OTM5NywgMzkuMzcwMjM0XSwgWy03Ni41OTM4NDIsIDM5LjM3MDEyMV0sIFstNzYuNTkzMTk2LCAzOS4zNjg5MDZdLCBbLTc2LjU5Mjk1NywgMzkuMzY4NDk5XSwgWy03Ni41OTI5MjYsIDM5LjM2ODI0OF0sIFstNzYuNTkyOTg1LCAzOS4zNjc5ODJdXV1dLCAidHlwZSI6ICJNdWx0aVBvbHlnb24ifSwgInByb3BlcnRpZXMiOiB7ImRlc2NyaXB0aW8iOiAiIiwgIm5hbWUiOiAiTk9SVEhFUk4ifSwgInR5cGUiOiAiRmVhdHVyZSJ9LCB7Imdlb21ldHJ5IjogeyJjb29yZGluYXRlcyI6IFtbW1stNzYuNjY1MzA1LCAzOS4zNjc5NzVdLCBbLTc2LjY2NTQyNywgMzkuMzY3NjddLCBbLTc2LjY2NjE0NCwgMzkuMzY3NDI5XSwgWy03Ni42NjY4NywgMzkuMzY3MzgyXSwgWy03Ni42Njc3ODgsIDM5LjM2NzczNF0sIFstNzYuNjY4MjM2LCAzOS4zNjc5NTRdLCBbLTc2LjY2ODgzNiwgMzkuMzY3OTI2XSwgWy03Ni42Njg5OTYsIDM5LjM2NzgwMl0sIFstNzYuNjczMjY0LCAzOS4zNjUyNjFdLCBbLTc2LjY3MzU1NiwgMzkuMzY0OTkyXSwgWy03Ni42NzMxNzIsIDM5LjM2NDQ2Ml0sIFstNzYuNjcyOSwgMzkuMzY0MDU0XSwgWy03Ni42NzM2OTMsIDM5LjM2MzhdLCBbLTc2LjY3NDM1NiwgMzkuMzYzMjk2XSwgWy03Ni42NzUzNDMsIDM5LjM2MjQ2NF0sIFstNzYuNjc2NDMsIDM5LjM2MTg0XSwgWy03Ni42NzY4ODEsIDM5LjM2MTYzNV0sIFstNzYuNjc3LCAzOS4zNjE2MTRdLCBbLTc2LjY3NzE1NywgMzkuMzYxNDc4XSwgWy03Ni42Nzc5MzksIDM5LjM2MTA4MV0sIFstNzYuNjgwMjY5LCAzOS4zNTk4MTldLCBbLTc2LjY3OTYwMSwgMzkuMzU5MDgzXSwgWy03Ni42Nzg3NzksIDM5LjM1ODIzMl0sIFstNzYuNjc4MjIxLCAzOS4zNTc2NDZdLCBbLTc2LjY3NzkxOSwgMzkuMzU3MzY3XSwgWy03Ni42Nzc1ODksIDM5LjM1NzI0NV0sIFstNzYuNjc3MjcsIDM5LjM1Njc4XSwgWy03Ni42NzY2OTcsIDM5LjM1NTk2M10sIFstNzYuNjc1NzI3LCAzOS4zNTY0NTNdLCBbLTc2LjY3NDYxOCwgMzkuMzU2ODMxXSwgWy03Ni42NzQxOTMsIDM5LjM1NjgzNl0sIFstNzYuNjczMjU3LCAzOS4zNTY3NjldLCBbLTc2LjY3MjY3OSwgMzkuMzU2NjgyXSwgWy03Ni42NzA3NTksIDM5LjM1NjM5NF0sIFstNzYuNjY4MTMsIDM5LjM1NTk5OV0sIFstNzYuNjY4MDY2LCAzOS4zNTUyNV0sIFstNzYuNjY3ODU5LCAzOS4zNTQ0M10sIFstNzYuNjY3NjE0LCAzOS4zNTM3NTJdLCBbLTc2LjY2NzQwNiwgMzkuMzUzMDZdLCBbLTc2LjY2NzExMiwgMzkuMzUyNzk5XSwgWy03Ni42Njk3NTksIDM5LjM1MjI4OV0sIFstNzYuNjY5NDI4LCAzOS4zNTEwMDddLCBbLTc2LjY2OTMxOSwgMzkuMzUwNTUxXSwgWy03Ni42NjkxOTEsIDM5LjM1MDA4NF0sIFstNzYuNjY5MDAxLCAzOS4zNDkyNV0sIFstNzYuNjY4ODgsIDM5LjM0ODc2XSwgWy03Ni42Njg3MTIsIDM5LjM0ODI2Ml0sIFstNzYuNjY4NzAxLCAzOS4zNDgwODldLCBbLTc2LjY2ODcxMywgMzkuMzQ3OTk0XSwgWy03Ni42Njg4MjMsIDM5LjM0NzM0Nl0sIFstNzYuNjY4ODg5LCAzOS4zNDY4ODVdLCBbLTc2LjY2ODg1OSwgMzkuMzQ2NTc0XSwgWy03Ni42Njg3NjEsIDM5LjM0NjM4OV0sIFstNzYuNjY4MjUyLCAzOS4zNDQ5NzldLCBbLTc2LjY2ODAwNiwgMzkuMzQ0MzQ1XSwgWy03Ni42Njc3MDMsIDM5LjM0MzkwMV0sIFstNzYuNjY2NjQ0LCAzOS4zNDIzN10sIFstNzYuNjY2MTEsIDM5LjM0MTU5XSwgWy03Ni42NjU2MjUsIDM5LjM0MDk3MV0sIFstNzYuNjY1MTYxLCAzOS4zNDA0MzNdLCBbLTc2LjY2NTA3LCAzOS4zNDAzMl0sIFstNzYuNjY1MzAxLCAzOS4zNDAxXSwgWy03Ni42NjU1MTUsIDM5LjMzOTk4M10sIFstNzYuNjY1NzI2LCAzOS4zMzk4OTJdLCBbLTc2LjY2NjI4NSwgMzkuMzM5NjU2XSwgWy03Ni42NjU4MDUsIDM5LjMzOTAzN10sIFstNzYuNjY0NzA1LCAzOS4zMzk1NzJdLCBbLTc2LjY2NDUxOSwgMzkuMzM5Njg1XSwgWy03Ni42NjM4OCwgMzkuMzM4OTg1XSwgWy03Ni42NjM0OTQsIDM5LjMzODU1NF0sIFstNzYuNjYzMDY1LCAzOS4zMzgwNzldLCBbLTc2LjY2MzAwMSwgMzkuMzM3OTldLCBbLTc2LjY2Mjk1MSwgMzkuMzM3ODY5XSwgWy03Ni42NjI4NjYsIDM5LjMzNzQyM10sIFstNzYuNjYyNzQzLCAzOS4zMzY3NDldLCBbLTc2LjY2MjU5NiwgMzkuMzM2MDIzXSwgWy03Ni42NjI1MzQsIDM5LjMzNTY2XSwgWy03Ni42NjI0OTcsIDM5LjMzNTUzNF0sIFstNzYuNjYyNDgsIDM5LjMzNTM3N10sIFstNzYuNjYyNTU2LCAzOS4zMzUwOTRdLCBbLTc2LjY2MjY4NCwgMzkuMzM0ODI0XSwgWy03Ni42NjIzMDcsIDM5LjMzNDI3OF0sIFstNzYuNjYxNTA3LCAzOS4zMzMyMTRdLCBbLTc2LjY2MDY1LCAzOS4zMzIwMzZdLCBbLTc2LjY2MDEzLCAzOS4zMzIyNTddLCBbLTc2LjY1OTQyMiwgMzkuMzMyNTgzXSwgWy03Ni42NTcyNjUsIDM5LjMzMzUxN10sIFstNzYuNjU3MjIxLCAzOS4zMzM2MjVdLCBbLTc2LjY1NzIwMywgMzkuMzMzNzI2XSwgWy03Ni42NTcyMSwgMzkuMzMzODldLCBbLTc2LjY1NzQyNSwgMzkuMzM0MjI3XSwgWy03Ni42NTc3NjMsIDM5LjMzNDc3M10sIFstNzYuNjU3ODQ4LCAzOS4zMzUwNzldLCBbLTc2LjY1NjE3MSwgMzkuMzM1NDgzXSwgWy03Ni42NTU5NjIsIDM5LjMzNDk5XSwgWy03Ni42NTU4OTksIDM5LjMzNDg1NV0sIFstNzYuNjU1ODMsIDM5LjMzNDU1MV0sIFstNzYuNjU1ODUzLCAzOS4zMzM4XSwgWy03Ni42NTU4NTUsIDM5LjMzMzQyN10sIFstNzYuNjU1NzE1LCAzOS4zMzMxMzNdLCBbLTc2LjY1NTQ0NSwgMzkuMzMyODI2XSwgWy03Ni42NTUzMDcsIDM5LjMzMjYzNF0sIFstNzYuNjU0NTUxLCAzOS4zMzEzMDNdLCBbLTc2LjY1NDE4MiwgMzkuMzMwNzM1XSwgWy03Ni42NTM5NzMsIDM5LjMzMDM1Nl0sIFstNzYuNjU0MDMxLCAzOS4zMzAxNjhdLCBbLTc2LjY1NDU2MywgMzkuMzI5NzIyXSwgWy03Ni42NTUwMjEsIDM5LjMyOTM1OV0sIFstNzYuNjU1MjU1LCAzOS4zMjg5NTZdLCBbLTc2LjY1NTUxNSwgMzkuMzI4MzU0XSwgWy03Ni42NTYyOTQsIDM5LjMyNjUwMl0sIFstNzYuNjU2ODY3LCAzOS4zMjU4NDldLCBbLTc2LjY1NzI5LCAzOS4zMjUyNjldLCBbLTc2LjY1NTk4LCAzOS4zMjM1MTJdLCBbLTc2LjY1NTM4NiwgMzkuMzIyNjhdLCBbLTc2LjY1NDg1MSwgMzkuMzIyMTU0XSwgWy03Ni42NTA2MjIsIDM5LjMyMDMyMl0sIFstNzYuNjUwNDA1LCAzOS4zMjAyNTddLCBbLTc2LjY1MDU0MiwgMzkuMzIwMDU0XSwgWy03Ni42NTA2MDgsIDM5LjMxOTk3OV0sIFstNzYuNjUwOTQsIDM5LjMxOTYxNF0sIFstNzYuNjUwOTksIDM5LjMxOTU3Ml0sIFstNzYuNjUxMDI1LCAzOS4zMTk1MTJdLCBbLTc2LjY1MTMwMywgMzkuMzE5MjIyXSwgWy03Ni42NTEzODEsIDM5LjMxOTE4Ml0sIFstNzYuNjUxNDA3LCAzOS4zMTkxXSwgWy03Ni42NTE1ODMsIDM5LjMxODkzM10sIFstNzYuNjUxNjM1LCAzOS4zMTg5MDddLCBbLTc2LjY1MTcxNSwgMzkuMzE4Nzc5XSwgWy03Ni42NTE5ODEsIDM5LjMxODQ4OF0sIFstNzYuNjUyMjA0LCAzOS4zMTgyMjFdLCBbLTc2LjY1MjM0LCAzOS4zMTgwOTldLCBbLTc2LjY1MzMwOSwgMzkuMzE4NDM5XSwgWy03Ni42NTMzNzQsIDM5LjMxODQ4MV0sIFstNzYuNjUzNDU0LCAzOS4zMTg1MThdLCBbLTc2LjY1MzU3MiwgMzkuMzE4NTM2XSwgWy03Ni42NTM3NTgsIDM5LjMxODU5Nl0sIFstNzYuNjUzOTQzLCAzOS4zMTg2NTZdLCBbLTc2LjY1Mzk4MywgMzkuMzE4Njk2XSwgWy03Ni42NTQwNDcsIDM5LjMxODY4OV0sIFstNzYuNjU0MjM3LCAzOS4zMTg3NDFdLCBbLTc2LjY1NDQzMywgMzkuMzE4Nzk2XSwgWy03Ni42NTQ0NzIsIDM5LjMxODgyOF0sIFstNzYuNjU0OTcyLCAzOS4zMTg5NjJdLCBbLTc2LjY1NTA4NywgMzkuMzE5MDExXSwgWy03Ni42NTU1NzcsIDM5LjMxOTEyM10sIFstNzYuNjU2MDM3LCAzOS4zMTkwODFdLCBbLTc2LjY1NjUyNCwgMzkuMzE4OTY2XSwgWy03Ni42NTY4MTMsIDM5LjMxODg0Ml0sIFstNzYuNjU3NDA3LCAzOS4zMTg1NTddLCBbLTc2LjY1NzkzMiwgMzkuMzE4MTE2XSwgWy03Ni42NTgwNDQsIDM5LjMxODAxN10sIFstNzYuNjU4Mzg0LCAzOS4zMTc2NzhdLCBbLTc2LjY1ODk1NSwgMzkuMzE3MDc1XSwgWy03Ni42NTkwNTUsIDM5LjMxNjkyXSwgWy03Ni42NTkxMDUsIDM5LjMxNjc3NV0sIFstNzYuNjU5MDc2LCAzOS4zMTY1OTFdLCBbLTc2LjY1ODczNCwgMzkuMzE1NzU1XSwgWy03Ni42NTg2NSwgMzkuMzE1NTI5XSwgWy03Ni42NTk3OTgsIDM5LjMxNTEzOV0sIFstNzYuNjYwNjA4LCAzOS4zMTQ5MDNdLCBbLTc2LjY2MDc4NiwgMzkuMzE0ODk5XSwgWy03Ni42NjA4OCwgMzkuMzE0ODQ3XSwgWy03Ni42NjE2NDMsIDM5LjMxNDY5NF0sIFstNzYuNjYxNzQxLCAzOS4zMTQ2ODZdLCBbLTc2LjY2MjU2NiwgMzkuMzE0NTYyXSwgWy03Ni42NjMzMDQsIDM5LjMxNDQ5OF0sIFstNzYuNjYzNDQ2LCAzOS4zMTQ1MjFdLCBbLTc2LjY2MzUzNSwgMzkuMzE0NTA1XSwgWy03Ni42NjQzNjIsIDM5LjMxNDQ5Nl0sIFstNzYuNjY2MDM4LCAzOS4zMTQzODldLCBbLTc2LjY2NjA5MSwgMzkuMzE0NDFdLCBbLTc2LjY2Nzg2MiwgMzkuMzE0MzQ5XSwgWy03Ni42Njk2MjksIDM5LjMxNDI3OV0sIFstNzYuNjcxMjQ0LCAzOS4zMTQyM10sIFstNzYuNjcyNTM0LCAzOS4zMTQxNzFdLCBbLTc2LjY3MjY2NiwgMzkuMzE0MTc4XSwgWy03Ni42NzQ0MzMsIDM5LjMxNDEwOF0sIFstNzYuNjc2NDc2LCAzOS4zMTQwMzJdLCBbLTc2LjY3NzgwMiwgMzkuMzEzOTc2XSwgWy03Ni42NzkwODgsIDM5LjMxMzkzNF0sIFstNzYuNjgwMTA1LCAzOS4zMTM4OTJdLCBbLTc2LjY4MDc0OCwgMzkuMzEzODc0XSwgWy03Ni42ODEwOSwgMzkuMzEzODg1XSwgWy03Ni42ODEzOTQsIDM5LjMxMzkxM10sIFstNzYuNjgxODE5LCAzOS4zMTM4NzNdLCBbLTc2LjY4MjEyOCwgMzkuMzEzNzRdLCBbLTc2LjY4MjM2OSwgMzkuMzEzNTUxXSwgWy03Ni42ODI1ODMsIDM5LjMxMzMyOV0sIFstNzYuNjgyODMxLCAzOS4zMTMyMjVdLCBbLTc2LjY4MzMxNiwgMzkuMzEzMjMzXSwgWy03Ni42ODM0NSwgMzkuMzEzMTgzXSwgWy03Ni42ODQ2NjYsIDM5LjMxMzIzXSwgWy03Ni42ODQ4ODYsIDM5LjMxMzEyOV0sIFstNzYuNjg1MjU2LCAzOS4zMTI4NDRdLCBbLTc2LjY4NTQ1NSwgMzkuMzEyNzM3XSwgWy03Ni42ODU3MjksIDM5LjMxMjYyNl0sIFstNzYuNjg2NDY0LCAzOS4zMTI0NTFdLCBbLTc2LjY4NzM5NSwgMzkuMzEyMzQ4XSwgWy03Ni42ODc3ODksIDM5LjMxMjMzN10sIFstNzYuNjg4MjE0LCAzOS4zMTIyNDRdLCBbLTc2LjY4ODk4NiwgMzkuMzEyMTddLCBbLTc2LjY4OTE5LCAzOS4zMTIyMzVdLCBbLTc2LjY4OTI1LCAzOS4zMTI0MDZdLCBbLTc2LjY4OTM3OCwgMzkuMzEyNjU5XSwgWy03Ni42ODk0MTQsIDM5LjMxMzFdLCBbLTc2LjY4OTc0MSwgMzkuMzEzNDY1XSwgWy03Ni42OTAyMzUsIDM5LjMxMzkzNl0sIFstNzYuNjkxMzg4LCAzOS4zMTQ0MzhdLCBbLTc2LjY5MzE4MiwgMzkuMzE0ODA4XSwgWy03Ni42OTQ1NzIsIDM5LjMxNDkzNF0sIFstNzYuNjk1Mzk1LCAzOS4zMTQ5NTVdLCBbLTc2LjY5NTk4NiwgMzkuMzE1MDk4XSwgWy03Ni42OTYzMTIsIDM5LjMxNTQxOF0sIFstNzYuNjk2Mjk4LCAzOS4zMTU4MjJdLCBbLTc2LjY5NjE5OSwgMzkuMzE2MzAxXSwgWy03Ni42OTYxOTgsIDM5LjMxNjQ4OF0sIFstNzYuNjk2MTI1LCAzOS4zMTY3MDRdLCBbLTc2LjY5NjA5OSwgMzkuMzE3MDYxXSwgWy03Ni42OTY0NTMsIDM5LjMxNzQzNF0sIFstNzYuNjk3NDYzLCAzOS4zMTc2OTRdLCBbLTc2LjY5ODQwNCwgMzkuMzE4MjMyXSwgWy03Ni42OTg5OTYsIDM5LjMxODI1Ml0sIFstNzYuNjk5NDkzLCAzOS4zMTgxMzFdLCBbLTc2LjY5OTkwNiwgMzkuMzE3NjgyXSwgWy03Ni43MDAwNjUsIDM5LjMxNzE1Nl0sIFstNzYuNzAwMjE0LCAzOS4zMTYyNTRdLCBbLTc2LjcwMDM5NywgMzkuMzE1OTE3XSwgWy03Ni43MDA5MTgsIDM5LjMxNTY1NV0sIFstNzYuNzAxODI2LCAzOS4zMTU1ODJdLCBbLTc2LjcwMjMyMSwgMzkuMzE1NjU5XSwgWy03Ni43MDI3OTcsIDM5LjMxNTk5OF0sIFstNzYuNzAzMTE1LCAzOS4zMTY2MDldLCBbLTc2LjcwMzI0NSwgMzkuMzE3NDE4XSwgWy03Ni43MDM1MzIsIDM5LjMxODA0OF0sIFstNzYuNzAzODc5LCAzOS4zMTg0NDRdLCBbLTc2LjcwNTA1MSwgMzkuMzE5NDMzXSwgWy03Ni43MDU5OCwgMzkuMzE5OTMzXSwgWy03Ni43MDY1OTYsIDM5LjMyMDA3NV0sIFstNzYuNzA3MzQxLCAzOS4zMjAwMTRdLCBbLTc2LjcwOTQyMSwgMzkuMzE5MDgyXSwgWy03Ni43MDk1NzYsIDM5LjMxODk2OF0sIFstNzYuNzA5ODQ5LCAzOS4zMTg4NDFdLCBbLTc2LjcxMDI5MiwgMzkuMzE4NzYzXSwgWy03Ni43MTA3NDcsIDM5LjMxODg4MV0sIFstNzYuNzExMjE5LCAzOS4zMTkyMjRdLCBbLTc2LjcxMTIyMSwgMzkuMzIwNTg2XSwgWy03Ni43MTEyMjMsIDM5LjMyMTg1Nl0sIFstNzYuNzExMjI3LCAzOS4zMjQ2NzZdLCBbLTc2LjcxMTIzNywgMzkuMzI3MTk4XSwgWy03Ni43MTEyMzIsIDM5LjMyODA2OF0sIFstNzYuNzExMjM3LCAzOS4zMzE2NjldLCBbLTc2LjcxMTI0MywgMzkuMzM2MTI4XSwgWy03Ni43MTEyMzcsIDM5LjMzNzg1OF0sIFstNzYuNzExMjQ5LCAzOS4zNDAzMDhdLCBbLTc2LjcxMTI1MiwgMzkuMzQyMzM1XSwgWy03Ni43MTEyNTQsIDM5LjM0MzQ5OF0sIFstNzYuNzExMjU1LCAzOS4zNDQ4MTldLCBbLTc2LjcxMTI2MiwgMzkuMzQ5NTM3XSwgWy03Ni43MTEyNjksIDM5LjM1NDI1Nl0sIFstNzYuNzExMjcxLCAzOS4zNTU5NjRdLCBbLTc2LjcxMTI4MSwgMzkuMzYyNzk4XSwgWy03Ni43MTEyODMsIDM5LjM2NDQzN10sIFstNzYuNzExMjk0LCAzOS4zNzE5NTddLCBbLTc2LjcwMjg3OCwgMzkuMzcxOTY0XSwgWy03Ni42OTc2NywgMzkuMzcxOTY4XSwgWy03Ni42OTEzMTgsIDM5LjM3MTk3Ml0sIFstNzYuNjg1NDQyLCAzOS4zNzE5NzZdLCBbLTc2LjY3ODIyOCwgMzkuMzcxOTgxXSwgWy03Ni42NzE4MDUsIDM5LjM3MTk4NF0sIFstNzYuNjY2NDY5LCAzOS4zNzE5ODddLCBbLTc2LjY2NjM2OCwgMzkuMzcxNzk0XSwgWy03Ni42NjYzMzIsIDM5LjM3MTYxMV0sIFstNzYuNjY2MzE2LCAzOS4zNzExMDRdLCBbLTc2LjY2NjE4MywgMzkuMzcwOTA1XSwgWy03Ni42NjU3MzMsIDM5LjM3MDQ4N10sIFstNzYuNjY1NzQ2LCAzOS4zNzAzMTJdLCBbLTc2LjY2NTkzNiwgMzkuMzcwMDk0XSwgWy03Ni42NjU5ODcsIDM5LjM2OTc0NF0sIFstNzYuNjY1OTY0LCAzOS4zNjk1MDJdLCBbLTc2LjY2NTc4OSwgMzkuMzY5MDA0XSwgWy03Ni42NjUzMDUsIDM5LjM2Nzk3NV1dXV0sICJ0eXBlIjogIk11bHRpUG9seWdvbiJ9LCAicHJvcGVydGllcyI6IHsiZGVzY3JpcHRpbyI6ICIiLCAibmFtZSI6ICJOT1JUSFdFU1QifSwgInR5cGUiOiAiRmVhdHVyZSJ9LCB7Imdlb21ldHJ5IjogeyJjb29yZGluYXRlcyI6IFtbW1stNzYuNjQ3MzY5LCAzOS4zMTg1MDldLCBbLTc2LjY0NjIxMSwgMzkuMzE3NDJdLCBbLTc2LjY0NTY4NCwgMzkuMzE2OTg4XSwgWy03Ni42NDUxNzgsIDM5LjMxNjc2Nl0sIFstNzYuNjQ0NDgyLCAzOS4zMTY1MTldLCBbLTc2LjY0Mzc0MSwgMzkuMzE2MjEyXSwgWy03Ni42NDM0NSwgMzkuMzE1OTg5XSwgWy03Ni42NDM0ODksIDM5LjMxNTkwNV0sIFstNzYuNjQzNDgzLCAzOS4zMTU3NTRdLCBbLTc2LjY0MzUyMiwgMzkuMzE1NzM2XSwgWy03Ni42NDI2NjcsIDM5LjMxNDk0Nl0sIFstNzYuNjQyNTM5LCAzOS4zMTUwMDRdLCBbLTc2LjY0MjQxOCwgMzkuMzE1MTI2XSwgWy03Ni42NDIxMTIsIDM5LjMxNTE1MV0sIFstNzYuNjQxMTU5LCAzOS4zMTQ3MThdLCBbLTc2LjY0MTAzLCAzOS4zMTQ1NDJdLCBbLTc2LjY0MDc1NCwgMzkuMzE0MzE4XSwgWy03Ni42NDA2NzIsIDM5LjMxNDE3OV0sIFstNzYuNjQwNjA3LCAzOS4zMTQxNDFdLCBbLTc2LjYzOTU4NCwgMzkuMzEzMTA2XSwgWy03Ni42Mzg1ODMsIDM5LjMxMjA2Nl0sIFstNzYuNjM4NDE2LCAzOS4zMTE5MTJdLCBbLTc2LjYzNzQ5OCwgMzkuMzEwOTUyXSwgWy03Ni42MzY5NzgsIDM5LjMxMDQyNl0sIFstNzYuNjM2OTA1LCAzOS4zMTAyNjJdLCBbLTc2LjYzODA5NSwgMzkuMzEwMjFdLCBbLTc2LjYzODMwMiwgMzkuMzEwMjIxXSwgWy03Ni42Mzg0MzYsIDM5LjMxMDIwMl0sIFstNzYuNjM5NjY4LCAzOS4zMTAxNTJdLCBbLTc2LjY0MDIwNiwgMzkuMzEwMTIxXSwgWy03Ni42NDAzNzEsIDM5LjMxMDEyOF0sIFstNzYuNjQwOTQ2LCAzOS4zMTAwNzJdLCBbLTc2LjY0MjM4NCwgMzkuMzEwMDI2XSwgWy03Ni42NDE2NTIsIDM5LjMwOTQxOF0sIFstNzYuNjQxNTkxLCAzOS4zMDkzNDJdLCBbLTc2LjY0MTUwMiwgMzkuMzA5MjkxXSwgWy03Ni42NDA4MTIsIDM5LjMwODY5Nl0sIFstNzYuNjQwNTQxLCAzOS4zMDg0ODldLCBbLTc2LjY0MDMwMiwgMzkuMzA4Mjg2XSwgWy03Ni42MzkzNjgsIDM5LjMwNzQ4XSwgWy03Ni42Mzg0ODgsIDM5LjMwNjc1Ml0sIFstNzYuNjM4NDMxLCAzOS4zMDY2N10sIFstNzYuNjM4MzY2LCAzOS4zMDYzXSwgWy03Ni42MzgwMDEsIDM5LjMwNTY1MV0sIFstNzYuNjM3OTc4LCAzOS4zMDU1NzhdLCBbLTc2LjYzNzg1NSwgMzkuMzA1MzU3XSwgWy03Ni42MzczMTMsIDM5LjMwNDM4NV0sIFstNzYuNjM3MTAxLCAzOS4zMDM5ODhdLCBbLTc2LjYzNjc5OCwgMzkuMzAzNDI0XSwgWy03Ni42MzYyNDYsIDM5LjMwMjQ2XSwgWy03Ni42MzU5NTEsIDM5LjMwMTg5XSwgWy03Ni42MzU5MzQsIDM5LjMwMTg0OF0sIFstNzYuNjM1ODgxLCAzOS4zMDE3Nl0sIFstNzYuNjM1ODU3LCAzOS4zMDE3MTRdLCBbLTc2LjYzNTg2NCwgMzkuMzAxNjc1XSwgWy03Ni42MzU3OTksIDM5LjMwMTYxM10sIFstNzYuNjM1NzM5LCAzOS4zMDE1MTldLCBbLTc2LjYzNTYxMywgMzkuMzAxMjVdLCBbLTc2LjYzNTQ5OCwgMzkuMzAxMDc4XSwgWy03Ni42MzUwNjksIDM5LjMwMDMwMV0sIFstNzYuNjM1MDQ4LCAzOS4zMDAyMjJdLCBbLTc2LjYzNDk4NCwgMzkuMzAwMTQ1XSwgWy03Ni42MzQ3NTgsIDM5LjI5OTc0NV0sIFstNzYuNjM0NzM4LCAzOS4yOTk2NzVdLCBbLTc2LjYzNDY5NCwgMzkuMjk5NjM0XSwgWy03Ni42MzQ0MjYsIDM5LjI5OTE0NF0sIFstNzYuNjM0MDQzLCAzOS4yOTg0MjFdLCBbLTc2LjYzMzg2NSwgMzkuMjk4MDYzXSwgWy03Ni42MzM4NDUsIDM5LjI5Nzk5N10sIFstNzYuNjMzNzMzLCAzOS4yOTc4NDhdLCBbLTc2LjYzMzYyNSwgMzkuMjk3NjQ5XSwgWy03Ni42MzMyMDksIDM5LjI5NjkwOV0sIFstNzYuNjMzMTg4LCAzOS4yOTY4NjhdLCBbLTc2LjYzMzA0MiwgMzkuMjk2NjAzXSwgWy03Ni42MzI3NTksIDM5LjI5NjA3N10sIFstNzYuNjMyNDg3LCAzOS4yOTU2MzddLCBbLTc2LjYzMjMzOCwgMzkuMjk1MzcyXSwgWy03Ni42MzIyNTEsIDM5LjI5NTIxM10sIFstNzYuNjMxNzUyLCAzOS4yOTQyNjFdLCBbLTc2LjYzMTMyNywgMzkuMjkzNDc1XSwgWy03Ni42MzEwOTksIDM5LjI5MzA3NV0sIFstNzYuNjMwODMsIDM5LjI5MjU3N10sIFstNzYuNjMwNDM3LCAzOS4yOTE4NzJdLCBbLTc2LjYzMDAzNywgMzkuMjkxMTNdLCBbLTc2LjYzMDAxNSwgMzkuMjkxMDkyXSwgWy03Ni42Mjk3NDEsIDM5LjI5MDU5MV0sIFstNzYuNjI5NDMyLCAzOS4yOTAwMTFdLCBbLTc2LjYyODAwOCwgMzkuMjkwMDY1XSwgWy03Ni42Mjc4NzksIDM5LjI5MDA5Ml0sIFstNzYuNjI3NTA0LCAzOS4yOTAwOTZdLCBbLTc2LjYyNjgxMywgMzkuMjkwMTIxXSwgWy03Ni42MjY3MzcsIDM5LjI4OTAxOF0sIFstNzYuNjI3ODAyLCAzOS4yODg5NzZdLCBbLTc2LjYyNzg5MiwgMzkuMjg4OThdLCBbLTc2LjYyODc5OCwgMzkuMjg4OTM4XSwgWy03Ni42Mjg4OTMsIDM5LjI4ODk0M10sIFstNzYuNjI5MDQ3LCAzOS4yODg5MjddLCBbLTc2LjYzMTQwNywgMzkuMjg4ODI1XSwgWy03Ni42MzIxNDEsIDM5LjI4ODc4OV0sIFstNzYuNjMzNzc2LCAzOS4yODg3MThdLCBbLTc2LjYzNjAyMywgMzkuMjg4NjE1XSwgWy03Ni42MzY2ODUsIDM5LjI4ODU4N10sIFstNzYuNjM4MDg1LCAzOS4yODg1MjZdLCBbLTc2LjYzODA2OSwgMzkuMjg4MDc5XSwgWy03Ni42MzgxNywgMzkuMjg4MDY3XSwgWy03Ni42MzgyNzMsIDM5LjI4ODA0NV0sIFstNzYuNjM5NTI5LCAzOS4yODgwMDJdLCBbLTc2LjY0MDg0NCwgMzkuMjg3OTQ3XSwgWy03Ni42NDA5NDIsIDM5LjI4Nzk1N10sIFstNzYuNjQxMDMzLCAzOS4yODc5MzldLCBbLTc2LjY0MjMwMSwgMzkuMjg3ODk0XSwgWy03Ni42NDIzMzgsIDM5LjI4ODI1Nl0sIFstNzYuNjQyMzYzLCAzOS4yODgyODJdLCBbLTc2LjY0MjQ0LCAzOS4yODgyNDVdLCBbLTc2LjY0MzA2NCwgMzkuMjg4MDM2XSwgWy03Ni42NDM3NjIsIDM5LjI4Nzc5OV0sIFstNzYuNjQ1MTIyLCAzOS4yODczNF0sIFstNzYuNjQ1MTIzLCAzOS4yODczODFdLCBbLTc2LjY0NTExLCAzOS4yODc0MTZdLCBbLTc2LjY0NTEyOSwgMzkuMjg3Njc3XSwgWy03Ni42NDUyNjIsIDM5LjI4NzY2NF0sIFstNzYuNjQ2ODUsIDM5LjI4NzU4Nl0sIFstNzYuNjQ2ODg5LCAzOS4yODgxMjVdLCBbLTc2LjY0Njk0OCwgMzkuMjg4MTM3XSwgWy03Ni42NDcwMTYsIDM5LjI4ODEyM10sIFstNzYuNjQ4NTU3LCAzOS4yODgwNTVdLCBbLTc2LjY0ODYyNSwgMzkuMjg4MDY0XSwgWy03Ni42NDg2NjksIDM5LjI4ODA2NV0sIFstNzYuNjQ4NzE1LCAzOS4yODgwNTNdLCBbLTc2LjY0ODgyOSwgMzkuMjg4MDQxXSwgWy03Ni42NDk5ODMsIDM5LjI4Nzk4M10sIFstNzYuNjUwMDYsIDM5LjI4Nzk5NV0sIFstNzYuNjUwMjMzLCAzOS4yODc5N10sIFstNzYuNjUxMzM5LCAzOS4yODc5MjJdLCBbLTc2LjY1MTQ2MSwgMzkuMjg3OTM2XSwgWy03Ni42NTE1ODEsIDM5LjI4NzkxM10sIFstNzYuNjUyODMxLCAzOS4yODc4NTZdLCBbLTc2LjY1MzY1NiwgMzkuMjg3ODM2XSwgWy03Ni42NTM3NTUsIDM5LjI4Nzg0M10sIFstNzYuNjUzOTI1LCAzOS4yODc4MDhdLCBbLTc2LjY1NTQ4NCwgMzkuMjg3NzRdLCBbLTc2LjY1NTU2MSwgMzkuMjg4NjE5XSwgWy03Ni42NTU2MDEsIDM5LjI4OTE4XSwgWy03Ni42NTU2MjgsIDM5LjI4OTc4MV0sIFstNzYuNjU1NjU1LCAzOS4yODk4ODFdLCBbLTc2LjY1NTYzNiwgMzkuMjg5OTU5XSwgWy03Ni42NTU2NTQsIDM5LjI5MDJdLCBbLTc2LjY1NTY3OCwgMzkuMjkwMjYzXSwgWy03Ni42NTU3MDEsIDM5LjI5MDM0XSwgWy03Ni42NTU3MDUsIDM5LjI5MDUwOV0sIFstNzYuNjU1NzQ2LCAzOS4yOTA2MDVdLCBbLTc2LjY1NTc5MiwgMzkuMjkwNjQ1XSwgWy03Ni42NTU3ODYsIDM5LjI5MDY5OV0sIFstNzYuNjU1OTc1LCAzOS4yOTEwMjhdLCBbLTc2LjY1NjAzOCwgMzkuMjkxMjI2XSwgWy03Ni42NTYwMDMsIDM5LjI5MTQzXSwgWy03Ni42NTM3NzksIDM5LjI5Mjg4Ml0sIFstNzYuNjUzNDk5LCAzOS4yOTMwOTRdLCBbLTc2LjY1MzAzNiwgMzkuMjkzNTMyXSwgWy03Ni42NTQ2NywgMzkuMjkzNDU3XSwgWy03Ni42NTQ3OTcsIDM5LjI5MzMzNF0sIFstNzYuNjU2MDgsIDM5LjI5MzI4NV0sIFstNzYuNjU2MjU3LCAzOS4yOTMzMDhdLCBbLTc2LjY1NjQzOSwgMzkuMjkzMjkyXSwgWy03Ni42NTc1MzcsIDM5LjI5MzIzOF0sIFstNzYuNjU4NTEyLCAzOS4yOTMxOTRdLCBbLTc2LjY1OTIzNywgMzkuMjkzMTY2XSwgWy03Ni42NjA5NzMsIDM5LjI5MzA5MV0sIFstNzYuNjYxMzg4LCAzOS4yOTMwOTZdLCBbLTc2LjY2MTQ4OSwgMzkuMjkzMDY4XSwgWy03Ni42NjIyNDEsIDM5LjI5MzA0XSwgWy03Ni42NjIzMiwgMzkuMjkzMDgzXSwgWy03Ni42NjI0MTksIDM5LjI5MzIxN10sIFstNzYuNjYyNDUyLCAzOS4yOTMyOTVdLCBbLTc2LjY2MjY0OCwgMzkuMjkzNTk3XSwgWy03Ni42NjI3MjksIDM5LjI5MzcyM10sIFstNzYuNjYyNzc1LCAzOS4yOTM3NjVdLCBbLTc2LjY2Mjc5NywgMzkuMjkzODI2XSwgWy03Ni42NjI5MTUsIDM5LjI5NDAwOV0sIFstNzYuNjYyOTc0LCAzOS4yOTQwNjNdLCBbLTc2LjY2Mjk4LCAzOS4yOTQxMDldLCBbLTc2LjY2MzE2MywgMzkuMjk0MzkxXSwgWy03Ni42NjMyMjUsIDM5LjI5NDQzMl0sIFstNzYuNjY0ODYzLCAzOS4yOTQzNzZdLCBbLTc2LjY2NDg5NSwgMzkuMjk1MTU1XSwgWy03Ni42NjQ5MzUsIDM5LjI5NTczOF0sIFstNzYuNjY0OTc1LCAzOS4yOTYyMzVdLCBbLTc2LjY2NTAxOSwgMzkuMjk3MTQxXSwgWy03Ni42NjUwNTcsIDM5LjI5Nzk2NF0sIFstNzYuNjY1MDc5LCAzOS4yOTgwNDZdLCBbLTc2LjY2NTA2NiwgMzkuMjk4MTAxXSwgWy03Ni42NjUwOTcsIDM5LjI5ODYyNl0sIFstNzYuNjY1MTI2LCAzOS4yOTkxN10sIFstNzYuNjY1MTg0LCAzOS4zMDAyMTFdLCBbLTc2LjY2MzQ3NSwgMzkuMzAwMjk4XSwgWy03Ni42NjE5LCAzOS4zMDAzNDRdLCBbLTc2LjY2MTcyMSwgMzkuMzAwMzcxXSwgWy03Ni42NjE2NzIsIDM5LjMwMDM2Nl0sIFstNzYuNjYxMzY5LCAzOS4zMDAzNzJdLCBbLTc2LjY2MTMxNywgMzkuMzAwMzkzXSwgWy03Ni42NjEyNDQsIDM5LjMwMDM4M10sIFstNzYuNjYwODk1LCAzOS4zMDAzODddLCBbLTc2LjY2MDgwNywgMzkuMzAwNDA2XSwgWy03Ni42NjA3NjUsIDM5LjMwMDQ2NF0sIFstNzYuNjYwNzk2LCAzOS4zMDE0NDFdLCBbLTc2LjY2MDgxNywgMzkuMzAxNTExXSwgWy03Ni42NjA3ODcsIDM5LjMwMTU3Nl0sIFstNzYuNjYwNzg4LCAzOS4zMDE4NzddLCBbLTc2LjY2MDY1NSwgMzkuMzAyNDMzXSwgWy03Ni42NjA1OTMsIDM5LjMwMjY5OV0sIFstNzYuNjYwNjAxLCAzOS4zMDM2OTNdLCBbLTc2LjY2MDYzNiwgMzkuMzA0MDA2XSwgWy03Ni42NjA2NTYsIDM5LjMwNDE3OV0sIFstNzYuNjYwNjIsIDM5LjMwNDMyNF0sIFstNzYuNjYwNjgzLCAzOS4zMDQ2NDldLCBbLTc2LjY2MDc1NCwgMzkuMzA0NzcyXSwgWy03Ni42NjA3MjUsIDM5LjMwNDkwNl0sIFstNzYuNjYwNzg5LCAzOS4zMDYwODddLCBbLTc2LjY2MjAwMiwgMzkuMzA2MDU5XSwgWy03Ni42NjMwMTEsIDM5LjMwNjAxNF0sIFstNzYuNjYzMTE0LCAzOS4zMDY0MTNdLCBbLTc2LjY2MzMwNSwgMzkuMzA3MTg4XSwgWy03Ni42NjMzNTIsIDM5LjMwNzMwMV0sIFstNzYuNjYzMzQ3LCAzOS4zMDc0MDFdLCBbLTc2LjY2Mzc5MSwgMzkuMzA5MTExXSwgWy03Ni42NjIyNDksIDM5LjMwOTE4XSwgWy03Ni42NjEwMiwgMzkuMzA5MjA5XSwgWy03Ni42NjEwNTEsIDM5LjMwOTRdLCBbLTc2LjY2MTEzLCAzOS4zMTAxMzRdLCBbLTc2LjY2MTIxNiwgMzkuMzEwMjI0XSwgWy03Ni42NjExOTQsIDM5LjMxMDM1N10sIFstNzYuNjYxMjY2LCAzOS4zMTE0MzNdLCBbLTc2LjY2MzI2LCAzOS4zMTEzNTZdLCBbLTc2LjY2NDA3LCAzOS4zMTEzMjRdLCBbLTc2LjY2NDE1LCAzOS4zMTEzMzFdLCBbLTc2LjY2NDIwNiwgMzkuMzExMzA2XSwgWy03Ni42NjQ2MDUsIDM5LjMxMTMxXSwgWy03Ni42NjU4NzIsIDM5LjMxMTI0OV0sIFstNzYuNjY1ODYxLCAzOS4zMTEzMjFdLCBbLTc2LjY2NTg5NywgMzkuMzExODIxXSwgWy03Ni42NjU5NDcsIDM5LjMxMjkxNV0sIFstNzYuNjY1OTczLCAzOS4zMTMzNDJdLCBbLTc2LjY2NTk5OCwgMzkuMzEzNF0sIFstNzYuNjY1OTgxLCAzOS4zMTM0NTldLCBbLTc2LjY2NjAzOCwgMzkuMzE0Mzg5XSwgWy03Ni42NjQzNjIsIDM5LjMxNDQ5Nl0sIFstNzYuNjYzNTM1LCAzOS4zMTQ1MDVdLCBbLTc2LjY2MzQ0NiwgMzkuMzE0NTIxXSwgWy03Ni42NjMzMDQsIDM5LjMxNDQ5OF0sIFstNzYuNjYyNTY2LCAzOS4zMTQ1NjJdLCBbLTc2LjY2MTc0MSwgMzkuMzE0Njg2XSwgWy03Ni42NjE2NDMsIDM5LjMxNDY5NF0sIFstNzYuNjYwODgsIDM5LjMxNDg0N10sIFstNzYuNjYwNzg2LCAzOS4zMTQ4OTldLCBbLTc2LjY2MDYwOCwgMzkuMzE0OTAzXSwgWy03Ni42NTk3OTgsIDM5LjMxNTEzOV0sIFstNzYuNjU4NjUsIDM5LjMxNTUyOV0sIFstNzYuNjU4NzM0LCAzOS4zMTU3NTVdLCBbLTc2LjY1OTA3NiwgMzkuMzE2NTkxXSwgWy03Ni42NTkxMDUsIDM5LjMxNjc3NV0sIFstNzYuNjU5MDU1LCAzOS4zMTY5Ml0sIFstNzYuNjU4OTU1LCAzOS4zMTcwNzVdLCBbLTc2LjY1ODM4NCwgMzkuMzE3Njc4XSwgWy03Ni42NTgwNjQsIDM5LjMxNzk5OV0sIFstNzYuNjU4MDQ0LCAzOS4zMTgwMTddLCBbLTc2LjY1NzkzMiwgMzkuMzE4MTE2XSwgWy03Ni42NTc0MDcsIDM5LjMxODU1N10sIFstNzYuNjU2ODEzLCAzOS4zMTg4NDJdLCBbLTc2LjY1NjUyNCwgMzkuMzE4OTY2XSwgWy03Ni42NTYwMzcsIDM5LjMxOTA4MV0sIFstNzYuNjU1NTc3LCAzOS4zMTkxMjNdLCBbLTc2LjY1NTA4NywgMzkuMzE5MDExXSwgWy03Ni42NTQ5NzIsIDM5LjMxODk2Ml0sIFstNzYuNjU0NDcyLCAzOS4zMTg4MjhdLCBbLTc2LjY1NDQzMywgMzkuMzE4Nzk2XSwgWy03Ni42NTQyMzcsIDM5LjMxODc0MV0sIFstNzYuNjU0MDQ3LCAzOS4zMTg2ODldLCBbLTc2LjY1Mzk4MywgMzkuMzE4Njk2XSwgWy03Ni42NTM5NDMsIDM5LjMxODY1Nl0sIFstNzYuNjUzNzU4LCAzOS4zMTg1OTZdLCBbLTc2LjY1MzU3MiwgMzkuMzE4NTM2XSwgWy03Ni42NTM0NTQsIDM5LjMxODUxOF0sIFstNzYuNjUzMzc0LCAzOS4zMTg0ODFdLCBbLTc2LjY1MzMwOSwgMzkuMzE4NDM5XSwgWy03Ni42NTIzNCwgMzkuMzE4MDk5XSwgWy03Ni42NTIyMDQsIDM5LjMxODIyMV0sIFstNzYuNjUxOTgxLCAzOS4zMTg0ODhdLCBbLTc2LjY1MTcxNSwgMzkuMzE4Nzc5XSwgWy03Ni42NTE2MzUsIDM5LjMxODkwN10sIFstNzYuNjUxNTgzLCAzOS4zMTg5MzNdLCBbLTc2LjY1MTQwNywgMzkuMzE5MV0sIFstNzYuNjUxMzgxLCAzOS4zMTkxODJdLCBbLTc2LjY1MTMwMywgMzkuMzE5MjIyXSwgWy03Ni42NTEwMjUsIDM5LjMxOTUxMl0sIFstNzYuNjUwOTksIDM5LjMxOTU3Ml0sIFstNzYuNjUwOTQsIDM5LjMxOTYxNF0sIFstNzYuNjUwNjA4LCAzOS4zMTk5NzldLCBbLTc2LjY1MDU0MiwgMzkuMzIwMDU0XSwgWy03Ni42NTA0MDUsIDM5LjMyMDI1N10sIFstNzYuNjQ5NjkxLCAzOS4zMTk4MzhdLCBbLTc2LjY0OTAyMiwgMzkuMzE5NTQ2XSwgWy03Ni42NDgxODYsIDM5LjMxOTE1M10sIFstNzYuNjQ3NzUxLCAzOS4zMTg4MTddLCBbLTc2LjY0NzYyNiwgMzkuMzE4NzA2XSwgWy03Ni42NDczNjksIDM5LjMxODUwOV1dXV0sICJ0eXBlIjogIk11bHRpUG9seWdvbiJ9LCAicHJvcGVydGllcyI6IHsiZGVzY3JpcHRpbyI6ICIiLCAibmFtZSI6ICJXRVNURVJOIn0sICJ0eXBlIjogIkZlYXR1cmUifSwgeyJnZW9tZXRyeSI6IHsiY29vcmRpbmF0ZXMiOiBbW1tbLTc2LjY0Mzk4MSwgMzkuMjY0ODg5XSwgWy03Ni42NDM5NzYsIDM5LjI2NDg5M10sIFstNzYuNjQzOTc4LCAzOS4yNjQ4ODZdLCBbLTc2LjY0Mzk4MSwgMzkuMjY0ODg5XV1dLCBbW1stNzYuNjQzOTgxLCAzOS4yNjQ4ODldLCBbLTc2LjY0NDA4MiwgMzkuMjY0ODFdLCBbLTc2LjY0NjMyMiwgMzkuMjYzMTA2XSwgWy03Ni42NDY3NzgsIDM5LjI2Mjc1OF0sIFstNzYuNjUwMDE4LCAzOS4yNjAyOV0sIFstNzYuNjUxODUsIDM5LjI1ODg3NF0sIFstNzYuNjUyNTg2LCAzOS4yNTg0OTRdLCBbLTc2LjY1MzQyNiwgMzkuMjU4MDVdLCBbLTc2LjY1NjM4NiwgMzkuMjU3MTk2XSwgWy03Ni42NTg1NjIsIDM5LjI1NjIyMl0sIFstNzYuNjU5MzgsIDM5LjI1NTcxNF0sIFstNzYuNjU5NjU4LCAzOS4yNTU1OTldLCBbLTc2LjY1OTg3OSwgMzkuMjU1NDc2XSwgWy03Ni42NjE1MDYsIDM5LjI1NjE3NF0sIFstNzYuNjYyNTc4LCAzOS4yNTY2MThdLCBbLTc2LjY2MzgzNCwgMzkuMjU3MTldLCBbLTc2LjY2NDI4MywgMzkuMjU3Mzg2XSwgWy03Ni42NzI5NTUsIDM5LjI2MTE1XSwgWy03Ni42NzY1NzEsIDM5LjI2MjcxOF0sIFstNzYuNjgxMzAxLCAzOS4yNjQ4XSwgWy03Ni42ODMyOTEsIDM5LjI2NTY3OF0sIFstNzYuNjg1Nzg3LCAzOS4yNjY4MDZdLCBbLTc2LjY4ODU5OCwgMzkuMjY4MDA0XSwgWy03Ni42OTE2MDMsIDM5LjI2OTMxNF0sIFstNzYuNjk4NjYzLCAzOS4yNzIzOTJdLCBbLTc2LjcwMDY5OSwgMzkuMjczMjc5XSwgWy03Ni43MTEwOTUsIDM5LjI3NzgwOV0sIFstNzYuNzExMDk5LCAzOS4yNzc4MTFdLCBbLTc2LjcxMTA5OSwgMzkuMjc3ODExXSwgWy03Ni43MTExNjEsIDM5LjI3NzgzOF0sIFstNzYuNzExMTY2LCAzOS4yODEwMjZdLCBbLTc2LjcxMTE3MywgMzkuMjg1OTYzXSwgWy03Ni43MTExNzQsIDM5LjI4NzAzM10sIFstNzYuNzExMTgxLCAzOS4yOTE1MV0sIFstNzYuNzExMTg5LCAzOS4yOTcyNTldLCBbLTc2LjcxMTE5MiwgMzkuMjk5MzY5XSwgWy03Ni43MTExOTcsIDM5LjMwMzI0NF0sIFstNzYuNzExMjAyLCAzOS4zMDY2MTddLCBbLTc2LjcxMTIwNSwgMzkuMzA5MDQzXSwgWy03Ni43MTEyMSwgMzkuMzEyMjI0XSwgWy03Ni43MTEyMTksIDM5LjMxOTIyNF0sIFstNzYuNzEwNzQ3LCAzOS4zMTg4ODFdLCBbLTc2LjcxMDI5MiwgMzkuMzE4NzYzXSwgWy03Ni43MDk4NDksIDM5LjMxODg0MV0sIFstNzYuNzA5NTc2LCAzOS4zMTg5NjhdLCBbLTc2LjcwOTQyMSwgMzkuMzE5MDgyXSwgWy03Ni43MDczNDEsIDM5LjMyMDAxNF0sIFstNzYuNzA2NTk2LCAzOS4zMjAwNzVdLCBbLTc2LjcwNTk4LCAzOS4zMTk5MzNdLCBbLTc2LjcwNTA1MSwgMzkuMzE5NDMzXSwgWy03Ni43MDM4NzksIDM5LjMxODQ0NF0sIFstNzYuNzAzNTMyLCAzOS4zMTgwNDhdLCBbLTc2LjcwMzI0NSwgMzkuMzE3NDE4XSwgWy03Ni43MDMxMTUsIDM5LjMxNjYwOV0sIFstNzYuNzAyNzk3LCAzOS4zMTU5OThdLCBbLTc2LjcwMjMyMSwgMzkuMzE1NjU5XSwgWy03Ni43MDE4MjYsIDM5LjMxNTU4Ml0sIFstNzYuNzAwOTE4LCAzOS4zMTU2NTVdLCBbLTc2LjcwMDM5NywgMzkuMzE1OTE3XSwgWy03Ni43MDAyMTQsIDM5LjMxNjI1NF0sIFstNzYuNzAwMDY1LCAzOS4zMTcxNTZdLCBbLTc2LjY5OTkwNiwgMzkuMzE3NjgyXSwgWy03Ni42OTk0OTMsIDM5LjMxODEzMV0sIFstNzYuNjk4OTk2LCAzOS4zMTgyNTJdLCBbLTc2LjY5ODQwNCwgMzkuMzE4MjMyXSwgWy03Ni42OTc0NjMsIDM5LjMxNzY5NF0sIFstNzYuNjk2NDUzLCAzOS4zMTc0MzRdLCBbLTc2LjY5NjA5OSwgMzkuMzE3MDYxXSwgWy03Ni42OTYxMjUsIDM5LjMxNjcwNF0sIFstNzYuNjk2MTk4LCAzOS4zMTY0ODhdLCBbLTc2LjY5NjE5OSwgMzkuMzE2MzAxXSwgWy03Ni42OTYyOTgsIDM5LjMxNTgyMl0sIFstNzYuNjk2MzEyLCAzOS4zMTU0MThdLCBbLTc2LjY5NTk4NiwgMzkuMzE1MDk4XSwgWy03Ni42OTUzOTUsIDM5LjMxNDk1NV0sIFstNzYuNjk0NTcyLCAzOS4zMTQ5MzRdLCBbLTc2LjY5MzE4MiwgMzkuMzE0ODA4XSwgWy03Ni42OTEzODgsIDM5LjMxNDQzOF0sIFstNzYuNjkwMjM1LCAzOS4zMTM5MzZdLCBbLTc2LjY4OTc0MSwgMzkuMzEzNDY1XSwgWy03Ni42ODk0MTQsIDM5LjMxMzFdLCBbLTc2LjY4OTM3OCwgMzkuMzEyNjU5XSwgWy03Ni42ODkyNSwgMzkuMzEyNDA2XSwgWy03Ni42ODkxOSwgMzkuMzEyMjM1XSwgWy03Ni42ODg5ODYsIDM5LjMxMjE3XSwgWy03Ni42ODgyMTQsIDM5LjMxMjI0NF0sIFstNzYuNjg3Nzg5LCAzOS4zMTIzMzddLCBbLTc2LjY4NzM5NSwgMzkuMzEyMzQ4XSwgWy03Ni42ODY0NjQsIDM5LjMxMjQ1MV0sIFstNzYuNjg1NzI5LCAzOS4zMTI2MjZdLCBbLTc2LjY4NTQ1NSwgMzkuMzEyNzM3XSwgWy03Ni42ODUyNTYsIDM5LjMxMjg0NF0sIFstNzYuNjg0ODg2LCAzOS4zMTMxMjldLCBbLTc2LjY4NDY2NiwgMzkuMzEzMjNdLCBbLTc2LjY4MzQ1LCAzOS4zMTMxODNdLCBbLTc2LjY4MzMxNiwgMzkuMzEzMjMzXSwgWy03Ni42ODI4MzEsIDM5LjMxMzIyNV0sIFstNzYuNjgyNTgzLCAzOS4zMTMzMjldLCBbLTc2LjY4MjM2OSwgMzkuMzEzNTUxXSwgWy03Ni42ODIxMjgsIDM5LjMxMzc0XSwgWy03Ni42ODE4MTksIDM5LjMxMzg3M10sIFstNzYuNjgxMzk0LCAzOS4zMTM5MTNdLCBbLTc2LjY4MTA5LCAzOS4zMTM4ODVdLCBbLTc2LjY4MDc0OCwgMzkuMzEzODc0XSwgWy03Ni42ODAxMDUsIDM5LjMxMzg5Ml0sIFstNzYuNjc5MDg4LCAzOS4zMTM5MzRdLCBbLTc2LjY3NzgwMiwgMzkuMzEzOTc2XSwgWy03Ni42NzY0NzYsIDM5LjMxNDAzMl0sIFstNzYuNjc0NDMzLCAzOS4zMTQxMDhdLCBbLTc2LjY3MjY2NiwgMzkuMzE0MTc4XSwgWy03Ni42NzI1MzQsIDM5LjMxNDE3MV0sIFstNzYuNjcxMjQ0LCAzOS4zMTQyM10sIFstNzYuNjY5NjI5LCAzOS4zMTQyNzldLCBbLTc2LjY2Nzg2MiwgMzkuMzE0MzQ5XSwgWy03Ni42NjYwOTEsIDM5LjMxNDQxXSwgWy03Ni42NjYwMzgsIDM5LjMxNDM4OV0sIFstNzYuNjY1OTgxLCAzOS4zMTM0NTldLCBbLTc2LjY2NTk5OCwgMzkuMzEzNF0sIFstNzYuNjY1OTczLCAzOS4zMTMzNDJdLCBbLTc2LjY2NTk0NywgMzkuMzEyOTE1XSwgWy03Ni42NjU4OTcsIDM5LjMxMTgyMV0sIFstNzYuNjY1ODYxLCAzOS4zMTEzMjFdLCBbLTc2LjY2NTg3MiwgMzkuMzExMjQ5XSwgWy03Ni42NjQ2MDUsIDM5LjMxMTMxXSwgWy03Ni42NjQyMDYsIDM5LjMxMTMwNl0sIFstNzYuNjY0MTUsIDM5LjMxMTMzMV0sIFstNzYuNjY0MDcsIDM5LjMxMTMyNF0sIFstNzYuNjYzMjYsIDM5LjMxMTM1Nl0sIFstNzYuNjYxMjY2LCAzOS4zMTE0MzNdLCBbLTc2LjY2MTE5NCwgMzkuMzEwMzU3XSwgWy03Ni42NjEyMTYsIDM5LjMxMDIyNF0sIFstNzYuNjYxMTMsIDM5LjMxMDEzNF0sIFstNzYuNjYxMDUxLCAzOS4zMDk0XSwgWy03Ni42NjEwMiwgMzkuMzA5MjA5XSwgWy03Ni42NjIyNDksIDM5LjMwOTE4XSwgWy03Ni42NjM3OTEsIDM5LjMwOTExMV0sIFstNzYuNjYzMzQ3LCAzOS4zMDc0MDFdLCBbLTc2LjY2MzM1MiwgMzkuMzA3MzAxXSwgWy03Ni42NjMzMDUsIDM5LjMwNzE4OF0sIFstNzYuNjYzMTE0LCAzOS4zMDY0MTNdLCBbLTc2LjY2MzAxMSwgMzkuMzA2MDE0XSwgWy03Ni42NjIwMDIsIDM5LjMwNjA1OV0sIFstNzYuNjYwNzg5LCAzOS4zMDYwODddLCBbLTc2LjY2MDcyNSwgMzkuMzA0OTA2XSwgWy03Ni42NjA3NTQsIDM5LjMwNDc3Ml0sIFstNzYuNjYwNjgzLCAzOS4zMDQ2NDldLCBbLTc2LjY2MDYyLCAzOS4zMDQzMjRdLCBbLTc2LjY2MDY1NiwgMzkuMzA0MTc5XSwgWy03Ni42NjA2MzYsIDM5LjMwNDAwNl0sIFstNzYuNjYwNjAxLCAzOS4zMDM2OTNdLCBbLTc2LjY2MDU5MywgMzkuMzAyNjk5XSwgWy03Ni42NjA2NTUsIDM5LjMwMjQzM10sIFstNzYuNjYwNzg4LCAzOS4zMDE4NzddLCBbLTc2LjY2MDc4NywgMzkuMzAxNTc2XSwgWy03Ni42NjA4MTcsIDM5LjMwMTUxMV0sIFstNzYuNjYwNzk2LCAzOS4zMDE0NDFdLCBbLTc2LjY2MDc2NSwgMzkuMzAwNDY0XSwgWy03Ni42NjA4MDcsIDM5LjMwMDQwNl0sIFstNzYuNjYwODk1LCAzOS4zMDAzODddLCBbLTc2LjY2MTI0NCwgMzkuMzAwMzgzXSwgWy03Ni42NjEzMTcsIDM5LjMwMDM5M10sIFstNzYuNjYxMzY5LCAzOS4zMDAzNzJdLCBbLTc2LjY2MTY3MiwgMzkuMzAwMzY2XSwgWy03Ni42NjE3MjEsIDM5LjMwMDM3MV0sIFstNzYuNjYxOSwgMzkuMzAwMzQ0XSwgWy03Ni42NjM0NzUsIDM5LjMwMDI5OF0sIFstNzYuNjY1MTg0LCAzOS4zMDAyMTFdLCBbLTc2LjY2NTEyNiwgMzkuMjk5MTddLCBbLTc2LjY2NTA5NywgMzkuMjk4NjI2XSwgWy03Ni42NjUwNjYsIDM5LjI5ODEwMV0sIFstNzYuNjY1MDc5LCAzOS4yOTgwNDZdLCBbLTc2LjY2NTA1NywgMzkuMjk3OTY0XSwgWy03Ni42NjUwMTksIDM5LjI5NzE0MV0sIFstNzYuNjY0OTc1LCAzOS4yOTYyMzVdLCBbLTc2LjY2NDkzNSwgMzkuMjk1NzM4XSwgWy03Ni42NjQ4OTUsIDM5LjI5NTE1NV0sIFstNzYuNjY0ODYzLCAzOS4yOTQzNzZdLCBbLTc2LjY2MzIyNSwgMzkuMjk0NDMyXSwgWy03Ni42NjMxNjMsIDM5LjI5NDM5MV0sIFstNzYuNjYyOTgsIDM5LjI5NDEwOV0sIFstNzYuNjYyOTc0LCAzOS4yOTQwNjNdLCBbLTc2LjY2MjkxNSwgMzkuMjk0MDA5XSwgWy03Ni42NjI3OTcsIDM5LjI5MzgyNl0sIFstNzYuNjYyNzc1LCAzOS4yOTM3NjVdLCBbLTc2LjY2MjcyOSwgMzkuMjkzNzIzXSwgWy03Ni42NjI2NDgsIDM5LjI5MzU5N10sIFstNzYuNjYyNDUyLCAzOS4yOTMyOTVdLCBbLTc2LjY2MjQxOSwgMzkuMjkzMjE3XSwgWy03Ni42NjIzMiwgMzkuMjkzMDgzXSwgWy03Ni42NjIyNDEsIDM5LjI5MzA0XSwgWy03Ni42NjE0ODksIDM5LjI5MzA2OF0sIFstNzYuNjYxMzg4LCAzOS4yOTMwOTZdLCBbLTc2LjY2MDk3MywgMzkuMjkzMDkxXSwgWy03Ni42NTkyMzcsIDM5LjI5MzE2Nl0sIFstNzYuNjU4NTEyLCAzOS4yOTMxOTRdLCBbLTc2LjY1NzUzNywgMzkuMjkzMjM4XSwgWy03Ni42NTY0MzksIDM5LjI5MzI5Ml0sIFstNzYuNjU2MjU3LCAzOS4yOTMzMDhdLCBbLTc2LjY1NjA4LCAzOS4yOTMyODVdLCBbLTc2LjY1NDc5NywgMzkuMjkzMzM0XSwgWy03Ni42NTQ2NywgMzkuMjkzNDU3XSwgWy03Ni42NTMwMzYsIDM5LjI5MzUzMl0sIFstNzYuNjUzNDk5LCAzOS4yOTMwOTRdLCBbLTc2LjY1Mzc3OSwgMzkuMjkyODgyXSwgWy03Ni42NTYwMDMsIDM5LjI5MTQzXSwgWy03Ni42NTYwMzgsIDM5LjI5MTIyNl0sIFstNzYuNjU1OTc1LCAzOS4yOTEwMjhdLCBbLTc2LjY1NTc4NiwgMzkuMjkwNjk5XSwgWy03Ni42NTU3OTIsIDM5LjI5MDY0NV0sIFstNzYuNjU1NzQ2LCAzOS4yOTA2MDVdLCBbLTc2LjY1NTcwNSwgMzkuMjkwNTA5XSwgWy03Ni42NTU3MDEsIDM5LjI5MDM0XSwgWy03Ni42NTU2NzgsIDM5LjI5MDI2M10sIFstNzYuNjU1NjU0LCAzOS4yOTAyXSwgWy03Ni42NTU2MzYsIDM5LjI4OTk1OV0sIFstNzYuNjU1NjU1LCAzOS4yODk4ODFdLCBbLTc2LjY1NTYyOCwgMzkuMjg5NzgxXSwgWy03Ni42NTU2MDEsIDM5LjI4OTE4XSwgWy03Ni42NTU1NjEsIDM5LjI4ODYxOV0sIFstNzYuNjU1NDg0LCAzOS4yODc3NF0sIFstNzYuNjUzOTI1LCAzOS4yODc4MDhdLCBbLTc2LjY1Mzc1NSwgMzkuMjg3ODQzXSwgWy03Ni42NTM2NTYsIDM5LjI4NzgzNl0sIFstNzYuNjUyODMxLCAzOS4yODc4NTZdLCBbLTc2LjY1MTU4MSwgMzkuMjg3OTEzXSwgWy03Ni42NTE0NjEsIDM5LjI4NzkzNl0sIFstNzYuNjUxMzM5LCAzOS4yODc5MjJdLCBbLTc2LjY1MDIzMywgMzkuMjg3OTddLCBbLTc2LjY1MDA2LCAzOS4yODc5OTVdLCBbLTc2LjY0OTk4MywgMzkuMjg3OTgzXSwgWy03Ni42NDg4MjksIDM5LjI4ODA0MV0sIFstNzYuNjQ4NzE1LCAzOS4yODgwNTNdLCBbLTc2LjY0ODY2OSwgMzkuMjg4MDY1XSwgWy03Ni42NDg2MjUsIDM5LjI4ODA2NF0sIFstNzYuNjQ4NTU3LCAzOS4yODgwNTVdLCBbLTc2LjY0NzAxNiwgMzkuMjg4MTIzXSwgWy03Ni42NDY5NDgsIDM5LjI4ODEzN10sIFstNzYuNjQ2ODg5LCAzOS4yODgxMjVdLCBbLTc2LjY0Njg1LCAzOS4yODc1ODZdLCBbLTc2LjY0Njc5OSwgMzkuMjg2Nzg5XSwgWy03Ni42NDY5MjEsIDM5LjI4NjczM10sIFstNzYuNjQ3NzAxLCAzOS4yODY0ODZdLCBbLTc2LjY0ODUxMiwgMzkuMjg2MjAzXSwgWy03Ni42NDk4NDEsIDM5LjI4NTczMV0sIFstNzYuNjQ5ODMxLCAzOS4yODUxMjddLCBbLTc2LjY0OTg1NywgMzkuMjg1MDI0XSwgWy03Ni42NDk4MjUsIDM5LjI4NDk1Ml0sIFstNzYuNjQ5ODA3LCAzOS4yODQ3NjhdLCBbLTc2LjY0OTg0MSwgMzkuMjg0N10sIFstNzYuNjQ5ODE5LCAzOS4yODQ2MzddLCBbLTc2LjY0OTczOCwgMzkuMjgzMDJdLCBbLTc2LjY0OTY5NywgMzkuMjgyMzk1XSwgWy03Ni42NDk0MzgsIDM5LjI4MTgxOF0sIFstNzYuNjQ4ODkzLCAzOS4yODA4NDJdLCBbLTc2LjY0ODA1OCwgMzkuMjc5MzczXSwgWy03Ni42NDc3NCwgMzkuMjc4ODE4XSwgWy03Ni42NDk0OTIsIDM5LjI3ODMyOF0sIFstNzYuNjUwMTU0LCAzOS4yNzgyNzldLCBbLTc2LjY1MDk2OSwgMzkuMjc4MjE0XSwgWy03Ni42NTE3NjMsIDM5LjI3Nzk1Nl0sIFstNzYuNjUyNTE5LCAzOS4yNzc2ODNdLCBbLTc2LjY1MzUxOCwgMzkuMjc3MTIxXSwgWy03Ni42NTM5NDYsIDM5LjI3Njg1Ml0sIFstNzYuNjU0Mjk1LCAzOS4yNzY0MV0sIFstNzYuNjU0OTcxLCAzOS4yNzU0MThdLCBbLTc2LjY1NDMzOCwgMzkuMjc1MDddLCBbLTc2LjY1MzkyMiwgMzkuMjc0NTE0XSwgWy03Ni42NTM5MjIsIDM5LjI3NDExOF0sIFstNzYuNjUzNzE0LCAzOS4yNzM0ODJdLCBbLTc2LjY1MzQwMiwgMzkuMjczMDM0XSwgWy03Ni42NTI3NywgMzkuMjcyNTU4XSwgWy03Ni42NTEwNzQsIDM5LjI3MTkwMl0sIFstNzYuNjQ5NDU4LCAzOS4yNzE4MzRdLCBbLTc2LjY0ODU2NSwgMzkuMjcxNTJdLCBbLTc2LjY0ODE1NCwgMzkuMjcxMTY2XSwgWy03Ni42NDc2MzIsIDM5LjI3MDc4OV0sIFstNzYuNjQ3ODk1LCAzOS4yNzA1NTFdLCBbLTc2LjY0ODI0MSwgMzkuMjcwMjQxXSwgWy03Ni42NDgzNTUsIDM5LjI3MDIyNl0sIFstNzYuNjQ3NTE1LCAzOS4yNjk1NzZdLCBbLTc2LjY0NzQ2OCwgMzkuMjY5NDldLCBbLTc2LjY0NzM0OCwgMzkuMjY5NDI5XSwgWy03Ni42NDY5MTksIDM5LjI2ODk1M10sIFstNzYuNjQ2MTM0LCAzOS4yNjgyMTFdLCBbLTc2LjY0NjAxOSwgMzkuMjY4MDcyXSwgWy03Ni42NDU4NDYsIDM5LjI2Nzk3N10sIFstNzYuNjQ1MzkxLCAzOS4yNjc1MjddLCBbLTc2LjY0NTM4MSwgMzkuMjY3NDEyXSwgWy03Ni42NDUzMTksIDM5LjI2NzI2OV0sIFstNzYuNjQ1MTY3LCAzOS4yNjYwOTFdLCBbLTc2LjY0NTEyMSwgMzkuMjY1ODEzXSwgWy03Ni42NDQ5NTksIDM5LjI2NTY0MV0sIFstNzYuNjQ0NDk4LCAzOS4yNjUyODRdLCBbLTc2LjY0NDQwNCwgMzkuMjY1MTU3XSwgWy03Ni42NDQyNzMsIDM5LjI2NTA5Ml0sIFstNzYuNjQzOTgxLCAzOS4yNjQ4ODldXV1dLCAidHlwZSI6ICJNdWx0aVBvbHlnb24ifSwgInByb3BlcnRpZXMiOiB7ImRlc2NyaXB0aW8iOiAiIiwgIm5hbWUiOiAiU09VVEhXRVNUIn0sICJ0eXBlIjogIkZlYXR1cmUifSwgeyJnZW9tZXRyeSI6IHsiY29vcmRpbmF0ZXMiOiBbW1tbLTc2LjU4NzQ1OSwgMzkuMjEzNDgyXSwgWy03Ni41ODcyODIsIDM5LjIxMzUwM10sIFstNzYuNTg3MjQxLCAzOS4yMTM1MzFdLCBbLTc2LjU4NzEyNiwgMzkuMjEzNTM5XSwgWy03Ni41ODcwNzYsIDM5LjIxMzU0N10sIFstNzYuNTg2OTk2LCAzOS4yMTM1NDddLCBbLTc2LjU4NjYwNSwgMzkuMjEzNTY2XSwgWy03Ni41ODY1NzMsIDM5LjIxMzU2MV0sIFstNzYuNTg2NTQzLCAzOS4yMTM1NjldLCBbLTc2LjU4NjUwNiwgMzkuMjEzNTddLCBbLTc2LjU4NjM3MSwgMzkuMjEzNjA1XSwgWy03Ni41ODYzMTQsIDM5LjIxMzYxXSwgWy03Ni41ODYxNTEsIDM5LjIxMzY1OF0sIFstNzYuNTg2MDM0LCAzOS4yMTM2ODFdLCBbLTc2LjU4NTg5LCAzOS4yMTM2OTJdLCBbLTc2LjU4NTczNCwgMzkuMjEzNjcxXSwgWy03Ni41ODU2MTYsIDM5LjIxMzY0MV0sIFstNzYuNTg1MzMyLCAzOS4yMTM2MTVdLCBbLTc2LjU4NTI2MSwgMzkuMjEzNjI1XSwgWy03Ni41ODUyMDUsIDM5LjIxMzYzOF0sIFstNzYuNTg1MTYxLCAzOS4yMTM2MzldLCBbLTc2LjU4NTA2OSwgMzkuMjEzNjUyXSwgWy03Ni41ODUsIDM5LjIxMzY5NF0sIFstNzYuNTg0OTU1LCAzOS4yMTM2OTJdLCBbLTc2LjU4NDg2LCAzOS4yMTM3MjJdLCBbLTc2LjU4NDg0NiwgMzkuMjEzNjczXSwgWy03Ni41ODQ4MTEsIDM5LjIxMzcyXSwgWy03Ni41ODQ3MjUsIDM5LjIxMzcxNl0sIFstNzYuNTg0MzI2LCAzOS4yMTM4ODldLCBbLTc2LjU4NDI3NywgMzkuMjEzOTMyXSwgWy03Ni41ODQxNiwgMzkuMjEzOTgyXSwgWy03Ni41ODM3ODUsIDM5LjIxNDE3NV0sIFstNzYuNTgzNzE2LCAzOS4yMTQxNThdLCBbLTc2LjU4MzcxMiwgMzkuMjE0MTc5XSwgWy03Ni41ODM3NDgsIDM5LjIxNDIwOF0sIFstNzYuNTgzNzIsIDM5LjIxNDIxOF0sIFstNzYuNTgzNTE4LCAzOS4yMTQyMzldLCBbLTc2LjU4MzM2MywgMzkuMjE0MzA5XSwgWy03Ni41ODMxNjcsIDM5LjIxNDM4N10sIFstNzYuNTgzMTM3LCAzOS4yMTQzNTZdLCBbLTc2LjU4Mjk0NiwgMzkuMjE0MzQ0XSwgWy03Ni41ODI4NzksIDM5LjIxNDM1NV0sIFstNzYuNTgyODMyLCAzOS4yMTQzM10sIFstNzYuNTgyNzc0LCAzOS4yMTQzMzNdLCBbLTc2LjU4MjcyNCwgMzkuMjE0MzExXSwgWy03Ni41ODI0MzIsIDM5LjIxNDI3XSwgWy03Ni41ODIzMjUsIDM5LjIxNDI3M10sIFstNzYuNTgxODAyLCAzOS4yMTQyNDhdLCBbLTc2LjU4MTY2OSwgMzkuMjE0MjU2XSwgWy03Ni41ODE2MDksIDM5LjIxNDIzOV0sIFstNzYuNTgxNDQ4LCAzOS4yMTQyNF0sIFstNzYuNTgxMjMxLCAzOS4yMTQyMDRdLCBbLTc2LjU4MTAyLCAzOS4yMTM4MzldLCBbLTc2LjU4MDkyOSwgMzkuMjEzNTc5XSwgWy03Ni41ODA4MzksIDM5LjIxMzI1NV0sIFstNzYuNTgwOTYzLCAzOS4yMTI1NTJdLCBbLTc2LjU4MTAyNCwgMzkuMjEyNTE1XSwgWy03Ni41ODEyMjQsIDM5LjIxMjA1XSwgWy03Ni41ODA5MDUsIDM5LjIxMTkyMl0sIFstNzYuNTgwOTUyLCAzOS4yMTE4NjNdLCBbLTc2LjU4MTI4NiwgMzkuMjExOTc3XSwgWy03Ni41ODE1MTksIDM5LjIxMTU4Nl0sIFstNzYuNTgxNTUxLCAzOS4yMTE2MTJdLCBbLTc2LjU4MTg1MywgMzkuMjExMTFdLCBbLTc2LjU4MTYxLCAzOS4yMTA5MDZdLCBbLTc2LjU4MTYxLCAzOS4yMTA4M10sIFstNzYuNTgyMDYsIDM5LjIxMDIwMV0sIFstNzYuNTgyMDMzLCAzOS4yMTAxNzVdLCBbLTc2LjU4MjMxNywgMzkuMjA5OTAyXSwgWy03Ni41ODI0NzMsIDM5LjIwOTk2N10sIFstNzYuNTgyNzEzLCAzOS4yMDk5MDNdLCBbLTc2LjU4Mjg4MiwgMzkuMjA5OTYyXSwgWy03Ni41ODMzMjksIDM5LjIwOTM2MV0sIFstNzYuNTgzNDIxLCAzOS4yMDkyNDNdLCBbLTc2LjU4MzQ4OSwgMzkuMjA4ODI0XSwgWy03Ni41ODM1MjMsIDM5LjIwODgwNF0sIFstNzYuNTgzNTI4LCAzOS4yMDg3MjldLCBbLTc2LjU4MzUxMSwgMzkuMjA4NjcyXSwgWy03Ni41ODM0NzIsIDM5LjIwODY1NV0sIFstNzYuNTgzNDg2LCAzOS4yMDg1MzZdLCBbLTc2LjU4MzM2MSwgMzkuMjA4NDA3XSwgWy03Ni41ODMxMjcsIDM5LjIwODIxN10sIFstNzYuNTgzMTEsIDM5LjIwODE1Nl0sIFstNzYuNTgzMTI0LCAzOS4yMDgwNDFdLCBbLTc2LjU4MzAxMiwgMzkuMjA3OTA5XSwgWy03Ni41ODM2NzMsIDM5LjIwODEyMV0sIFstNzYuNTg4NTY2LCAzOS4yMTI3MjRdLCBbLTc2LjU4ODUxNywgMzkuMjEyNzQxXSwgWy03Ni41ODg0NTMsIDM5LjIxMjc1NF0sIFstNzYuNTg4NDExLCAzOS4yMTI3NzRdLCBbLTc2LjU4ODM5OSwgMzkuMjEyNzk1XSwgWy03Ni41ODg0MTEsIDM5LjIxMjg0Ml0sIFstNzYuNTg4NDEzLCAzOS4yMTI4NzRdLCBbLTc2LjU4ODM2NSwgMzkuMjEyOTE0XSwgWy03Ni41ODgzNTksIDM5LjIxMjk3M10sIFstNzYuNTg4MzQ1LCAzOS4yMTMwMDFdLCBbLTc2LjU4ODMzOCwgMzkuMjEzMDI5XSwgWy03Ni41ODgyOTgsIDM5LjIxMzA5NV0sIFstNzYuNTg4MjkyLCAzOS4yMTMxNDhdLCBbLTc2LjU4ODI2NywgMzkuMjEzMTgxXSwgWy03Ni41ODgyNTYsIDM5LjIxMzIxXSwgWy03Ni41ODgyNjksIDM5LjIxMzI1N10sIFstNzYuNTg4MjY5LCAzOS4yMTMyOF0sIFstNzYuNTg4MjU1LCAzOS4yMTMyOTldLCBbLTc2LjU4ODIxNywgMzkuMjEzMzE2XSwgWy03Ni41ODgyMzIsIDM5LjIxMzM5MV0sIFstNzYuNTg4MjI2LCAzOS4yMTM0MTNdLCBbLTc2LjU4ODE5MSwgMzkuMjEzNDI1XSwgWy03Ni41ODgxNjUsIDM5LjIxMzQ1M10sIFstNzYuNTg4MTM1LCAzOS4yMTM0OTNdLCBbLTc2LjU4ODA4NCwgMzkuMjEzNTI5XSwgWy03Ni41ODgwMTUsIDM5LjIxMzU5NF0sIFstNzYuNTg3OTIzLCAzOS4yMTM2MDVdLCBbLTc2LjU4Nzg2OCwgMzkuMjEzNjI4XSwgWy03Ni41ODc4MjYsIDM5LjIxMzYzOF0sIFstNzYuNTg3ODE0LCAzOS4yMTM2NV0sIFstNzYuNTg3ODIyLCAzOS4yMTM2ODFdLCBbLTc2LjU4NzgxMywgMzkuMjEzNjg5XSwgWy03Ni41ODc3OTgsIDM5LjIxMzY4OF0sIFstNzYuNTg3Nzc5LCAzOS4yMTM2NTldLCBbLTc2LjU4Nzc0LCAzOS4yMTM2NDVdLCBbLTc2LjU4NzcwNSwgMzkuMjEzNTY1XSwgWy03Ni41ODc2MzcsIDM5LjIxMzUwM10sIFstNzYuNTg3NTU2LCAzOS4yMTM0ODVdLCBbLTc2LjU4NzQ1OSwgMzkuMjEzNDgyXV1dLCBbW1stNzYuNTcyNTc3LCAzOS4yMTgyNjRdLCBbLTc2LjU3MjUxNiwgMzkuMjE4MjVdLCBbLTc2LjU3MjQ0LCAzOS4yMTgyNjFdLCBbLTc2LjU3MDU2NywgMzkuMjE3MThdLCBbLTc2LjU3MDExMiwgMzkuMjE2OTE3XSwgWy03Ni41Njk5OCwgMzkuMjE2ODc4XSwgWy03Ni41Njk5MSwgMzkuMjE2ODAxXSwgWy03Ni41Njk1ODgsIDM5LjIxNjYxNV0sIFstNzYuNTY5NTE5LCAzOS4yMTY2MDJdLCBbLTc2LjU2OTQ3NCwgMzkuMjE2NTc4XSwgWy03Ni41NjkyMzgsIDM5LjIxNjM1Ml0sIFstNzYuNTY5MDIxLCAzOS4yMTYxNzddLCBbLTc2LjU2ODYyOSwgMzkuMjE1OTczXSwgWy03Ni41NjgzOTMsIDM5LjIxNTY1OF0sIFstNzYuNTY4MTI0LCAzOS4yMTUzODhdLCBbLTc2LjU2ODA2NywgMzkuMjE1Mjk2XSwgWy03Ni41Njc5NjQsIDM5LjIxNTE5MV0sIFstNzYuNTY3OTAxLCAzOS4yMTUxNDFdLCBbLTc2LjU2NzgyNywgMzkuMjE1MDQ3XSwgWy03Ni41Njc2OTksIDM5LjIxNDk4MV0sIFstNzYuNTY3NTIsIDM5LjIxNDkyNF0sIFstNzYuNTY3Mzg3LCAzOS4yMTQ4NTddLCBbLTc2LjU2NzI1OSwgMzkuMjE0ODE2XSwgWy03Ni41NjY4NjYsIDM5LjIxNDc2M10sIFstNzYuNTY2NzI0LCAzOS4yMTQ3N10sIFstNzYuNTY2NjIxLCAzOS4yMTQ3NDldLCBbLTc2LjU2NjM5NiwgMzkuMjE0NzkxXSwgWy03Ni41NjYxNDksIDM5LjIxNDc3MV0sIFstNzYuNTY2MDUsIDM5LjIxNDgwNF0sIFstNzYuNTY1OTU1LCAzOS4yMTQ4MDddLCBbLTc2LjU2NTc5MywgMzkuMjE0ODczXSwgWy03Ni41NjU3NjksIDM5LjIxNDgxOF0sIFstNzYuNTY1NTQxLCAzOS4yMTQ4NV0sIFstNzYuNTY1MTk4LCAzOS4yMTQ4NzNdLCBbLTc2LjU2NTEwNSwgMzkuMjE0OTA0XSwgWy03Ni41NjQ4ODgsIDM5LjIxNDk0NV0sIFstNzYuNTY0ODAxLCAzOS4yMTQ5MjFdLCBbLTc2LjU2NDU0NCwgMzkuMjE0OTgzXSwgWy03Ni41NjQ1MjIsIDM5LjIxNTAxM10sIFstNzYuNTY0NDY4LCAzOS4yMTUwMjNdLCBbLTc2LjU2NDM2LCAzOS4yMTQ5NDddLCBbLTc2LjU2NDIxNywgMzkuMjE0OTE1XSwgWy03Ni41NjQxNzMsIDM5LjIxNDk5NF0sIFstNzYuNTY0MjAyLCAzOS4yMTUwNTldLCBbLTc2LjU2NDAyNywgMzkuMjE1MDc0XSwgWy03Ni41NjM5MjcsIDM5LjIxNTA5OV0sIFstNzYuNTYzNzg0LCAzOS4yMTUwOTRdLCBbLTc2LjU2MzcyMiwgMzkuMjE1MTA5XSwgWy03Ni41NjM2NTYsIDM5LjIxNTE1XSwgWy03Ni41NjM1MDksIDM5LjIxNTE2NF0sIFstNzYuNTYzNTE3LCAzOS4yMTUxMDldLCBbLTc2LjU2MzY3MSwgMzkuMjE1MDM1XSwgWy03Ni41NjM4OTQsIDM5LjIxNTAxOF0sIFstNzYuNTYzOTYxLCAzOS4yMTQ5NTldLCBbLTc2LjU2Mzk0MiwgMzkuMjE0ODg1XSwgWy03Ni41NjM3OTEsIDM5LjIxNDgwM10sIFstNzYuNTYzNTkyLCAzOS4yMTQ2NDVdLCBbLTc2LjU2MzE1MiwgMzkuMjE0NDI4XSwgWy03Ni41NjI4ODcsIDM5LjIxNDQyM10sIFstNzYuNTYyNTY4LCAzOS4yMTQ1NzddLCBbLTc2LjU2MjI3OCwgMzkuMjE0NTcyXSwgWy03Ni41NjE5MTcsIDM5LjIxNDY0MV0sIFstNzYuNTYxNzMyLCAzOS4yMTQ3MTFdLCBbLTc2LjU2MTY0MSwgMzkuMjE0Nzg0XSwgWy03Ni41NjE0NDUsIDM5LjIxNDg4XSwgWy03Ni41NjEzNzUsIDM5LjIxNDg4M10sIFstNzYuNTYxMjcsIDM5LjIxNDkyM10sIFstNzYuNTYxMTI3LCAzOS4yMTUwMzddLCBbLTc2LjU2MTA0NiwgMzkuMjE1MDc3XSwgWy03Ni41NjA5MjgsIDM5LjIxNTEwMV0sIFstNzYuNTYwODcxLCAzOS4yMTUwOTVdLCBbLTc2LjU2MDc4NSwgMzkuMjE1MTE3XSwgWy03Ni41NjA2NjEsIDM5LjIxNTI0OV0sIFstNzYuNTYwNTM4LCAzOS4yMTUyMzhdLCBbLTc2LjU2MDQxLCAzOS4yMTUxNjNdLCBbLTc2LjU2MDI4NiwgMzkuMjE1MTg1XSwgWy03Ni41NjAyMjQsIDM5LjIxNTMzNl0sIFstNzYuNTYwMTcsIDM5LjIxNTUzMl0sIFstNzYuNTYwMjQ1LCAzOS4yMTU2OTRdLCBbLTc2LjU2MDM3MywgMzkuMjE1NzE3XSwgWy03Ni41NjAyODcsIDM5LjIxNTc4N10sIFstNzYuNTYwMTY0LCAzOS4yMTU4NTZdLCBbLTc2LjU2MDA1LCAzOS4yMTU4NTJdLCBbLTc2LjU1OTkwMywgMzkuMjE1Nzg1XSwgWy03Ni41NjAwMTMsIDM5LjIxNTcxNl0sIFstNzYuNTU5OTQ3LCAzOS4yMTU1Ml0sIFstNzYuNTU5ODU0LCAzOS4yMTUzNjFdLCBbLTc2LjU1OTc1LCAzOS4yMTUyNzldLCBbLTc2LjU1OTU3OSwgMzkuMjE1MjM0XSwgWy03Ni41NTk0MDksIDM5LjIxNTE2XSwgWy03Ni41NTkyNzYsIDM5LjIxNTE0NF0sIFstNzYuNTU5MDE1LCAzOS4yMTUxODRdLCBbLTc2LjU1ODkzOCwgMzkuMjE1MzA2XSwgWy03Ni41NTg4MjQsIDM5LjIxNTM2OF0sIFstNzYuNTU4NjQzLCAzOS4yMTU0MDhdLCBbLTc2LjU1ODU3MiwgMzkuMjE1NDgxXSwgWy03Ni41NTg2ODMsIDM5LjIxNTkzMl0sIFstNzYuNTU4NjMsIDM5LjIxNjAyXSwgWy03Ni41NTg1NzMsIDM5LjIxNTk5NF0sIFstNzYuNTU4NTY0LCAzOS4yMTU5MDZdLCBbLTc2LjU1ODYxMSwgMzkuMjE1ODY1XSwgWy03Ni41NTg1NzksIDM5LjIxNTc1NV0sIFstNzYuNTU4NTM3LCAzOS4yMTU3NDddLCBbLTc2LjU1ODQ1NywgMzkuMjE1NTQ0XSwgWy03Ni41NTgzOTIsIDM5LjIxNTM3XSwgWy03Ni41NTg0MTYsIDM5LjIxNTI4MV0sIFstNzYuNTU4MzQ2LCAzOS4yMTUxOTJdLCBbLTc2LjU1ODI5NCwgMzkuMjE1MDk2XSwgWy03Ni41NTgyMzcsIDM5LjIxNTA1OV0sIFstNzYuNTU3NzE1LCAzOS4yMTUwNV0sIFstNzYuNTU3MzY5LCAzOS4yMTUwNjNdLCBbLTc2LjU1Njk3LCAzOS4yMTUxMDJdLCBbLTc2LjU1NjU3NSwgMzkuMjE1MjIzXSwgWy03Ni41NTY0MTgsIDM5LjIxNTNdLCBbLTc2LjU1NjI5OSwgMzkuMjE1MzczXSwgWy03Ni41NTYxODQsIDM5LjIxNTUyOF0sIFstNzYuNTU2MDQ2LCAzOS4yMTU2NjddLCBbLTc2LjU1NTg1OSwgMzkuMjE1OTYyXSwgWy03Ni41NTU2OTIsIDM5LjIxNjE1M10sIFstNzYuNTU1NiwgMzkuMjE2Mzc1XSwgWy03Ni41NTU1MTksIDM5LjIxNjUwN10sIFstNzYuNTU1NTQ2LCAzOS4yMTY2MzNdLCBbLTc2LjU1NTQ0MSwgMzkuMjE2NzAyXSwgWy03Ni41NTQ3NDgsIDM5LjIxNjgyNV0sIFstNzYuNTUzNDE4LCAzOS4yMTcwNTddLCBbLTc2LjU1Mjk5MSwgMzkuMjE2OTE4XSwgWy03Ni41NTI3NDUsIDM5LjIxNjkyOF0sIFstNzYuNTUyNjY0LCAzOS4yMTY5NzJdLCBbLTc2LjU1MjE3OSwgMzkuMjE3MDc4XSwgWy03Ni41NTE3NjEsIDM5LjIxNzIwOV0sIFstNzYuNTUwOSwgMzkuMjE3NTA4XSwgWy03Ni41NTA1MjUsIDM5LjIxNzQzN10sIFstNzYuNTUwMjkzLCAzOS4yMTczNTFdLCBbLTc2LjU0OTk5NiwgMzkuMjE3MTc2XSwgWy03Ni41NDk2MTcsIDM5LjIxNjk0Nl0sIFstNzYuNTQ5NSwgMzkuMjE2ODE2XSwgWy03Ni41NDk0MDYsIDM5LjIxNjU5OF0sIFstNzYuNTQ5MzEzLCAzOS4yMTYyNzNdLCBbLTc2LjU0OTA0NCwgMzkuMjEzNzY5XSwgWy03Ni41NDg3MjMsIDM5LjIxMzUyMV0sIFstNzYuNTQ4NTk1LCAzOS4yMTM0OTFdLCBbLTc2LjU0ODQzNCwgMzkuMjEzNDE2XSwgWy03Ni41NDg0NzgsIDM5LjIxMzM0M10sIFstNzYuNTQ4NTM1LCAzOS4yMTMyOF0sIFstNzYuNTQ4NjcyLCAzOS4yMTMzMDZdLCBbLTc2LjU0ODczLCAzOS4yMTMyODVdLCBbLTc2LjU0ODgyOSwgMzkuMjEzMjgxXSwgWy03Ni41NDg5MSwgMzkuMjEzMjg5XSwgWy03Ni41NDg5ODgsIDM5LjIxMzM2OF0sIFstNzYuNTQ5MTUxLCAzOS4yMTM0MDRdLCBbLTc2LjU0OTQyMSwgMzkuMjEzNDMxXSwgWy03Ni41NDk2NjksIDM5LjIxMzI1NV0sIFstNzYuNTQ5NzY5LCAzOS4yMTMyMDddLCBbLTc2LjU0OTk4OSwgMzkuMjEzMDMxXSwgWy03Ni41NTAwNDcsIDM5LjIxMjg2NV0sIFstNzYuNTUwMTA0LCAzOS4yMTI4MzZdLCBbLTc2LjU1MDExLCAzOS4yMTI2NjRdLCBbLTc2LjU1MDM2MywgMzkuMjEyMzM4XSwgWy03Ni41NTA0NTksIDM5LjIxMjExN10sIFstNzYuNTUwMjkxLCAzOS4yMTE2OTldLCBbLTc2LjU1MDAyMywgMzkuMjExMjddLCBbLTc2LjU0OTc1OSwgMzkuMjExXSwgWy03Ni41NDk0MzQsIDM5LjIxMDcyOV0sIFstNzYuNTQ5MDM3LCAzOS4yMTA0OTldLCBbLTc2LjU0ODU5MiwgMzkuMjEwMzE2XSwgWy03Ni41NDgwNjEsIDM5LjIxMDE0XSwgWy03Ni41NDczNzksIDM5LjIxMDAxNl0sIFstNzYuNTQ3MDk0LCAzOS4yMTAwMTFdLCBbLTc2LjU0NzAwOSwgMzkuMjA5OTgxXSwgWy03Ni41NDY5NTIsIDM5LjIwOTk4NV0sIFstNzYuNTQ2NjQ0LCAzOS4yMDk4OTldLCBbLTc2LjU0NjM2LCAzOS4yMDk4NjhdLCBbLTc2LjU0NTg2MiwgMzkuMjA5ODQ0XSwgWy03Ni41NDUzMjQsIDM5LjIxMDE0NV0sIFstNzYuNTQ0ODA5LCAzOS4yMTA0OV0sIFstNzYuNTQ0MTE4LCAzOS4yMTA4OTddLCBbLTc2LjU0MzQwMywgMzkuMjExMzc3XSwgWy03Ni41NDMzMTMsIDM5LjIxMTQ5OV0sIFstNzYuNTQyNTIxLCAzOS4yMTIwNDZdLCBbLTc2LjU0MjI1NCwgMzkuMjEyMjMzXSwgWy03Ni41NDIxMDIsIDM5LjIxMjI4MV0sIFstNzYuNTQyMDQ4LCAzOS4yMTIzNTJdLCBbLTc2LjU0MTg5NywgMzkuMjEyNDM4XSwgWy03Ni41NDE3NCwgMzkuMjEyNTAxXSwgWy03Ni41NDE2MjIsIDM5LjIxMjUxNV0sIFstNzYuNTM5NjU0LCAzOS4yMTM3NTldLCBbLTc2LjUzOTU0LCAzOS4yMTM2N10sIFstNzYuNTM5NDUxLCAzOS4yMTM1NjJdLCBbLTc2LjU0MTM1MiwgMzkuMjEyMzYyXSwgWy03Ni41NDExMTcsIDM5LjIxMjAwNF0sIFstNzYuNTQxMDksIDM5LjIxMTg2N10sIFstNzYuNTQxMTI4LCAzOS4yMTE3OTddLCBbLTc2LjU0MTE5NSwgMzkuMjExNzQyXSwgWy03Ni41NDEyODUsIDM5LjIxMTczMV0sIFstNzYuNTQxMzU2LCAzOS4yMTE3NDZdLCBbLTc2LjU0MTUzMSwgMzkuMjExODcyXSwgWy03Ni41NDE2OTMsIDM5LjIxMTc4MV0sIFstNzYuNTQxNjU1LCAzOS4yMTE2OTZdLCBbLTc2LjU0MTY4NCwgMzkuMjExNjMzXSwgWy03Ni41NDE2ODUsIDM5LjIxMTU2Nl0sIFstNzYuNTQxNjI0LCAzOS4yMTEzNTJdLCBbLTc2LjU0MTYzNSwgMzkuMjExMjA4XSwgWy03Ni41NDE3NzksIDM5LjIxMDg0XSwgWy03Ni41NDE1NDcsIDM5LjIxMDYxOF0sIFstNzYuNTQxNDA3LCAzOS4yMTA1MTddLCBbLTc2LjU0MTMyMiwgMzkuMjEwNDAyXSwgWy03Ni41NDA4OTgsIDM5LjIwOTk2NV0sIFstNzYuNTQwODAzLCAzOS4yMDk5OTRdLCBbLTc2LjU0MDcwOCwgMzkuMjA5OTJdLCBbLTc2LjU0MDM3NSwgMzkuMjEwMDQ4XSwgWy03Ni41NDAyMzMsIDM5LjIxMDAxNF0sIFstNzYuNTM5ODU3LCAzOS4yMTAxNTddLCBbLTc2LjUzOTgwMywgMzkuMjEwMjQ0XSwgWy03Ni41Mzk3NTIsIDM5LjIxMDI4Ml0sIFstNzYuNTM5MzQzLCAzOS4yMTA0NDJdLCBbLTc2LjUzOTAyNiwgMzkuMjEwMzc4XSwgWy03Ni41Mzg3MjIsIDM5LjIxMDM5OV0sIFstNzYuNTM4Mjg1LCAzOS4yMTA1MDFdLCBbLTc2LjUzNzkxMywgMzkuMjEwNjMzXSwgWy03Ni41Mzc1OTUsIDM5LjIxMDcyN10sIFstNzYuNTM2NjYxLCAzOS4yMTExMTJdLCBbLTc2LjUzNTk5MSwgMzkuMjExNV0sIFstNzYuNTM1MjYyLCAzOS4yMTE5ODRdLCBbLTc2LjUzNDg1MSwgMzkuMjEyMzUyXSwgWy03Ni41MzQ0NSwgMzkuMjEyNzU2XSwgWy03Ni41MzQxMzEsIDM5LjIxMjk1MV0sIFstNzYuNTMzODUxLCAzOS4yMTI5NzldLCBbLTc2LjUzMzU5NiwgMzkuMjEyODI3XSwgWy03Ni41MzM1MjEsIDM5LjIxMjY4Ml0sIFstNzYuNTMzNTY5LCAzOS4yMTI0OThdLCBbLTc2LjUzMzg3OSwgMzkuMjEyMjI2XSwgWy03Ni41MzM4OTQsIDM5LjIxMjEzXSwgWy03Ni41MzM4NjYsIDM5LjIxMjA0OV0sIFstNzYuNTMyODcxLCAzOS4yMTExNDhdLCBbLTc2LjUzMjc3NywgMzkuMjExMDE4XSwgWy03Ni41MzI4NDUsIDM5LjIxMDc5N10sIFstNzYuNTMyOTkzLCAzOS4yMTA2NTddLCBbLTc2LjUzMzIwMiwgMzkuMjEwNTk1XSwgWy03Ni41MzUwMTksIDM5LjIxMDY1NF0sIFstNzYuNTM1MTI0LCAzOS4yMTA1OTldLCBbLTc2LjUzNTIwNSwgMzkuMjEwNTNdLCBbLTc2LjUzNTIxNSwgMzkuMjEwNDIzXSwgWy03Ni41MzUxODIsIDM5LjIxMDM4Ml0sIFstNzYuNTM0MzU3LCAzOS4yMTAzNTZdLCBbLTc2LjUzMjg3NywgMzkuMjEwMjk1XSwgWy03Ni41MzIzNDMsIDM5LjIwOTk4M10sIFstNzYuNTMyMjYsIDM5LjIwOTU0XSwgWy03Ni41MzI2NTMsIDM5LjIwODk0M10sIFstNzYuNTMyNjQ5LCAzOS4yMDg4NTFdLCBbLTc2LjUzMjcwMiwgMzkuMjA4Nzc3XSwgWy03Ni41MzI4MywgMzkuMjA4Njk3XSwgWy03Ni41MzI5OTQsIDM5LjIwODM1OF0sIFstNzYuNTMzMDYzLCAzOS4yMDc5NDNdLCBbLTc2LjUzMzAwNywgMzkuMjA3ODU5XSwgWy03Ni41MzI4MTEsIDM5LjIwNzc4Ml0sIFstNzYuNTQyOTQ5LCAzOS4yMDE0Nl0sIFstNzYuNTQ5NzI1LCAzOS4xOTcyMzNdLCBbLTc2LjU2MzUyNSwgMzkuMjAxNjYxXSwgWy03Ni41NjkxNjgsIDM5LjIwMzQ3XSwgWy03Ni41NzczNywgMzkuMjA2MV0sIFstNzYuNTc4ODYyLCAzOS4yMDY1NzldLCBbLTc2LjU3OTExOCwgMzkuMjA2ODIxXSwgWy03Ni41NzkxNywgMzkuMjA2ODQ1XSwgWy03Ni41NzkyMDksIDM5LjIwNjg5MV0sIFstNzYuNTc5MjU2LCAzOS4yMDY5MjddLCBbLTc2LjU3OTI0NSwgMzkuMjA2OTYxXSwgWy03Ni41NzkyNjYsIDM5LjIwNzA5N10sIFstNzYuNTc5MjY2LCAzOS4yMDcyMjldLCBbLTc2LjU3OTI0NywgMzkuMjA3MzUxXSwgWy03Ni41NzkxNTksIDM5LjIwNzQ2OV0sIFstNzYuNTc4ODE4LCAzOS4yMDc4NDFdLCBbLTc2LjU3ODcyMiwgMzkuMjA4MDMyXSwgWy03Ni41Nzg1MDIsIDM5LjIwODI0Nl0sIFstNzYuNTc4MzUsIDM5LjIwODMwOF0sIFstNzYuNTc4MzE3LCAzOS4yMDgyNjddLCBbLTc2LjU3Nzk5NCwgMzkuMjA4MjU1XSwgWy03Ni41Nzc1OCwgMzkuMjA4MTc2XSwgWy03Ni41NzcyNzQsIDM5LjIwODEyN10sIFstNzYuNTc3MTk4LCAzOS4yMDgxM10sIFstNzYuNTc2ODQyLCAzOS4yMDgwNjRdLCBbLTc2LjU3NjU5NiwgMzkuMjA4MDFdLCBbLTc2LjU3NjQwMSwgMzkuMjA4MDUzXSwgWy03Ni41NzYyOTcsIDM5LjIwODA3NV0sIFstNzYuNTc2MTkyLCAzOS4yMDgwNDhdLCBbLTc2LjU3NjA2NCwgMzkuMjA4MDQ1XSwgWy03Ni41NzU5MDMsIDM5LjIwODA1OV0sIFstNzYuNTc1NzksIDM5LjIwODAzNF0sIFstNzYuNTc1ODUxLCAzOS4yMDgwMDRdLCBbLTc2LjU3NTkyNywgMzkuMjA3OTg1XSwgWy03Ni41NzU5MjcsIDM5LjIwNzkzNF0sIFstNzYuNTc1ODg1LCAzOS4yMDc5XSwgWy03Ni41NzU3NzEsIDM5LjIwNzg5Ml0sIFstNzYuNTc1NjcyLCAzOS4yMDc4NTJdLCBbLTc2LjU3NTM3OCwgMzkuMjA3ODQzXSwgWy03Ni41NzUwMzEsIDM5LjIwNzg2NF0sIFstNzYuNTc0ODIsIDM5LjIwNzkxMl0sIFstNzYuNTc0NjUsIDM5LjIwODAzMl0sIFstNzYuNTc0NDUxLCAzOS4yMDgwMTddLCBbLTc2LjU3Mzk3NSwgMzkuMjA4Mjk2XSwgWy03Ni41NzM4NDcsIDM5LjIwODM1MV0sIFstNzYuNTczNzYzLCAzOS4yMDg0MDddLCBbLTc2LjU3MzczMiwgMzkuMjA4NDgzXSwgWy03Ni41NzM2NTQsIDM5LjIwODQ5OV0sIFstNzYuNTczNTAzLCAzOS4yMDg2MjZdLCBbLTc2LjU3MzA4LCAzOS4yMDg4OTRdLCBbLTc2LjU3MzA5MywgMzkuMjA4OTQyXSwgWy03Ni41NzMwNTUsIDM5LjIwODk1N10sIFstNzYuNTcyOTg5LCAzOS4yMDkwMzhdLCBbLTc2LjU3MjYwNywgMzkuMjA5MzkxXSwgWy03Ni41NzI1NDcsIDM5LjIwOTQyN10sIFstNzYuNTcyNDU5LCAzOS4yMDk1MzFdLCBbLTc2LjU3MjQyMiwgMzkuMjA5NTAxXSwgWy03Ni41NzIzOTIsIDM5LjIwOTUzNF0sIFstNzYuNTcyMzEyLCAzOS4yMDk1NzRdLCBbLTc2LjU3MjIzLCAzOS4yMDk2NTVdLCBbLTc2LjU3MTk3NywgMzkuMjA5OTU3XSwgWy03Ni41NzE5NjgsIDM5LjIxMDAyNl0sIFstNzYuNTcxODksIDM5LjIxMDEzN10sIFstNzYuNTcxNzUyLCAzOS4yMTAzMzNdLCBbLTc2LjU3MTYyNywgMzkuMjEwNTk0XSwgWy03Ni41NzE1NDYsIDM5LjIxMDYzOF0sIFstNzYuNTcxNDk4LCAzOS4yMTA3MTZdLCBbLTc2LjU3MTQ4OCwgMzkuMjEwNzg5XSwgWy03Ni41NzE1MzMsIDM5LjIxMDc5NF0sIFstNzYuNTcxNTIxLCAzOS4yMTA4NDFdLCBbLTc2LjU3MTQ5MiwgMzkuMjEwODUyXSwgWy03Ni41NzE0NCwgMzkuMjEwOTU1XSwgWy03Ni41NzE1MjQsIDM5LjIxMTEyNV0sIFstNzYuNTcyMDMzLCAzOS4yMTE2NTNdLCBbLTc2LjU3MjIwOCwgMzkuMjExODI2XSwgWy03Ni41NzIyMjYsIDM5LjIxMTk2NF0sIFstNzYuNTcyMjI1LCAzOS4yMTIwNF0sIFstNzYuNTcyNTA4LCAzOS4yMTI0MjFdLCBbLTc2LjU3MjU0NiwgMzkuMjEyNDI5XSwgWy03Ni41NzI1NzksIDM5LjIxMjQ3N10sIFstNzYuNTcyNjAyLCAzOS4yMTI1NThdLCBbLTc2LjU3MjcxNSwgMzkuMjEyNzI4XSwgWy03Ni41NzI4MjIsIDM5LjIxMjc3NV0sIFstNzYuNTcyODQ3LCAzOS4yMTI4NDddLCBbLTc2LjU3MjgxOCwgMzkuMjEyODkxXSwgWy03Ni41NzI4MDEsIDM5LjIxMzM2XSwgWy03Ni41NzQxOTUsIDM5LjIxMzU2OF0sIFstNzYuNTc0MTcxLCAzOS4yMTM2ODZdLCBbLTc2LjU3Mjc4MSwgMzkuMjEzNDg1XSwgWy03Ni41NzI3NTEsIDM5LjIxMzc2Ml0sIFstNzYuNTcyNzU2LCAzOS4yMTM4MzZdLCBbLTc2LjU3MjcxMiwgMzkuMjEzOTYxXSwgWy03Ni41NzI4NjksIDM5LjIxMzk5MV0sIFstNzYuNTcyOTg3LCAzOS4yMTQwNjldLCBbLTc2LjU3MzE0MywgMzkuMjE0MTk5XSwgWy03Ni41NzMxMDMsIDM5LjIxNDI1OV0sIFstNzYuNTcyNzEsIDM5LjIxNDMzOF0sIFstNzYuNTcyNjkxLCAzOS4yMTQzODJdLCBbLTc2LjU3MjcwOCwgMzkuMjE0NTc4XSwgWy03Ni41NzI2NTEsIDM5LjIxNDY0OF0sIFstNzYuNTcyNTY0LCAzOS4yMTQ4NTRdLCBbLTc2LjU3MjQyMSwgMzkuMjE1MDE5XSwgWy03Ni41NzIzNjMsIDM5LjIxNTIzXSwgWy03Ni41NzIzOTMsIDM5LjIxNTI0OF0sIFstNzYuNTcyMzkxLCAzOS4yMTUyOTNdLCBbLTc2LjU3MjMwOSwgMzkuMjE1MjkyXSwgWy03Ni41NzIyODYsIDM5LjIxNTM2Ml0sIFstNzYuNTcyMzI5LCAzOS4yMTUzODVdLCBbLTc2LjU3MjI4LCAzOS4yMTU1NTRdLCBbLTc2LjU3MjI0NywgMzkuMjE1NTU4XSwgWy03Ni41NzIxNzksIDM5LjIxNTgwMV0sIFstNzYuNTcyMDYzLCAzOS4yMTYxOTZdLCBbLTc2LjU3MjA0MSwgMzkuMjE2NTk0XSwgWy03Ni41NzIxMDYsIDM5LjIxNjg3OV0sIFstNzYuNTcyMzA0LCAzOS4yMTcxOTddLCBbLTc2LjU3MjYyNSwgMzkuMjE3NDUzXSwgWy03Ni41NzMxOTksIDM5LjIxNzcxNl0sIFstNzYuNTczNDAxLCAzOS4yMTc4MDNdLCBbLTc2LjU3MzUzOCwgMzkuMjE3OTFdLCBbLTc2LjU3MzYxOCwgMzkuMjE4MDM2XSwgWy03Ni41NzM2MjIsIDM5LjIxODEzOV0sIFstNzYuNTczNTQsIDM5LjIxODM3NV0sIFstNzYuNTczMzgyLCAzOS4yMTg1MTVdLCBbLTc2LjU3MzI3MywgMzkuMjE4NTMzXSwgWy03Ni41NzI5NywgMzkuMjE4NDY2XSwgWy03Ni41NzI1NzcsIDM5LjIxODI2NF1dXSwgW1tbLTc2LjU4NzQ1OSwgMzkuMjEzNDgyXSwgWy03Ni41ODc1OSwgMzkuMjEzNTIxXSwgWy03Ni41ODc2NTMsIDM5LjIxNDE3Ml0sIFstNzYuNTg3NzI1LCAzOS4yMTQxNDNdLCBbLTc2LjU4NzgyOCwgMzkuMjE0MTQ2XSwgWy03Ni41ODc5MjQsIDM5LjIxNDE3NV0sIFstNzYuNTg3OTY0LCAzOS4yMTQyMDldLCBbLTc2LjU4Nzk5OSwgMzkuMjE0MjA3XSwgWy03Ni41ODgwMSwgMzkuMjE0MTc3XSwgWy03Ni41ODgwMjMsIDM5LjIxNDE3MV0sIFstNzYuNTg4MDYxLCAzOS4yMTQxODRdLCBbLTc2LjU4ODExNywgMzkuMjE0MTg0XSwgWy03Ni41ODgxNjcsIDM5LjIxNDE5N10sIFstNzYuNTg4MTk3LCAzOS4yMTQxODddLCBbLTc2LjU4ODIzNywgMzkuMjE0MTkxXSwgWy03Ni41ODgzMDEsIDM5LjIxNDEzM10sIFstNzYuNTg4MzMyLCAzOS4yMTQxMTldLCBbLTc2LjU4ODM2MSwgMzkuMjE0MDk2XSwgWy03Ni41ODgzODIsIDM5LjIxNDA5MV0sIFstNzYuNTg4NDI0LCAzOS4yMTQwODldLCBbLTc2LjU4ODQ2MSwgMzkuMjE0MDZdLCBbLTc2LjU4ODUxOSwgMzkuMjE0MDQ3XSwgWy03Ni41ODg1NjIsIDM5LjIxNDAyOF0sIFstNzYuNTg4NTgsIDM5LjIxMzk3Nl0sIFstNzYuNTg4NjI3LCAzOS4yMTM5MDRdLCBbLTc2LjU4ODYyNiwgMzkuMjEzODc1XSwgWy03Ni41ODg2MzMsIDM5LjIxMzgyNV0sIFstNzYuNTg4NjM0LCAzOS4yMTM3NDNdLCBbLTc2LjU4ODY2MiwgMzkuMjEzNzJdLCBbLTc2LjU4ODY3MiwgMzkuMjEzNjk0XSwgWy03Ni41ODg2ODQsIDM5LjIxMzY3NF0sIFstNzYuNTg4NzA2LCAzOS4yMTM2NTJdLCBbLTc2LjU4ODc1NywgMzkuMjEzNTg4XSwgWy03Ni41ODg4MDUsIDM5LjIxMzUyM10sIFstNzYuNTg4ODQxLCAzOS4yMTM0NzJdLCBbLTc2LjU4ODg5MiwgMzkuMjEzNDI2XSwgWy03Ni41ODg5NzEsIDM5LjIxMzM5MV0sIFstNzYuNTg4OTkxLCAzOS4yMTMzNDRdLCBbLTc2LjU4OTAxNSwgMzkuMjEzMzIxXSwgWy03Ni41ODkwMTUsIDM5LjIxMzI5M10sIFstNzYuNTg5MDMsIDM5LjIxMzI3N10sIFstNzYuNTg5MDQzLCAzOS4yMTMyNDddLCBbLTc2LjU4OTA3OSwgMzkuMjEzMjMxXSwgWy03Ni41ODkxMDcsIDM5LjIxMzIzM10sIFstNzYuNTkwMzc2LCAzOS4yMTQ0MjddLCBbLTc2LjU5MDk3MywgMzkuMjE0OTg4XSwgWy03Ni41OTM0MzgsIDM5LjIxNzMwN10sIFstNzYuNTk3NTU3LCAzOS4yMjExODFdLCBbLTc2LjYwMDQwNSwgMzkuMjIzODZdLCBbLTc2LjYwNzMyMiwgMzkuMjMwMzYzXSwgWy03Ni42MDgzNTcsIDM5LjIzMTMzNl0sIFstNzYuNjA5NTYsIDM5LjIzMjQ3NV0sIFstNzYuNjEwNjYzLCAzOS4yMzM1MDRdLCBbLTc2LjYxMTQzOSwgMzkuMjM0MjMzXSwgWy03Ni42MTE2MTEsIDM5LjIzNDM5NV0sIFstNzYuNjE2NjA4LCAzOS4yMzY1NzldLCBbLTc2LjYxNzgyMiwgMzkuMjM3MTA5XSwgWy03Ni42MTc1OSwgMzkuMjM3MzY1XSwgWy03Ni42MTcyMTQsIDM5LjIzNzc0N10sIFstNzYuNjE2OTc1LCAzOS4yMzc5NDNdLCBbLTc2LjYxNjkyMiwgMzkuMjM4MDIxXSwgWy03Ni42MTY3MDUsIDM5LjIzODE2NV0sIFstNzYuNjE2NTkyLCAzOS4yMzgyMDldLCBbLTc2LjYxNjQ1NSwgMzkuMjM4MzIyXSwgWy03Ni42MTY0MTUsIDM5LjIzODM1XSwgWy03Ni42MTYzNDIsIDM5LjIzODMzN10sIFstNzYuNjE2MzU4LCAzOS4yMzg0Ml0sIFstNzYuNjE2MTk1LCAzOS4yMzg1MTVdLCBbLTc2LjYxNjE1MSwgMzkuMjM4NTc0XSwgWy03Ni42MTYwNzUsIDM5LjIzODYxNV0sIFstNzYuNjE2MDAxLCAzOS4yMzg2NzRdLCBbLTc2LjYxNTkxMiwgMzkuMjM4NzE5XSwgWy03Ni42MTU4MDEsIDM5LjIzODc4Ml0sIFstNzYuNjE1NTQ4LCAzOS4yMzkwMDFdLCBbLTc2LjYxNTUwNiwgMzkuMjM5MDc3XSwgWy03Ni42MTU0NDcsIDM5LjIzOTE0XSwgWy03Ni42MTU0NDcsIDM5LjIzOTE4NF0sIFstNzYuNjE1MzgsIDM5LjIzOTI2MV0sIFstNzYuNjE1Mzk2LCAzOS4yMzkzMTZdLCBbLTc2LjYxNTM1OSwgMzkuMjM5NDQyXSwgWy03Ni42MTUyNjUsIDM5LjIzOTYwMl0sIFstNzYuNjE1MTQ2LCAzOS4yMzk2MjVdLCBbLTc2LjYxNDkyOSwgMzkuMjM5NzY5XSwgWy03Ni42MTQ2NzIsIDM5LjI0MDA0N10sIFstNzYuNjE0NDU0LCAzOS4yNDAzMzZdLCBbLTc2LjYxNDMwNywgMzkuMjQwNDY0XSwgWy03Ni42MTQxNTMsIDM5LjI0MDc2OV0sIFstNzYuNjE0MDk2LCAzOS4yNDA4NzddLCBbLTc2LjYxNDA3OCwgMzkuMjQwOTkxXSwgWy03Ni42MTQwMzgsIDM5LjI0MTAzN10sIFstNzYuNjEzOTAyLCAzOS4yNDExNl0sIFstNzYuNjEzODMxLCAzOS4yNDEzNjJdLCBbLTc2LjYxMzcwNywgMzkuMjQxNDk4XSwgWy03Ni42MTM2MzcsIDM5LjI0MTQ5NV0sIFstNzYuNjEzNjE0LCAzOS4yNDE0NTldLCBbLTc2LjYxMzI4OSwgMzkuMjQxNDMyXSwgWy03Ni42MTI5NiwgMzkuMjQxNDQ5XSwgWy03Ni42MTI4MjksIDM5LjI0MTYxNF0sIFstNzYuNjEyODI1LCAzOS4yNDE3MDJdLCBbLTc2LjYxMjcyNSwgMzkuMjQxODk4XSwgWy03Ni42MTI2NiwgMzkuMjQyMTY3XSwgWy03Ni42MTI1OTEsIDM5LjI0MjM2N10sIFstNzYuNjEyNTE1LCAzOS4yNDI0NzFdLCBbLTc2LjYxMjQ1MSwgMzkuMjQyNzAxXSwgWy03Ni42MTIyNjIsIDM5LjI0MzA4N10sIFstNzYuNjEyMjAzLCAzOS4yNDMxMjZdLCBbLTc2LjYxMjIwNSwgMzkuMjQzMTkzXSwgWy03Ni42MTIxODYsIDM5LjI0MzIyOV0sIFstNzYuNjEyMjUxLCAzOS4yNDMzNjZdLCBbLTc2LjYxMjE2LCAzOS4yNDM3MDddLCBbLTc2LjYxMjA0LCAzOS4yNDM3NjZdLCBbLTc2LjYxMTk4NiwgMzkuMjQzODc3XSwgWy03Ni42MTE5NjEsIDM5LjI0NDIzNl0sIFstNzYuNjExODkxLCAzOS4yNDQzMzddLCBbLTc2LjYxMTg4NywgMzkuMjQ0NDM3XSwgWy03Ni42MTE4NTMsIDM5LjI0NDUxN10sIFstNzYuNjExODgzLCAzOS4yNDQ1NTZdLCBbLTc2LjYxMTg2NywgMzkuMjQ1MDQ3XSwgWy03Ni42MTE4MjEsIDM5LjI0NTM1NV0sIFstNzYuNjExNzc4LCAzOS4yNDU0NV0sIFstNzYuNjExNzgxLCAzOS4yNDU1ODRdLCBbLTc2LjYxMTcxNywgMzkuMjQ1NzUyXSwgWy03Ni42MTE3NTEsIDM5LjI0NTk0M10sIFstNzYuNjExNzcyLCAzOS4yNDYwMDhdLCBbLTc2LjYxMTczMiwgMzkuMjQ2MDgzXSwgWy03Ni42MTE2NDUsIDM5LjI0NjE0Ml0sIFstNzYuNjExNTYyLCAzOS4yNDYxNF0sIFstNzYuNjExNDk5LCAzOS4yNDYwNTldLCBbLTc2LjYxMTQzNiwgMzkuMjQ2MDQzXSwgWy03Ni42MTEzNzMsIDM5LjI0NjA1M10sIFstNzYuNjExMzM5LCAzOS4yNDYxMzZdLCBbLTc2LjYxMTI3OSwgMzkuMjQ2MjQ0XSwgWy03Ni42MTEzNTUsIDM5LjI0NjMwM10sIFstNzYuNjExMzkxLCAzOS4yNDY0Ml0sIFstNzYuNjExMzI0LCAzOS4yNDY0NjRdLCBbLTc2LjYxMTIzOCwgMzkuMjQ2NDY2XSwgWy03Ni42MTExNjEsIDM5LjI0NjQ5OV0sIFstNzYuNjExMDcxLCAzOS4yNDY1NjldLCBbLTc2LjYxMDgxMSwgMzkuMjQ2Njc2XSwgWy03Ni42MTA1ODUsIDM5LjI0NjU1NV0sIFstNzYuNjEwNDgsIDM5LjI0NjQyN10sIFstNzYuNjEwNDAxLCAzOS4yNDY0NV0sIFstNzYuNjEwMjUzLCAzOS4yNDYzOThdLCBbLTc2LjYxMDE3NSwgMzkuMjQ2MzQ0XSwgWy03Ni42MTAwMDgsIDM5LjI0NjMwOV0sIFstNzYuNjA5ODU3LCAzOS4yNDYyNTVdLCBbLTc2LjYwOTc5NCwgMzkuMjQ2MjYyXSwgWy03Ni42MDk3NDEsIDM5LjI0NjMwNF0sIFstNzYuNjA5NjcsIDM5LjI0NjM0Ml0sIFstNzYuNjA5NTYzLCAzOS4yNDY1MDJdLCBbLTc2LjYwOTQwNywgMzkuMjQ2NTczXSwgWy03Ni42MDkzLCAzOS4yNDY1OTZdLCBbLTc2LjYwOTEzNywgMzkuMjQ2NTkzXSwgWy03Ni42MDg5ODgsIDM5LjI0NjQ4N10sIFstNzYuNjA4ODU2LCAzOS4yNDYzNDldLCBbLTc2LjYwODg1NywgMzkuMjQ2MjQ0XSwgWy03Ni42MDg5NDYsIDM5LjI0NjE2XSwgWy03Ni42MDg5OTQsIDM5LjI0NjE0Nl0sIFstNzYuNjA4OTg2LCAzOS4yNDYwOTVdLCBbLTc2LjYwOTAwNCwgMzkuMjQ2MDY2XSwgWy03Ni42MDkwMzQsIDM5LjI0NTk3NF0sIFstNzYuNjA5MDk1LCAzOS4yNDU5MDNdLCBbLTc2LjYwOTA0NSwgMzkuMjQ1ODM5XSwgWy03Ni42MDkwMjksIDM5LjI0NTY5Nl0sIFstNzYuNjA5MDc2LCAzOS4yNDU1OTZdLCBbLTc2LjYwODg4LCAzOS4yNDUzODFdLCBbLTc2LjYwODg4MiwgMzkuMjQ1MzM0XSwgWy03Ni42MDg4NCwgMzkuMjQ1Mjk2XSwgWy03Ni42MDg4MTksIDM5LjI0NTI1MV0sIFstNzYuNjA4NjgzLCAzOS4yNDUxNl0sIFstNzYuNjA4NjY3LCAzOS4yNDUwOTNdLCBbLTc2LjYwODYwMiwgMzkuMjQ0ODA0XSwgWy03Ni42MDg1NTYsIDM5LjI0NDc2XSwgWy03Ni42MDg1ODYsIDM5LjI0NDY5XSwgWy03Ni42MDg1NjYsIDM5LjI0NDY1NF0sIFstNzYuNjA4NTE3LCAzOS4yNDQ2NDFdLCBbLTc2LjYwODQ5NCwgMzkuMjQ0NTcxXSwgWy03Ni42MDg1MjQsIDM5LjI0NDQ3XSwgWy03Ni42MDgzNzksIDM5LjI0NDM0OF0sIFstNzYuNjA4Mzc2LCAzOS4yNDQzMjJdLCBbLTc2LjYwODQyMiwgMzkuMjQ0MzAyXSwgWy03Ni42MDg0MjksIDM5LjI0NDI3NF0sIFstNzYuNjA4MzUzLCAzOS4yNDQxOF0sIFstNzYuNjA4MzcsIDM5LjI0NDEwOF0sIFstNzYuNjA4MzQ3LCAzOS4yNDQwODddLCBbLTc2LjYwODI5MSwgMzkuMjQ0MDg0XSwgWy03Ni42MDgyNjEsIDM5LjI0NDA2NF0sIFstNzYuNjA4Mjk4LCAzOS4yNDM5Nl0sIFstNzYuNjA4MjA1LCAzOS4yNDM4NTRdLCBbLTc2LjYwODE0MywgMzkuMjQzNzIyXSwgWy03Ni42MDgxNSwgMzkuMjQzNTk4XSwgWy03Ni42MDgwMjYsIDM5LjI0MzQ3NV0sIFstNzYuNjA3OTQzLCAzOS4yNDMyOThdLCBbLTc2LjYwNzg1LCAzOS4yNDMyNDZdLCBbLTc2LjYwNzcyNywgMzkuMjQzMjMzXSwgWy03Ni42MDc2MDcsIDM5LjI0MzI2MV0sIFstNzYuNjA3NDIsIDM5LjI0MzQ4XSwgWy03Ni42MDcxOTYsIDM5LjI0Mzc1M10sIFstNzYuNjA3MDU5LCAzOS4yNDM4ODFdLCBbLTc2LjYwNjY5NiwgMzkuMjQ0MDM1XSwgWy03Ni42MDYzNSwgMzkuMjQ0MTAxXSwgWy03Ni42MDYwMjUsIDM5LjI0NDA1MV0sIFstNzYuNjA1ODA5LCAzOS4yNDM5OTZdLCBbLTc2LjYwNTcyLCAzOS4yNDM5MjFdLCBbLTc2LjYwNTU1NiwgMzkuMjQzNzYxXSwgWy03Ni42MDU1MDIsIDM5LjI0MzY2NF0sIFstNzYuNjA1NDc2LCAzOS4yNDM1MTJdLCBbLTc2LjYwNTI0OCwgMzkuMjQzNDE1XSwgWy03Ni42MDUwOTUsIDM5LjI0MzMxMl0sIFstNzYuNjA1MDQzLCAzOS4yNDMyMDhdLCBbLTc2LjYwNDk1NiwgMzkuMjQzMjAzXSwgWy03Ni42MDQ4MTMsIDM5LjI0MzI0MV0sIFstNzYuNjA0NzEsIDM5LjI0MzMxXSwgWy03Ni42MDQ3MjMsIDM5LjI0MzM5OF0sIFstNzYuNjA0Nzc1LCAzOS4yNDM0ODRdLCBbLTc2LjYwNDgwMiwgMzkuMjQzNTgyXSwgWy03Ni42MDQyNTksIDM5LjI0MzY2OF0sIFstNzYuNjAzOTE0LCAzOS4yNDM3MjRdLCBbLTc2LjYwMzc2NywgMzkuMjQzNzM5XSwgWy03Ni42MDM2OTEsIDM5LjI0Mzc3N10sIFstNzYuNjAzMzU1LCAzOS4yNDM3ODldLCBbLTc2LjYwMzM1NSwgMzkuMjQzNzc2XSwgWy03Ni42MDMyNzIsIDM5LjI0Mzc3MV0sIFstNzYuNjAzMTksIDM5LjI0MzYyNl0sIFstNzYuNjAzMDcxLCAzOS4yNDM1NzNdLCBbLTc2LjYwMjg2OCwgMzkuMjQzNTYyXSwgWy03Ni42MDI1MjksIDM5LjI0MzU0OF0sIFstNzYuNjAyMTU3LCAzOS4yNDM1NDddLCBbLTc2LjYwMTgzNSwgMzkuMjQzNTYyXSwgWy03Ni42MDE1ODUsIDM5LjI0MzY2MV0sIFstNzYuNjAxNDY5LCAzOS4yNDM2NzldLCBbLTc2LjYwMTM5MiwgMzkuMjQzNzJdLCBbLTc2LjYwMTM3MiwgMzkuMjQzODAyXSwgWy03Ni42MDEzNTIsIDM5LjI0MzgxNl0sIFstNzYuNjAxMjY4LCAzOS4yNDM4OTNdLCBbLTc2LjYwMTE3OCwgMzkuMjQzOTkxXSwgWy03Ni42MDExMjcsIDM5LjI0NDEwMl0sIFstNzYuNjAxMTM0LCAzOS4yNDQxNjRdLCBbLTc2LjYwMTIwNiwgMzkuMjQ0MjI2XSwgWy03Ni42MDEzMzksIDM5LjI0NDI3OF0sIFstNzYuNjAxMzg1LCAzOS4yNDQzMTJdLCBbLTc2LjYwMTM3MSwgMzkuMjQ0MzQ3XSwgWy03Ni42MDEzOTUsIDM5LjI0NDM5N10sIFstNzYuNjAxNDE3LCAzOS4yNDQ1MzddLCBbLTc2LjYwMTQ4NCwgMzkuMjQ0NTddLCBbLTc2LjYwMTQ5LCAzOS4yNDQ2NDVdLCBbLTc2LjYwMTQzNiwgMzkuMjQ0Njg5XSwgWy03Ni42MDE0MDksIDM5LjI0NDc2MV0sIFstNzYuNjAxNDEyLCAzOS4yNDQ4MDVdLCBbLTc2LjYwMTM2OSwgMzkuMjQ0ODMxXSwgWy03Ni42MDEzNTYsIDM5LjI0NDg2Ml0sIFstNzYuNjAxMzIsIDM5LjI0NDg2Ml0sIFstNzYuNjAxMzAyLCAzOS4yNDQ4OThdLCBbLTc2LjYwMTI3NSwgMzkuMjQ1MDE0XSwgWy03Ni42MDExOTUsIDM5LjI0NTA3MV0sIFstNzYuNjAxMTY1LCAzOS4yNDUxMjRdLCBbLTc2LjYwMTA5OCwgMzkuMjQ1MjE1XSwgWy03Ni42MDEwMTgsIDM5LjI0NTI3Ml0sIFstNzYuNjAwOTQ2LCAzOS4yNDUzNDldLCBbLTc2LjYwMDg2NywgMzkuMjQ1NDddLCBbLTc2LjYwMDg1NCwgMzkuMjQ1NTE2XSwgWy03Ni42MDA3MywgMzkuMjQ1NzEyXSwgWy03Ni42MDA2NDksIDM5LjI0NTg4OF0sIFstNzYuNjAwNTg5LCAzOS4yNDU5NzhdLCBbLTc2LjYwMDU4NSwgMzkuMjQ2MDE0XSwgWy03Ni42MDA1NTksIDM5LjI0NjA2NF0sIFstNzYuNjAwNTYxLCAzOS4yNDYxMDVdLCBbLTc2LjYwMDUxNSwgMzkuMjQ2MTUxXSwgWy03Ni42MDA1MDEsIDM5LjI0NjI1NF0sIFstNzYuNjAwMjYxLCAzOS4yNDYzOTNdLCBbLTc2LjYwMDA4NCwgMzkuMjQ2NTQ1XSwgWy03Ni41OTk5NjQsIDM5LjI0NjcyOV0sIFstNzYuNTk5OTAyLCAzOS4yNDY4N10sIFstNzYuNTk5ODA5LCAzOS4yNDcwMDldLCBbLTc2LjU5OTY5OCwgMzkuMjQ3MTE5XSwgWy03Ni41OTk2NCwgMzkuMjQ3MTk2XSwgWy03Ni41OTk2MTEsIDM5LjI0NzI3N10sIFstNzYuNTk5NDgxLCAzOS4yNDc0MjRdLCBbLTc2LjU5OTM2MywgMzkuMjQ3NTk0XSwgWy03Ni41OTkyMTMsIDM5LjI0NzcyN10sIFstNzYuNTk5MTQ2LCAzOS4yNDc3NzFdLCBbLTc2LjU5OTEyLCAzOS4yNDc4MDhdLCBbLTc2LjU5OTExOSwgMzkuMjQ3ODU0XSwgWy03Ni41OTkwNzEsIDM5LjI0Nzg3NF0sIFstNzYuNTk5MDQ5LCAzOS4yNDc5MDNdLCBbLTc2LjU5ODk5NiwgMzkuMjQ3ODk3XSwgWy03Ni41OTg4ODYsIDM5LjI0Nzk1OV0sIFstNzYuNTk4NjgyLCAzOS4yNDgwOTJdLCBbLTc2LjU5ODYwMywgMzkuMjQ4MTY3XSwgWy03Ni41OTg1MDYsIDM5LjI0ODIwM10sIFstNzYuNTk4MzQ2LCAzOS4yNDgyMTVdLCBbLTc2LjU5ODEzNywgMzkuMjQ4MTcxXSwgWy03Ni41OTgwMjUsIDM5LjI0ODA3N10sIFstNzYuNTk3OTU3LCAzOS4yNDc5ODVdLCBbLTc2LjU5NzkwNiwgMzkuMjQ3OTI1XSwgWy03Ni41OTc5MzYsIDM5LjI0Nzg5Nl0sIFstNzYuNTk3OTg2LCAzOS4yNDc4NTJdLCBbLTc2LjU5ODA2MywgMzkuMjQ3ODQ4XSwgWy03Ni41OTgxODUsIDM5LjI0Nzg5NF0sIFstNzYuNTk4MjQyLCAzOS4yNDc4NDNdLCBbLTc2LjU5ODI5NiwgMzkuMjQ3NzQzXSwgWy03Ni41OTgzMTYsIDM5LjI0NzY2NV0sIFstNzYuNTk4NCwgMzkuMjQ3NTUyXSwgWy03Ni41OTg1MTEsIDM5LjI0NzM0NV0sIFstNzYuNTk4NTQ4LCAzOS4yNDcyMTRdLCBbLTc2LjU5ODU0NCwgMzkuMjQ3MTA2XSwgWy03Ni41OTg1NzMsIDM5LjI0NzAxN10sIFstNzYuNTk4NTc2LCAzOS4yNDY5MzJdLCBbLTc2LjU5ODYxNCwgMzkuMjQ2NzhdLCBbLTc2LjU5ODU5MSwgMzkuMjQ2NjY0XSwgWy03Ni41OTg0NjksIDM5LjI0NjQ0OV0sIFstNzYuNTk4MzY0LCAzOS4yNDYzNjFdLCBbLTc2LjU5ODE4MSwgMzkuMjQ2MzgxXSwgWy03Ni41OTgwMjcsIDM5LjI0NjQ2M10sIFstNzYuNTk3Nzg4LCAzOS4yNDY1MjFdLCBbLTc2LjU5NzY5MiwgMzkuMjQ2NV0sIFstNzYuNTk3NTczLCAzOS4yNDY0Ml0sIFstNzYuNTk3NDczLCAzOS4yNDYzOTZdLCBbLTc2LjU5NzUxNiwgMzkuMjQ2MzQyXSwgWy03Ni41OTc1MjMsIDM5LjI0NjI4NV0sIFstNzYuNTk3NjEzLCAzOS4yNDYyNzNdLCBbLTc2LjU5NzYzNywgMzkuMjQ2MjI0XSwgWy03Ni41OTc2MzQsIDM5LjI0NjA3OV0sIFstNzYuNTk3NjkxLCAzOS4yNDYwMzNdLCBbLTc2LjU5Nzc1NCwgMzkuMjQ2MDNdLCBbLTc2LjU5NzgwMSwgMzkuMjQ1OTk5XSwgWy03Ni41OTc4NDcsIDM5LjI0NTk5Ml0sIFstNzYuNTk3ODYxLCAzOS4yNDU5NTNdLCBbLTc2LjU5ODAwMSwgMzkuMjQ1ODIyXSwgWy03Ni41OTgyMzUsIDM5LjI0NTY1N10sIFstNzYuNTk4NDE4LCAzOS4yNDU0NzddLCBbLTc2LjU5ODU1NSwgMzkuMjQ1MjY1XSwgWy03Ni41OTg2MjksIDM5LjI0NTIyMl0sIFstNzYuNTk4Njk2LCAzOS4yNDUxNV0sIFstNzYuNTk4NzU3LCAzOS4yNDUwMTNdLCBbLTc2LjU5ODc0MSwgMzkuMjQ0ODg0XSwgWy03Ni41OTg1MjMsIDM5LjI0NDYzXSwgWy03Ni41OTg0NDMsIDM5LjI0NDU5OV0sIFstNzYuNTk3NjYzLCAzOS4yNDQ0NjddLCBbLTc2LjU5NzYsIDM5LjI0NDQ4NV0sIFstNzYuNTk3NTA0LCAzOS4yNDQ1MjNdLCBbLTc2LjU5NzQyLCAzOS4yNDQ1MjZdLCBbLTc2LjU5NzMxMSwgMzkuMjQ0NTA3XSwgWy03Ni41OTcwOTUsIDM5LjI0NDUyMl0sIFstNzYuNTk2NzkzLCAzOS4yNDQ1MDVdLCBbLTc2LjU5NjY1NywgMzkuMjQ0NDRdLCBbLTc2LjU5NjU3OSwgMzkuMjQ0MzY0XSwgWy03Ni41OTY0OTIsIDM5LjI0NDI2OV0sIFstNzYuNTk2Mjk5LCAzOS4yNDQxNzhdLCBbLTc2LjU5NjIzMywgMzkuMjQ0MTExXSwgWy03Ni41OTYwMjQsIDM5LjI0NDExM10sIFstNzYuNTk1NzgxLCAzOS4yNDQxNzFdLCBbLTc2LjU5NTYwOCwgMzkuMjQ0MTkxXSwgWy03Ni41OTU0NjksIDM5LjI0NDIxOV0sIFstNzYuNTk1MzkyLCAzOS4yNDQyODZdLCBbLTc2LjU5NTM4OCwgMzkuMjQ0MzcxXSwgWy03Ni41OTUzNiwgMzkuMjQ0NDI0XSwgWy03Ni41OTUzMDcsIDM5LjI0NDY1NV0sIFstNzYuNTk1MjQ2LCAzOS4yNDQ3MDddLCBbLTc2LjU5NTE0NiwgMzkuMjQ0ODUxXSwgWy03Ni41OTUwOCwgMzkuMjQ0ODQ4XSwgWy03Ni41OTUwNCwgMzkuMjQ0ODMzXSwgWy03Ni41OTUwMzQsIDM5LjI0NDc2NV0sIFstNzYuNTk1MTAxLCAzOS4yNDQ2MjFdLCBbLTc2LjU5NTEwOCwgMzkuMjQ0NTQ0XSwgWy03Ni41OTUwNDIsIDM5LjI0NDQ2OF0sIFstNzYuNTk1MDI5LCAzOS4yNDQ0M10sIFstNzYuNTk1MDI2LCAzOS4yNDQwNTddLCBbLTc2LjU5NTAxOSwgMzkuMjQzODYxXSwgWy03Ni41OTUwMDQsIDM5LjI0Mzg0M10sIFstNzYuNTk0OTk5LCAzOS4yNDM3Nl0sIFstNzYuNTk1MDI2LCAzOS4yNDM3NDVdLCBbLTc2LjU5NTA2NywgMzkuMjQzNjAzXSwgWy03Ni41OTQ5MDEsIDM5LjI0MzYzM10sIFstNzYuNTk0NzcyLCAzOS4yNDQxNzldLCBbLTc2LjU5NDc0NCwgMzkuMjQ0MzQzXSwgWy03Ni41OTQ2NzksIDM5LjI0NDU3M10sIFstNzYuNTk0NjMyLCAzOS4yNDQ2NTNdLCBbLTc2LjU5NDYyOSwgMzkuMjQ0NzY4XSwgWy03Ni41OTQ1OTEsIDM5LjI0NDgyM10sIFstNzYuNTk0NTA2LCAzOS4yNDQ4NDFdLCBbLTc2LjU5NDM4MiwgMzkuMjQ0ODM2XSwgWy03Ni41OTQyODMsIDM5LjI0NDg2NV0sIFstNzYuNTk0MTAzLCAzOS4yNDQ4NjZdLCBbLTc2LjU5MzkxMywgMzkuMjQ0OTA2XSwgWy03Ni41OTM2ODcsIDM5LjI0NTAwNl0sIFstNzYuNTkzNTYsIDM5LjI0NTA5Nl0sIFstNzYuNTkzNDksIDM5LjI0NTE3MV0sIFstNzYuNTkzMzE3LCAzOS4yNDUyMTldLCBbLTc2LjU5MzIwNywgMzkuMjQ1MTY3XSwgWy03Ni41OTMxNTIsIDM5LjI0NTA3OV0sIFstNzYuNTkzMDg5LCAzOS4yNDUwMDJdLCBbLTc2LjU5Mjk5NiwgMzkuMjQ0OTQ3XSwgWy03Ni41OTI4MywgMzkuMjQ0OTE4XSwgWy03Ni41OTI2MTcsIDM5LjI0NDkyMl0sIFstNzYuNTkyNTg1LCAzOS4yNDQ4MTRdLCBbLTc2LjU5MjU5MSwgMzkuMjQ0NzkxXSwgWy03Ni41OTI1NTMsIDM5LjI0NDcxM10sIFstNzYuNTkyNTM5LCAzOS4yNDQ1ODRdLCBbLTc2LjU5MjU5MywgMzkuMjQ0NTA5XSwgWy03Ni41OTI2MDMsIDM5LjI0NDQzNF0sIFstNzYuNTkyNTcxLCAzOS4yNDQzNTZdLCBbLTc2LjU5MjUzOCwgMzkuMjQ0MjMyXSwgWy03Ni41OTI0NDksIDM5LjI0NDEwNV0sIFstNzYuNTkyMzY3LCAzOS4yNDQwM10sIFstNzYuNTkyMjkyLCAzOS4yNDM4NzhdLCBbLTc2LjU5MjIzNSwgMzkuMjQzNzc0XSwgWy03Ni41OTIxNDYsIDM5LjI0MzY5MV0sIFstNzYuNTkyMDMsIDM5LjI0MzU0M10sIFstNzYuNTkxOTQxLCAzOS4yNDM1MzVdLCBbLTc2LjU5MTc4NCwgMzkuMjQzNTk5XSwgWy03Ni41OTE2OTEsIDM5LjI0MzY1OF0sIFstNzYuNTkxNjYyLCAzOS4yNDM3MzhdLCBbLTc2LjU5MTY3MiwgMzkuMjQzNzgyXSwgWy03Ni41OTE2ODcsIDM5LjI0MzgyOV0sIFstNzYuNTkxNzAzLCAzOS4yNDM5MTRdLCBbLTc2LjU5MTc3MiwgMzkuMjQzOTU2XSwgWy03Ni41OTE4NDIsIDM5LjI0Mzk2MV0sIFstNzYuNTkxODg4LCAzOS4yNDQwODhdLCBbLTc2LjU5MTg2MSwgMzkuMjQ0MTYzXSwgWy03Ni41OTE4MjEsIDM5LjI0NDIzNV0sIFstNzYuNTkxODEsIDM5LjI0NDMyNV0sIFstNzYuNTkxNzUsIDM5LjI0NDQyMV0sIFstNzYuNTkxNjgzLCAzOS4yNDQ1NDddLCBbLTc2LjU5MTU3MiwgMzkuMjQ0NjQ2XSwgWy03Ni41OTE0NzUsIDM5LjI0NDc4OV0sIFstNzYuNTkxMzg4LCAzOS4yNDQ5MThdLCBbLTc2LjU5MTM3NCwgMzkuMjQ1MDIxXSwgWy03Ni41OTEzMzQsIDM5LjI0NTExOV0sIFstNzYuNTkxMzMzLCAzOS4yNDUxOTZdLCBbLTc2LjU5MTI5NiwgMzkuMjQ1MzE4XSwgWy03Ni41OTEzMjIsIDM5LjI0NTM1Ml0sIFstNzYuNTkxMzE1LCAzOS4yNDUzOTFdLCBbLTc2LjU5MTM0MiwgMzkuMjQ1NDUzXSwgWy03Ni41OTEzNTgsIDM5LjI0NTU1OV0sIFstNzYuNTkxNTAzLCAzOS4yNDU3NzRdLCBbLTc2LjU5MTUzMSwgMzkuMjQ1ODY1XSwgWy03Ni41OTE1ODUsIDM5LjI0NTk4OF0sIFstNzYuNTkxNjY0LCAzOS4yNDYwNzZdLCBbLTc2LjU5MTgxNywgMzkuMjQ2MDc3XSwgWy03Ni41OTE5NTMsIDM5LjI0NjExNF0sIFstNzYuNTkyMDM5LCAzOS4yNDYxNjNdLCBbLTc2LjU5MjEzNCwgMzkuMjQ2MjYyXSwgWy03Ni41OTIyNiwgMzkuMjQ2MzQyXSwgWy03Ni41OTIyOTcsIDM5LjI0NjM5MV0sIFstNzYuNTkyMzU5LCAzOS4yNDY0NDhdLCBbLTc2LjU5MjM2OSwgMzkuMjQ2NDg3XSwgWy03Ni41OTIzNDksIDM5LjI0NjUzMV0sIFstNzYuNTkyMzUyLCAzOS4yNDY1NzddLCBbLTc2LjU5MjM4NSwgMzkuMjQ2NjE0XSwgWy03Ni41OTIzNjgsIDM5LjI0NjcxN10sIFstNzYuNTkyMzUxLCAzOS4yNDY3NjldLCBbLTc2LjU5MjM0MSwgMzkuMjQ2ODI4XSwgWy03Ni41OTIzMDcsIDM5LjI0Njg2OV0sIFstNzYuNTkyMDc3LCAzOS4yNDY5OThdLCBbLTc2LjU5MjA2NywgMzkuMjQ3MDM0XSwgWy03Ni41OTIwMjQsIDM5LjI0NzA2NV0sIFstNzYuNTkyMDE2LCAzOS4yNDcxMzddLCBbLTc2LjU5MTk4LCAzOS4yNDcxODFdLCBbLTc2LjU5MTksIDM5LjI0NzIxOV0sIFstNzYuNTkxODQzLCAzOS4yNDcyNjZdLCBbLTc2LjU5MTgyOSwgMzkuMjQ3MzM4XSwgWy03Ni41OTE3NzEsIDM5LjI0NzQzNl0sIFstNzYuNTkxNzA1LCAzOS4yNDc1MTZdLCBbLTc2LjU5MTcyOCwgMzkuMjQ3NTkzXSwgWy03Ni41OTE4NDEsIDM5LjI0NzY3NF0sIFstNzYuNTkxOTYxLCAzOS4yNDc3MjVdLCBbLTc2LjU5MjExNiwgMzkuMjQ3Nzk2XSwgWy03Ni41OTIyNDIsIDM5LjI0Nzg4M10sIFstNzYuNTkyMzIxLCAzOS4yNDc5MjhdLCBbLTc2LjU5MjM5NCwgMzkuMjQ3OTU1XSwgWy03Ni41OTI0NTQsIDM5LjI0ODAwM10sIFstNzYuNTkyNDk2LCAzOS4yNDgwNzZdLCBbLTc2LjU5MjU2NCwgMzkuMjQ4MDkyXSwgWy03Ni41OTI1NTksIDM5LjI0ODEyMV0sIFstNzYuNTkyNTAzLCAzOS4yNDgxNDRdLCBbLTc2LjU5MjQ4MiwgMzkuMjQ4MTY0XSwgWy03Ni41OTI0ODksIDM5LjI0ODJdLCBbLTc2LjU5MjUzOSwgMzkuMjQ4MjY3XSwgWy03Ni41OTI1NzEsIDM5LjI0ODI5NF0sIFstNzYuNTkyNTg5LCAzOS4yNDgzMzRdLCBbLTc2LjU5MjYzMSwgMzkuMjQ4Mzc5XSwgWy03Ni41OTI2NjgsIDM5LjI0ODQ0XSwgWy03Ni41OTI3OTksIDM5LjI0ODU4MV0sIFstNzYuNTkyODU4LCAzOS4yNDg2OTNdLCBbLTc2LjU5Mjg3OSwgMzkuMjQ4Nzg1XSwgWy03Ni41OTI4NzcsIDM5LjI0ODg0Ml0sIFstNzYuNTkyOSwgMzkuMjQ4ODc5XSwgWy03Ni41OTI5MDcsIDM5LjI0ODkxXSwgWy03Ni41OTI4NTcsIDM5LjI0ODkyMl0sIFstNzYuNTkyODU5LCAzOS4yNDg5ODRdLCBbLTc2LjU5Mjg0MywgMzkuMjQ5MDE4XSwgWy03Ni41OTI4NjMsIDM5LjI0OTA3NV0sIFstNzYuNTkyODc4LCAzOS4yNDkyMTJdLCBbLTc2LjU5MjkzNywgMzkuMjQ5Mzg1XSwgWy03Ni41OTI5NCwgMzkuMjQ5NDI3XSwgWy03Ni41OTI5LCAzOS4yNDk0N10sIFstNzYuNTkyOTEsIDM5LjI0OTUyMl0sIFstNzYuNTkyODQzLCAzOS4yNDk1NjhdLCBbLTc2LjU5Mjc0OSwgMzkuMjQ5Njg3XSwgWy03Ni41OTI1MzEsIDM5LjI0OTgzMV0sIFstNzYuNTkyNTI5LCAzOS4yNDk4NjJdLCBbLTc2LjU5MjU3MiwgMzkuMjQ5ODldLCBbLTc2LjU5MjU5MiwgMzkuMjQ5ODddLCBbLTc2LjU5MjYzNSwgMzkuMjQ5ODk4XSwgWy03Ni41OTI1ODUsIDM5LjI0OTk2NV0sIFstNzYuNTkyNTA3LCAzOS4yNTAwMTVdLCBbLTc2LjU5MjQ4NSwgMzkuMjUwMDA2XSwgWy03Ni41OTI1MDgsIDM5LjI0OTk1N10sIFstNzYuNTkyNDg5LCAzOS4yNDk5MjldLCBbLTc2LjU5MjMzOSwgMzkuMjQ5OTQ5XSwgWy03Ni41OTIyMywgMzkuMjUwMTE5XSwgWy03Ni41OTE5MzYsIDM5LjI1MDA4Ml0sIFstNzYuNTkxODcsIDM5LjI1MDEyOF0sIFstNzYuNTkxNjE0LCAzOS4yNTAxNDJdLCBbLTc2LjU5MTI0OCwgMzkuMjUwMjI5XSwgWy03Ni41OTExNzQsIDM5LjI1MDM3NF0sIFstNzYuNTkwOTc5LCAzOS4yNTA0MjNdLCBbLTc2LjU5MDY1NiwgMzkuMjUwMjU4XSwgWy03Ni41OTAyMjYsIDM5LjI1MDE2OV0sIFstNzYuNTg5NjI2LCAzOS4yNTAxNzldLCBbLTc2LjU4OTA1NywgMzkuMjUwMjc4XSwgWy03Ni41ODc2OTQsIDM5LjI1MDQ3NV0sIFstNzYuNTg3NTIzLCAzOS4yNTA0NjJdLCBbLTc2LjU4NzM1MywgMzkuMjUwNDg2XSwgWy03Ni41ODcxNjUsIDM5LjI1MDY4MV0sIFstNzYuNTg2NzA0LCAzOS4yNTAzNzddLCBbLTc2LjU4NjYyNCwgMzkuMjUwMjE5XSwgWy03Ni41ODY2NTksIDM5LjI0OTg5MV0sIFstNzYuNTg2NjIsIDM5LjI0OTcxNF0sIFstNzYuNTg2NjkzLCAzOS4yNDk2MTRdLCBbLTc2LjU4NjYyMSwgMzkuMjQ5NDYyXSwgWy03Ni41ODY2MjEsIDM5LjI0OTMxMV0sIFstNzYuNTg2NTQxLCAzOS4yNDkxNDZdLCBbLTc2LjU4NjcxLCAzOS4yNDkwMjldLCBbLTc2LjU4NjcyOSwgMzkuMjQ4ODgyXSwgWy03Ni41ODY2OTgsIDM5LjI0ODc1XSwgWy03Ni41ODY3NzksIDM5LjI0ODY5N10sIFstNzYuNTg2ODEyLCAzOS4yNDg1NzNdLCBbLTc2LjU4NjgzMSwgMzkuMjQ4MTEzXSwgWy03Ni41ODY4MDgsIDM5LjI0NzkyNF0sIFstNzYuNTg2ODgsIDM5LjI0Nzc5Ml0sIFstNzYuNTg2OTU2LCAzOS4yNDc2MzRdLCBbLTc2LjU4Njk1OSwgMzkuMjQ3MjY4XSwgWy03Ni41ODY4MDUsIDM5LjI0NzA3Ml0sIFstNzYuNTg2OTUyLCAzOS4yNDY5MjddLCBbLTc2LjU4Njg4NywgMzkuMjQ2ODAxXSwgWy03Ni41ODY5NDgsIDM5LjI0NjcyXSwgWy03Ni41ODY5NzgsIDM5LjI0NjY1XSwgWy03Ni41ODY5NDQsIDM5LjI0NjUzN10sIFstNzYuNTg3MDAzLCAzOS4yNDY0NTVdLCBbLTc2LjU4NjkzOSwgMzkuMjQ2MzFdLCBbLTc2LjU4NjczNSwgMzkuMjQ2MTE3XSwgWy03Ni41ODY1MTgsIDM5LjI0NjAyNl0sIFstNzYuNTg2MywgMzkuMjQ1OTc5XSwgWy03Ni41ODYxNjMsIDM5LjI0NTg3OF0sIFstNzYuNTg1OTkyLCAzOS4yNDU4OTZdLCBbLTc2LjU4NTgwNiwgMzkuMjQ1NzM5XSwgWy03Ni41ODU3MSwgMzkuMjQ1N10sIFstNzYuNTg1NTY0LCAzOS4yNDU2NDJdLCBbLTc2LjU4NTQ3MywgMzkuMjQ1OTJdLCBbLTc2LjU4NTQ1MiwgMzkuMjQ2MTQ5XSwgWy03Ni41ODUzOSwgMzkuMjQ2MjM1XSwgWy03Ni41ODUzODksIDM5LjI0NjQxOF0sIFstNzYuNTg1NDcyLCAzOS4yNDY3MzVdLCBbLTc2LjU4NTQyNiwgMzkuMjQ2OTY3XSwgWy03Ni41ODU0ODEsIDM5LjI0NzA3NV0sIFstNzYuNTg1NTM4LCAzOS4yNDczMl0sIFstNzYuNTg1NDQ1LCAzOS4yNDc0OV0sIFstNzYuNTg1NDMsIDM5LjI0NzY2XSwgWy03Ni41ODU0MDYsIDM5LjI0NzczNl0sIFstNzYuNTg1NDM1LCAzOS4yNDc4NDRdLCBbLTc2LjU4NTM3MiwgMzkuMjQ3OTE5XSwgWy03Ni41ODU0MiwgMzkuMjQ4MDM5XSwgWy03Ni41ODUzMTQsIDM5LjI0ODEwOF0sIFstNzYuNTg1MzM3LCAzOS4yNDgyOTFdLCBbLTc2LjU4NTQxOCwgMzkuMjQ4NDA1XSwgWy03Ni41ODUzMDMsIDM5LjI0ODYxOV0sIFstNzYuNTg1Mzc1LCAzOS4yNDg4MjddLCBbLTc2LjU4NTI0NSwgMzkuMjQ4OTM0XSwgWy03Ni41ODUyMzEsIDM5LjI0OTMwN10sIFstNzYuNTg1MTYxLCAzOS4yNDk0MTldLCBbLTc2LjU4NTIyNSwgMzkuMjQ5NTA4XSwgWy03Ni41ODUyMzksIDM5LjI0OTgxXSwgWy03Ni41ODQ5NjQsIDM5LjI0OTc5N10sIFstNzYuNTg0OTMyLCAzOS4yNDk2NzFdLCBbLTc2LjU4NDgzNSwgMzkuMjQ5NjddLCBbLTc2LjU4NDg1OSwgMzkuMjQ5NzRdLCBbLTc2LjU4NDcyOSwgMzkuMjUxMTUyXSwgWy03Ni41ODQ0NDMsIDM5LjI1MTM3Ml0sIFstNzYuNTg0MjEsIDM5LjI1MTE0NF0sIFstNzYuNTg0MzYzLCAzOS4yNDk2ODFdLCBbLTc2LjU4NDYzMywgMzkuMjQ5NDhdLCBbLTc2LjU4NDY2NiwgMzkuMjQ5MzU0XSwgWy03Ni41ODQzNSwgMzkuMjQ5Mjg0XSwgWy03Ni41ODQyNTMsIDM5LjI0OTIzM10sIFstNzYuNTg0MTQsIDM5LjI0OTIyNl0sIFstNzYuNTg0MDY0LCAzOS4yNDk0XSwgWy03Ni41ODM5MzUsIDM5LjI0OTQ1M10sIFstNzYuNTg0MDM0LCAzOS4yNDkyNzZdLCBbLTc2LjU4Mzk5OCwgMzkuMjQ5MDU0XSwgWy03Ni41ODM4MjUsIDM5LjI0ODk0MV0sIFstNzYuNTgzNzc2LCAzOS4yNDg5NzldLCBbLTc2LjU4MzY1NSwgMzkuMjQ4OTAzXSwgWy03Ni41ODM3MzYsIDM5LjI0ODgyOF0sIFstNzYuNTgzNzA0LCAzOS4yNDg3NDVdLCBbLTc2LjU4MzU4NiwgMzkuMjQ4MjAzXSwgWy03Ni41ODMyNjIsIDM5LjI0ODE1MV0sIFstNzYuNTgzMjEzLCAzOS4yNDk0ODJdLCBbLTc2LjU4MzE0LCAzOS4yNDk1NjNdLCBbLTc2LjU4Mjk3OCwgMzkuMjQ5NTI1XSwgWy03Ni41ODE3NDgsIDM5LjI0ODkyMV0sIFstNzYuNTgwNzY2LCAzOS4yNDkxMDddLCBbLTc2LjU4MDQxNCwgMzkuMjQ5NTQ3XSwgWy03Ni41ODAwNDIsIDM5LjI0OTM2OV0sIFstNzYuNTc5ODE1LCAzOS4yNDkzOTRdLCBbLTc2LjU3OTc1LCAzOS4yNDk0NjldLCBbLTc2LjU3OTMyMSwgMzkuMjQ5MjY2XSwgWy03Ni41ODEyMDEsIDM5LjI0Njg3Nl0sIFstNzYuNTgxMDM5LCAzOS4yNDY4NjNdLCBbLTc2LjU4MDU2MSwgMzkuMjQ2NjM0XSwgWy03Ni41ODA1NzgsIDM5LjI0NjU5XSwgWy03Ni41ODA0NjUsIDM5LjI0NjU1Ml0sIFstNzYuNTgwMzgzLCAzOS4yNDY2MDNdLCBbLTc2LjU3ODc4MSwgMzkuMjQ4NjUyXSwgWy03Ni41Nzc2NCwgMzkuMjQ4MTE4XSwgWy03Ni41NzcxODcsIDM5LjI0NzkyN10sIFstNzYuNTc2OTQ0LCAzOS4yNDgwMDJdLCBbLTc2LjU3NjYyLCAzOS4yNDc5MjVdLCBbLTc2LjU3NjMyOSwgMzkuMjQ3NzI5XSwgWy03Ni41NzUxNTYsIDM5LjI0NzE1MV0sIFstNzYuNTc1MzU5LCAzOS4yNDY5NTFdLCBbLTc2LjU3NDk2MywgMzkuMjQ2OTFdLCBbLTc2LjU3NDgxNywgMzkuMjQ2Nzc3XSwgWy03Ni41NzQ1MzQsIDM5LjI0Njc1N10sIFstNzYuNTc0MzE0LCAzOS4yNDY4ODNdLCBbLTc2LjU3NDI0MiwgMzkuMjQ2ODczXSwgWy03Ni41NzQxMDYsIDM5LjI0NjkwN10sIFstNzYuNTc0MDc4LCAzOS4yNDY5N10sIFstNzYuNTczODkyLCAzOS4yNDY5NzZdLCBbLTc2LjU3MzgzNiwgMzkuMjQ2ODQzXSwgWy03Ni41NzM5ODMsIDM5LjI0NjY0OF0sIFstNzYuNTczOTkyLCAzOS4yNDYzODNdLCBbLTc2LjU3MzkwNCwgMzkuMjQ2MjgyXSwgWy03Ni41NzMzNTQsIDM5LjI0NjAzNF0sIFstNzYuNTczNDAzLCAzOS4yNDU5MjFdLCBbLTc2LjU3MjYxMSwgMzkuMjQ1NDUxXSwgWy03Ni41NzIxMzQsIDM5LjI0NTIyOF0sIFstNzYuNTcyMDg1LCAzOS4yNDUyNzldLCBbLTc2LjU3MTc2MSwgMzkuMjQ1MTE0XSwgWy03Ni41NzE4ODQsIDM5LjI0NDkxOV0sIFstNzYuNTcxNzQ3LCAzOS4yNDQ4MzZdLCBbLTc2LjU3MTU2LCAzOS4yNDQ5MTddLCBbLTc2LjU3MTMzNCwgMzkuMjQ0NjQ1XSwgWy03Ni41NzA4ODIsIDM5LjI0NDI5XSwgWy03Ni41NzA3MjEsIDM5LjI0NDExM10sIFstNzYuNTcwNzc4LCAzOS4yNDQwNV0sIFstNzYuNTcwMDY3LCAzOS4yNDM2XSwgWy03Ni41NzAwMTksIDM5LjI0MzUzXSwgWy03Ni41NzEyNDUsIDM5LjI0MzMzOV0sIFstNzYuNTcxMTk3LCAzOS4yNDMxNV0sIFstNzYuNTcxNzc0LCAzOS4yNDMwMzldLCBbLTc2LjU3MTc1OCwgMzkuMjQyOTEyXSwgWy03Ni41NzEyNDcsIDM5LjI0Mjk2N10sIFstNzYuNTcxMTg1LCAzOS4yNDI1N10sIFstNzYuNTcxMjI1LCAzOS4yNDI1MTldLCBbLTc2LjU3MTA3MiwgMzkuMjQyNDQ5XSwgWy03Ni41Njk4MjksIDM5LjI0Mjc2N10sIFstNzYuNTY5NjE4LCAzOS4yNDI3NDddLCBbLTc2LjU2OTA1OCwgMzkuMjQxNDldLCBbLTc2LjU2OTc4MiwgMzkuMjQxMDM4XSwgWy03Ni41Njk1MDksIDM5LjI0MDcyMl0sIFstNzYuNTY3MDgzLCAzOS4yNDIxMDddLCBbLTc2LjU2NzcwNSwgMzkuMjQyNzE4XSwgWy03Ni41Njc0NjgsIDM5LjI0Mjg2NV0sIFstNzYuNTY2MTU0LCAzOS4yNDE1MTddLCBbLTc2LjU2Njg3OCwgMzkuMjQxMTA5XSwgWy03Ni41NjY4NTQsIDM5LjI0MTA2NV0sIFstNzYuNTY3MzkyLCAzOS4yNDA3MjddLCBbLTc2LjU2NzM2LCAzOS4yNDA1NzVdLCBbLTc2LjU2Nzc0MywgMzkuMjQwMjQyXSwgWy03Ni41Njc2ODksIDM5LjI0MDEyOF0sIFstNzYuNTY3NjgsIDM5LjI0MDA0XSwgWy03Ni41Njc2MzEsIDM5LjI0MDAwOF0sIFstNzYuNTY3MDg2LCAzOS4yNDAyOTddLCBbLTc2LjU2NjY3OSwgMzkuMjQwNTAzXSwgWy03Ni41NjYyMDcsIDM5LjI0MDgxMV0sIFstNzYuNTY1NzU5LCAzOS4yNDEwNTVdLCBbLTc2LjU2NTI1OCwgMzkuMjQwNzgyXSwgWy03Ni41NjQ2NDYsIDM5LjI0MDEzXSwgWy03Ni41NjQ3MzYsIDM5LjIzOTk0N10sIFstNzYuNTY1NzkzLCAzOS4yMzk0NTldLCBbLTc2LjU2NTU2OCwgMzkuMjM5MTQzXSwgWy03Ni41NjUyNiwgMzkuMjM5MDkxXSwgWy03Ni41NjQ5ODQsIDM5LjIzOTE0MV0sIFstNzYuNTY0ODA2LCAzOS4yMzkxMjFdLCBbLTc2LjU2NDI5NiwgMzkuMjM4OTQzXSwgWy03Ni41NjQwMzEsIDM5LjIzODVdLCBbLTc2LjU2NDAyNSwgMzkuMjM4MjM1XSwgWy03Ni41NjM4NTUsIDM5LjIzODA0Nl0sIFstNzYuNTYzMzQsIDM5LjIzNzQwN10sIFstNzYuNTYzNjksIDM5LjIzNzI0NF0sIFstNzYuNTYyMDczLCAzOS4yMzUxXSwgWy03Ni41NjAxMzIsIDM5LjIzNTQ3MV0sIFstNzYuNTU4ODExLCAzOS4yMzQxMV0sIFstNzYuNTU4NTk2LCAzOS4yMzMzODRdLCBbLTc2LjU1ODk0NSwgMzkuMjMyMTYxXSwgWy03Ni41NjAzMDksIDM5LjIzMTkwMl0sIFstNzYuNTYwMDYyLCAzOS4yMzExNjldLCBbLTc2LjU2MDA4NywgMzkuMjMxMDM3XSwgWy03Ni41NjEwODYsIDM5LjIzMDgzMl0sIFstNzYuNTYyNzk5LCAzOS4yMzA0Nl0sIFstNzYuNTYyOTg4LCAzOS4yMzAxMTRdLCBbLTc2LjU2MjI0OCwgMzkuMjI3NzIxXSwgWy03Ni41NjIyMDksIDM5LjIyNzQ2Ml0sIFstNzYuNTYyNDc5LCAzOS4yMjcxMDRdLCBbLTc2LjU2MzcwNSwgMzkuMjI1NTU3XSwgWy03Ni41NjQxNzksIDM5LjIyNDk4NF0sIFstNzYuNTY0MDc2LCAzOS4yMjQ2NjJdLCBbLTc2LjU2NDM1MiwgMzkuMjI0NTEyXSwgWy03Ni41NjYwMDIsIDM5LjIyNTE2OF0sIFstNzYuNTY3MDQzLCAzOS4yMjU5OTFdLCBbLTc2LjU2NzE0OCwgMzkuMjI2MjEzXSwgWy03Ni41Njc0NzIsIDM5LjIyNjI3N10sIFstNzYuNTY3NjY2LCAzOS4yMjYyNjVdLCBbLTc2LjU2Nzc4NiwgMzkuMjI2NTI0XSwgWy03Ni41NjgwNzgsIDM5LjIyNjYzMl0sIFstNzYuNTY4MjgxLCAzOS4yMjY1OTVdLCBbLTc2LjU2ODIxNiwgMzkuMjI2NTEzXSwgWy03Ni41Njg0MTksIDM5LjIyNjQ4OF0sIFstNzYuNTY4NTU0LCAzOS4yMjY4ODZdLCBbLTc2LjU2OTU1OCwgMzkuMjI3MjE4XSwgWy03Ni41NzAxMjMsIDM5LjIyNzI4M10sIFstNzYuNTcwNzQ4LCAzOS4yMjczNzRdLCBbLTc2LjU3MTE3NywgMzkuMjI3MzVdLCBbLTc2LjU3MTYzOCwgMzkuMjI3MjgxXSwgWy03Ni41NzIxMzEsIDM5LjIyNzE1NV0sIFstNzYuNTcyMTg4LCAzOS4yMjcxNTddLCBbLTc2LjU3MjI1OSwgMzkuMjI3MTI0XSwgWy03Ni41NzIzMDIsIDM5LjIyNzEzOV0sIFstNzYuNTcyNDY0LCAzOS4yMjcxMjhdLCBbLTc2LjU3MjYyLCAzOS4yMjcwOV0sIFstNzYuNTcyOCwgMzkuMjI2OTgzXSwgWy03Ni41NzI5MDMsIDM5LjIyNjkzOF0sIFstNzYuNTcyOTk1LCAzOS4yMjY4NjhdLCBbLTc2LjU3MzU1LCAzOS4yMjY2MTldLCBbLTc2LjU3Mzg2OCwgMzkuMjI2NTA5XSwgWy03Ni41NzQzMTcsIDM5LjIyNjI3Nl0sIFstNzYuNTc0NjI4LCAzOS4yMjYxNzhdLCBbLTc2LjU3NjAwMywgMzkuMjI1NzQzXSwgWy03Ni41NzY1MTUsIDM5LjIyNTUxMV0sIFstNzYuNTc2NTk3LCAzOS4yMjU1MDNdLCBbLTc2LjU3NjczLCAzOS4yMjU1MTldLCBbLTc2LjU3NzAzNSwgMzkuMjI1NjY5XSwgWy03Ni41NzczNjIsIDM5LjIyNTgwMV0sIFstNzYuNTc3NTQ0LCAzOS4yMjU5NDddLCBbLTc2LjU3NzY4LCAzOS4yMjYwMDFdLCBbLTc2LjU3NzgyMSwgMzkuMjI2MTEyXSwgWy03Ni41NzgxNjcsIDM5LjIyNjMzMV0sIFstNzYuNTc4NDY2LCAzOS4yMjY1NV0sIFstNzYuNTc4ODg5LCAzOS4yMjY3MDRdLCBbLTc2LjU3ODk5NCwgMzkuMjI2ODE4XSwgWy03Ni41NzkwMjUsIDM5LjIyNjkxMV0sIFstNzYuNTc5MDg0LCAzOS4yMjcwMzFdLCBbLTc2LjU3OTA5MiwgMzkuMjI3MTQ5XSwgWy03Ni41Nzg4OTksIDM5LjIyNzM4Ml0sIFstNzYuNTc4NzkyLCAzOS4yMjc1NzJdLCBbLTc2LjU3ODc2MSwgMzkuMjI3NjhdLCBbLTc2LjU3ODg3NCwgMzkuMjI3ODE1XSwgWy03Ni41Nzg5NDYsIDM5LjIyNzk3NV0sIFstNzYuNTc4OTA4LCAzOS4yMjgxMTZdLCBbLTc2LjU3ODkyMiwgMzkuMjI4MTk4XSwgWy03Ni41Nzg5MDcsIDM5LjIyODI4N10sIFstNzYuNTc4OTM2LCAzOS4yMjgzMjZdLCBbLTc2LjU3ODk0OCwgMzkuMjI4NDM2XSwgWy03Ni41Nzg5OTcsIDM5LjIyODQ4OV0sIFstNzYuNTc5MDI2LCAzOS4yMjg1NTZdLCBbLTc2LjU3OTA0NywgMzkuMjI4NjM1XSwgWy03Ni41NzkxMjUsIDM5LjIyODcwOF0sIFstNzYuNTc5MTQ2LCAzOS4yMjg4MTNdLCBbLTc2LjU3OTIwNSwgMzkuMjI4ODk4XSwgWy03Ni41NzkxOTEsIDM5LjIyODk5XSwgWy03Ni41NzkyMjYsIDM5LjIyOTE5M10sIFstNzYuNTc5MTEsIDM5LjIyOTQwMV0sIFstNzYuNTc5MDc4LCAzOS4yMjk0NDRdLCBbLTc2LjU3OTA5MiwgMzkuMjI5NTI5XSwgWy03Ni41NzkxNDIsIDM5LjIyOTU5XSwgWy03Ni41NzkxMTgsIDM5LjIyOTY1XSwgWy03Ni41NzkxNjQsIDM5LjIyOTcxNF0sIFstNzYuNTc5MTYzLCAzOS4yMjk3Nl0sIFstNzYuNTc5MjI3LCAzOS4yMjk4MjhdLCBbLTc2LjU3OTIxNywgMzkuMjI5ODYzXSwgWy03Ni41NzkzMDQsIDM5LjIyOTg4MV0sIFstNzYuNTc5MzcyLCAzOS4yMjk5MjhdLCBbLTc2LjU3OTU2NywgMzkuMjMwMTEzXSwgWy03Ni41Nzk2MDcsIDM5LjIzMDI0OF0sIFstNzYuNTc5NjYyLCAzOS4yMzAzNjRdLCBbLTc2LjU3OTY4MywgMzkuMjMwNTA3XSwgWy03Ni41Nzk3NjgsIDM5LjIzMDYwMl0sIFstNzYuNTc5ODU1LCAzOS4yMzA3NjddLCBbLTc2LjU3OTk3MywgMzkuMjMwODU5XSwgWy03Ni41ODAwODIsIDM5LjIzMTAyM10sIFstNzYuNTgwMjQxLCAzOS4yMzExNzZdLCBbLTc2LjU4MDY1MSwgMzkuMjMxMjEzXSwgWy03Ni41ODA3MjgsIDM5LjIzMTIzNl0sIFstNzYuNTgwODI0LCAzOS4yMzEyNDVdLCBbLTc2LjU4MDkyNCwgMzkuMjMxMjk1XSwgWy03Ni41ODExMDEsIDM5LjIzMTQ2Nl0sIFstNzYuNTgxMjQ3LCAzOS4yMzE1MDJdLCBbLTc2LjU4MTQ0NywgMzkuMjMxNTQ5XSwgWy03Ni41ODE0OTIsIDM5LjIzMTY0OV0sIFstNzYuNTgxNTkyLCAzOS4yMzE3MzFdLCBbLTc2LjU4MTYyOCwgMzkuMjMxNzk4XSwgWy03Ni41ODE3MDMsIDM5LjIzMTc3NV0sIFstNzYuNTgxNzU2LCAzOS4yMzE4MTZdLCBbLTc2LjU4MTgyNSwgMzkuMjMxODI5XSwgWy03Ni41ODIwMDgsIDM5LjIzMTkxXSwgWy03Ni41ODIxMTUsIDM5LjIzMTk3N10sIFstNzYuNTgyMTYxLCAzOS4yMzE5NzddLCBbLTc2LjU4MjE3OSwgMzkuMjMxOTQyXSwgWy03Ni41ODIxMDcsIDM5LjIzMTg3MV0sIFstNzYuNTgxNzQ3LCAzOS4yMzE2OTRdLCBbLTc2LjU4MTY3LCAzOS4yMzE2MzVdLCBbLTc2LjU4MTY4LCAzOS4yMzE1NV0sIFstNzYuNTgxODEyLCAzOS4yMzE1NF0sIFstNzYuNTgxOTQ4LCAzOS4yMzE2NDJdLCBbLTc2LjU4MjA5NSwgMzkuMjMxNjA1XSwgWy03Ni41ODIxMTksIDM5LjIzMTQwM10sIFstNzYuNTgyMTYsIDM5LjIzMTI5M10sIFstNzYuNTgyMjAzLCAzOS4yMzEwODddLCBbLTc2LjU4MjE3MSwgMzkuMjMxMDM0XSwgWy03Ni41ODIxMTEsIDM5LjIzMDk4NV0sIFstNzYuNTgxOTc2LCAzOS4yMzA4MzRdLCBbLTc2LjU4MTY1MiwgMzkuMjMwNzMxXSwgWy03Ni41ODEzNzgsIDM5LjIzMDcxM10sIFstNzYuNTgxMTk2LCAzOS4yMzA2NV0sIFstNzYuNTgxMDUzLCAzOS4yMzA2NDldLCBbLTc2LjU4MDk2OSwgMzkuMjMwNTAzXSwgWy03Ni41ODA5ODMsIDM5LjIzMDQxMV0sIFstNzYuNTgwODg0LCAzOS4yMzAzMTZdLCBbLTc2LjU4MDc5OCwgMzkuMjMwMjk4XSwgWy03Ni41ODA3NTIsIDM5LjIzMDI1Ml0sIFstNzYuNTgwNzgsIDM5LjIzMDIwMl0sIFstNzYuNTgwNzAzLCAzOS4yMzAxMjddLCBbLTc2LjU4MDY0OCwgMzkuMjMwMTA5XSwgWy03Ni41ODA1NjIsIDM5LjIzMDA5OV0sIFstNzYuNTgwNTUzLCAzOS4yMzAwMjRdLCBbLTc2LjU4MDUxMywgMzkuMjI5OTk1XSwgWy03Ni41ODA1MjYsIDM5LjIyOTk2XSwgWy03Ni41ODA0ODMsIDM5LjIyOTkzXSwgWy03Ni41ODA0NTMsIDM5LjIyOTkwM10sIFstNzYuNTgwNDc2LCAzOS4yMjk4NTddLCBbLTc2LjU4MDQ2OCwgMzkuMjI5ODI5XSwgWy03Ni41ODAzOTUsIDM5LjIyOTc4OV0sIFstNzYuNTgwMzg2LCAzOS4yMjk3NTRdLCBbLTc2LjU4MDQyLCAzOS4yMjk2ODddLCBbLTc2LjU4MDQzMiwgMzkuMjI5NjRdLCBbLTc2LjU4MDQ4MywgMzkuMjI5NTg0XSwgWy03Ni41ODA1NDcsIDM5LjIyOTU3M10sIFstNzYuNTgwNjEsIDM5LjIyOTU4OF0sIFstNzYuNTgwNjY2LCAzOS4yMjk1NzldLCBbLTc2LjU4MTAwMiwgMzkuMjI5Njg3XSwgWy03Ni41ODEwNiwgMzkuMjI5NTY3XSwgWy03Ni41ODA4MSwgMzkuMjI5NDQyXSwgWy03Ni41ODA3NTksIDM5LjIyOTMxM10sIFstNzYuNTgwOTAyLCAzOS4yMjkzMThdLCBbLTc2LjU4MTEwMywgMzkuMjI5NDE5XSwgWy03Ni41ODEyNDgsIDM5LjIyOTQ3OV0sIFstNzYuNTgxMzI5LCAzOS4yMjkzODddLCBbLTc2LjU4MTI2NywgMzkuMjI5MTczXSwgWy03Ni41ODEzMDIsIDM5LjIyOTEyXSwgWy03Ni41ODExMDgsIDM5LjIyOTA3NV0sIFstNzYuNTgxMDQ3LCAzOS4yMjg5NzldLCBbLTc2LjU4MDk3MSwgMzkuMjI4OTldLCBbLTc2LjU4MDk2MiwgMzkuMjI5MDYxXSwgWy03Ni41ODA2OTgsIDM5LjIyOTAzM10sIFstNzYuNTgwNjQ3LCAzOS4yMjg5NzZdLCBbLTc2LjU4MDczNSwgMzkuMjI4OTY2XSwgWy03Ni41ODA2NTksIDM5LjIyODg3XSwgWy03Ni41ODA3NzYsIDM5LjIyODg5MV0sIFstNzYuNTgwODc2LCAzOS4yMjg4OTddLCBbLTc2LjU4MDgzMywgMzkuMjI4Nzg5XSwgWy03Ni41ODA3NjQsIDM5LjIyODcwNl0sIFstNzYuNTgwNjQ1LCAzOS4yMjg2NTFdLCBbLTc2LjU4MDU5OCwgMzkuMjI4NTc3XSwgWy03Ni41ODA1NDksIDM5LjIyODU4MV0sIFstNzYuNTgwNDc3LCAzOS4yMjg2N10sIFstNzYuNTgwMzM1LCAzOS4yMjg2N10sIFstNzYuNTgwMjkyLCAzOS4yMjgzOTJdLCBbLTc2LjU4MDMyNiwgMzkuMjI4MjkyXSwgWy03Ni41ODA0MTcsIDM5LjIyODI4Ml0sIFstNzYuNTgwNTcsIDM5LjIyODQ2Nl0sIFstNzYuNTgwNjUsIDM5LjIyODQ2MV0sIFstNzYuNTgwNzI1LCAzOS4yMjgzNzddLCBbLTc2LjU4MDYxMSwgMzkuMjI4MzM3XSwgWy03Ni41ODA3MDMsIDM5LjIyODI2OV0sIFstNzYuNTgwNjMyLCAzOS4yMjgwNzVdLCBbLTc2LjU4MDUzNSwgMzkuMjI4MDRdLCBbLTc2LjU4MDQ2NSwgMzkuMjI3Nzc2XSwgWy03Ni41ODA1NCwgMzkuMjI3NjY4XSwgWy03Ni41ODA1ODMsIDM5LjIyNzQwMl0sIFstNzYuNTgwODc5LCAzOS4yMjczNDddLCBbLTc2LjU4MTAzOSwgMzkuMjI3MzEyXSwgWy03Ni41ODEyNjEsIDM5LjIyNzMxNV0sIFstNzYuNTgxMzAzLCAzOS4yMjcyNjldLCBbLTc2LjU4MTI5OSwgMzkuMjI3MjMxXSwgWy03Ni41ODEzNTYsIDM5LjIyNzE5XSwgWy03Ni41ODEzOTYsIDM5LjIyNzEyOF0sIFstNzYuNTgxNDc0LCAzOS4yMjcxMDRdLCBbLTc2LjU4MTU2NSwgMzkuMjI3MDM5XSwgWy03Ni41ODE2MDMsIDM5LjIyNjY1MV0sIFstNzYuNTgwNzk2LCAzOS4yMjU5NjldLCBbLTc2LjU4MDAxMiwgMzkuMjI1MzM5XSwgWy03Ni41ODAxOTgsIDM5LjIyNTIxXSwgWy03Ni41ODAwODUsIDM5LjIyNDc1NV0sIFstNzYuNTgwMDQ3LCAzOS4yMjQ0M10sIFstNzYuNTgwMDgyLCAzOS4yMjQzMjNdLCBbLTc2LjU4MDAyMSwgMzkuMjI0MjFdLCBbLTc2LjU3OTk2OCwgMzkuMjIzOTk4XSwgWy03Ni41Nzk5NzUsIDM5LjIyMzgyM10sIFstNzYuNTgwMTA0LCAzOS4yMjM0NDldLCBbLTc2LjU3OTk3NywgMzkuMjIzNDQ5XSwgWy03Ni41Nzk5MiwgMzkuMjIzMzI3XSwgWy03Ni41Nzk5MDQsIDM5LjIyMzAyNl0sIFstNzYuNTc5OTg2LCAzOS4yMjI5NThdLCBbLTc2LjU4MDAyOSwgMzkuMjIyNV0sIFstNzYuNTc5OTU0LCAzOS4yMjI0MzJdLCBbLTc2LjU3OTQxNywgMzkuMjIyMzU4XSwgWy03Ni41Nzk0MjYsIDM5LjIyMTgxOF0sIFstNzYuNTc5NDI4LCAzOS4yMjE2MThdLCBbLTc2LjU3OTQ2OSwgMzkuMjIxMzA1XSwgWy03Ni41NzkwNTIsIDM5LjIyMTI4NV0sIFstNzYuNTc4OTQ5LCAzOS4yMjEyMjZdLCBbLTc2LjU3ODc1MSwgMzkuMjIxMjddLCBbLTc2LjU3ODU5LCAzOS4yMjEyMDNdLCBbLTc2LjU3ODQ1NywgMzkuMjIxMjU2XSwgWy03Ni41NzgzMDEsIDM5LjIyMTIxMV0sIFstNzYuNTc4MjE0LCAzOS4yMjEyNDZdLCBbLTc2LjU3NzY2NiwgMzkuMjIxMjUzXSwgWy03Ni41Nzc4MDMsIDM5LjIyMTIwOV0sIFstNzYuNTc3OTY1LCAzOS4yMjEyXSwgWy03Ni41NzgwMTksIDM5LjIyMTAyNl0sIFstNzYuNTc4MDksIDM5LjIyMTA3XSwgWy03Ni41NzgxOTEsIDM5LjIyMTA3N10sIFstNzYuNTc4MzA4LCAzOS4yMjExMTFdLCBbLTc2LjU3ODQzOSwgMzkuMjIxMTAxXSwgWy03Ni41Nzg1MTEsIDM5LjIyMTAyM10sIFstNzYuNTc4NTYzLCAzOS4yMjEwMjFdLCBbLTc2LjU3ODY0NCwgMzkuMjIxMDM2XSwgWy03Ni41Nzg3MjksIDM5LjIyMTAxOV0sIFstNzYuNTc4ODY1LCAzOS4yMjEwMDRdLCBbLTc2LjU3OTA1MSwgMzkuMjIxMDEyXSwgWy03Ni41NzkwNTUsIDM5LjIyMDc5NV0sIFstNzYuNTc5MDI1LCAzOS4yMjA3NDldLCBbLTc2LjU3OTAxNywgMzkuMjIwNjY1XSwgWy03Ni41Nzg3MTgsIDM5LjIyMDY0OV0sIFstNzYuNTc4Njg5LCAzOS4yMTg5MzVdLCBbLTc2LjU3OTc3NiwgMzkuMjE4ODZdLCBbLTc2LjU3OTY0NiwgMzkuMjE4MzA4XSwgWy03Ni41Nzk2NTYsIDM5LjIxODI5OF0sIFstNzYuNTc5NDg2LCAzOS4yMTc4NzddLCBbLTc2LjU3OTQ1NywgMzkuMjE3NzY4XSwgWy03Ni41NzkzMDksIDM5LjIxNzQ5N10sIFstNzYuNTc5Mjk0LCAzOS4yMTczODNdLCBbLTc2LjU3OTIwOSwgMzkuMjE3MzZdLCBbLTc2LjU3OTIxNiwgMzkuMjE3Mjc2XSwgWy03Ni41NzkwOSwgMzkuMjE3MTE2XSwgWy03Ni41NzkwMjYsIDM5LjIxNzA0OF0sIFstNzYuNTc4Nzg4LCAzOS4yMTY1NjFdLCBbLTc2LjU3ODU3NSwgMzkuMjE2MTQyXSwgWy03Ni41Nzg1MjgsIDM5LjIxNTk3Ml0sIFstNzYuNTc4NTI5LCAzOS4yMTU3OThdLCBbLTc2LjU3ODYwMSwgMzkuMjE1Njk3XSwgWy03Ni41Nzg3MjUsIDM5LjIxNTY1OV0sIFstNzYuNTc4ODYxLCAzOS4yMTU2ODJdLCBbLTc2LjU3OTEwNSwgMzkuMjE1Nzc3XSwgWy03Ni41NzkyNTQsIDM5LjIxNTg1M10sIFstNzYuNTc5MzY0LCAzOS4yMTU5M10sIFstNzYuNTc5NTgxLCAzOS4yMTYxNDZdLCBbLTc2LjU3OTY1OSwgMzkuMjE2MTY5XSwgWy03Ni41Nzk3MDEsIDM5LjIxNjIwMl0sIFstNzYuNTc5ODQ4LCAzOS4yMTYxNzddLCBbLTc2LjU4MDE0MiwgMzkuMjE2MDkyXSwgWy03Ni41ODAyLCAzOS4yMTYwNTldLCBbLTc2LjU4MDI2NSwgMzkuMjE2MDYyXSwgWy03Ni41ODAzODUsIDM5LjIxNjE0OV0sIFstNzYuNTgwNTY3LCAzOS4yMTYxODVdLCBbLTc2LjU4MDcwMywgMzkuMjE2MjY0XSwgWy03Ni41ODA3NjIsIDM5LjIxNjM3OV0sIFstNzYuNTgwODA2LCAzOS4yMTY0MjRdLCBbLTc2LjU4MDg0OCwgMzkuMjE2NTZdLCBbLTc2LjU4MDkyOSwgMzkuMjE2NjAxXSwgWy03Ni41ODEwMjYsIDM5LjIxNjYxOV0sIFstNzYuNTgxMDkzLCAzOS4yMTY2MDhdLCBbLTc2LjU4MTE3LCAzOS4yMTY2M10sIFstNzYuNTgxNDMsIDM5LjIxNjU1Ml0sIFstNzYuNTgxODE2LCAzOS4yMTYzNjFdLCBbLTc2LjU4MTk1NiwgMzkuMjE2MjUzXSwgWy03Ni41ODIzMTksIDM5LjIxNjEyNF0sIFstNzYuNTgyNDIzLCAzOS4yMTYwNzRdLCBbLTc2LjU4MjQ0MywgMzkuMjE1OTJdLCBbLTc2LjU4MjYxOSwgMzkuMjE1ODgzXSwgWy03Ni41ODI3MDMsIDM5LjIxNTkwMV0sIFstNzYuNTgyOTAyLCAzOS4yMTU4ODddLCBbLTc2LjU4Mjg5NiwgMzkuMjE1ODUxXSwgWy03Ni41ODE1NzQsIDM5LjIxNTkwNV0sIFstNzYuNTgxNTcxLCAzOS4yMTU4MDldLCBbLTc2LjU4MzY1NSwgMzkuMjE1NzA1XSwgWy03Ni41ODM2NjgsIDM5LjIxNTc0M10sIFstNzYuNTgzNjQyLCAzOS4yMTU3N10sIFstNzYuNTgzNzE2LCAzOS4yMTU4MTZdLCBbLTc2LjU4Mzc0NiwgMzkuMjE1NzkxXSwgWy03Ni41ODQwMDYsIDM5LjIxNTc2XSwgWy03Ni41ODQyMzcsIDM5LjIxNTc1N10sIFstNzYuNTg0Mzk3LCAzOS4yMTU3MTVdLCBbLTc2LjU4NDYzMywgMzkuMjE1NDM1XSwgWy03Ni41ODQ2MjksIDM5LjIxNTQyMl0sIFstNzYuNTg0ODI2LCAzOS4yMTUxNzJdLCBbLTc2LjU4NDkzNCwgMzkuMjE1MTY2XSwgWy03Ni41ODQ5NjYsIDM5LjIxNTE4OF0sIFstNzYuNTg1MzE4LCAzOS4yMTUxNjFdLCBbLTc2LjU4NTQ2OCwgMzkuMjE1MTM2XSwgWy03Ni41ODYxMDMsIDM5LjIxNTEwMV0sIFstNzYuNTg2MzIxLCAzOS4yMTUwNTZdLCBbLTc2LjU4NjUyLCAzOS4yMTUwMzFdLCBbLTc2LjU4NjY3OSwgMzkuMjE0OTczXSwgWy03Ni41ODY3NDQsIDM5LjIxNDk2NF0sIFstNzYuNTg2Nzg3LCAzOS4yMTQ5MzNdLCBbLTc2LjU4Njg3NSwgMzkuMjE0OTI5XSwgWy03Ni41ODY4ODksIDM5LjIxNDgxMl0sIFstNzYuNTg2OTQ0LCAzOS4yMTQ3MjldLCBbLTc2LjU4NzExMSwgMzkuMjE0NjM2XSwgWy03Ni41ODcxNzYsIDM5LjIxNDU2OF0sIFstNzYuNTg3MTk2LCAzOS4yMTQ0OTRdLCBbLTc2LjU4NzE1OCwgMzkuMjE0NDMxXSwgWy03Ni41ODcxNjQsIDM5LjIxNDRdLCBbLTc2LjU4NzIxNiwgMzkuMjE0MzkzXSwgWy03Ni41ODcyNTQsIDM5LjIxNDM0Nl0sIFstNzYuNTg3MzE1LCAzOS4yMTQzXSwgWy03Ni41ODczNDEsIDM5LjIxNDI0NF0sIFstNzYuNTg3NDEyLCAzOS4yMTQyMjNdLCBbLTc2LjU4NzM0NSwgMzkuMjEzNTQyXSwgWy03Ni41ODc0NTksIDM5LjIxMzQ4Ml1dXSwgW1tbLTc2LjYyNzg5MiwgMzkuMjg4OThdLCBbLTc2LjYyNzgxNywgMzkuMjg4NTg4XSwgWy03Ni42Mjc5MDgsIDM5LjI4ODI1MV0sIFstNzYuNjI3OTc3LCAzOS4yODc5MzFdLCBbLTc2LjYyNzk3MywgMzkuMjg3NDg2XSwgWy03Ni42Mjc5NDIsIDM5LjI4NzEzNl0sIFstNzYuNjI3NjY5LCAzOS4yODcyXSwgWy03Ni42Mjc2OTgsIDM5LjI4Njk4OF0sIFstNzYuNjI3MTUxLCAzOS4yODYwMTJdLCBbLTc2LjYyNTY2NywgMzkuMjg2MDgxXSwgWy03Ni42MjM0NDYsIDM5LjI4NjE3Nl0sIFstNzYuNjIzNTA0LCAzOS4yODczNjJdLCBbLTc2LjYyMjEwOCwgMzkuMjg3NDMxXSwgWy03Ni42MjIwMDIsIDM5LjI4NjI3Ml0sIFstNzYuNjIxOTg2LCAzOS4yODU4NDhdLCBbLTc2LjYyMjA1MiwgMzkuMjg1NTgxXSwgWy03Ni42MjIzNSwgMzkuMjg1Mjk3XSwgWy03Ni42MjIyNDEsIDM5LjI4NTIwNl0sIFstNzYuNjIyMTE3LCAzOS4yODUxMjddLCBbLTc2LjYyMDQ4MSwgMzkuMjg1MTU5XSwgWy03Ni42MTg4NjUsIDM5LjI4NTIxNV0sIFstNzYuNjE3MzIyLCAzOS4yODUzMzhdLCBbLTc2LjYxNzM4NiwgMzkuMjg1MDE3XSwgWy03Ni42MTc1NzMsIDM5LjI4NDY2N10sIFstNzYuNjE3NjE4LCAzOS4yODM5NzZdLCBbLTc2LjYxNzM3MSwgMzkuMjgzODc2XSwgWy03Ni42MTY0NDcsIDM5LjI4NDAwN10sIFstNzYuNjE1NzYxLCAzOS4yODM5MTVdLCBbLTc2LjYxNDY1NywgMzkuMjg0MDQ4XSwgWy03Ni42MTMxNTQsIDM5LjI4NDEzN10sIFstNzYuNjEyODMsIDM5LjI4NDE0OF0sIFstNzYuNjEyNzA1LCAzOS4yODIxMjldLCBbLTc2LjYxMjY2MSwgMzkuMjgwNTI3XSwgWy03Ni42MTI1NTUsIDM5LjI4MDQ0N10sIFstNzYuNjExMjExLCAzOS4yODA1NDZdLCBbLTc2LjYxMDUxNywgMzkuMjgwNTZdLCBbLTc2LjYwOTgxNCwgMzkuMjgwNjI5XSwgWy03Ni42MDc1MjksIDM5LjI4MDY2N10sIFstNzYuNjA3MDQ0LCAzOS4yODA2NDVdLCBbLTc2LjYwNjkwOCwgMzkuMjgwNDk2XSwgWy03Ni42MDY2NTksIDM5LjI3OTg3N10sIFstNzYuNjA2NTU0LCAzOS4yNzk4OTRdLCBbLTc2LjYwNjUzNywgMzkuMjc5ODEzXSwgWy03Ni42MDYzNDEsIDM5LjI3OTgyMl0sIFstNzYuNjA1MTMsIDM5LjI4MDI0Ml0sIFstNzYuNjA1MTYsIDM5LjI4MDE1MV0sIFstNzYuNjA1MTYxLCAzOS4yODAwNThdLCBbLTc2LjYwNTE4NywgMzkuMjc5ODc3XSwgWy03Ni42MDU5MzUsIDM5LjI3OTYzMV0sIFstNzYuNjA1OTA2LCAzOS4yNzkxODddLCBbLTc2LjYwNDMwNCwgMzkuMjc5MzQ3XSwgWy03Ni42MDQyOTksIDM5LjI3OTI2XSwgWy03Ni42MDU3OTQsIDM5LjI3OTExM10sIFstNzYuNjA1ODk1LCAzOS4yNzkwNV0sIFstNzYuNjA1OTI3LCAzOS4yNzg4MzZdLCBbLTc2LjYwNTg4NSwgMzkuMjc4NjAxXSwgWy03Ni42MDU4NDEsIDM5LjI3ODUzM10sIFstNzYuNjAzOTQyLCAzOS4yNzg3MjJdLCBbLTc2LjYwMzkyLCAzOS4yNzg2MDZdLCBbLTc2LjYwNTM4NCwgMzkuMjc4NDZdLCBbLTc2LjYwNTM0MSwgMzkuMjc4MTc1XSwgWy03Ni42MDU2NTIsIDM5LjI3ODE0N10sIFstNzYuNjA1NjQyLCAzOS4yNzgwNzZdLCBbLTc2LjYwNTcxNSwgMzkuMjc4MDcxXSwgWy03Ni42MDU3MDgsIDM5LjI3ODAxM10sIFstNzYuNjA1NzQ0LCAzOS4yNzc5NzNdLCBbLTc2LjYwNTczLCAzOS4yNzc5MDVdLCBbLTc2LjYwNTY4MiwgMzkuMjc3ODddLCBbLTc2LjYwNTY3NCwgMzkuMjc3ODIyXSwgWy03Ni42MDU2MDgsIDM5LjI3NzgyNV0sIFstNzYuNjA1NTk0LCAzOS4yNzc3NjJdLCBbLTc2LjYwMzMzOCwgMzkuMjc3OTkxXSwgWy03Ni42MDMzMDIsIDM5LjI3Nzk2XSwgWy03Ni42MDMyOTksIDM5LjI3Nzg3Nl0sIFstNzYuNjAzNDI1LCAzOS4yNzc4NDZdLCBbLTc2LjYwMzQ0LCAzOS4yNzc4MDRdLCBbLTc2LjYwMzcwNiwgMzkuMjc3NzY2XSwgWy03Ni42MDM4NjYsIDM5LjI3NzcyMl0sIFstNzYuNjAzODA4LCAzOS4yNzczMTJdLCBbLTc2LjYwNDY1NCwgMzkuMjc3MjE1XSwgWy03Ni42MDQ1NjYsIDM5LjI3NjYwNV0sIFstNzYuNjA0MzE2LCAzOS4yNzY2MDVdLCBbLTc2LjYwNDQxOSwgMzkuMjc2NTA0XSwgWy03Ni42MDQzNTYsIDM5LjI3NjQ1NV0sIFstNzYuNjA0NDAxLCAzOS4yNzY0MDVdLCBbLTc2LjYwNDM2NywgMzkuMjc2MTNdLCBbLTc2LjYwNDI5NCwgMzkuMjc2MTM3XSwgWy03Ni42MDQyNzcsIDM5LjI3NTk0Nl0sIFstNzYuNjA0MzQxLCAzOS4yNzU5MThdLCBbLTc2LjYwNDMyMywgMzkuMjc1ODE5XSwgWy03Ni42MDQ0MTIsIDM5LjI3NTc5M10sIFstNzYuNjA0MzQ2LCAzOS4yNzU0MTNdLCBbLTc2LjYwMzQ4MiwgMzkuMjc1NDk5XSwgWy03Ni42MDMzNzIsIDM5LjI3NDkxNl0sIFstNzYuNjAxNjgsIDM5LjI3NTA5Nl0sIFstNzYuNjAxNjgsIDM5LjI3NDk5OV0sIFstNzYuNjAyMDExLCAzOS4yNzQ2ODJdLCBbLTc2LjYwMTM4OCwgMzkuMjc0NDMzXSwgWy03Ni42MDEwODIsIDM5LjI3NDQzMl0sIFstNzYuNjAwNjc0LCAzOS4yNzQyNDVdLCBbLTc2LjYwMDU1OSwgMzkuMjc0NDNdLCBbLTc2LjYwMDM1MiwgMzkuMjc0Mzk1XSwgWy03Ni41OTk5MzYsIDM5LjI3NDIyNV0sIFstNzYuNTk5NDgzLCAzOS4yNzQwNzNdLCBbLTc2LjU5OTgzOSwgMzkuMjczNDA0XSwgWy03Ni41OTg5NzcsIDM5LjI3MzExOV0sIFstNzYuNTk4NDk2LCAzOS4yNzM4OTRdLCBbLTc2LjU5NzgzOSwgMzkuMjczNjI3XSwgWy03Ni41OTc3MjgsIDM5LjI3MzU0N10sIFstNzYuNTk3NDIxLCAzOS4yNzMzNl0sIFstNzYuNTk3MDgxLCAzOS4yNzMyNzFdLCBbLTc2LjU5NjgxNywgMzkuMjczNzJdLCBbLTc2LjU5NjcxNCwgMzkuMjczODddLCBbLTc2LjU5NjM2MiwgMzkuMjczOTgzXSwgWy03Ni41OTY0NCwgMzkuMjc0MTQyXSwgWy03Ni41OTYzMjYsIDM5LjI3NDIxM10sIFstNzYuNTk2NTYzLCAzOS4yNzQ1NThdLCBbLTc2LjU5NjA1MSwgMzkuMjc0NzVdLCBbLTc2LjU5NjE5NywgMzkuMjc0OTg5XSwgWy03Ni41OTMwNDUsIDM5LjI3NjI2Nl0sIFstNzYuNTkyOTU1LCAzOS4yNzYxNzddLCBbLTc2LjU5NDI5NywgMzkuMjc1NjM1XSwgWy03Ni41OTQxODUsIDM5LjI3NTQ0OV0sIFstNzYuNTk0NDEzLCAzOS4yNzUzMjddLCBbLTc2LjU5NDMsIDM5LjI3NTIyXSwgWy03Ni41OTM1MTQsIDM5LjI3NTU1M10sIFstNzYuNTkyNTk3LCAzOS4yNzUyMjNdLCBbLTc2LjU5MjA0NiwgMzkuMjc2MjAxXSwgWy03Ni41OTA1OTUsIDM5LjI3NTk0OV0sIFstNzYuNTkwNzQ0LCAzOS4yNzU2NzZdLCBbLTc2LjU5MDE1NCwgMzkuMjc1NTA2XSwgWy03Ni41OTAwMDcsIDM5LjI3NTYyM10sIFstNzYuNTg5ODI0LCAzOS4yNzU2MjhdLCBbLTc2LjU4OTY5OSwgMzkuMjc1NzY5XSwgWy03Ni41ODkzOTIsIDM5LjI3NTcxNV0sIFstNzYuNTg5MTc4LCAzOS4yNzU1NjRdLCBbLTc2LjU4OTQxOSwgMzkuMjc1MDQ1XSwgWy03Ni41ODg4OTksIDM5LjI3NDYyOF0sIFstNzYuNTg4NTksIDM5LjI3NTE4M10sIFstNzYuNTg4NDU0LCAzOS4yNzUxMDNdLCBbLTc2LjU4OTQzLCAzOS4yNzMyMjddLCBbLTc2LjU4OTI3MywgMzkuMjcyOV0sIFstNzYuNTg4OTMzLCAzOS4yNzI4MDJdLCBbLTc2LjU4ODY4LCAzOS4yNzMyNzddLCBbLTc2LjU4ODUzMywgMzkuMjczMjMzXSwgWy03Ni41ODgxNDcsIDM5LjI3MzE1Ml0sIFstNzYuNTg3NTM1LCAzOS4yNzI5NTZdLCBbLTc2LjU4NzMyLCAzOS4yNzI4NDldLCBbLTc2LjU4NzI5OCwgMzkuMjcyNjldLCBbLTc2LjU4Nzg4NCwgMzkuMjcxNjI0XSwgWy03Ni41ODY2MDMsIDM5LjI3MTI0OV0sIFstNzYuNTg1NDIyLCAzOS4yNzMyOTJdLCBbLTc2LjU4NTI0MSwgMzkuMjczMTU5XSwgWy03Ni41ODY2NzUsIDM5LjI3MDY2N10sIFstNzYuNTg2MDY0LCAzOS4yNzAyMDZdLCBbLTc2LjU4NDY5OSwgMzkuMjcyNTkzXSwgWy03Ni41ODQwODcsIDM5LjI3MjQyM10sIFstNzYuNTg1NTU0LCAzOS4yNzAwMjhdLCBbLTc2LjU4NTE1OCwgMzkuMjY5ODg1XSwgWy03Ni41ODUyNjIsIDM5LjI2OTY0N10sIFstNzYuNTg0OTM0LCAzOS4yNjk0MDhdLCBbLTc2LjU4MzA1NSwgMzkuMjcyMzc1XSwgWy03Ni41ODIwMjYsIDM5LjI3MTY0OF0sIFstNzYuNTgzOTA1LCAzOS4yNjg2NjNdLCBbLTc2LjU4MzE3LCAzOS4yNjgxMDVdLCBbLTc2LjU4MTI1NywgMzkuMjcxMDhdLCBbLTc2LjU4MDU5MSwgMzkuMjcwNTk1XSwgWy03Ni41ODI1MDQsIDM5LjI2NzUyXSwgWy03Ni41ODI2NzUsIDM5LjI2NzQwNl0sIFstNzYuNTgyMTU0LCAzOS4yNjcyMDFdLCBbLTc2LjU4MDY5OSwgMzkuMjY5NTc4XSwgWy03Ni41ODA1NjMsIDM5LjI2OTUwN10sIFstNzYuNTgxMTcxLCAzOS4yNjg0NDJdLCBbLTc2LjU4MTA4MSwgMzkuMjY4MjY1XSwgWy03Ni41ODA4MiwgMzkuMjY4MTY3XSwgWy03Ni41ODA3NCwgMzkuMjY4MjM3XSwgWy03Ni41ODA1ODIsIDM5LjI2ODE5M10sIFstNzYuNTgwNDU2LCAzOS4yNjgzNDJdLCBbLTc2LjU4MDM2NiwgMzkuMjY4MjhdLCBbLTc2LjU4MDQzNSwgMzkuMjY4MTM5XSwgWy03Ni41ODAxOTcsIDM5LjI2ODA1OV0sIFstNzYuNTgwNjIxLCAzOS4yNjczNDZdLCBbLTc2LjU4MDMxNywgMzkuMjY2OTkyXSwgWy03Ni41NzgwNTQsIDM5LjI2NTYyNV0sIFstNzYuNTc3NTg1LCAzOS4yNjQ0MzJdLCBbLTc2LjU3NzQ4NywgMzkuMjYzODk5XSwgWy03Ni41Nzc1OTksIDM5LjI2MzU5OV0sIFstNzYuNTc4MTYzLCAzOS4yNjI2MzRdLCBbLTc2LjU3ODkxOCwgMzkuMjYxNjg0XSwgWy03Ni41Nzk2MTIsIDM5LjI2MTI4OV0sIFstNzYuNTgwMDEsIDM5LjI2MTI5XSwgWy03Ni41ODAyMTQsIDM5LjI2MTMyNl0sIFstNzYuNTgwNDU1LCAzOS4yNjEzNzVdLCBbLTc2LjU4MDg5MSwgMzkuMjYxOTI5XSwgWy03Ni41ODE3MDMsIDM5LjI2Mjg5NF0sIFstNzYuNTgyNzIxLCAzOS4yNjM1NV0sIFstNzYuNTgzMDI4LCAzOS4yNjMzNzVdLCBbLTc2LjU4NDI0LCAzOS4yNjE4NzldLCBbLTc2LjU4NDU0NywgMzkuMjYxODE4XSwgWy03Ni41ODU0NTIsIDM5LjI2MjIxOV0sIFstNzYuNTg1NzM3LCAzOS4yNjIwNDNdLCBbLTc2LjU4NjE2MSwgMzkuMjYxNDQ1XSwgWy03Ni41ODYyMDcsIDM5LjI2MTI3N10sIFstNzYuNTg2ODQzLCAzOS4yNjExODJdLCBbLTc2LjU4ODM2NCwgMzkuMjYxMjU4XSwgWy03Ni41ODg1NTYsIDM5LjI2MTMyMV0sIFstNzYuNTg3NjE2LCAzOS4yNjI5NDFdLCBbLTc2LjU4ODQwOSwgMzkuMjYzMjA4XSwgWy03Ni41ODk2NDgsIDM5LjI2MTA1MV0sIFstNzYuNTkyMDA0LCAzOS4yNjE4ODldLCBbLTc2LjU5NDI5MSwgMzkuMjYyNjk0XSwgWy03Ni41OTYyODQsIDM5LjI2MzM4N10sIFstNzYuNTk3MDg0LCAzOS4yNjM1NDRdLCBbLTc2LjU5OTYzMiwgMzkuMjY0MDYzXSwgWy03Ni42MDAzNzYsIDM5LjI2NDIwN10sIFstNzYuNTk4ODUzLCAzOS4yNjIxOTZdLCBbLTc2LjU5OTUyOCwgMzkuMjYxODY3XSwgWy03Ni42MDI1ODMsIDM5LjI2NTkxNF0sIFstNzYuNjAyNzcxLCAzOS4yNjU4NTVdLCBbLTc2LjYwMzgwOCwgMzkuMjY1MDAzXSwgWy03Ni42MDQ1MjcsIDM5LjI2NDQ1Nl0sIFstNzYuNjA0MjcyLCAzOS4yNjQyNzZdLCBbLTc2LjYwNDM0LCAzOS4yNjQyNDNdLCBbLTc2LjYwMDgwOSwgMzkuMjYxNDA4XSwgWy03Ni42MDA5ODEsIDM5LjI2MTI2OV0sIFstNzYuNjA0NzQxLCAzOS4yNjQyODRdLCBbLTc2LjYwNDg4NCwgMzkuMjY0MTddLCBbLTc2LjYwNDkyLCAzOS4yNjQyMTJdLCBbLTc2LjYwNTIxMiwgMzkuMjYzOTgxXSwgWy03Ni42MDI4NDQsIDM5LjI2MjA0NF0sIFstNzYuNjAzMjE2LCAzOS4yNjE3NTVdLCBbLTc2LjYwNDIzOSwgMzkuMjYyNTY2XSwgWy03Ni42MDU1OTcsIDM5LjI2MzY3N10sIFstNzYuNjA2MjIyLCAzOS4yNjMxNjldLCBbLTc2LjYwNjM4NCwgMzkuMjYzMjM2XSwgWy03Ni42MDY1NjQsIDM5LjI2MzA1MV0sIFstNzYuNjA2NDk2LCAzOS4yNjI5NjRdLCBbLTc2LjYwNjQ5LCAzOS4yNjI2MTNdLCBbLTc2LjYwNjYyOCwgMzkuMjYyMjYyXSwgWy03Ni42MDY3OSwgMzkuMjYyMjE2XSwgWy03Ni42MDcyMTYsIDM5LjI2MjMxN10sIFstNzYuNjA3NDY0LCAzOS4yNjIyNDVdLCBbLTc2LjYwNzY1OSwgMzkuMjYyMjc5XSwgWy03Ni42MDc4NjQsIDM5LjI2MjI2XSwgWy03Ni42MDgyMjQsIDM5LjI2MjAwM10sIFstNzYuNjA2OTg0LCAzOS4yNjA5OTldLCBbLTc2LjYwNDkwNSwgMzkuMjU5MzI3XSwgWy03Ni42MDUwMjUsIDM5LjI1OTIwOF0sIFstNzYuNjA1NTM0LCAzOS4yNTk2MjFdLCBbLTc2LjYwNTcxNCwgMzkuMjU5NTIyXSwgWy03Ni42MDU3OTEsIDM5LjI1OTQwM10sIFstNzYuNjA2MDA1LCAzOS4yNTkzNDRdLCBbLTc2LjYwNjE0MSwgMzkuMjU5MzY5XSwgWy03Ni42MDYzMjksIDM5LjI1OTM1Ml0sIFstNzYuNjA2NDg4LCAzOS4yNTkxMDddLCBbLTc2LjYwNjU3OCwgMzkuMjU4OTc1XSwgWy03Ni42MDY0NjksIDM5LjI1ODY3Nl0sIFstNzYuNjA2NDk1LCAzOS4yNTg2MV0sIFstNzYuNjA2NTg5LCAzOS4yNTg2MV0sIFstNzYuNjA2NTg5LCAzOS4yNTg1OV0sIFstNzYuNjA2NzE3LCAzOS4yNTg0OThdLCBbLTc2LjYwNjg3LCAzOS4yNTg1NzhdLCBbLTc2LjYwNzA1LCAzOS4yNTg0ODZdLCBbLTc2LjYwNzA1OSwgMzkuMjU4Mjc0XSwgWy03Ni42MDcwOTUsIDM5LjI1ODA1NV0sIFstNzYuNjA3MjQ5LCAzOS4yNTc5MzZdLCBbLTc2LjYwNzM1MSwgMzkuMjU3NzI3XSwgWy03Ni42MDczMTEsIDM5LjI1NzUyNl0sIFstNzYuNjA3NDMsIDM5LjI1NzQ2Nl0sIFstNzYuNjA3NzksIDM5LjI1NzEyOV0sIFstNzYuNjA3ODMzLCAzOS4yNTcwNV0sIFstNzYuNjA3NzE0LCAzOS4yNTY5N10sIFstNzYuNjA3ODA4LCAzOS4yNTY5MTddLCBbLTc2LjYwODU2LCAzOS4yNTY3MDhdLCBbLTc2LjYwOTA4OSwgMzkuMjU2NTY0XSwgWy03Ni42MDkyNjksIDM5LjI1NjQ0XSwgWy03Ni42MDk2MDIsIDM5LjI1NjMzNF0sIFstNzYuNjEwMTkyLCAzOS4yNTU5NTFdLCBbLTc2LjYxMDQ5OCwgMzkuMjU2MTExXSwgWy03Ni42MTA1MjMsIDM5LjI1NjMyM10sIFstNzYuNjEwNDE4LCAzOS4yNTY3MjddLCBbLTc2LjYxMDM0OCwgMzkuMjU3MTkxXSwgWy03Ni42MTA2MSwgMzkuMjU3NTQzXSwgWy03Ni42MTA3NTQsIDM5LjI1NzYzXSwgWy03Ni42MTA4MzksIDM5LjI1NzgyOV0sIFstNzYuNjExMDE3LCAzOS4yNTc5MzZdLCBbLTc2LjYxMTE5NiwgMzkuMjU3ODc3XSwgWy03Ni42MTEyNDcsIDM5LjI1ODAyOV0sIFstNzYuNjEyNzIxLCAzOS4yNTgxNF0sIFstNzYuNjEyOTI1LCAzOS4yNTgzMl0sIFstNzYuNjEzMDE3LCAzOS4yNTg1NTJdLCBbLTc2LjYxMzA3NSwgMzkuMjU4ODddLCBbLTc2LjYxMzEwNCwgMzkuMjU5MTk1XSwgWy03Ni42MTMxODksIDM5LjI1OTgyNV0sIFstNzYuNjEzMzM0LCAzOS4yNTk4MzJdLCBbLTc2LjYxMzQ3NSwgMzkuMjYwNTA5XSwgWy03Ni42MTM2MjksIDM5LjI2MDUyOV0sIFstNzYuNjEzODA3LCAzOS4yNjA2NDldLCBbLTc2LjYxNDE0OCwgMzkuMjYwNzAzXSwgWy03Ni42MTQxMywgMzkuMjYwNzk2XSwgWy03Ni42MTQ2ODQsIDM5LjI2MDkwNF0sIFstNzYuNjE1MjE5LCAzOS4yNTk3MTldLCBbLTc2LjYxNTM3NywgMzkuMjU5NzExXSwgWy03Ni42MTYzOTQsIDM5LjI1NzIwN10sIFstNzYuNjE2ODcyLCAzOS4yNTYxMDhdLCBbLTc2LjYxNjYyNSwgMzkuMjU1OTg3XSwgWy03Ni42MTYzNjMsIDM5LjI1NTc1Nl0sIFstNzYuNjE1OTQzLCAzOS4yNTU2NTNdLCBbLTc2LjYxNTM4MywgMzkuMjU1Mzc5XSwgWy03Ni42MTUxMjMsIDM5LjI1NDQ3N10sIFstNzYuNjE0NTk2LCAzOS4yNTM4NDJdLCBbLTc2LjYxNDA0NywgMzkuMjUzNzE4XSwgWy03Ni42MTM0MDQsIDM5LjI1Mjg2Ml0sIFstNzYuNjExNzIyLCAzOS4yNTAwMDJdLCBbLTc2LjYxMTgwNiwgMzkuMjQ4OTg3XSwgWy03Ni42MTE5NjYsIDM5LjI0ODY5XSwgWy03Ni42MTE5ODUsIDM5LjI0ODU2XSwgWy03Ni42MTE2MDUsIDM5LjI0ODA3MV0sIFstNzYuNjExNjI1LCAzOS4yNDc5NjRdLCBbLTc2LjYxMTcxMiwgMzkuMjQ3ODcxXSwgWy03Ni42MTE5OTksIDM5LjI0Nzc5XSwgWy03Ni42MTIxNzEsIDM5LjI0NzY5MV0sIFstNzYuNjEyNDIyLCAzOS4yNDc1OTNdLCBbLTc2LjYxMjY3OCwgMzkuMjQ3MzY0XSwgWy03Ni42MTMxMTIsIDM5LjI0NzEzN10sIFstNzYuNjEzMjIxLCAzOS4yNDY4ODZdLCBbLTc2LjYxMzQ1OCwgMzkuMjQ2NTUxXSwgWy03Ni42MTM3ODYsIDM5LjI0NTc3M10sIFstNzYuNjEzODI3LCAzOS4yNDU1MjJdLCBbLTc2LjYxMzk3NSwgMzkuMjQ1MjUxXSwgWy03Ni42MTM5ODcsIDM5LjI0NTA0MV0sIFstNzYuNjE0MTAyLCAzOS4yNDQ4OThdLCBbLTc2LjYxNDEyNiwgMzkuMjQ0NjkxXSwgWy03Ni42MTQyNjIsIDM5LjI0NDQ1Nl0sIFstNzYuNjE0NDk3LCAzOS4yNDM4MDVdLCBbLTc2LjYxNDcxMiwgMzkuMjQzMzcyXSwgWy03Ni42MTQ3MzgsIDM5LjI0MzEzN10sIFstNzYuNjE0ODYzLCAzOS4yNDI3OTNdLCBbLTc2LjYxNTAxNSwgMzkuMjQyMTM0XSwgWy03Ni42MTUyMDEsIDM5LjI0MTg0XSwgWy03Ni42MTUxNDMsIDM5LjI0MTY4MV0sIFstNzYuNjE1MjIzLCAzOS4yNDE0MjhdLCBbLTc2LjYxNTI4NywgMzkuMjQxMV0sIFstNzYuNjE1MzA0LCAzOS4yNDA5NjNdLCBbLTc2LjYxNTcwOCwgMzkuMjQwNDU3XSwgWy03Ni42MTU4MzcsIDM5LjI0MDM2OV0sIFstNzYuNjE1ODU2LCAzOS4yNDAyNzFdLCBbLTc2LjYxNTk5NiwgMzkuMjQwMDk1XSwgWy03Ni42MTYyMDMsIDM5LjIzOTk1OF0sIFstNzYuNjE2MzEyLCAzOS4yMzk3ODNdLCBbLTc2LjYxNjUsIDM5LjIzOTY1M10sIFstNzYuNjE4Njc4LCAzOS4yMzc0ODNdLCBbLTc2LjYyOTM0NSwgMzkuMjQyMTQ0XSwgWy03Ni42MzMyMzQsIDM5LjI0Mzg0M10sIFstNzYuNjQzOTYyLCAzOS4yNDg1MjNdLCBbLTc2LjY1OTg3OSwgMzkuMjU1NDc2XSwgWy03Ni42NTk2NTgsIDM5LjI1NTU5OV0sIFstNzYuNjU5MzgsIDM5LjI1NTcxNF0sIFstNzYuNjU4NTYyLCAzOS4yNTYyMjJdLCBbLTc2LjY1NjM4NiwgMzkuMjU3MTk2XSwgWy03Ni42NTM0MjYsIDM5LjI1ODA1XSwgWy03Ni42NTI1ODYsIDM5LjI1ODQ5NF0sIFstNzYuNjUxODUsIDM5LjI1ODg3NF0sIFstNzYuNjUwMDE4LCAzOS4yNjAyOV0sIFstNzYuNjQ2Nzc4LCAzOS4yNjI3NThdLCBbLTc2LjY0NjMyMiwgMzkuMjYzMTA2XSwgWy03Ni42NDQwODIsIDM5LjI2NDgxXSwgWy03Ni42NDM5ODEsIDM5LjI2NDg4OV0sIFstNzYuNjQ0MjczLCAzOS4yNjUwOTJdLCBbLTc2LjY0NDQwNCwgMzkuMjY1MTU3XSwgWy03Ni42NDQ0OTgsIDM5LjI2NTI4NF0sIFstNzYuNjQ0OTU5LCAzOS4yNjU2NDFdLCBbLTc2LjY0NTEyMSwgMzkuMjY1ODEzXSwgWy03Ni42NDUxNjcsIDM5LjI2NjA5MV0sIFstNzYuNjQ1MzE5LCAzOS4yNjcyNjldLCBbLTc2LjY0NTM4MSwgMzkuMjY3NDEyXSwgWy03Ni42NDUzOTEsIDM5LjI2NzUyN10sIFstNzYuNjQ1ODQ2LCAzOS4yNjc5NzddLCBbLTc2LjY0NjAxOSwgMzkuMjY4MDcyXSwgWy03Ni42NDYxMzQsIDM5LjI2ODIxMV0sIFstNzYuNjQ2OTE5LCAzOS4yNjg5NTNdLCBbLTc2LjY0NzM0OCwgMzkuMjY5NDI5XSwgWy03Ni42NDc0NjgsIDM5LjI2OTQ5XSwgWy03Ni42NDc1MTUsIDM5LjI2OTU3Nl0sIFstNzYuNjQ4MzU1LCAzOS4yNzAyMjZdLCBbLTc2LjY0ODI0MSwgMzkuMjcwMjQxXSwgWy03Ni42NDc4OTUsIDM5LjI3MDU1MV0sIFstNzYuNjQ3NjMyLCAzOS4yNzA3ODldLCBbLTc2LjY0ODE1NCwgMzkuMjcxMTY2XSwgWy03Ni42NDg1NjUsIDM5LjI3MTUyXSwgWy03Ni42NDk0NTgsIDM5LjI3MTgzNF0sIFstNzYuNjUxMDc0LCAzOS4yNzE5MDJdLCBbLTc2LjY1Mjc3LCAzOS4yNzI1NThdLCBbLTc2LjY1MzQwMiwgMzkuMjczMDM0XSwgWy03Ni42NTM3MTQsIDM5LjI3MzQ4Ml0sIFstNzYuNjUzOTIyLCAzOS4yNzQxMThdLCBbLTc2LjY1MzkyMiwgMzkuMjc0NTE0XSwgWy03Ni42NTQzMzgsIDM5LjI3NTA3XSwgWy03Ni42NTQ5NzEsIDM5LjI3NTQxOF0sIFstNzYuNjU0Mjk1LCAzOS4yNzY0MV0sIFstNzYuNjUzOTQ2LCAzOS4yNzY4NTJdLCBbLTc2LjY1MzUxOCwgMzkuMjc3MTIxXSwgWy03Ni42NTI1MTksIDM5LjI3NzY4M10sIFstNzYuNjUxNzYzLCAzOS4yNzc5NTZdLCBbLTc2LjY1MDk2OSwgMzkuMjc4MjE0XSwgWy03Ni42NTAxNTQsIDM5LjI3ODI3OV0sIFstNzYuNjQ5NDkyLCAzOS4yNzgzMjhdLCBbLTc2LjY0Nzc0LCAzOS4yNzg4MThdLCBbLTc2LjY0ODA1OCwgMzkuMjc5MzczXSwgWy03Ni42NDg4OTMsIDM5LjI4MDg0Ml0sIFstNzYuNjQ5NDM4LCAzOS4yODE4MThdLCBbLTc2LjY0OTY5NywgMzkuMjgyMzk1XSwgWy03Ni42NDk3MzgsIDM5LjI4MzAyXSwgWy03Ni42NDk4MTksIDM5LjI4NDYzN10sIFstNzYuNjQ5ODQxLCAzOS4yODQ3XSwgWy03Ni42NDk4MDcsIDM5LjI4NDc2OF0sIFstNzYuNjQ5ODI1LCAzOS4yODQ5NTJdLCBbLTc2LjY0OTg1NywgMzkuMjg1MDI0XSwgWy03Ni42NDk4MzEsIDM5LjI4NTEyN10sIFstNzYuNjQ5ODQxLCAzOS4yODU3MzFdLCBbLTc2LjY0ODUxMiwgMzkuMjg2MjAzXSwgWy03Ni42NDc3MDEsIDM5LjI4NjQ4Nl0sIFstNzYuNjQ2OTIxLCAzOS4yODY3MzNdLCBbLTc2LjY0Njc5OSwgMzkuMjg2Nzg5XSwgWy03Ni42NDY4NSwgMzkuMjg3NTg2XSwgWy03Ni42NDUyNjIsIDM5LjI4NzY2NF0sIFstNzYuNjQ1MTI5LCAzOS4yODc2NzddLCBbLTc2LjY0NTExLCAzOS4yODc0MTZdLCBbLTc2LjY0NTEyMywgMzkuMjg3MzgxXSwgWy03Ni42NDUxMjIsIDM5LjI4NzM0XSwgWy03Ni42NDM3NjIsIDM5LjI4Nzc5OV0sIFstNzYuNjQzMDY0LCAzOS4yODgwMzZdLCBbLTc2LjY0MjQ0LCAzOS4yODgyNDVdLCBbLTc2LjY0MjM2MywgMzkuMjg4MjgyXSwgWy03Ni42NDIzMzgsIDM5LjI4ODI1Nl0sIFstNzYuNjQyMzAxLCAzOS4yODc4OTRdLCBbLTc2LjY0MTAzMywgMzkuMjg3OTM5XSwgWy03Ni42NDA5NDIsIDM5LjI4Nzk1N10sIFstNzYuNjQwODQ0LCAzOS4yODc5NDddLCBbLTc2LjYzOTUyOSwgMzkuMjg4MDAyXSwgWy03Ni42MzgyNzMsIDM5LjI4ODA0NV0sIFstNzYuNjM4MTcsIDM5LjI4ODA2N10sIFstNzYuNjM4MDY5LCAzOS4yODgwNzldLCBbLTc2LjYzODA4NSwgMzkuMjg4NTI2XSwgWy03Ni42MzY2ODUsIDM5LjI4ODU4N10sIFstNzYuNjM2MDIzLCAzOS4yODg2MTVdLCBbLTc2LjYzMzc3NiwgMzkuMjg4NzE4XSwgWy03Ni42MzIxNDEsIDM5LjI4ODc4OV0sIFstNzYuNjMxNDA3LCAzOS4yODg4MjVdLCBbLTc2LjYyOTA0NywgMzkuMjg4OTI3XSwgWy03Ni42Mjg4OTMsIDM5LjI4ODk0M10sIFstNzYuNjI4Nzk4LCAzOS4yODg5MzhdLCBbLTc2LjYyNzg5MiwgMzkuMjg4OThdXSwgW1stNzYuNjIzNDg0LCAzOS4yNzQ0ODddLCBbLTc2LjYyMzYxMiwgMzkuMjc0MTldLCBbLTc2LjYyMzgyNiwgMzkuMjc0MDU5XSwgWy03Ni42MjQxMTUsIDM5LjI3NDA3NF0sIFstNzYuNjI0MzU0LCAzOS4yNzQwMTZdLCBbLTc2LjYyNDU4MiwgMzkuMjczNzA5XSwgWy03Ni42MjU0MDksIDM5LjI3NDIyXSwgWy03Ni42MjU1NTQsIDM5LjI3NDA4OV0sIFstNzYuNjI0ODAzLCAzOS4yNzM0OV0sIFstNzYuNjI0NzM1LCAzOS4yNzMzNjNdLCBbLTc2LjYyNDYxNiwgMzkuMjczMjk5XSwgWy03Ni42MjQzMDksIDM5LjI3Mjk4MV0sIFstNzYuNjI0MzczLCAzOS4yNzI4NTRdLCBbLTc2LjYyNDYzMSwgMzkuMjcyNzY3XSwgWy03Ni42MjQ3MDYsIDM5LjI3MjgyMV0sIFstNzYuNjI0ODAxLCAzOS4yNzI4MDZdLCBbLTc2LjYyNTM2OSwgMzkuMjcxNjk5XSwgWy03Ni42MjU1MDUsIDM5LjI3MTQ5NV0sIFstNzYuNjI1Njc2LCAzOS4yNzEzNDRdLCBbLTc2LjYyNjI5MywgMzkuMjcxNzQyXSwgWy03Ni42MjY0MjgsIDM5LjI3MTc1Ml0sIFstNzYuNjI2NDcsIDM5LjI3MTg1Nl0sIFstNzYuNjI3MTI5LCAzOS4yNzIyODFdLCBbLTc2LjYyNzIzLCAzOS4yNzIxODRdLCBbLTc2LjYyNTcwMywgMzkuMjcwOTg3XSwgWy03Ni42MjU5MzIsIDM5LjI3MDM4N10sIFstNzYuNjI2MDc1LCAzOS4yNzAyNjRdLCBbLTc2LjYyNjE2LCAzOS4yNzAwMjZdLCBbLTc2LjYyNjI4MSwgMzkuMjY5ODY1XSwgWy03Ni42MjYzNSwgMzkuMjY5ODEyXSwgWy03Ni42MjY0MzEsIDM5LjI2OTgyN10sIFstNzYuNjI2NzA4LCAzOS4yNzAwMjddLCBbLTc2LjYyNzAwMSwgMzkuMjcwMTldLCBbLTc2LjYyODgwMSwgMzkuMjcxNTQzXSwgWy03Ni42Mjk3NjgsIDM5LjI3MjI3NV0sIFstNzYuNjI5OTM5LCAzOS4yNzIxNDRdLCBbLTc2LjYyOTg3LCAzOS4yNzIwMDddLCBbLTc2LjYyOTYxNiwgMzkuMjcxNzkzXSwgWy03Ni42Mjk1MzksIDM5LjI3MTYzOV0sIFstNzYuNjI3MjY3LCAzOS4yNjk4ODNdLCBbLTc2LjYyNzA0MiwgMzkuMjY5NzA3XSwgWy03Ni42MjcwMTgsIDM5LjI2OTU0NV0sIFstNzYuNjI2ODIzLCAzOS4yNjk1MTZdLCBbLTc2LjYyNjU5NywgMzkuMjY5MzA1XSwgWy03Ni42MjY2MTcsIDM5LjI2OTExNF0sIFstNzYuNjI2NywgMzkuMjY4ODldLCBbLTc2LjYyNzE1MywgMzkuMjY4OTExXSwgWy03Ni42MjczNDcsIDM5LjI2OTAxNF0sIFstNzYuNjI3NzY4LCAzOS4yNjkwNTRdLCBbLTc2LjYyODM3LCAzOS4yNjkyMThdLCBbLTc2LjYyOTAxNywgMzkuMjY5MzMyXSwgWy03Ni42MjkyMTgsIDM5LjI2OTMyOF0sIFstNzYuNjI5NjgzLCAzOS4yNjkzNzhdLCBbLTc2LjYyOTc0NSwgMzkuMjY5NDI3XSwgWy03Ni42MzAwMjIsIDM5LjI2OTQyN10sIFstNzYuNjMwNDMsIDM5LjI2OTUyN10sIFstNzYuNjMwNjk0LCAzOS4yNjk1MzhdLCBbLTc2LjYzMDg5NywgMzkuMjY5NDgzXSwgWy03Ni42MzExMDIsIDM5LjI2OTUyOV0sIFstNzYuNjMxMzcyLCAzOS4yNjk1MjVdLCBbLTc2LjYzMTY2MiwgMzkuMjY5MzY1XSwgWy03Ni42MzE0ODEsIDM5LjI2OTEzXSwgWy03Ni42MzEyNywgMzkuMjY5MTU3XSwgWy03Ni42MzA2NzEsIDM5LjI2OTA1OV0sIFstNzYuNjMwMzk1LCAzOS4yNjg5OTRdLCBbLTc2LjYyOTk5MywgMzkuMjY4OTFdLCBbLTc2LjYyOTY0NywgMzkuMjY4ODVdLCBbLTc2LjYyOTM1MywgMzkuMjY4NzY2XSwgWy03Ni42MjgxNzcsIDM5LjI2ODU5NV0sIFstNzYuNjI2ODk2LCAzOS4yNjgzMjZdLCBbLTc2LjYyNjE2MSwgMzkuMjY4MjYzXSwgWy03Ni42MjU1MjEsIDM5LjI2ODM1NV0sIFstNzYuNjI0ODAzLCAzOS4yNjg4NDldLCBbLTc2LjYyNDQ0MSwgMzkuMjY5NDM1XSwgWy03Ni42MjM0NDEsIDM5LjI3MDg3MV0sIFstNzYuNjIyMTU3LCAzOS4yNzI5MDVdLCBbLTc2LjYyMTk5NSwgMzkuMjcyOTUxXSwgWy03Ni42MjIyNjYsIDM5LjI3MzEzXSwgWy03Ni42MjIzNzYsIDM5LjI3MzQzNl0sIFstNzYuNjIyMzMyLCAzOS4yNzM3MDddLCBbLTc2LjYyMjE1OSwgMzkuMjc0MTExXSwgWy03Ni42MjIyNjEsIDM5LjI3NDExMV0sIFstNzYuNjIyNDM0LCAzOS4yNzM2ODFdLCBbLTc2LjYyMjU3OSwgMzkuMjczNjIyXSwgWy03Ni42MjI5NTQsIDM5LjI3MzcyM10sIFstNzYuNjIzMjU3LCAzOS4yNzQ1MzJdLCBbLTc2LjYyMzQyNSwgMzkuMjc0NTkyXSwgWy03Ni42MjM0ODQsIDM5LjI3NDQ4N11dLCBbWy03Ni42MjE4NSwgMzkuMjcyNTU3XSwgWy03Ni42MjI3OTgsIDM5LjI3MDQ1M10sIFstNzYuNjIzMjM1LCAzOS4yNjk1ODVdLCBbLTc2LjYyMzg3OSwgMzkuMjY4ODM1XSwgWy03Ni42MjQyNTMsIDM5LjI2ODU5M10sIFstNzYuNjI0MDksIDM5LjI2ODMzOF0sIFstNzYuNjIzNzc2LCAzOS4yNjg1OF0sIFstNzYuNjIzMjIxLCAzOS4yNjkzNzddLCBbLTc2LjYyMjc2OSwgMzkuMjcwMjA5XSwgWy03Ni42MjE4MzUsIDM5LjI3MjI2N10sIFstNzYuNjIxNjY5LCAzOS4yNzI2MTRdLCBbLTc2LjYyMTc3OCwgMzkuMjcyODA1XSwgWy03Ni42MjE4NSwgMzkuMjcyNTU3XV0sIFtbLTc2LjYyMjcyNSwgMzkuMjY5MzY4XSwgWy03Ni42MjI3LCAzOS4yNjg4MjhdLCBbLTc2LjYyMjU1OSwgMzkuMjY4NDU3XSwgWy03Ni42MjIxNTksIDM5LjI2ODAwNl0sIFstNzYuNjIxMzU3LCAzOS4yNjc2NzhdLCBbLTc2LjYyMDYxMSwgMzkuMjY3NTc4XSwgWy03Ni42MjA4NDUsIDM5LjI2NzgzXSwgWy03Ni42MjEyMjksIDM5LjI2Nzc4NV0sIFstNzYuNjIxNjk3LCAzOS4yNjc4OTNdLCBbLTc2LjYyMTc4MiwgMzkuMjY4MDQ1XSwgWy03Ni42MjE4MjYsIDM5LjI2OTI2OF0sIFstNzYuNjIxODEsIDM5LjI2OTU2M10sIFstNzYuNjIxNjIsIDM5LjI2OTU5Nl0sIFstNzYuNjIxMzczLCAzOS4yNjk1ODhdLCBbLTc2LjYyMDQ1MiwgMzkuMjY5NTUyXSwgWy03Ni42MjAzODQsIDM5LjI2OTU3OF0sIFstNzYuNjIwNDM1LCAzOS4yNjk2MTJdLCBbLTc2LjYyMTgwMywgMzkuMjY5Njk2XSwgWy03Ni42MjE3OTEsIDM5LjI2OTkyOF0sIFstNzYuNjIxODgxLCAzOS4yNzAxNjddLCBbLTc2LjYyMTc3NSwgMzkuMjcwMjMzXSwgWy03Ni42MjE3NTQsIDM5LjI3MDYyM10sIFstNzYuNjIxNDgyLCAzOS4yNzEyMzldLCBbLTc2LjYyMTUxNywgMzkuMjcxMzg1XSwgWy03Ni42MjE0NjgsIDM5LjI3MTU5XSwgWy03Ni42MjE0NDgsIDM5LjI3MjEyN10sIFstNzYuNjIxMjY3LCAzOS4yNzI2NDhdLCBbLTc2LjYyMTQxNSwgMzkuMjcyNzA2XSwgWy03Ni42MjE2NzMsIDM5LjI3MTk2N10sIFstNzYuNjIyNzI1LCAzOS4yNjkzNjhdXSwgW1stNzYuNjI1ODY1LCAzOS4yNjc2MjNdLCBbLTc2LjYyNjI4OSwgMzkuMjY3NzExXSwgWy03Ni42MjYyNjUsIDM5LjI2NzgxOV0sIFstNzYuNjI2MzA1LCAzOS4yNjc3MTFdLCBbLTc2LjYyNTkxMSwgMzkuMjY3NjE4XSwgWy03Ni42MjU4NjUsIDM5LjI2NzYyM11dLCBbWy03Ni42MjQ1MzYsIDM5LjI2Nzc5Nl0sIFstNzYuNjI0MzM2LCAzOS4yNjc3NzFdLCBbLTc2LjYyNDM2MSwgMzkuMjY3OTA0XSwgWy03Ni42MjQ1MzYsIDM5LjI2Nzc5Nl1dLCBbWy03Ni42MjQ3NzgsIDM5LjI2NzldLCBbLTc2LjYyNDUyOSwgMzkuMjY4MDIyXSwgWy03Ni42MjQ1MzcsIDM5LjI2ODUxNV0sIFstNzYuNjI1MTYxLCAzOS4yNjgxNjZdLCBbLTc2LjYyNTI4NCwgMzkuMjY4MDRdLCBbLTc2LjYyNDc3OCwgMzkuMjY3OV1dLCBbWy03Ni42MjQwMzgsIDM5LjI2ODA0NF0sIFstNzYuNjIzOTY2LCAzOS4yNjc3MTJdLCBbLTc2LjYyMTc5NSwgMzkuMjY3NjExXSwgWy03Ni42MjE5NTcsIDM5LjI2NzY0NF0sIFstNzYuNjIyNDMsIDM5LjI2Nzg1Nl0sIFstNzYuNjIyNzgyLCAzOS4yNjgyMzJdLCBbLTc2LjYyMzAxNCwgMzkuMjY4Njc3XSwgWy03Ni42MjMwMjIsIDM5LjI2OTA4OF0sIFstNzYuNjIzMjk0LCAzOS4yNjg2OTZdLCBbLTc2LjYyMzcwMiwgMzkuMjY4MzA0XSwgWy03Ni42MjQwMzgsIDM5LjI2ODA0NF1dLCBbWy03Ni42MjMzMzMsIDM5LjI2OTk5NF0sIFstNzYuNjIyODEsIDM5LjI3MDk4MV0sIFstNzYuNjIzNzk3LCAzOS4yNjk1N10sIFstNzYuNjIzODkyLCAzOS4yNjkzNDJdLCBbLTc2LjYyMzMzMywgMzkuMjY5OTk0XV0sIFtbLTc2LjYyNDYwOSwgMzkuMjY3MzcxXSwgWy03Ni42MjQ1NDYsIDM5LjI2NzM2OF0sIFstNzYuNjI0NTc3LCAzOS4yNjc0MDddLCBbLTc2LjYyNTI4OSwgMzkuMjY3NTExXSwgWy03Ni42MjUzMTksIDM5LjI2NzUwNV0sIFstNzYuNjI1MzE3LCAzOS4yNjc1MDVdLCBbLTc2LjYyNDYwOSwgMzkuMjY3MzcxXV0sIFtbLTc2LjYyNDI0MSwgMzkuMjY3Mzc1XSwgWy03Ni42MjQyMiwgMzkuMjY3MzUyXSwgWy03Ni42MjE3MTMsIDM5LjI2NzIzMV0sIFstNzYuNjIxNTQ1LCAzOS4yNjcxMTFdLCBbLTc2LjYyMTYxNSwgMzkuMjY3MDQzXSwgWy03Ni42MjE1MTEsIDM5LjI2NzA1M10sIFstNzYuNjIxNTc3LCAzOS4yNjcyNTFdLCBbLTc2LjYyNDI0MSwgMzkuMjY3Mzc1XV0sIFtbLTc2LjYyMzg3NywgMzkuMjY3MTE5XSwgWy03Ni42MjM4NzgsIDM5LjI2NzExOV0sIFstNzYuNjIzNzI5LCAzOS4yNjcwMTldLCBbLTc2LjYyMzA5NywgMzkuMjY2OTAzXSwgWy03Ni42MjE4NTIsIDM5LjI2NzAyMV0sIFstNzYuNjIxODU1LCAzOS4yNjcwMjFdLCBbLTc2LjYyMzg3NywgMzkuMjY3MTE5XV0sIFtbLTc2LjYyMTIxNywgMzkuMjY2OTAzXSwgWy03Ni42MjE0OTcsIDM5LjI2NjgzMV0sIFstNzYuNjIzMDk3LCAzOS4yNjY2ODNdLCBbLTc2LjYyMzg1NywgMzkuMjY2ODIzXSwgWy03Ni42MjQzNTMsIDM5LjI2NzEyN10sIFstNzYuNjI0MzY1LCAzOS4yNjcxNDJdLCBbLTc2LjYyNDM2NiwgMzkuMjY3MTQyXSwgWy03Ni42MjQ2MzMsIDM5LjI2NzE1NV0sIFstNzYuNjI1NzY5LCAzOS4yNjcxMTldLCBbLTc2LjYyNTk2NywgMzkuMjY3MDkzXSwgWy03Ni42MjYxOCwgMzkuMjY3MDA5XSwgWy03Ni42MjYzNjQsIDM5LjI2NjgxXSwgWy03Ni42MjY0MTEsIDM5LjI2NjY5M10sIFstNzYuNjI2NjgsIDM5LjI2NjQ3NV0sIFstNzYuNjI2ODI4LCAzOS4yNjYzMTFdLCBbLTc2LjYyNjg3MSwgMzkuMjY1OTI0XSwgWy03Ni42MjY4MywgMzkuMjY1ODIxXSwgWy03Ni42MjY4OTcsIDM5LjI2NTY5Nl0sIFstNzYuNjI2OTkzLCAzOS4yNjU0NDZdLCBbLTc2LjYyNzE2MywgMzkuMjY1MTQ1XSwgWy03Ni42Mjc1NTYsIDM5LjI2NTA5Ml0sIFstNzYuNjI3NzM3LCAzOS4yNjQ4MDddLCBbLTc2LjYyODUwOCwgMzkuMjYzNjA2XSwgWy03Ni42Mjg4MDEsIDM5LjI2MzQ5M10sIFstNzYuNjI4OSwgMzkuMjYzMjUxXSwgWy03Ni42MjkwNzgsIDM5LjI2Mjc5Nl0sIFstNzYuNjI5MTk1LCAzOS4yNjI3NjZdLCBbLTc2LjYyOTE4NywgMzkuMjYyNTM5XSwgWy03Ni42Mjk1ODgsIDM5LjI2MjI3NV0sIFstNzYuNjI5NTk5LCAzOS4yNjIxMzFdLCBbLTc2LjYyOTQzMywgMzkuMjYyMDg1XSwgWy03Ni42MjkyMzksIDM5LjI2MTg3OV0sIFstNzYuNjI5NTc1LCAzOS4yNjExNTJdLCBbLTc2LjYyOTc1MiwgMzkuMjYwODQ5XSwgWy03Ni42Mjk5NjgsIDM5LjI2MDUwOV0sIFstNzYuNjMwMTk0LCAzOS4yNjAxODNdLCBbLTc2LjYzMDMyMywgMzkuMjU5ODEyXSwgWy03Ni42MzA0OSwgMzkuMjU5NjE1XSwgWy03Ni42MzA2MjcsIDM5LjI1OTU2M10sIFstNzYuNjMwNzkyLCAzOS4yNTk2MDldLCBbLTc2LjYzMDg2MSwgMzkuMjU5NTU2XSwgWy03Ni42MzEwODYsIDM5LjI1OTQwNV0sIFstNzYuNjMxMDY3LCAzOS4yNTkyNjhdLCBbLTc2LjYzMDk3LCAzOS4yNTkxODVdLCBbLTc2LjYzMDY0OCwgMzkuMjU5MTQ2XSwgWy03Ni42MzExNjYsIDM5LjI1OTAyNl0sIFstNzYuNjMwNDA2LCAzOS4yNTg4MjZdLCBbLTc2LjYzMDMwOCwgMzkuMjU4ODk0XSwgWy03Ni42Mjk5NjIsIDM5LjI1ODc1Nl0sIFstNzYuNjI5MzkzLCAzOS4yNTg2MTFdLCBbLTc2LjYyOTI0MSwgMzkuMjU4NTIzXSwgWy03Ni42Mjg5OTMsIDM5LjI1ODQxNV0sIFstNzYuNjI4ODg5LCAzOS4yNTgyNTldLCBbLTc2LjYyODc1MiwgMzkuMjU4MDg2XSwgWy03Ni42Mjg3MDQsIDM5LjI1Nzg1OF0sIFstNzYuNjI4NTU5LCAzOS4yNTc2NjhdLCBbLTc2LjYyODI1NywgMzkuMjU3NTUzXSwgWy03Ni42MjgyMDgsIDM5LjI1NzY0NF0sIFstNzYuNjI3OTgzLCAzOS4yNTc3NzJdLCBbLTc2LjYyNzU1MywgMzkuMjU3ODE2XSwgWy03Ni42MjcyNDIsIDM5LjI1NzU4OF0sIFstNzYuNjI3MjM0LCAzOS4yNTcyNTRdLCBbLTc2LjYyNzEzNywgMzkuMjU3MTRdLCBbLTc2LjYyNzA0MSwgMzkuMjU2ODUyXSwgWy03Ni42MjY3NTksIDM5LjI1NjcxNF0sIFstNzYuNjI2NjgxLCAzOS4yNTY3NzVdLCBbLTc2LjYyNTU4MywgMzkuMjU1OTQ0XSwgWy03Ni42MjU2NTIsIDM5LjI1NTc4NV0sIFstNzYuNjI1NDU3LCAzOS4yNTU2NzldLCBbLTc2LjYyNTI1MywgMzkuMjU1NjE3XSwgWy03Ni42MjQ4ODIsIDM5LjI1NTYxNl0sIFstNzYuNjI0NDQ1LCAzOS4yNTUyNThdLCBbLTc2LjYyNDE0MywgMzkuMjU1MTY2XSwgWy03Ni42MjM0OTksIDM5LjI1NTE0OV0sIFstNzYuNjIzMDg5LCAzOS4yNTUyNzVdLCBbLTc2LjYyMjI5OCwgMzkuMjU1NDMzXSwgWy03Ni42MjE3NTIsIDM5LjI1NTM3MV0sIFstNzYuNjIxMzQyLCAzOS4yNTU0ODNdLCBbLTc2LjYyMDgyOSwgMzkuMjU1NDg4XSwgWy03Ni42MjA1NjEsIDM5LjI1NTU4N10sIFstNzYuNjIwMzc2LCAzOS4yNTU1NDldLCBbLTc2LjYxOTg5OCwgMzkuMjU1NTYyXSwgWy03Ni42MTk2ODksIDM5LjI1NTUyN10sIFstNzYuNjE5MzcsIDM5LjI1NTY1OV0sIFstNzYuNjE4Njg3LCAzOS4yNTU4MzldLCBbLTc2LjYxODM4NCwgMzkuMjU1ODUzXSwgWy03Ni42MTgwNjIsIDM5LjI1NTk0M10sIFstNzYuNjE3NTgzLCAzOS4yNTYwNDhdLCBbLTc2LjYxNzM4OCwgMzkuMjU2MTM4XSwgWy03Ni42MTcxNzMsIDM5LjI1NjE1Ml0sIFstNzYuNjE2NzA1LCAzOS4yNTcyNzFdLCBbLTc2LjYxNTY3MywgMzkuMjU5NzExXSwgWy03Ni42MTU1NDMsIDM5LjI1OTc2N10sIFstNzYuNjE1NjcsIDM5LjI1OTg1M10sIFstNzYuNjE1MzI0LCAzOS4yNjA3OF0sIFstNzYuNjE1MjI3LCAzOS4yNjEzNjldLCBbLTc2LjYxNTQyMiwgMzkuMjYxNTk1XSwgWy03Ni42MTU2MzUsIDM5LjI2MTY0OV0sIFstNzYuNjE1OTg1LCAzOS4yNjEyMTVdLCBbLTc2LjYxNjA5NSwgMzkuMjYwOTcyXSwgWy03Ni42MTYxMjUsIDM5LjI2MDgxNl0sIFstNzYuNjE2MjExLCAzOS4yNjA3MTddLCBbLTc2LjYxNjI5NiwgMzkuMjYwNjk3XSwgWy03Ni42MTYyOTcsIDM5LjI2MDU4NF0sIFstNzYuNjE2MzgzLCAzOS4yNjA0NTJdLCBbLTc2LjYxNjY1NiwgMzkuMjYwNDc5XSwgWy03Ni42MTY5MDEsIDM5LjI2MDU2NV0sIFstNzYuNjE4NTg2LCAzOS4yNjEzNjFdLCBbLTc2LjYxODU2LCAzOS4yNjE0NjddLCBbLTc2LjYxODE0OCwgMzkuMjYxOTIzXSwgWy03Ni42MTg0NTIsIDM5LjI2MjU1M10sIFstNzYuNjE4MzgsIDM5LjI2MjY2NF0sIFstNzYuNjE4NCwgMzkuMjYyNzY1XSwgWy03Ni42MTgzMTEsIDM5LjI2Mjc3XSwgWy03Ni42MTgyMiwgMzkuMjYyOTFdLCBbLTc2LjYxODM0NywgMzkuMjYyOTddLCBbLTc2LjYxODUyOCwgMzkuMjYyNzE5XSwgWy03Ni42MTg4NDQsIDM5LjI2MjU5NF0sIFstNzYuNjE5MjU0LCAzOS4yNjI1NV0sIFstNzYuNjIwMDg5LCAzOS4yNjI1MzldLCBbLTc2LjYyMDQyOSwgMzkuMjYyNzY1XSwgWy03Ni42MjA5ODIsIDM5LjI2MzAxOV0sIFstNzYuNjIxMjUzLCAzOS4yNjMzNzddLCBbLTc2LjYyMTQzNywgMzkuMjYzOTQxXSwgWy03Ni42MjE0NzgsIDM5LjI2NDIwN10sIFstNzYuNjIxNDQzLCAzOS4yNjQ1MzhdLCBbLTc2LjYyMTc2NSwgMzkuMjY0ODQ0XSwgWy03Ni42MjE4NzMsIDM5LjI2NTAxOV0sIFstNzYuNjIxNzgsIDM5LjI2NTEyMl0sIFstNzYuNjIxNTQyLCAzOS4yNjUxNTVdLCBbLTc2LjYyMDk2MiwgMzkuMjY1MTRdLCBbLTc2LjYyMDc3NCwgMzkuMjY1MjM4XSwgWy03Ni42MjA2MSwgMzkuMjY1NjI5XSwgWy03Ni42MjA1NzMsIDM5LjI2NjA3M10sIFstNzYuNjIwNjA2LCAzOS4yNjYzODRdLCBbLTc2LjYyMDc2MSwgMzkuMjY2NjE5XSwgWy03Ni42MjEwMzgsIDM5LjI2Njc0NF0sIFstNzYuNjIxMTkyLCAzOS4yNjY3NTFdLCBbLTc2LjYyMTIxNywgMzkuMjY2OTAzXV1dXSwgInR5cGUiOiAiTXVsdGlQb2x5Z29uIn0sICJwcm9wZXJ0aWVzIjogeyJkZXNjcmlwdGlvIjogIiIsICJuYW1lIjogIlNPVVRIRVJOIn0sICJ0eXBlIjogIkZlYXR1cmUifV0sICJ0eXBlIjogIkZlYXR1cmVDb2xsZWN0aW9uIn0pOwogICAgICAgIAogICAgCiAgICAgICAgICAgIHZhciBtYXJrZXJfODI3YmE0YzZmMDBkNGNiZjlhZjkxNzUxM2FiZDhiNTkgPSBMLm1hcmtlcigKICAgICAgICAgICAgICAgIFszOS4zMjA5NjQxMzY3NzUsIC03Ni41Njc5Mzc5MzI4MDU5OV0sCiAgICAgICAgICAgICAgICB7ImZpbGwiOiB0cnVlLCAiZmlsbENvbG9yIjogInJlZCIsICJmaWxsT3BhY2l0eSI6IDAuNywgInJhZGl1cyI6IDV9CiAgICAgICAgICAgICkuYWRkVG8obWFwX2UxNDVjZWI3MjZmOTQ2MTg5YWE5MjhkMWRkNmViZjFkKTsKICAgICAgICAKICAgIAogICAgICAgICAgICB2YXIgaWNvbl81ZjVkOGRlZWUzZTk0NmZmOGQwNGYzMWJjMTk1NTljYyA9IEwuQXdlc29tZU1hcmtlcnMuaWNvbigKICAgICAgICAgICAgICAgIHsiZXh0cmFDbGFzc2VzIjogImZhLXJvdGF0ZS0wIiwgImljb24iOiAiaW5mby1zaWduIiwgImljb25Db2xvciI6ICJ3aGl0ZSIsICJtYXJrZXJDb2xvciI6ICJncmVlbiIsICJwcmVmaXgiOiAiZ2x5cGhpY29uIn0KICAgICAgICAgICAgKTsKICAgICAgICAgICAgbWFya2VyXzgyN2JhNGM2ZjAwZDRjYmY5YWY5MTc1MTNhYmQ4YjU5LnNldEljb24oaWNvbl81ZjVkOGRlZWUzZTk0NmZmOGQwNGYzMWJjMTk1NTljYyk7CiAgICAgICAgCiAgICAKICAgICAgICB2YXIgcG9wdXBfNjY3NGZkM2NkNmQ0NDI2YmJmM2JhOWNmOWRmYzEwMGYgPSBMLnBvcHVwKHsibWF4V2lkdGgiOiAiMTAwJSJ9KTsKCiAgICAgICAgCiAgICAgICAgICAgIHZhciBodG1sXzdjZTY3MWEyODZkZTRmMTlhMGMzMTkxYjU5Y2UzMDJlID0gJChgPGRpdiBpZD0iaHRtbF83Y2U2NzFhMjg2ZGU0ZjE5YTBjMzE5MWI1OWNlMzAyZSIgc3R5bGU9IndpZHRoOiAxMDAuMCU7IGhlaWdodDogMTAwLjAlOyI+Tk9SVEhFQVNUIGNsdXN0ZXI6IDE8L2Rpdj5gKVswXTsKICAgICAgICAgICAgcG9wdXBfNjY3NGZkM2NkNmQ0NDI2YmJmM2JhOWNmOWRmYzEwMGYuc2V0Q29udGVudChodG1sXzdjZTY3MWEyODZkZTRmMTlhMGMzMTkxYjU5Y2UzMDJlKTsKICAgICAgICAKCiAgICAgICAgbWFya2VyXzgyN2JhNGM2ZjAwZDRjYmY5YWY5MTc1MTNhYmQ4YjU5LmJpbmRQb3B1cChwb3B1cF82Njc0ZmQzY2Q2ZDQ0MjZiYmYzYmE5Y2Y5ZGZjMTAwZikKICAgICAgICA7CgogICAgICAgIAogICAgCiAgICAKICAgICAgICAgICAgdmFyIG1hcmtlcl82NzUyOTkxMzdmMTg0YmMwOWEwYmZhMDFmZTg2NzAwNyA9IEwubWFya2VyKAogICAgICAgICAgICAgICAgWzM5LjI4NzYwMTEzNjc1MiwgLTc2LjU0NDU2NDMwMTA3M10sCiAgICAgICAgICAgICAgICB7ImZpbGwiOiB0cnVlLCAiZmlsbENvbG9yIjogInJlZCIsICJmaWxsT3BhY2l0eSI6IDAuNywgInJhZGl1cyI6IDV9CiAgICAgICAgICAgICkuYWRkVG8obWFwX2UxNDVjZWI3MjZmOTQ2MTg5YWE5MjhkMWRkNmViZjFkKTsKICAgICAgICAKICAgIAogICAgICAgICAgICB2YXIgaWNvbl8zY2EwNmZhMjVlODA0NGIzYmFkNjkxMTVlYzk1OWY3NyA9IEwuQXdlc29tZU1hcmtlcnMuaWNvbigKICAgICAgICAgICAgICAgIHsiZXh0cmFDbGFzc2VzIjogImZhLXJvdGF0ZS0wIiwgImljb24iOiAiaW5mby1zaWduIiwgImljb25Db2xvciI6ICJ3aGl0ZSIsICJtYXJrZXJDb2xvciI6ICJncmVlbiIsICJwcmVmaXgiOiAiZ2x5cGhpY29uIn0KICAgICAgICAgICAgKTsKICAgICAgICAgICAgbWFya2VyXzY3NTI5OTEzN2YxODRiYzA5YTBiZmEwMWZlODY3MDA3LnNldEljb24oaWNvbl8zY2EwNmZhMjVlODA0NGIzYmFkNjkxMTVlYzk1OWY3Nyk7CiAgICAgICAgCiAgICAKICAgICAgICB2YXIgcG9wdXBfMTAxMTExOGQxNWNkNDIyN2JlNTRkM2RhODkxNmIwYzQgPSBMLnBvcHVwKHsibWF4V2lkdGgiOiAiMTAwJSJ9KTsKCiAgICAgICAgCiAgICAgICAgICAgIHZhciBodG1sXzNlMGJjN2Q4M2UzYTQyYTViYTkzZDMzMTJlMTQ0NzkzID0gJChgPGRpdiBpZD0iaHRtbF8zZTBiYzdkODNlM2E0MmE1YmE5M2QzMzEyZTE0NDc5MyIgc3R5bGU9IndpZHRoOiAxMDAuMCU7IGhlaWdodDogMTAwLjAlOyI+U09VVEhFQVNUIGNsdXN0ZXI6IDE8L2Rpdj5gKVswXTsKICAgICAgICAgICAgcG9wdXBfMTAxMTExOGQxNWNkNDIyN2JlNTRkM2RhODkxNmIwYzQuc2V0Q29udGVudChodG1sXzNlMGJjN2Q4M2UzYTQyYTViYTkzZDMzMTJlMTQ0NzkzKTsKICAgICAgICAKCiAgICAgICAgbWFya2VyXzY3NTI5OTEzN2YxODRiYzA5YTBiZmEwMWZlODY3MDA3LmJpbmRQb3B1cChwb3B1cF8xMDExMTE4ZDE1Y2Q0MjI3YmU1NGQzZGE4OTE2YjBjNCkKICAgICAgICA7CgogICAgICAgIAogICAgCiAgICAKICAgICAgICAgICAgdmFyIG1hcmtlcl85NTU0YWQxMTQxZGQ0ODhkYTE1Njk0MTQyNmM5YTljOSA9IEwubWFya2VyKAogICAgICAgICAgICAgICAgWzM5LjI4NTA3NjY5NDYxOSwgLTc2LjYxMzQ2NTkxMzcxM10sCiAgICAgICAgICAgICAgICB7ImZpbGwiOiB0cnVlLCAiZmlsbENvbG9yIjogInJlZCIsICJmaWxsT3BhY2l0eSI6IDAuNywgInJhZGl1cyI6IDV9CiAgICAgICAgICAgICkuYWRkVG8obWFwX2UxNDVjZWI3MjZmOTQ2MTg5YWE5MjhkMWRkNmViZjFkKTsKICAgICAgICAKICAgIAogICAgICAgICAgICB2YXIgaWNvbl83ODYzY2FmMDFlZGQ0OTdjOTAwNGRkNjU5ZWRhMjRiNCA9IEwuQXdlc29tZU1hcmtlcnMuaWNvbigKICAgICAgICAgICAgICAgIHsiZXh0cmFDbGFzc2VzIjogImZhLXJvdGF0ZS0wIiwgImljb24iOiAiaW5mby1zaWduIiwgImljb25Db2xvciI6ICJ3aGl0ZSIsICJtYXJrZXJDb2xvciI6ICJncmVlbiIsICJwcmVmaXgiOiAiZ2x5cGhpY29uIn0KICAgICAgICAgICAgKTsKICAgICAgICAgICAgbWFya2VyXzk1NTRhZDExNDFkZDQ4OGRhMTU2OTQxNDI2YzlhOWM5LnNldEljb24oaWNvbl83ODYzY2FmMDFlZGQ0OTdjOTAwNGRkNjU5ZWRhMjRiNCk7CiAgICAgICAgCiAgICAKICAgICAgICB2YXIgcG9wdXBfMDMwM2FjZmE5ZWM0NGNmYmEyYjkxMTQ1NDk3MjU5YWYgPSBMLnBvcHVwKHsibWF4V2lkdGgiOiAiMTAwJSJ9KTsKCiAgICAgICAgCiAgICAgICAgICAgIHZhciBodG1sXzZkOWY0NDU1ZDNiNDQwYTI4MTg4YjBmM2E3NTA0Y2M0ID0gJChgPGRpdiBpZD0iaHRtbF82ZDlmNDQ1NWQzYjQ0MGEyODE4OGIwZjNhNzUwNGNjNCIgc3R5bGU9IndpZHRoOiAxMDAuMCU7IGhlaWdodDogMTAwLjAlOyI+Q0VOVFJBTCBjbHVzdGVyOiAwPC9kaXY+YClbMF07CiAgICAgICAgICAgIHBvcHVwXzAzMDNhY2ZhOWVjNDRjZmJhMmI5MTE0NTQ5NzI1OWFmLnNldENvbnRlbnQoaHRtbF82ZDlmNDQ1NWQzYjQ0MGEyODE4OGIwZjNhNzUwNGNjNCk7CiAgICAgICAgCgogICAgICAgIG1hcmtlcl85NTU0YWQxMTQxZGQ0ODhkYTE1Njk0MTQyNmM5YTljOS5iaW5kUG9wdXAocG9wdXBfMDMwM2FjZmE5ZWM0NGNmYmEyYjkxMTQ1NDk3MjU5YWYpCiAgICAgICAgOwoKICAgICAgICAKICAgIAogICAgCiAgICAgICAgICAgIHZhciBtYXJrZXJfMWFjZTc0YjAyZGRiNDAzMzg1NGY5MTQ3ZDg0YmRlNDggPSBMLm1hcmtlcigKICAgICAgICAgICAgICAgIFszOS4yNzY4MTksIC03Ni42MTQzNjc1XSwKICAgICAgICAgICAgICAgIHsiZmlsbCI6IHRydWUsICJmaWxsQ29sb3IiOiAicmVkIiwgImZpbGxPcGFjaXR5IjogMC43LCAicmFkaXVzIjogNX0KICAgICAgICAgICAgKS5hZGRUbyhtYXBfZTE0NWNlYjcyNmY5NDYxODlhYTkyOGQxZGQ2ZWJmMWQpOwogICAgICAgIAogICAgCiAgICAgICAgICAgIHZhciBpY29uX2MyZjIyM2FkNTg2NTQzMGViYmJkMDFiYTY2NzYxODBhID0gTC5Bd2Vzb21lTWFya2Vycy5pY29uKAogICAgICAgICAgICAgICAgeyJleHRyYUNsYXNzZXMiOiAiZmEtcm90YXRlLTAiLCAiaWNvbiI6ICJpbmZvLXNpZ24iLCAiaWNvbkNvbG9yIjogIndoaXRlIiwgIm1hcmtlckNvbG9yIjogImdyZWVuIiwgInByZWZpeCI6ICJnbHlwaGljb24ifQogICAgICAgICAgICApOwogICAgICAgICAgICBtYXJrZXJfMWFjZTc0YjAyZGRiNDAzMzg1NGY5MTQ3ZDg0YmRlNDguc2V0SWNvbihpY29uX2MyZjIyM2FkNTg2NTQzMGViYmJkMDFiYTY2NzYxODBhKTsKICAgICAgICAKICAgIAogICAgICAgIHZhciBwb3B1cF9kM2IzNWNiZjg4MjY0YTQ5YWYyYTIzMTViNDY1ZGZkYSA9IEwucG9wdXAoeyJtYXhXaWR0aCI6ICIxMDAlIn0pOwoKICAgICAgICAKICAgICAgICAgICAgdmFyIGh0bWxfOGE0MjA2YjVhYzc3NDRhNTgyNjNkNzExZGQyN2M1ZDAgPSAkKGA8ZGl2IGlkPSJodG1sXzhhNDIwNmI1YWM3NzQ0YTU4MjYzZDcxMWRkMjdjNWQwIiBzdHlsZT0id2lkdGg6IDEwMC4wJTsgaGVpZ2h0OiAxMDAuMCU7Ij5TT1VUSEVSTiBjbHVzdGVyOiAwPC9kaXY+YClbMF07CiAgICAgICAgICAgIHBvcHVwX2QzYjM1Y2JmODgyNjRhNDlhZjJhMjMxNWI0NjVkZmRhLnNldENvbnRlbnQoaHRtbF84YTQyMDZiNWFjNzc0NGE1ODI2M2Q3MTFkZDI3YzVkMCk7CiAgICAgICAgCgogICAgICAgIG1hcmtlcl8xYWNlNzRiMDJkZGI0MDMzODU0ZjkxNDdkODRiZGU0OC5iaW5kUG9wdXAocG9wdXBfZDNiMzVjYmY4ODI2NGE0OWFmMmEyMzE1YjQ2NWRmZGEpCiAgICAgICAgOwoKICAgICAgICAKICAgIAogICAgCiAgICAgICAgICAgIHZhciBtYXJrZXJfYmI0NDE5ZTU0MGQ5NGZhNjg1Y2ViMThhZTE3ZjIyMDIgPSBMLm1hcmtlcigKICAgICAgICAgICAgICAgIFszOS4zMzQ2NDk5NTg4ODg5OTYsIC03Ni42NTkyMjkyMTQ0NDVdLAogICAgICAgICAgICAgICAgeyJmaWxsIjogdHJ1ZSwgImZpbGxDb2xvciI6ICJyZWQiLCAiZmlsbE9wYWNpdHkiOiAwLjcsICJyYWRpdXMiOiA1fQogICAgICAgICAgICApLmFkZFRvKG1hcF9lMTQ1Y2ViNzI2Zjk0NjE4OWFhOTI4ZDFkZDZlYmYxZCk7CiAgICAgICAgCiAgICAKICAgICAgICAgICAgdmFyIGljb25fYzMwMDJlZjgyN2E3NGUyOGIxZDQxNDRiYzRjMzk5NTcgPSBMLkF3ZXNvbWVNYXJrZXJzLmljb24oCiAgICAgICAgICAgICAgICB7ImV4dHJhQ2xhc3NlcyI6ICJmYS1yb3RhdGUtMCIsICJpY29uIjogImluZm8tc2lnbiIsICJpY29uQ29sb3IiOiAid2hpdGUiLCAibWFya2VyQ29sb3IiOiAiZ3JlZW4iLCAicHJlZml4IjogImdseXBoaWNvbiJ9CiAgICAgICAgICAgICk7CiAgICAgICAgICAgIG1hcmtlcl9iYjQ0MTllNTQwZDk0ZmE2ODVjZWIxOGFlMTdmMjIwMi5zZXRJY29uKGljb25fYzMwMDJlZjgyN2E3NGUyOGIxZDQxNDRiYzRjMzk5NTcpOwogICAgICAgIAogICAgCiAgICAgICAgdmFyIHBvcHVwX2YzMjVjZjJjNDE1MDRhMmM4ODQ1YWY3YTk4NWVhOGMxID0gTC5wb3B1cCh7Im1heFdpZHRoIjogIjEwMCUifSk7CgogICAgICAgIAogICAgICAgICAgICB2YXIgaHRtbF82ZDhmNDNlYjY3OTc0MWI3YTVlMmU3M2RhYmU1OWUwMCA9ICQoYDxkaXYgaWQ9Imh0bWxfNmQ4ZjQzZWI2Nzk3NDFiN2E1ZTJlNzNkYWJlNTllMDAiIHN0eWxlPSJ3aWR0aDogMTAwLjAlOyBoZWlnaHQ6IDEwMC4wJTsiPk5PUlRIRVJOIGNsdXN0ZXI6IDA8L2Rpdj5gKVswXTsKICAgICAgICAgICAgcG9wdXBfZjMyNWNmMmM0MTUwNGEyYzg4NDVhZjdhOTg1ZWE4YzEuc2V0Q29udGVudChodG1sXzZkOGY0M2ViNjc5NzQxYjdhNWUyZTczZGFiZTU5ZTAwKTsKICAgICAgICAKCiAgICAgICAgbWFya2VyX2JiNDQxOWU1NDBkOTRmYTY4NWNlYjE4YWUxN2YyMjAyLmJpbmRQb3B1cChwb3B1cF9mMzI1Y2YyYzQxNTA0YTJjODg0NWFmN2E5ODVlYThjMSkKICAgICAgICA7CgogICAgICAgIAogICAgCiAgICAKICAgICAgICAgICAgdmFyIG1hcmtlcl9jMmVjNWJhYWZlZDQ0ODFiYjM0MTAxYmIzMzFiZDVmMyA9IEwubWFya2VyKAogICAgICAgICAgICAgICAgWzM5LjI2NjYyODM3MDc0OTAwNCwgLTc2LjY3NzA1NzE2OTE1N10sCiAgICAgICAgICAgICAgICB7ImZpbGwiOiB0cnVlLCAiZmlsbENvbG9yIjogInJlZCIsICJmaWxsT3BhY2l0eSI6IDAuNywgInJhZGl1cyI6IDV9CiAgICAgICAgICAgICkuYWRkVG8obWFwX2UxNDVjZWI3MjZmOTQ2MTg5YWE5MjhkMWRkNmViZjFkKTsKICAgICAgICAKICAgIAogICAgICAgICAgICB2YXIgaWNvbl9jOTdiNDhjZGY4ZDk0Yzc5YTc2ZmUxZjRmYWFiMzA4NyA9IEwuQXdlc29tZU1hcmtlcnMuaWNvbigKICAgICAgICAgICAgICAgIHsiZXh0cmFDbGFzc2VzIjogImZhLXJvdGF0ZS0wIiwgImljb24iOiAiaW5mby1zaWduIiwgImljb25Db2xvciI6ICJ3aGl0ZSIsICJtYXJrZXJDb2xvciI6ICJncmVlbiIsICJwcmVmaXgiOiAiZ2x5cGhpY29uIn0KICAgICAgICAgICAgKTsKICAgICAgICAgICAgbWFya2VyX2MyZWM1YmFhZmVkNDQ4MWJiMzQxMDFiYjMzMWJkNWYzLnNldEljb24oaWNvbl9jOTdiNDhjZGY4ZDk0Yzc5YTc2ZmUxZjRmYWFiMzA4Nyk7CiAgICAgICAgCiAgICAKICAgICAgICB2YXIgcG9wdXBfMGY2MDYyZDM3MjE0NGYzMGEzYWU3YjU0MjVkOTlhMjEgPSBMLnBvcHVwKHsibWF4V2lkdGgiOiAiMTAwJSJ9KTsKCiAgICAgICAgCiAgICAgICAgICAgIHZhciBodG1sXzZiM2M1MDg0NmQ3NjRiZmU4YjJmOGUxOTFmM2VjM2Q4ID0gJChgPGRpdiBpZD0iaHRtbF82YjNjNTA4NDZkNzY0YmZlOGIyZjhlMTkxZjNlYzNkOCIgc3R5bGU9IndpZHRoOiAxMDAuMCU7IGhlaWdodDogMTAwLjAlOyI+U09VVEhXRVNUIGNsdXN0ZXI6IDA8L2Rpdj5gKVswXTsKICAgICAgICAgICAgcG9wdXBfMGY2MDYyZDM3MjE0NGYzMGEzYWU3YjU0MjVkOTlhMjEuc2V0Q29udGVudChodG1sXzZiM2M1MDg0NmQ3NjRiZmU4YjJmOGUxOTFmM2VjM2Q4KTsKICAgICAgICAKCiAgICAgICAgbWFya2VyX2MyZWM1YmFhZmVkNDQ4MWJiMzQxMDFiYjMzMWJkNWYzLmJpbmRQb3B1cChwb3B1cF8wZjYwNjJkMzcyMTQ0ZjMwYTNhZTdiNTQyNWQ5OWEyMSkKICAgICAgICA7CgogICAgICAgIAogICAgCiAgICAKICAgICAgICAgICAgdmFyIG1hcmtlcl9kZWJmMjlmOGYwZTM0M2ExODg4YTcwYTI5MjZhM2E4OSA9IEwubWFya2VyKAogICAgICAgICAgICAgICAgWzM5LjMzMTM1NTM0NTI3MSwgLTc2LjY1ODQ0NDk3NjA0Ml0sCiAgICAgICAgICAgICAgICB7ImZpbGwiOiB0cnVlLCAiZmlsbENvbG9yIjogInJlZCIsICJmaWxsT3BhY2l0eSI6IDAuNywgInJhZGl1cyI6IDV9CiAgICAgICAgICAgICkuYWRkVG8obWFwX2UxNDVjZWI3MjZmOTQ2MTg5YWE5MjhkMWRkNmViZjFkKTsKICAgICAgICAKICAgIAogICAgICAgICAgICB2YXIgaWNvbl8wM2I5ZmMxMmQzM2E0OWI1OTYwYzM3OGJkZTRmNGVkMSA9IEwuQXdlc29tZU1hcmtlcnMuaWNvbigKICAgICAgICAgICAgICAgIHsiZXh0cmFDbGFzc2VzIjogImZhLXJvdGF0ZS0wIiwgImljb24iOiAiaW5mby1zaWduIiwgImljb25Db2xvciI6ICJ3aGl0ZSIsICJtYXJrZXJDb2xvciI6ICJncmVlbiIsICJwcmVmaXgiOiAiZ2x5cGhpY29uIn0KICAgICAgICAgICAgKTsKICAgICAgICAgICAgbWFya2VyX2RlYmYyOWY4ZjBlMzQzYTE4ODhhNzBhMjkyNmEzYTg5LnNldEljb24oaWNvbl8wM2I5ZmMxMmQzM2E0OWI1OTYwYzM3OGJkZTRmNGVkMSk7CiAgICAgICAgCiAgICAKICAgICAgICB2YXIgcG9wdXBfZDQxODFjNzVjNWZkNDRmM2I5NTk0MzExZDk1NzlmODYgPSBMLnBvcHVwKHsibWF4V2lkdGgiOiAiMTAwJSJ9KTsKCiAgICAgICAgCiAgICAgICAgICAgIHZhciBodG1sXzExMTlhYThhNjY2NjQ2OTFiZDQwODE5NmYyYTg1MDQ2ID0gJChgPGRpdiBpZD0iaHRtbF8xMTE5YWE4YTY2NjY0NjkxYmQ0MDgxOTZmMmE4NTA0NiIgc3R5bGU9IndpZHRoOiAxMDAuMCU7IGhlaWdodDogMTAwLjAlOyI+Tk9SVEhXRVNUIGNsdXN0ZXI6IDA8L2Rpdj5gKVswXTsKICAgICAgICAgICAgcG9wdXBfZDQxODFjNzVjNWZkNDRmM2I5NTk0MzExZDk1NzlmODYuc2V0Q29udGVudChodG1sXzExMTlhYThhNjY2NjQ2OTFiZDQwODE5NmYyYTg1MDQ2KTsKICAgICAgICAKCiAgICAgICAgbWFya2VyX2RlYmYyOWY4ZjBlMzQzYTE4ODhhNzBhMjkyNmEzYTg5LmJpbmRQb3B1cChwb3B1cF9kNDE4MWM3NWM1ZmQ0NGYzYjk1OTQzMTFkOTU3OWY4NikKICAgICAgICA7CgogICAgICAgIAogICAgCiAgICAKICAgICAgICAgICAgdmFyIG1hcmtlcl8xZWMxY2UzMjQ0MTg0M2RlOGU4MDNmOTVhMTcxMmJmZCA9IEwubWFya2VyKAogICAgICAgICAgICAgICAgWzM5LjMwMDE0NzczOTE2OSwgLTc2LjU3ODA4Mjk5NDcwNl0sCiAgICAgICAgICAgICAgICB7ImZpbGwiOiB0cnVlLCAiZmlsbENvbG9yIjogInJlZCIsICJmaWxsT3BhY2l0eSI6IDAuNywgInJhZGl1cyI6IDV9CiAgICAgICAgICAgICkuYWRkVG8obWFwX2UxNDVjZWI3MjZmOTQ2MTg5YWE5MjhkMWRkNmViZjFkKTsKICAgICAgICAKICAgIAogICAgICAgICAgICB2YXIgaWNvbl9iMjU0NjNiZmZjMjc0ODU3YjU2MmExY2Y3ZGQ1MTllNSA9IEwuQXdlc29tZU1hcmtlcnMuaWNvbigKICAgICAgICAgICAgICAgIHsiZXh0cmFDbGFzc2VzIjogImZhLXJvdGF0ZS0wIiwgImljb24iOiAiaW5mby1zaWduIiwgImljb25Db2xvciI6ICJ3aGl0ZSIsICJtYXJrZXJDb2xvciI6ICJncmVlbiIsICJwcmVmaXgiOiAiZ2x5cGhpY29uIn0KICAgICAgICAgICAgKTsKICAgICAgICAgICAgbWFya2VyXzFlYzFjZTMyNDQxODQzZGU4ZTgwM2Y5NWExNzEyYmZkLnNldEljb24oaWNvbl9iMjU0NjNiZmZjMjc0ODU3YjU2MmExY2Y3ZGQ1MTllNSk7CiAgICAgICAgCiAgICAKICAgICAgICB2YXIgcG9wdXBfZDY0N2ZiOTUyNGExNDRhNDg0M2VmZTI1NTAyMThiM2IgPSBMLnBvcHVwKHsibWF4V2lkdGgiOiAiMTAwJSJ9KTsKCiAgICAgICAgCiAgICAgICAgICAgIHZhciBodG1sXzFmYWRmNzkzZjc3NjQ1NDU5OTQ1NGIwMDNjNzQwNzQxID0gJChgPGRpdiBpZD0iaHRtbF8xZmFkZjc5M2Y3NzY0NTQ1OTk0NTRiMDAzYzc0MDc0MSIgc3R5bGU9IndpZHRoOiAxMDAuMCU7IGhlaWdodDogMTAwLjAlOyI+RUFTVEVSTiBjbHVzdGVyOiAyPC9kaXY+YClbMF07CiAgICAgICAgICAgIHBvcHVwX2Q2NDdmYjk1MjRhMTQ0YTQ4NDNlZmUyNTUwMjE4YjNiLnNldENvbnRlbnQoaHRtbF8xZmFkZjc5M2Y3NzY0NTQ1OTk0NTRiMDAzYzc0MDc0MSk7CiAgICAgICAgCgogICAgICAgIG1hcmtlcl8xZWMxY2UzMjQ0MTg0M2RlOGU4MDNmOTVhMTcxMmJmZC5iaW5kUG9wdXAocG9wdXBfZDY0N2ZiOTUyNGExNDRhNDg0M2VmZTI1NTAyMThiM2IpCiAgICAgICAgOwoKICAgICAgICAKICAgIAogICAgCiAgICAgICAgICAgIHZhciBtYXJrZXJfNzk1ZjhiM2M2MGM4NGYzMjg1N2QwNGZkMjg1ZGE2OWQgPSBMLm1hcmtlcigKICAgICAgICAgICAgICAgIFszOS4zMDEyOTQ1MzM5NzEsIC03Ni42NDQ1NjY2MjA2OTE5OV0sCiAgICAgICAgICAgICAgICB7ImZpbGwiOiB0cnVlLCAiZmlsbENvbG9yIjogInJlZCIsICJmaWxsT3BhY2l0eSI6IDAuNywgInJhZGl1cyI6IDV9CiAgICAgICAgICAgICkuYWRkVG8obWFwX2UxNDVjZWI3MjZmOTQ2MTg5YWE5MjhkMWRkNmViZjFkKTsKICAgICAgICAKICAgIAogICAgICAgICAgICB2YXIgaWNvbl9kYmIyMzJiNWU4ZTM0NjQ0Yjk4MDUyOWRhY2Y2YzJlOSA9IEwuQXdlc29tZU1hcmtlcnMuaWNvbigKICAgICAgICAgICAgICAgIHsiZXh0cmFDbGFzc2VzIjogImZhLXJvdGF0ZS0wIiwgImljb24iOiAiaW5mby1zaWduIiwgImljb25Db2xvciI6ICJ3aGl0ZSIsICJtYXJrZXJDb2xvciI6ICJncmVlbiIsICJwcmVmaXgiOiAiZ2x5cGhpY29uIn0KICAgICAgICAgICAgKTsKICAgICAgICAgICAgbWFya2VyXzc5NWY4YjNjNjBjODRmMzI4NTdkMDRmZDI4NWRhNjlkLnNldEljb24oaWNvbl9kYmIyMzJiNWU4ZTM0NjQ0Yjk4MDUyOWRhY2Y2YzJlOSk7CiAgICAgICAgCiAgICAKICAgICAgICB2YXIgcG9wdXBfZTMxNmVmOGQyNzgxNGE5ZjlmMTQ3MzcwNTY2NWZiNWQgPSBMLnBvcHVwKHsibWF4V2lkdGgiOiAiMTAwJSJ9KTsKCiAgICAgICAgCiAgICAgICAgICAgIHZhciBodG1sX2ZmMzdhZjQ1NjNhZDRkNTdhMjljNDlhNGQ2MDBiZmFjID0gJChgPGRpdiBpZD0iaHRtbF9mZjM3YWY0NTYzYWQ0ZDU3YTI5YzQ5YTRkNjAwYmZhYyIgc3R5bGU9IndpZHRoOiAxMDAuMCU7IGhlaWdodDogMTAwLjAlOyI+V0VTVEVSTiBjbHVzdGVyOiAyPC9kaXY+YClbMF07CiAgICAgICAgICAgIHBvcHVwX2UzMTZlZjhkMjc4MTRhOWY5ZjE0NzM3MDU2NjVmYjVkLnNldENvbnRlbnQoaHRtbF9mZjM3YWY0NTYzYWQ0ZDU3YTI5YzQ5YTRkNjAwYmZhYyk7CiAgICAgICAgCgogICAgICAgIG1hcmtlcl83OTVmOGIzYzYwYzg0ZjMyODU3ZDA0ZmQyODVkYTY5ZC5iaW5kUG9wdXAocG9wdXBfZTMxNmVmOGQyNzgxNGE5ZjlmMTQ3MzcwNTY2NWZiNWQpCiAgICAgICAgOwoKICAgICAgICAKICAgIAo8L3NjcmlwdD4= onload=\"this.contentDocument.open();this.contentDocument.write(atob(this.getAttribute('data-html')));this.contentDocument.close();\" allowfullscreen webkitallowfullscreen mozallowfullscreen></iframe></div></div>"
      ],
      "text/plain": [
       "<folium.folium.Map at 0xd4db379d08>"
      ]
     },
     "execution_count": 57,
     "metadata": {},
     "output_type": "execute_result"
    }
   ],
   "source": [
    "map_baltimore = folium.Map(location=[39.299236, -76.609383], zoom_start=11, attr='My Data Attribution')\n",
    "\n",
    "cluster_1 = baltimore_folium[baltimore_folium['cluster'] == 1]\n",
    "cluster_2 = baltimore_folium[baltimore_folium['cluster'] == 2]\n",
    "cluster_0 = baltimore_folium[baltimore_folium['cluster'] == 0]\n",
    " \n",
    "folium.GeoJson(baltimore_geo,    \n",
    "      style_function = lambda x: {'fillColor': 'red' \n",
    "                                  if x['properties']['name'] in cluster_1.values                           \n",
    "                                  else 'darkgreen' if x['properties']['name'] in cluster_2.values\n",
    "                                  else 'yellow'\n",
    "                                   }\n",
    "       ).add_to(map_baltimore)\n",
    "\n",
    "for lat, lon, region, cluster in zip(baltimore_folium['Latitude'], baltimore_folium['Longitude'], baltimore_folium['region'], baltimore_folium['cluster']):\n",
    "    label = folium.Popup(str(region) + ' cluster: ' + str(cluster), parse_html=True)\n",
    "   \n",
    "    folium.Marker(\n",
    "        [lat, lon],\n",
    "        radius=5,\n",
    "        popup=label,\n",
    "        icon=folium.Icon(color='green'),\n",
    "        fill=True,\n",
    "        fill_color='red',\n",
    "        fill_opacity=0.7).add_to(map_baltimore)\n",
    "\n",
    "map_baltimore"
   ]
  },
  {
   "cell_type": "markdown",
   "metadata": {},
   "source": [
    "#### Get safe neighborhoods"
   ]
  },
  {
   "cell_type": "code",
   "execution_count": 62,
   "metadata": {},
   "outputs": [
    {
     "data": {
      "text/html": [
       "<div>\n",
       "<style scoped>\n",
       "    .dataframe tbody tr th:only-of-type {\n",
       "        vertical-align: middle;\n",
       "    }\n",
       "\n",
       "    .dataframe tbody tr th {\n",
       "        vertical-align: top;\n",
       "    }\n",
       "\n",
       "    .dataframe thead th {\n",
       "        text-align: right;\n",
       "    }\n",
       "</style>\n",
       "<table border=\"1\" class=\"dataframe\">\n",
       "  <thead>\n",
       "    <tr style=\"text-align: right;\">\n",
       "      <th></th>\n",
       "      <th>District</th>\n",
       "      <th>Neighborhood</th>\n",
       "      <th>Longitude</th>\n",
       "      <th>Latitude</th>\n",
       "    </tr>\n",
       "  </thead>\n",
       "  <tbody>\n",
       "    <tr>\n",
       "      <th>0</th>\n",
       "      <td>WESTERN</td>\n",
       "      <td>SANDTOWN-WINCHESTER</td>\n",
       "      <td>-76.644567</td>\n",
       "      <td>39.301295</td>\n",
       "    </tr>\n",
       "    <tr>\n",
       "      <th>1</th>\n",
       "      <td>NORTHERN</td>\n",
       "      <td>GREENSPRING</td>\n",
       "      <td>-76.659229</td>\n",
       "      <td>39.334650</td>\n",
       "    </tr>\n",
       "    <tr>\n",
       "      <th>2</th>\n",
       "      <td>NORTHEAST</td>\n",
       "      <td>BELAIR-EDISON</td>\n",
       "      <td>-76.567938</td>\n",
       "      <td>39.320964</td>\n",
       "    </tr>\n",
       "    <tr>\n",
       "      <th>3</th>\n",
       "      <td>NORTHEAST</td>\n",
       "      <td>NaN</td>\n",
       "      <td>-76.540424</td>\n",
       "      <td>39.320919</td>\n",
       "    </tr>\n",
       "    <tr>\n",
       "      <th>4</th>\n",
       "      <td>NORTHERN</td>\n",
       "      <td>HAMPDEN</td>\n",
       "      <td>-76.641382</td>\n",
       "      <td>39.331230</td>\n",
       "    </tr>\n",
       "  </tbody>\n",
       "</table>\n",
       "</div>"
      ],
      "text/plain": [
       "    District         Neighborhood  Longitude   Latitude\n",
       "0    WESTERN  SANDTOWN-WINCHESTER -76.644567  39.301295\n",
       "1   NORTHERN          GREENSPRING -76.659229  39.334650\n",
       "2  NORTHEAST        BELAIR-EDISON -76.567938  39.320964\n",
       "3  NORTHEAST                  NaN -76.540424  39.320919\n",
       "4   NORTHERN              HAMPDEN -76.641382  39.331230"
      ]
     },
     "execution_count": 62,
     "metadata": {},
     "output_type": "execute_result"
    }
   ],
   "source": [
    "districts_neigh = baltimore[['District', 'Neighborhood','Longitude', 'Latitude']].reset_index()\n",
    "districts_neigh = districts_neigh.drop('CrimeDate', axis=1)\n",
    "districts_neigh.head()"
   ]
  },
  {
   "cell_type": "code",
   "execution_count": 63,
   "metadata": {},
   "outputs": [
    {
     "data": {
      "text/html": [
       "<div>\n",
       "<style scoped>\n",
       "    .dataframe tbody tr th:only-of-type {\n",
       "        vertical-align: middle;\n",
       "    }\n",
       "\n",
       "    .dataframe tbody tr th {\n",
       "        vertical-align: top;\n",
       "    }\n",
       "\n",
       "    .dataframe thead th {\n",
       "        text-align: right;\n",
       "    }\n",
       "</style>\n",
       "<table border=\"1\" class=\"dataframe\">\n",
       "  <thead>\n",
       "    <tr style=\"text-align: right;\">\n",
       "      <th></th>\n",
       "      <th>Neighborhood</th>\n",
       "      <th>Longitude</th>\n",
       "      <th>Latitude</th>\n",
       "    </tr>\n",
       "  </thead>\n",
       "  <tbody>\n",
       "    <tr>\n",
       "      <th>0</th>\n",
       "      <td>SANDTOWN-WINCHESTER</td>\n",
       "      <td>-76.644567</td>\n",
       "      <td>39.301295</td>\n",
       "    </tr>\n",
       "    <tr>\n",
       "      <th>6</th>\n",
       "      <td>HARLEM PARK</td>\n",
       "      <td>-76.639986</td>\n",
       "      <td>39.295319</td>\n",
       "    </tr>\n",
       "    <tr>\n",
       "      <th>12</th>\n",
       "      <td>MADISON EASTEND</td>\n",
       "      <td>-76.578083</td>\n",
       "      <td>39.300148</td>\n",
       "    </tr>\n",
       "    <tr>\n",
       "      <th>28</th>\n",
       "      <td>MOSHER</td>\n",
       "      <td>-76.662150</td>\n",
       "      <td>39.298075</td>\n",
       "    </tr>\n",
       "    <tr>\n",
       "      <th>37</th>\n",
       "      <td>SOUTH CLIFTON PARK</td>\n",
       "      <td>-76.589462</td>\n",
       "      <td>39.312452</td>\n",
       "    </tr>\n",
       "  </tbody>\n",
       "</table>\n",
       "</div>"
      ],
      "text/plain": [
       "           Neighborhood  Longitude   Latitude\n",
       "0   SANDTOWN-WINCHESTER -76.644567  39.301295\n",
       "6           HARLEM PARK -76.639986  39.295319\n",
       "12      MADISON EASTEND -76.578083  39.300148\n",
       "28               MOSHER -76.662150  39.298075\n",
       "37   SOUTH CLIFTON PARK -76.589462  39.312452"
      ]
     },
     "execution_count": 63,
     "metadata": {},
     "output_type": "execute_result"
    }
   ],
   "source": [
    "safe_districts = ['EASTERN', 'WESTERN']\n",
    "safe_Neighborhoods = districts_neigh[districts_neigh['District'].isin(safe_districts)]\n",
    "safe_Neighborhoods= safe_Neighborhoods.drop('District', axis=1)\n",
    "safe_Neighborhoods= safe_Neighborhoods.dropna()\n",
    "safe_Neighborhoods.head()"
   ]
  },
  {
   "cell_type": "code",
   "execution_count": 64,
   "metadata": {},
   "outputs": [
    {
     "data": {
      "text/plain": [
       "(48977, 3)"
      ]
     },
     "execution_count": 64,
     "metadata": {},
     "output_type": "execute_result"
    }
   ],
   "source": [
    "safe_Neighborhoods.shape"
   ]
  },
  {
   "cell_type": "markdown",
   "metadata": {},
   "source": [
    "#### Get venues using foursquare"
   ]
  },
  {
   "cell_type": "code",
   "execution_count": 65,
   "metadata": {},
   "outputs": [],
   "source": [
    "CLIENT_ID = 'GCQEGNKGILQD04XMOFAW22Z5LY30VTWDWR1QFNH3QNYNOS4M' # your Foursquare ID\n",
    "CLIENT_SECRET = 'I2JBE0DHAXSIBKXSFRR1TLPLKRXPOBV0ECKSBQMENEA3FAOL' # your Foursquare Secret\n",
    "VERSION = '20180605' # Foursquare API version"
   ]
  },
  {
   "cell_type": "code",
   "execution_count": 66,
   "metadata": {},
   "outputs": [
    {
     "name": "stdout",
     "output_type": "stream",
     "text": [
      "Latitude and longitude values of HARLEM PARK are 39.295318949856, -76.639985543469.\n"
     ]
    }
   ],
   "source": [
    "neighborhood_latitude = safe_Neighborhoods.loc[6, 'Latitude'] # neighborhood latitude value\n",
    "neighborhood_longitude = safe_Neighborhoods.loc[6, 'Longitude'] # neighborhood longitude value\n",
    "neighborhood_name = safe_Neighborhoods.loc[6, 'Neighborhood'] # neighborhood name\n",
    "print('Latitude and longitude values of {} are {}, {}.'.format(neighborhood_name, \n",
    "                                                               neighborhood_latitude, \n",
    "                                                               neighborhood_longitude))"
   ]
  },
  {
   "cell_type": "code",
   "execution_count": 67,
   "metadata": {},
   "outputs": [
    {
     "data": {
      "text/plain": [
       "'https://api.foursquare.com/v2/venues/explore?&client_id=GCQEGNKGILQD04XMOFAW22Z5LY30VTWDWR1QFNH3QNYNOS4M&client_secret=I2JBE0DHAXSIBKXSFRR1TLPLKRXPOBV0ECKSBQMENEA3FAOL&v=20180605&ll=39.295318949856,-76.639985543469&radius=500&limit100'"
      ]
     },
     "execution_count": 67,
     "metadata": {},
     "output_type": "execute_result"
    }
   ],
   "source": [
    "LIMIT = 100  \n",
    "radius = 500      \n",
    "\n",
    "url = 'https://api.foursquare.com/v2/venues/explore?&client_id={}&client_secret={}&v={}&ll={},{}&radius={}&limit{}'.format(\n",
    "    CLIENT_ID, \n",
    "    CLIENT_SECRET, \n",
    "    VERSION, \n",
    "    neighborhood_latitude, \n",
    "    neighborhood_longitude, \n",
    "    radius, \n",
    "    LIMIT)\n",
    "url  "
   ]
  },
  {
   "cell_type": "code",
   "execution_count": 68,
   "metadata": {},
   "outputs": [],
   "source": [
    "results = requests.get(url).json()\n",
    "#results"
   ]
  },
  {
   "cell_type": "code",
   "execution_count": 69,
   "metadata": {},
   "outputs": [],
   "source": [
    "# function that extracts the category of the venue\n",
    "def get_category_type(row):\n",
    "    try:\n",
    "        categories_list = row['categories']\n",
    "    except:\n",
    "        categories_list = row['venue.categories']\n",
    "        \n",
    "    if len(categories_list) == 0:\n",
    "        return None\n",
    "    else:\n",
    "        return categories_list[0]['name']"
   ]
  },
  {
   "cell_type": "code",
   "execution_count": 70,
   "metadata": {},
   "outputs": [
    {
     "data": {
      "text/html": [
       "<div>\n",
       "<style scoped>\n",
       "    .dataframe tbody tr th:only-of-type {\n",
       "        vertical-align: middle;\n",
       "    }\n",
       "\n",
       "    .dataframe tbody tr th {\n",
       "        vertical-align: top;\n",
       "    }\n",
       "\n",
       "    .dataframe thead th {\n",
       "        text-align: right;\n",
       "    }\n",
       "</style>\n",
       "<table border=\"1\" class=\"dataframe\">\n",
       "  <thead>\n",
       "    <tr style=\"text-align: right;\">\n",
       "      <th></th>\n",
       "      <th>venue</th>\n",
       "      <th>category</th>\n",
       "      <th>lat</th>\n",
       "      <th>lng</th>\n",
       "    </tr>\n",
       "  </thead>\n",
       "  <tbody>\n",
       "    <tr>\n",
       "      <th>0</th>\n",
       "      <td>Shareef's Grill</td>\n",
       "      <td>American Restaurant</td>\n",
       "      <td>39.294184</td>\n",
       "      <td>-76.638196</td>\n",
       "    </tr>\n",
       "    <tr>\n",
       "      <th>1</th>\n",
       "      <td>Lafayette Square Park</td>\n",
       "      <td>Park</td>\n",
       "      <td>39.298028</td>\n",
       "      <td>-76.635910</td>\n",
       "    </tr>\n",
       "    <tr>\n",
       "      <th>2</th>\n",
       "      <td>Harlem Park</td>\n",
       "      <td>Park</td>\n",
       "      <td>39.296098</td>\n",
       "      <td>-76.641376</td>\n",
       "    </tr>\n",
       "    <tr>\n",
       "      <th>3</th>\n",
       "      <td>Harlem Park Pl</td>\n",
       "      <td>Playground</td>\n",
       "      <td>39.296684</td>\n",
       "      <td>-76.640016</td>\n",
       "    </tr>\n",
       "    <tr>\n",
       "      <th>4</th>\n",
       "      <td>The Hide Out</td>\n",
       "      <td>Bar</td>\n",
       "      <td>39.295032</td>\n",
       "      <td>-76.644929</td>\n",
       "    </tr>\n",
       "  </tbody>\n",
       "</table>\n",
       "</div>"
      ],
      "text/plain": [
       "                   venue             category        lat        lng\n",
       "0        Shareef's Grill  American Restaurant  39.294184 -76.638196\n",
       "1  Lafayette Square Park                 Park  39.298028 -76.635910\n",
       "2            Harlem Park                 Park  39.296098 -76.641376\n",
       "3         Harlem Park Pl           Playground  39.296684 -76.640016\n",
       "4           The Hide Out                  Bar  39.295032 -76.644929"
      ]
     },
     "execution_count": 70,
     "metadata": {},
     "output_type": "execute_result"
    }
   ],
   "source": [
    "venues = results['response']['groups'][0]['items']\n",
    "    \n",
    "nearby_venues = pd.json_normalize(venues) # flatten JSON\n",
    "\n",
    "# filter columns\n",
    "filtered_columns = ['venue.name', 'venue.categories', 'venue.location.lat', 'venue.location.lng']\n",
    "nearby_venues =nearby_venues.loc[:, filtered_columns]\n",
    "\n",
    "# filter the category for each row\n",
    "nearby_venues['venue.categories'] = nearby_venues.apply(get_category_type, axis=1)\n",
    "\n",
    "# clean columns\n",
    "nearby_venues = nearby_venues.rename(columns={'venue.name': 'venue','venue.categories': 'category','venue.location.lat':'lat','venue.location.lng':'lng'})\n",
    "\n",
    "nearby_venues.head()"
   ]
  },
  {
   "cell_type": "code",
   "execution_count": 71,
   "metadata": {},
   "outputs": [
    {
     "data": {
      "text/plain": [
       "(5, 4)"
      ]
     },
     "execution_count": 71,
     "metadata": {},
     "output_type": "execute_result"
    }
   ],
   "source": [
    "nearby_venues.shape"
   ]
  },
  {
   "cell_type": "markdown",
   "metadata": {},
   "source": [
    "#### Join neighborhood and venues"
   ]
  },
  {
   "cell_type": "code",
   "execution_count": 72,
   "metadata": {},
   "outputs": [
    {
     "data": {
      "text/html": [
       "<div>\n",
       "<style scoped>\n",
       "    .dataframe tbody tr th:only-of-type {\n",
       "        vertical-align: middle;\n",
       "    }\n",
       "\n",
       "    .dataframe tbody tr th {\n",
       "        vertical-align: top;\n",
       "    }\n",
       "\n",
       "    .dataframe thead th {\n",
       "        text-align: right;\n",
       "    }\n",
       "</style>\n",
       "<table border=\"1\" class=\"dataframe\">\n",
       "  <thead>\n",
       "    <tr style=\"text-align: right;\">\n",
       "      <th></th>\n",
       "      <th>Neighborhood</th>\n",
       "      <th>Longitude</th>\n",
       "      <th>Latitude</th>\n",
       "    </tr>\n",
       "  </thead>\n",
       "  <tbody>\n",
       "    <tr>\n",
       "      <th>0</th>\n",
       "      <td>HARLEM PARK</td>\n",
       "      <td>-76.639986</td>\n",
       "      <td>39.295319</td>\n",
       "    </tr>\n",
       "    <tr>\n",
       "      <th>1</th>\n",
       "      <td>HARLEM PARK</td>\n",
       "      <td>-76.633312</td>\n",
       "      <td>39.296943</td>\n",
       "    </tr>\n",
       "    <tr>\n",
       "      <th>2</th>\n",
       "      <td>HARLEM PARK</td>\n",
       "      <td>-76.632678</td>\n",
       "      <td>39.295967</td>\n",
       "    </tr>\n",
       "    <tr>\n",
       "      <th>3</th>\n",
       "      <td>HARLEM PARK</td>\n",
       "      <td>-76.646465</td>\n",
       "      <td>39.297514</td>\n",
       "    </tr>\n",
       "    <tr>\n",
       "      <th>4</th>\n",
       "      <td>HARLEM PARK</td>\n",
       "      <td>-76.645779</td>\n",
       "      <td>39.296493</td>\n",
       "    </tr>\n",
       "  </tbody>\n",
       "</table>\n",
       "</div>"
      ],
      "text/plain": [
       "  Neighborhood  Longitude   Latitude\n",
       "0  HARLEM PARK -76.639986  39.295319\n",
       "1  HARLEM PARK -76.633312  39.296943\n",
       "2  HARLEM PARK -76.632678  39.295967\n",
       "3  HARLEM PARK -76.646465  39.297514\n",
       "4  HARLEM PARK -76.645779  39.296493"
      ]
     },
     "execution_count": 72,
     "metadata": {},
     "output_type": "execute_result"
    }
   ],
   "source": [
    "harlem_park = safe_Neighborhoods[safe_Neighborhoods['Neighborhood']=='HARLEM PARK']\n",
    "harlem_park = harlem_park.iloc[0:5].reset_index()\n",
    "harlem_park = harlem_park.drop('index', 1)\n",
    "harlem_park "
   ]
  },
  {
   "cell_type": "code",
   "execution_count": 73,
   "metadata": {},
   "outputs": [
    {
     "data": {
      "text/html": [
       "<div>\n",
       "<style scoped>\n",
       "    .dataframe tbody tr th:only-of-type {\n",
       "        vertical-align: middle;\n",
       "    }\n",
       "\n",
       "    .dataframe tbody tr th {\n",
       "        vertical-align: top;\n",
       "    }\n",
       "\n",
       "    .dataframe thead th {\n",
       "        text-align: right;\n",
       "    }\n",
       "</style>\n",
       "<table border=\"1\" class=\"dataframe\">\n",
       "  <thead>\n",
       "    <tr style=\"text-align: right;\">\n",
       "      <th></th>\n",
       "      <th>Neighborhood</th>\n",
       "      <th>Longitude</th>\n",
       "      <th>Latitude</th>\n",
       "      <th>venue</th>\n",
       "      <th>category</th>\n",
       "      <th>lat</th>\n",
       "      <th>lng</th>\n",
       "    </tr>\n",
       "  </thead>\n",
       "  <tbody>\n",
       "    <tr>\n",
       "      <th>0</th>\n",
       "      <td>HARLEM PARK</td>\n",
       "      <td>-76.639986</td>\n",
       "      <td>39.295319</td>\n",
       "      <td>Shareef's Grill</td>\n",
       "      <td>American Restaurant</td>\n",
       "      <td>39.294184</td>\n",
       "      <td>-76.638196</td>\n",
       "    </tr>\n",
       "    <tr>\n",
       "      <th>1</th>\n",
       "      <td>HARLEM PARK</td>\n",
       "      <td>-76.633312</td>\n",
       "      <td>39.296943</td>\n",
       "      <td>Lafayette Square Park</td>\n",
       "      <td>Park</td>\n",
       "      <td>39.298028</td>\n",
       "      <td>-76.635910</td>\n",
       "    </tr>\n",
       "    <tr>\n",
       "      <th>2</th>\n",
       "      <td>HARLEM PARK</td>\n",
       "      <td>-76.632678</td>\n",
       "      <td>39.295967</td>\n",
       "      <td>Harlem Park</td>\n",
       "      <td>Park</td>\n",
       "      <td>39.296098</td>\n",
       "      <td>-76.641376</td>\n",
       "    </tr>\n",
       "    <tr>\n",
       "      <th>3</th>\n",
       "      <td>HARLEM PARK</td>\n",
       "      <td>-76.646465</td>\n",
       "      <td>39.297514</td>\n",
       "      <td>Harlem Park Pl</td>\n",
       "      <td>Playground</td>\n",
       "      <td>39.296684</td>\n",
       "      <td>-76.640016</td>\n",
       "    </tr>\n",
       "    <tr>\n",
       "      <th>4</th>\n",
       "      <td>HARLEM PARK</td>\n",
       "      <td>-76.645779</td>\n",
       "      <td>39.296493</td>\n",
       "      <td>The Hide Out</td>\n",
       "      <td>Bar</td>\n",
       "      <td>39.295032</td>\n",
       "      <td>-76.644929</td>\n",
       "    </tr>\n",
       "  </tbody>\n",
       "</table>\n",
       "</div>"
      ],
      "text/plain": [
       "  Neighborhood  Longitude   Latitude                  venue  \\\n",
       "0  HARLEM PARK -76.639986  39.295319        Shareef's Grill   \n",
       "1  HARLEM PARK -76.633312  39.296943  Lafayette Square Park   \n",
       "2  HARLEM PARK -76.632678  39.295967            Harlem Park   \n",
       "3  HARLEM PARK -76.646465  39.297514         Harlem Park Pl   \n",
       "4  HARLEM PARK -76.645779  39.296493           The Hide Out   \n",
       "\n",
       "              category        lat        lng  \n",
       "0  American Restaurant  39.294184 -76.638196  \n",
       "1                 Park  39.298028 -76.635910  \n",
       "2                 Park  39.296098 -76.641376  \n",
       "3           Playground  39.296684 -76.640016  \n",
       "4                  Bar  39.295032 -76.644929  "
      ]
     },
     "execution_count": 73,
     "metadata": {},
     "output_type": "execute_result"
    }
   ],
   "source": [
    "harlem_park_venues = pd.concat([harlem_park, nearby_venues], axis=1)\n",
    "harlem_park_venues"
   ]
  },
  {
   "cell_type": "code",
   "execution_count": null,
   "metadata": {},
   "outputs": [],
   "source": []
  }
 ],
 "metadata": {
  "kernelspec": {
   "display_name": "Python 3",
   "language": "python",
   "name": "python3"
  },
  "language_info": {
   "codemirror_mode": {
    "name": "ipython",
    "version": 3
   },
   "file_extension": ".py",
   "mimetype": "text/x-python",
   "name": "python",
   "nbconvert_exporter": "python",
   "pygments_lexer": "ipython3",
   "version": "3.7.6"
  }
 },
 "nbformat": 4,
 "nbformat_minor": 4
}
